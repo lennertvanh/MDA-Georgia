{
 "cells": [
  {
   "attachments": {},
   "cell_type": "markdown",
   "metadata": {},
   "source": [
    "# Preprocessing the data"
   ]
  },
  {
   "attachments": {},
   "cell_type": "markdown",
   "metadata": {},
   "source": [
    "### Loading required packages"
   ]
  },
  {
   "cell_type": "code",
   "execution_count": 4,
   "metadata": {},
   "outputs": [],
   "source": [
    "import pandas as pd\n",
    "import numpy as np\n",
    "import boto3\n",
    "from datetime import datetime"
   ]
  },
  {
   "attachments": {},
   "cell_type": "markdown",
   "metadata": {},
   "source": [
    "### Loading and combining data\n",
    "#### Meteo data"
   ]
  },
  {
   "cell_type": "code",
   "execution_count": null,
   "metadata": {},
   "outputs": [],
   "source": [
    "# loading meteo data\n",
    "quarters = ['Q1', 'Q2', 'Q3', 'Q4']\n",
    "years = ['2022']\n",
    "base_url_meteo = 'https://mda-georgia-bucket.s3.eu-central-1.amazonaws.com/Meteo+data/LC_{}{}.csv'\n",
    "\n",
    "dfs = []\n",
    "\n",
    "for year in years:\n",
    "    for quarter in quarters:\n",
    "        url = base_url_meteo.format(year, quarter)\n",
    "        df = pd.read_csv(url)\n",
    "        dfs.append(df)\n",
    "\n",
    "# Concatenate all the dataframes into a single dataframe\n",
    "meteo_combined_df = pd.concat(dfs, ignore_index=True)\n",
    "meteo_combined_df.head()\n",
    "\n",
    "del dfs # deleting the individual meteo datasets\n"
   ]
  },
  {
   "cell_type": "code",
   "execution_count": null,
   "metadata": {},
   "outputs": [],
   "source": [
    "# Drop the columns we won't use\n",
    "columns_to_keep = ['LC_RAININ', 'LC_DAILYRAIN', 'LC_WINDDIR', 'LC_WINDSPEED', 'LC_TEMP_QCL3', 'Month', 'Day', 'Hour']  #there's less columns we keep than drop\n",
    "columns_to_drop = set(meteo_combined_df.columns) - set(columns_to_keep)\n",
    "meteo_combined_df.drop(columns=columns_to_drop, inplace=True)\n",
    "meteo_combined_df.head()"
   ]
  },
  {
   "cell_type": "code",
   "execution_count": null,
   "metadata": {},
   "outputs": [],
   "source": [
    "# check for percentage of missing values in each column\n",
    "print(meteo_combined_df.isnull().sum() / len(meteo_combined_df))"
   ]
  },
  {
   "cell_type": "code",
   "execution_count": null,
   "metadata": {},
   "outputs": [],
   "source": [
    "# Forward fill missing values in the original DataFrame\n",
    "meteo_combined_df.ffill(inplace=True)\n",
    "\n",
    "# check whether there are missing values left\n",
    "print(meteo_combined_df.isnull().sum())"
   ]
  },
  {
   "cell_type": "code",
   "execution_count": null,
   "metadata": {},
   "outputs": [],
   "source": [
    "# calculate summary statistics for daily rain sum\n",
    "summary_stats = meteo_combined_df['LC_DAILYRAIN'].describe()\n",
    "print(summary_stats)"
   ]
  },
  {
   "cell_type": "code",
   "execution_count": null,
   "metadata": {},
   "outputs": [],
   "source": [
    "# Count the number of non-zero values in the 'LC_DAILYRAIN' column\n",
    "nonzero_count = np.count_nonzero(meteo_combined_df['LC_DAILYRAIN'])\n",
    "\n",
    "# Display the fraction of non-zero values\n",
    "print(\"Fraction of non-zero values:\", nonzero_count/len(meteo_combined_df))"
   ]
  },
  {
   "cell_type": "code",
   "execution_count": null,
   "metadata": {},
   "outputs": [],
   "source": [
    "# Create dataframe per hour\n",
    "\n",
    "# Specify the aggregation function for each column\n",
    "  # for LC_DAILYRAIN we take the last value because it's cumulative, for other columns the mean\n",
    "aggregations = {\n",
    "    'LC_DAILYRAIN': 'mean',  # Select the last value for 'LC_DAILYRAIN' ###TAKE MEAN FOR NOW TO MAKE THE GRAPHS LOOK OK\n",
    "    'LC_RAININ': 'mean',  \n",
    "    'LC_WINDDIR': 'mean',\n",
    "    'LC_WINDDIR': 'mean', \n",
    "    'LC_WINDSPEED': 'mean', \n",
    "    'LC_TEMP_QCL3': 'mean'\n",
    "}\n",
    "\n",
    "# Perform the groupby aggregation\n",
    "meteo_per_hour = meteo_combined_df.groupby(['Month', 'Day', 'Hour']).mean()\n",
    "meteo_per_hour = meteo_per_hour.reset_index()\n",
    "meteo_per_hour.head()"
   ]
  },
  {
   "cell_type": "code",
   "execution_count": null,
   "metadata": {},
   "outputs": [],
   "source": [
    "# Create dataframe per day\n",
    "\n",
    "# still the same \"aggregations\" as before\n",
    "meteo_per_day = meteo_combined_df.groupby(['Month', 'Day']).mean()\n",
    "meteo_per_day = meteo_per_day.reset_index()\n",
    "meteo_per_day.head()"
   ]
  },
  {
   "cell_type": "code",
   "execution_count": null,
   "metadata": {},
   "outputs": [],
   "source": [
    "# Create dataframe per month\n",
    "\n",
    "# still the same \"aggregations\" as before\n",
    "meteo_per_month = meteo_combined_df.groupby(['Month']).mean()\n",
    "meteo_per_month = meteo_per_month.reset_index()\n",
    "meteo_per_month.head()"
   ]
  },
  {
   "cell_type": "code",
   "execution_count": null,
   "metadata": {},
   "outputs": [],
   "source": [
    "# delete combined dataframe\n",
    "del meteo_combined_df"
   ]
  },
  {
   "cell_type": "code",
   "execution_count": null,
   "metadata": {},
   "outputs": [],
   "source": [
    "# export dataframes (only needs to be ran once so comment it out)\n",
    "# meteo_per_hour.to_csv('hourly_weatherdata_2022.csv', index=False)\n",
    "# meteo_per_day.to_csv('daily_weatherdata_2022.csv', index=False)\n",
    "# meteo_per_month.to_csv('monthly_weatherdata_2022.csv', index=False)"
   ]
  },
  {
   "attachments": {},
   "cell_type": "markdown",
   "metadata": {},
   "source": [
    "#### Noise data"
   ]
  },
  {
   "attachments": {},
   "cell_type": "markdown",
   "metadata": {},
   "source": [
    "- January "
   ]
  },
  {
   "cell_type": "code",
   "execution_count": 5,
   "metadata": {},
   "outputs": [],
   "source": [
    "# Define a list of URLs\n",
    "urls = [\n",
    "    'https://mda-georgia-bucket.s3.eu-central-1.amazonaws.com/Noise+data/Jan/Jan/csv_results_42_255439_mp-01-naamsestraat-35-maxim.csv',\n",
    "    'https://mda-georgia-bucket.s3.eu-central-1.amazonaws.com/Noise+data/Jan/Jan/csv_results_42_255440_mp-02-naamsestraat-57-xior.csv',\n",
    "    'https://mda-georgia-bucket.s3.eu-central-1.amazonaws.com/Noise+data/Jan/Jan/csv_results_42_255441_mp-03-naamsestraat-62-taste.csv',\n",
    "    'https://mda-georgia-bucket.s3.eu-central-1.amazonaws.com/Noise+data/Jan/Jan/csv_results_42_255442_mp-05-calvariekapel-ku-leuven.csv',\n",
    "    'https://mda-georgia-bucket.s3.eu-central-1.amazonaws.com/Noise+data/Jan/Jan/csv_results_42_255443_mp-06-parkstraat-2-la-filosovia.csv',\n",
    "    'https://mda-georgia-bucket.s3.eu-central-1.amazonaws.com/Noise+data/Jan/Jan/csv_results_42_255444_mp-07-naamsestraat-81.csv',\n",
    "    'https://mda-georgia-bucket.s3.eu-central-1.amazonaws.com/Noise+data/Jan/Jan/csv_results_42_255445_mp-08-kiosk-stadspark.csv',\n",
    "    'https://mda-georgia-bucket.s3.eu-central-1.amazonaws.com/Noise+data/Jan/Jan/csv_results_42_280324_mp08bis---vrijthof.csv',\n",
    "    'https://mda-georgia-bucket.s3.eu-central-1.amazonaws.com/Noise+data/Jan/Jan/csv_results_42_303910_mp-04-his-hears.csv'\n",
    "   ]\n",
    "\n",
    "# Create an empty list to store the DataFrames\n",
    "dfs = []\n",
    "\n",
    "# Loop through each URL and read the CSV into a DataFrame\n",
    "for url in urls:\n",
    "    df = pd.read_csv(url, header=0, sep=';')\n",
    "    dfs.append(df)\n",
    "\n",
    "# Now we have a list of DataFrames for each URL"
   ]
  },
  {
   "cell_type": "code",
   "execution_count": 6,
   "metadata": {},
   "outputs": [
    {
     "name": "stdout",
     "output_type": "stream",
     "text": [
      "  #object_id                   description         result_timestamp  lamax  \\\n",
      "0     255441  MP 03: Naamsestraat 62 Taste  01/01/2022 00:00:00.349   87.6   \n",
      "1     255441  MP 03: Naamsestraat 62 Taste  01/01/2022 00:00:01.349   84.5   \n",
      "2     255441  MP 03: Naamsestraat 62 Taste  01/01/2022 00:00:02.349   84.8   \n",
      "3     255441  MP 03: Naamsestraat 62 Taste  01/01/2022 00:00:03.349   81.9   \n",
      "4     255441  MP 03: Naamsestraat 62 Taste  01/01/2022 00:00:04.349   78.3   \n",
      "\n",
      "  lamax_unit  laeq laeq_unit   lceq lceq_unit  lcpeak lcpeak_unit  \n",
      "0      dB(A)  82.7     dB(A)  83.61     dB(C)   97.17       dB(C)  \n",
      "1      dB(A)  83.1     dB(A)  84.42     dB(C)   96.41       dB(C)  \n",
      "2      dB(A)  82.7     dB(A)  84.19     dB(C)   96.24       dB(C)  \n",
      "3      dB(A)  79.3     dB(A)  81.08     dB(C)   94.03       dB(C)  \n",
      "4      dB(A)  76.0     dB(A)  77.12     dB(C)   89.81       dB(C)  \n"
     ]
    }
   ],
   "source": [
    "# Combining the datasets for January\n",
    "combined_jan = pd.concat(dfs, ignore_index=True)\n",
    "print(combined_jan.head())\n",
    "\n",
    "del dfs # deleting the separate dataframes to minimize memory usage"
   ]
  },
  {
   "cell_type": "code",
   "execution_count": 7,
   "metadata": {},
   "outputs": [
    {
     "data": {
      "text/html": [
       "<div>\n",
       "<style scoped>\n",
       "    .dataframe tbody tr th:only-of-type {\n",
       "        vertical-align: middle;\n",
       "    }\n",
       "\n",
       "    .dataframe tbody tr th {\n",
       "        vertical-align: top;\n",
       "    }\n",
       "\n",
       "    .dataframe thead th {\n",
       "        text-align: right;\n",
       "    }\n",
       "</style>\n",
       "<table border=\"1\" class=\"dataframe\">\n",
       "  <thead>\n",
       "    <tr style=\"text-align: right;\">\n",
       "      <th></th>\n",
       "      <th>#object_id</th>\n",
       "      <th>description</th>\n",
       "      <th>result_timestamp</th>\n",
       "      <th>lamax</th>\n",
       "      <th>lamax_unit</th>\n",
       "      <th>laeq</th>\n",
       "      <th>laeq_unit</th>\n",
       "      <th>lceq</th>\n",
       "      <th>lceq_unit</th>\n",
       "      <th>lcpeak</th>\n",
       "      <th>lcpeak_unit</th>\n",
       "      <th>month</th>\n",
       "      <th>day</th>\n",
       "      <th>hour</th>\n",
       "    </tr>\n",
       "  </thead>\n",
       "  <tbody>\n",
       "    <tr>\n",
       "      <th>0</th>\n",
       "      <td>255441</td>\n",
       "      <td>MP 03: Naamsestraat 62 Taste</td>\n",
       "      <td>2022-01-01 00:00:00.349</td>\n",
       "      <td>87.6</td>\n",
       "      <td>dB(A)</td>\n",
       "      <td>82.7</td>\n",
       "      <td>dB(A)</td>\n",
       "      <td>83.61</td>\n",
       "      <td>dB(C)</td>\n",
       "      <td>97.17</td>\n",
       "      <td>dB(C)</td>\n",
       "      <td>1</td>\n",
       "      <td>1</td>\n",
       "      <td>0</td>\n",
       "    </tr>\n",
       "    <tr>\n",
       "      <th>1</th>\n",
       "      <td>255441</td>\n",
       "      <td>MP 03: Naamsestraat 62 Taste</td>\n",
       "      <td>2022-01-01 00:00:01.349</td>\n",
       "      <td>84.5</td>\n",
       "      <td>dB(A)</td>\n",
       "      <td>83.1</td>\n",
       "      <td>dB(A)</td>\n",
       "      <td>84.42</td>\n",
       "      <td>dB(C)</td>\n",
       "      <td>96.41</td>\n",
       "      <td>dB(C)</td>\n",
       "      <td>1</td>\n",
       "      <td>1</td>\n",
       "      <td>0</td>\n",
       "    </tr>\n",
       "    <tr>\n",
       "      <th>2</th>\n",
       "      <td>255441</td>\n",
       "      <td>MP 03: Naamsestraat 62 Taste</td>\n",
       "      <td>2022-01-01 00:00:02.349</td>\n",
       "      <td>84.8</td>\n",
       "      <td>dB(A)</td>\n",
       "      <td>82.7</td>\n",
       "      <td>dB(A)</td>\n",
       "      <td>84.19</td>\n",
       "      <td>dB(C)</td>\n",
       "      <td>96.24</td>\n",
       "      <td>dB(C)</td>\n",
       "      <td>1</td>\n",
       "      <td>1</td>\n",
       "      <td>0</td>\n",
       "    </tr>\n",
       "    <tr>\n",
       "      <th>3</th>\n",
       "      <td>255441</td>\n",
       "      <td>MP 03: Naamsestraat 62 Taste</td>\n",
       "      <td>2022-01-01 00:00:03.349</td>\n",
       "      <td>81.9</td>\n",
       "      <td>dB(A)</td>\n",
       "      <td>79.3</td>\n",
       "      <td>dB(A)</td>\n",
       "      <td>81.08</td>\n",
       "      <td>dB(C)</td>\n",
       "      <td>94.03</td>\n",
       "      <td>dB(C)</td>\n",
       "      <td>1</td>\n",
       "      <td>1</td>\n",
       "      <td>0</td>\n",
       "    </tr>\n",
       "    <tr>\n",
       "      <th>4</th>\n",
       "      <td>255441</td>\n",
       "      <td>MP 03: Naamsestraat 62 Taste</td>\n",
       "      <td>2022-01-01 00:00:04.349</td>\n",
       "      <td>78.3</td>\n",
       "      <td>dB(A)</td>\n",
       "      <td>76.0</td>\n",
       "      <td>dB(A)</td>\n",
       "      <td>77.12</td>\n",
       "      <td>dB(C)</td>\n",
       "      <td>89.81</td>\n",
       "      <td>dB(C)</td>\n",
       "      <td>1</td>\n",
       "      <td>1</td>\n",
       "      <td>0</td>\n",
       "    </tr>\n",
       "  </tbody>\n",
       "</table>\n",
       "</div>"
      ],
      "text/plain": [
       "  #object_id                   description        result_timestamp  lamax  \\\n",
       "0     255441  MP 03: Naamsestraat 62 Taste 2022-01-01 00:00:00.349   87.6   \n",
       "1     255441  MP 03: Naamsestraat 62 Taste 2022-01-01 00:00:01.349   84.5   \n",
       "2     255441  MP 03: Naamsestraat 62 Taste 2022-01-01 00:00:02.349   84.8   \n",
       "3     255441  MP 03: Naamsestraat 62 Taste 2022-01-01 00:00:03.349   81.9   \n",
       "4     255441  MP 03: Naamsestraat 62 Taste 2022-01-01 00:00:04.349   78.3   \n",
       "\n",
       "  lamax_unit  laeq laeq_unit   lceq lceq_unit  lcpeak lcpeak_unit  month  day  \\\n",
       "0      dB(A)  82.7     dB(A)  83.61     dB(C)   97.17       dB(C)      1    1   \n",
       "1      dB(A)  83.1     dB(A)  84.42     dB(C)   96.41       dB(C)      1    1   \n",
       "2      dB(A)  82.7     dB(A)  84.19     dB(C)   96.24       dB(C)      1    1   \n",
       "3      dB(A)  79.3     dB(A)  81.08     dB(C)   94.03       dB(C)      1    1   \n",
       "4      dB(A)  76.0     dB(A)  77.12     dB(C)   89.81       dB(C)      1    1   \n",
       "\n",
       "   hour  \n",
       "0     0  \n",
       "1     0  \n",
       "2     0  \n",
       "3     0  \n",
       "4     0  "
      ]
     },
     "execution_count": 7,
     "metadata": {},
     "output_type": "execute_result"
    }
   ],
   "source": [
    "# extract the month, day, hour, minute of \"result_timestamp\"\n",
    "combined_jan['result_timestamp'] = pd.to_datetime(combined_jan['result_timestamp'], format='%d/%m/%Y %H:%M:%S.%f')\n",
    "combined_jan['month'] = combined_jan['result_timestamp'].dt.month\n",
    "combined_jan['day'] = combined_jan['result_timestamp'].dt.day\n",
    "combined_jan['hour'] = combined_jan['result_timestamp'].dt.hour\n",
    "#combined_jan['minute'] = combined_jan['result_timestamp'].dt.minute\n",
    "\n",
    "combined_jan.head()"
   ]
  },
  {
   "cell_type": "code",
   "execution_count": 8,
   "metadata": {},
   "outputs": [
    {
     "data": {
      "text/html": [
       "<div>\n",
       "<style scoped>\n",
       "    .dataframe tbody tr th:only-of-type {\n",
       "        vertical-align: middle;\n",
       "    }\n",
       "\n",
       "    .dataframe tbody tr th {\n",
       "        vertical-align: top;\n",
       "    }\n",
       "\n",
       "    .dataframe thead th {\n",
       "        text-align: right;\n",
       "    }\n",
       "</style>\n",
       "<table border=\"1\" class=\"dataframe\">\n",
       "  <thead>\n",
       "    <tr style=\"text-align: right;\">\n",
       "      <th></th>\n",
       "      <th>description</th>\n",
       "      <th>lamax</th>\n",
       "      <th>laeq</th>\n",
       "      <th>month</th>\n",
       "      <th>day</th>\n",
       "      <th>hour</th>\n",
       "    </tr>\n",
       "  </thead>\n",
       "  <tbody>\n",
       "    <tr>\n",
       "      <th>0</th>\n",
       "      <td>MP 03: Naamsestraat 62 Taste</td>\n",
       "      <td>87.6</td>\n",
       "      <td>82.7</td>\n",
       "      <td>1</td>\n",
       "      <td>1</td>\n",
       "      <td>0</td>\n",
       "    </tr>\n",
       "    <tr>\n",
       "      <th>1</th>\n",
       "      <td>MP 03: Naamsestraat 62 Taste</td>\n",
       "      <td>84.5</td>\n",
       "      <td>83.1</td>\n",
       "      <td>1</td>\n",
       "      <td>1</td>\n",
       "      <td>0</td>\n",
       "    </tr>\n",
       "    <tr>\n",
       "      <th>2</th>\n",
       "      <td>MP 03: Naamsestraat 62 Taste</td>\n",
       "      <td>84.8</td>\n",
       "      <td>82.7</td>\n",
       "      <td>1</td>\n",
       "      <td>1</td>\n",
       "      <td>0</td>\n",
       "    </tr>\n",
       "    <tr>\n",
       "      <th>3</th>\n",
       "      <td>MP 03: Naamsestraat 62 Taste</td>\n",
       "      <td>81.9</td>\n",
       "      <td>79.3</td>\n",
       "      <td>1</td>\n",
       "      <td>1</td>\n",
       "      <td>0</td>\n",
       "    </tr>\n",
       "    <tr>\n",
       "      <th>4</th>\n",
       "      <td>MP 03: Naamsestraat 62 Taste</td>\n",
       "      <td>78.3</td>\n",
       "      <td>76.0</td>\n",
       "      <td>1</td>\n",
       "      <td>1</td>\n",
       "      <td>0</td>\n",
       "    </tr>\n",
       "  </tbody>\n",
       "</table>\n",
       "</div>"
      ],
      "text/plain": [
       "                    description  lamax  laeq  month  day  hour\n",
       "0  MP 03: Naamsestraat 62 Taste   87.6  82.7      1    1     0\n",
       "1  MP 03: Naamsestraat 62 Taste   84.5  83.1      1    1     0\n",
       "2  MP 03: Naamsestraat 62 Taste   84.8  82.7      1    1     0\n",
       "3  MP 03: Naamsestraat 62 Taste   81.9  79.3      1    1     0\n",
       "4  MP 03: Naamsestraat 62 Taste   78.3  76.0      1    1     0"
      ]
     },
     "execution_count": 8,
     "metadata": {},
     "output_type": "execute_result"
    }
   ],
   "source": [
    "# Drop the columns we won't use\n",
    "columns_to_keep = ['description', 'lamax', 'laeq', 'month', 'day', 'hour'] #also minute if we calculate it\n",
    "columns_to_drop = set(combined_jan.columns) - set(columns_to_keep)\n",
    "combined_jan.drop(columns=columns_to_drop, inplace=True)\n",
    "combined_jan.head()"
   ]
  },
  {
   "cell_type": "code",
   "execution_count": 9,
   "metadata": {},
   "outputs": [
    {
     "name": "stdout",
     "output_type": "stream",
     "text": [
      "description    0\n",
      "lamax          3\n",
      "laeq           3\n",
      "month          0\n",
      "day            0\n",
      "hour           0\n",
      "dtype: int64\n"
     ]
    }
   ],
   "source": [
    "# check for missing values in each column\n",
    "print(combined_jan.isnull().sum())"
   ]
  },
  {
   "cell_type": "code",
   "execution_count": 10,
   "metadata": {},
   "outputs": [
    {
     "name": "stdout",
     "output_type": "stream",
     "text": [
      "description    0\n",
      "lamax          0\n",
      "laeq           0\n",
      "month          0\n",
      "day            0\n",
      "hour           0\n",
      "dtype: int64\n"
     ]
    }
   ],
   "source": [
    "# forward fill missing values \n",
    "combined_jan.ffill(inplace=True)\n",
    "\n",
    "# check whether there are missing values left\n",
    "print(combined_jan.isnull().sum())"
   ]
  },
  {
   "cell_type": "code",
   "execution_count": 11,
   "metadata": {},
   "outputs": [
    {
     "data": {
      "text/html": [
       "<div>\n",
       "<style scoped>\n",
       "    .dataframe tbody tr th:only-of-type {\n",
       "        vertical-align: middle;\n",
       "    }\n",
       "\n",
       "    .dataframe tbody tr th {\n",
       "        vertical-align: top;\n",
       "    }\n",
       "\n",
       "    .dataframe thead th {\n",
       "        text-align: right;\n",
       "    }\n",
       "</style>\n",
       "<table border=\"1\" class=\"dataframe\">\n",
       "  <thead>\n",
       "    <tr style=\"text-align: right;\">\n",
       "      <th></th>\n",
       "      <th>month</th>\n",
       "      <th>day</th>\n",
       "      <th>hour</th>\n",
       "      <th>description</th>\n",
       "      <th>lamax</th>\n",
       "      <th>laeq</th>\n",
       "    </tr>\n",
       "  </thead>\n",
       "  <tbody>\n",
       "    <tr>\n",
       "      <th>0</th>\n",
       "      <td>1</td>\n",
       "      <td>1</td>\n",
       "      <td>0</td>\n",
       "      <td>MP 03: Naamsestraat 62 Taste</td>\n",
       "      <td>60.322528</td>\n",
       "      <td>57.126833</td>\n",
       "    </tr>\n",
       "    <tr>\n",
       "      <th>1</th>\n",
       "      <td>1</td>\n",
       "      <td>1</td>\n",
       "      <td>0</td>\n",
       "      <td>MP 05: Calvariekapel KU Leuven</td>\n",
       "      <td>53.230972</td>\n",
       "      <td>49.987639</td>\n",
       "    </tr>\n",
       "    <tr>\n",
       "      <th>2</th>\n",
       "      <td>1</td>\n",
       "      <td>1</td>\n",
       "      <td>0</td>\n",
       "      <td>MP 06: Parkstraat 2 La Filosovia</td>\n",
       "      <td>53.666056</td>\n",
       "      <td>50.752000</td>\n",
       "    </tr>\n",
       "    <tr>\n",
       "      <th>3</th>\n",
       "      <td>1</td>\n",
       "      <td>1</td>\n",
       "      <td>0</td>\n",
       "      <td>MP 07: Naamsestraat 81</td>\n",
       "      <td>50.056861</td>\n",
       "      <td>47.440222</td>\n",
       "    </tr>\n",
       "    <tr>\n",
       "      <th>4</th>\n",
       "      <td>1</td>\n",
       "      <td>1</td>\n",
       "      <td>1</td>\n",
       "      <td>MP 03: Naamsestraat 62 Taste</td>\n",
       "      <td>53.033583</td>\n",
       "      <td>50.853806</td>\n",
       "    </tr>\n",
       "  </tbody>\n",
       "</table>\n",
       "</div>"
      ],
      "text/plain": [
       "   month  day  hour                       description      lamax       laeq\n",
       "0      1    1     0      MP 03: Naamsestraat 62 Taste  60.322528  57.126833\n",
       "1      1    1     0    MP 05: Calvariekapel KU Leuven  53.230972  49.987639\n",
       "2      1    1     0  MP 06: Parkstraat 2 La Filosovia  53.666056  50.752000\n",
       "3      1    1     0            MP 07: Naamsestraat 81  50.056861  47.440222\n",
       "4      1    1     1      MP 03: Naamsestraat 62 Taste  53.033583  50.853806"
      ]
     },
     "execution_count": 11,
     "metadata": {},
     "output_type": "execute_result"
    }
   ],
   "source": [
    "# Create dataframe per hour\n",
    "jan_per_hour = combined_jan.groupby(['month', 'day', 'hour', 'description']).mean()\n",
    "jan_per_hour = jan_per_hour.reset_index()\n",
    "jan_per_hour.head()"
   ]
  },
  {
   "cell_type": "code",
   "execution_count": 12,
   "metadata": {},
   "outputs": [
    {
     "data": {
      "text/html": [
       "<div>\n",
       "<style scoped>\n",
       "    .dataframe tbody tr th:only-of-type {\n",
       "        vertical-align: middle;\n",
       "    }\n",
       "\n",
       "    .dataframe tbody tr th {\n",
       "        vertical-align: top;\n",
       "    }\n",
       "\n",
       "    .dataframe thead th {\n",
       "        text-align: right;\n",
       "    }\n",
       "</style>\n",
       "<table border=\"1\" class=\"dataframe\">\n",
       "  <thead>\n",
       "    <tr style=\"text-align: right;\">\n",
       "      <th></th>\n",
       "      <th>month</th>\n",
       "      <th>day</th>\n",
       "      <th>description</th>\n",
       "      <th>lamax</th>\n",
       "      <th>laeq</th>\n",
       "    </tr>\n",
       "  </thead>\n",
       "  <tbody>\n",
       "    <tr>\n",
       "      <th>0</th>\n",
       "      <td>1</td>\n",
       "      <td>1</td>\n",
       "      <td>MP 03: Naamsestraat 62 Taste</td>\n",
       "      <td>51.665242</td>\n",
       "      <td>49.992637</td>\n",
       "    </tr>\n",
       "    <tr>\n",
       "      <th>1</th>\n",
       "      <td>1</td>\n",
       "      <td>1</td>\n",
       "      <td>MP 05: Calvariekapel KU Leuven</td>\n",
       "      <td>48.747476</td>\n",
       "      <td>46.504067</td>\n",
       "    </tr>\n",
       "    <tr>\n",
       "      <th>2</th>\n",
       "      <td>1</td>\n",
       "      <td>1</td>\n",
       "      <td>MP 06: Parkstraat 2 La Filosovia</td>\n",
       "      <td>48.270005</td>\n",
       "      <td>46.007220</td>\n",
       "    </tr>\n",
       "    <tr>\n",
       "      <th>3</th>\n",
       "      <td>1</td>\n",
       "      <td>1</td>\n",
       "      <td>MP 07: Naamsestraat 81</td>\n",
       "      <td>45.908501</td>\n",
       "      <td>44.373056</td>\n",
       "    </tr>\n",
       "    <tr>\n",
       "      <th>4</th>\n",
       "      <td>1</td>\n",
       "      <td>2</td>\n",
       "      <td>MP 03: Naamsestraat 62 Taste</td>\n",
       "      <td>51.407297</td>\n",
       "      <td>50.094018</td>\n",
       "    </tr>\n",
       "  </tbody>\n",
       "</table>\n",
       "</div>"
      ],
      "text/plain": [
       "   month  day                       description      lamax       laeq\n",
       "0      1    1      MP 03: Naamsestraat 62 Taste  51.665242  49.992637\n",
       "1      1    1    MP 05: Calvariekapel KU Leuven  48.747476  46.504067\n",
       "2      1    1  MP 06: Parkstraat 2 La Filosovia  48.270005  46.007220\n",
       "3      1    1            MP 07: Naamsestraat 81  45.908501  44.373056\n",
       "4      1    2      MP 03: Naamsestraat 62 Taste  51.407297  50.094018"
      ]
     },
     "execution_count": 12,
     "metadata": {},
     "output_type": "execute_result"
    }
   ],
   "source": [
    "# Create dataframe per day\n",
    "combined_jan.drop('hour', axis=1, inplace=True)\n",
    "jan_per_day= combined_jan.groupby(['month', 'day', 'description']).mean()\n",
    "jan_per_day = jan_per_day.reset_index()\n",
    "jan_per_day.head()"
   ]
  },
  {
   "cell_type": "code",
   "execution_count": 13,
   "metadata": {},
   "outputs": [
    {
     "data": {
      "text/html": [
       "<div>\n",
       "<style scoped>\n",
       "    .dataframe tbody tr th:only-of-type {\n",
       "        vertical-align: middle;\n",
       "    }\n",
       "\n",
       "    .dataframe tbody tr th {\n",
       "        vertical-align: top;\n",
       "    }\n",
       "\n",
       "    .dataframe thead th {\n",
       "        text-align: right;\n",
       "    }\n",
       "</style>\n",
       "<table border=\"1\" class=\"dataframe\">\n",
       "  <thead>\n",
       "    <tr style=\"text-align: right;\">\n",
       "      <th></th>\n",
       "      <th>month</th>\n",
       "      <th>description</th>\n",
       "      <th>lamax</th>\n",
       "      <th>laeq</th>\n",
       "    </tr>\n",
       "  </thead>\n",
       "  <tbody>\n",
       "    <tr>\n",
       "      <th>0</th>\n",
       "      <td>1</td>\n",
       "      <td>MP 03: Naamsestraat 62 Taste</td>\n",
       "      <td>53.239009</td>\n",
       "      <td>51.727544</td>\n",
       "    </tr>\n",
       "    <tr>\n",
       "      <th>1</th>\n",
       "      <td>1</td>\n",
       "      <td>MP 05: Calvariekapel KU Leuven</td>\n",
       "      <td>50.374792</td>\n",
       "      <td>48.560197</td>\n",
       "    </tr>\n",
       "    <tr>\n",
       "      <th>2</th>\n",
       "      <td>1</td>\n",
       "      <td>MP 06: Parkstraat 2 La Filosovia</td>\n",
       "      <td>50.086348</td>\n",
       "      <td>48.274795</td>\n",
       "    </tr>\n",
       "    <tr>\n",
       "      <th>3</th>\n",
       "      <td>1</td>\n",
       "      <td>MP 07: Naamsestraat 81</td>\n",
       "      <td>48.800443</td>\n",
       "      <td>47.515371</td>\n",
       "    </tr>\n",
       "  </tbody>\n",
       "</table>\n",
       "</div>"
      ],
      "text/plain": [
       "   month                       description      lamax       laeq\n",
       "0      1      MP 03: Naamsestraat 62 Taste  53.239009  51.727544\n",
       "1      1    MP 05: Calvariekapel KU Leuven  50.374792  48.560197\n",
       "2      1  MP 06: Parkstraat 2 La Filosovia  50.086348  48.274795\n",
       "3      1            MP 07: Naamsestraat 81  48.800443  47.515371"
      ]
     },
     "execution_count": 13,
     "metadata": {},
     "output_type": "execute_result"
    }
   ],
   "source": [
    "# Create dataframe per month\n",
    "combined_jan.drop('day', axis=1, inplace=True)\n",
    "jan_per_month = combined_jan.groupby(['month', 'description']).mean()\n",
    "jan_per_month = jan_per_month.reset_index()\n",
    "jan_per_month.head()"
   ]
  },
  {
   "cell_type": "code",
   "execution_count": 14,
   "metadata": {},
   "outputs": [],
   "source": [
    "del combined_jan"
   ]
  },
  {
   "attachments": {},
   "cell_type": "markdown",
   "metadata": {},
   "source": [
    "- February"
   ]
  },
  {
   "cell_type": "code",
   "execution_count": 15,
   "metadata": {},
   "outputs": [],
   "source": [
    "# Define a list of URLs \n",
    "urls = [\n",
    "    'https://mda-georgia-bucket.s3.eu-central-1.amazonaws.com/Noise+data/Feb/Feb/csv_results_42_255439_mp-01-naamsestraat-35-maxim.csv',\n",
    "    'https://mda-georgia-bucket.s3.eu-central-1.amazonaws.com/Noise+data/Feb/Feb/csv_results_42_255440_mp-02-naamsestraat-57-xior.csv',\n",
    "    'https://mda-georgia-bucket.s3.eu-central-1.amazonaws.com/Noise+data/Feb/Feb/csv_results_42_255441_mp-03-naamsestraat-62-taste.csv',\n",
    "    'https://mda-georgia-bucket.s3.eu-central-1.amazonaws.com/Noise+data/Feb/Feb/csv_results_42_255442_mp-05-calvariekapel-ku-leuven.csv',\n",
    "    'https://mda-georgia-bucket.s3.eu-central-1.amazonaws.com/Noise+data/Feb/Feb/csv_results_42_255443_mp-06-parkstraat-2-la-filosovia.csv',\n",
    "    'https://mda-georgia-bucket.s3.eu-central-1.amazonaws.com/Noise+data/Feb/Feb/csv_results_42_255444_mp-07-naamsestraat-81.csv',\n",
    "    'https://mda-georgia-bucket.s3.eu-central-1.amazonaws.com/Noise+data/Feb/Feb/csv_results_42_255445_mp-08-kiosk-stadspark.csv',\n",
    "    'https://mda-georgia-bucket.s3.eu-central-1.amazonaws.com/Noise+data/Feb/Feb/csv_results_42_280324_mp08bis---vrijthof.csv',\n",
    "    'https://mda-georgia-bucket.s3.eu-central-1.amazonaws.com/Noise+data/Feb/Feb/csv_results_42_303910_mp-04-his-hears.csv'\n",
    "   ]\n",
    "\n",
    "# Create an empty list to store the DataFrames\n",
    "dfs = []\n",
    "\n",
    "# Loop through each URL and read the CSV into a DataFrame\n",
    "for url in urls:\n",
    "    df = pd.read_csv(url, header=0, sep=';')\n",
    "    dfs.append(df)\n",
    "\n",
    "# Now we have a list of DataFrames for each URL"
   ]
  },
  {
   "cell_type": "code",
   "execution_count": 16,
   "metadata": {},
   "outputs": [
    {
     "data": {
      "text/html": [
       "<div>\n",
       "<style scoped>\n",
       "    .dataframe tbody tr th:only-of-type {\n",
       "        vertical-align: middle;\n",
       "    }\n",
       "\n",
       "    .dataframe tbody tr th {\n",
       "        vertical-align: top;\n",
       "    }\n",
       "\n",
       "    .dataframe thead th {\n",
       "        text-align: right;\n",
       "    }\n",
       "</style>\n",
       "<table border=\"1\" class=\"dataframe\">\n",
       "  <thead>\n",
       "    <tr style=\"text-align: right;\">\n",
       "      <th></th>\n",
       "      <th>#object_id</th>\n",
       "      <th>description</th>\n",
       "      <th>result_timestamp</th>\n",
       "      <th>lamax</th>\n",
       "      <th>lamax_unit</th>\n",
       "      <th>laeq</th>\n",
       "      <th>laeq_unit</th>\n",
       "      <th>lceq</th>\n",
       "      <th>lceq_unit</th>\n",
       "      <th>lcpeak</th>\n",
       "      <th>lcpeak_unit</th>\n",
       "      <th>month</th>\n",
       "      <th>day</th>\n",
       "      <th>hour</th>\n",
       "    </tr>\n",
       "  </thead>\n",
       "  <tbody>\n",
       "    <tr>\n",
       "      <th>0</th>\n",
       "      <td>255439</td>\n",
       "      <td>MP 01: Naamsestraat 35  Maxim</td>\n",
       "      <td>2022-02-28 08:23:26.734</td>\n",
       "      <td>72.5</td>\n",
       "      <td>dB(A)</td>\n",
       "      <td>71.8</td>\n",
       "      <td>dB(A)</td>\n",
       "      <td>80.80</td>\n",
       "      <td>dB(C)</td>\n",
       "      <td>92.17</td>\n",
       "      <td>dB(C)</td>\n",
       "      <td>2</td>\n",
       "      <td>28</td>\n",
       "      <td>8</td>\n",
       "    </tr>\n",
       "    <tr>\n",
       "      <th>1</th>\n",
       "      <td>255439</td>\n",
       "      <td>MP 01: Naamsestraat 35  Maxim</td>\n",
       "      <td>2022-02-28 08:23:27.734</td>\n",
       "      <td>71.1</td>\n",
       "      <td>dB(A)</td>\n",
       "      <td>68.8</td>\n",
       "      <td>dB(A)</td>\n",
       "      <td>78.96</td>\n",
       "      <td>dB(C)</td>\n",
       "      <td>90.57</td>\n",
       "      <td>dB(C)</td>\n",
       "      <td>2</td>\n",
       "      <td>28</td>\n",
       "      <td>8</td>\n",
       "    </tr>\n",
       "    <tr>\n",
       "      <th>2</th>\n",
       "      <td>255439</td>\n",
       "      <td>MP 01: Naamsestraat 35  Maxim</td>\n",
       "      <td>2022-02-28 08:23:28.734</td>\n",
       "      <td>72.0</td>\n",
       "      <td>dB(A)</td>\n",
       "      <td>70.3</td>\n",
       "      <td>dB(A)</td>\n",
       "      <td>78.64</td>\n",
       "      <td>dB(C)</td>\n",
       "      <td>91.05</td>\n",
       "      <td>dB(C)</td>\n",
       "      <td>2</td>\n",
       "      <td>28</td>\n",
       "      <td>8</td>\n",
       "    </tr>\n",
       "    <tr>\n",
       "      <th>3</th>\n",
       "      <td>255439</td>\n",
       "      <td>MP 01: Naamsestraat 35  Maxim</td>\n",
       "      <td>2022-02-28 08:23:29.734</td>\n",
       "      <td>69.2</td>\n",
       "      <td>dB(A)</td>\n",
       "      <td>68.5</td>\n",
       "      <td>dB(A)</td>\n",
       "      <td>76.94</td>\n",
       "      <td>dB(C)</td>\n",
       "      <td>88.43</td>\n",
       "      <td>dB(C)</td>\n",
       "      <td>2</td>\n",
       "      <td>28</td>\n",
       "      <td>8</td>\n",
       "    </tr>\n",
       "    <tr>\n",
       "      <th>4</th>\n",
       "      <td>255439</td>\n",
       "      <td>MP 01: Naamsestraat 35  Maxim</td>\n",
       "      <td>2022-02-28 08:23:30.734</td>\n",
       "      <td>70.6</td>\n",
       "      <td>dB(A)</td>\n",
       "      <td>69.7</td>\n",
       "      <td>dB(A)</td>\n",
       "      <td>76.75</td>\n",
       "      <td>dB(C)</td>\n",
       "      <td>90.19</td>\n",
       "      <td>dB(C)</td>\n",
       "      <td>2</td>\n",
       "      <td>28</td>\n",
       "      <td>8</td>\n",
       "    </tr>\n",
       "  </tbody>\n",
       "</table>\n",
       "</div>"
      ],
      "text/plain": [
       "  #object_id                    description        result_timestamp  lamax  \\\n",
       "0     255439  MP 01: Naamsestraat 35  Maxim 2022-02-28 08:23:26.734   72.5   \n",
       "1     255439  MP 01: Naamsestraat 35  Maxim 2022-02-28 08:23:27.734   71.1   \n",
       "2     255439  MP 01: Naamsestraat 35  Maxim 2022-02-28 08:23:28.734   72.0   \n",
       "3     255439  MP 01: Naamsestraat 35  Maxim 2022-02-28 08:23:29.734   69.2   \n",
       "4     255439  MP 01: Naamsestraat 35  Maxim 2022-02-28 08:23:30.734   70.6   \n",
       "\n",
       "  lamax_unit  laeq laeq_unit   lceq lceq_unit  lcpeak lcpeak_unit  month  day  \\\n",
       "0      dB(A)  71.8     dB(A)  80.80     dB(C)   92.17       dB(C)      2   28   \n",
       "1      dB(A)  68.8     dB(A)  78.96     dB(C)   90.57       dB(C)      2   28   \n",
       "2      dB(A)  70.3     dB(A)  78.64     dB(C)   91.05       dB(C)      2   28   \n",
       "3      dB(A)  68.5     dB(A)  76.94     dB(C)   88.43       dB(C)      2   28   \n",
       "4      dB(A)  69.7     dB(A)  76.75     dB(C)   90.19       dB(C)      2   28   \n",
       "\n",
       "   hour  \n",
       "0     8  \n",
       "1     8  \n",
       "2     8  \n",
       "3     8  \n",
       "4     8  "
      ]
     },
     "execution_count": 16,
     "metadata": {},
     "output_type": "execute_result"
    }
   ],
   "source": [
    "# Combining the datasets for February\n",
    "combined_feb = pd.concat(dfs, ignore_index=True)\n",
    "del dfs # deleting the separate dataframes to minimize memory usage\n",
    "\n",
    "# extract the month, day, hour, minute of \"result_timestamp\"\n",
    "combined_feb['result_timestamp'] = pd.to_datetime(combined_feb['result_timestamp'], format='%d/%m/%Y %H:%M:%S.%f')\n",
    "combined_feb['month'] = combined_feb['result_timestamp'].dt.month\n",
    "combined_feb['day'] = combined_feb['result_timestamp'].dt.day\n",
    "combined_feb['hour'] = combined_feb['result_timestamp'].dt.hour\n",
    "#combined_feb['minute'] = combined_feb['result_timestamp'].dt.minute\n",
    "\n",
    "combined_feb.head()"
   ]
  },
  {
   "cell_type": "code",
   "execution_count": 17,
   "metadata": {},
   "outputs": [
    {
     "data": {
      "text/html": [
       "<div>\n",
       "<style scoped>\n",
       "    .dataframe tbody tr th:only-of-type {\n",
       "        vertical-align: middle;\n",
       "    }\n",
       "\n",
       "    .dataframe tbody tr th {\n",
       "        vertical-align: top;\n",
       "    }\n",
       "\n",
       "    .dataframe thead th {\n",
       "        text-align: right;\n",
       "    }\n",
       "</style>\n",
       "<table border=\"1\" class=\"dataframe\">\n",
       "  <thead>\n",
       "    <tr style=\"text-align: right;\">\n",
       "      <th></th>\n",
       "      <th>description</th>\n",
       "      <th>lamax</th>\n",
       "      <th>laeq</th>\n",
       "      <th>month</th>\n",
       "      <th>day</th>\n",
       "      <th>hour</th>\n",
       "    </tr>\n",
       "  </thead>\n",
       "  <tbody>\n",
       "    <tr>\n",
       "      <th>0</th>\n",
       "      <td>MP 01: Naamsestraat 35  Maxim</td>\n",
       "      <td>72.5</td>\n",
       "      <td>71.8</td>\n",
       "      <td>2</td>\n",
       "      <td>28</td>\n",
       "      <td>8</td>\n",
       "    </tr>\n",
       "    <tr>\n",
       "      <th>1</th>\n",
       "      <td>MP 01: Naamsestraat 35  Maxim</td>\n",
       "      <td>71.1</td>\n",
       "      <td>68.8</td>\n",
       "      <td>2</td>\n",
       "      <td>28</td>\n",
       "      <td>8</td>\n",
       "    </tr>\n",
       "    <tr>\n",
       "      <th>2</th>\n",
       "      <td>MP 01: Naamsestraat 35  Maxim</td>\n",
       "      <td>72.0</td>\n",
       "      <td>70.3</td>\n",
       "      <td>2</td>\n",
       "      <td>28</td>\n",
       "      <td>8</td>\n",
       "    </tr>\n",
       "    <tr>\n",
       "      <th>3</th>\n",
       "      <td>MP 01: Naamsestraat 35  Maxim</td>\n",
       "      <td>69.2</td>\n",
       "      <td>68.5</td>\n",
       "      <td>2</td>\n",
       "      <td>28</td>\n",
       "      <td>8</td>\n",
       "    </tr>\n",
       "    <tr>\n",
       "      <th>4</th>\n",
       "      <td>MP 01: Naamsestraat 35  Maxim</td>\n",
       "      <td>70.6</td>\n",
       "      <td>69.7</td>\n",
       "      <td>2</td>\n",
       "      <td>28</td>\n",
       "      <td>8</td>\n",
       "    </tr>\n",
       "  </tbody>\n",
       "</table>\n",
       "</div>"
      ],
      "text/plain": [
       "                     description  lamax  laeq  month  day  hour\n",
       "0  MP 01: Naamsestraat 35  Maxim   72.5  71.8      2   28     8\n",
       "1  MP 01: Naamsestraat 35  Maxim   71.1  68.8      2   28     8\n",
       "2  MP 01: Naamsestraat 35  Maxim   72.0  70.3      2   28     8\n",
       "3  MP 01: Naamsestraat 35  Maxim   69.2  68.5      2   28     8\n",
       "4  MP 01: Naamsestraat 35  Maxim   70.6  69.7      2   28     8"
      ]
     },
     "execution_count": 17,
     "metadata": {},
     "output_type": "execute_result"
    }
   ],
   "source": [
    "# Drop the columns we won't use\n",
    "columns_to_keep = ['description', 'lamax', 'laeq', 'month', 'day', 'hour'] #also minute if we calculate it\n",
    "columns_to_drop = set(combined_feb.columns) - set(columns_to_keep)\n",
    "combined_feb.drop(columns=columns_to_drop, inplace=True)\n",
    "combined_feb.head()"
   ]
  },
  {
   "cell_type": "code",
   "execution_count": 18,
   "metadata": {},
   "outputs": [
    {
     "name": "stdout",
     "output_type": "stream",
     "text": [
      "description    0\n",
      "lamax          0\n",
      "laeq           0\n",
      "month          0\n",
      "day            0\n",
      "hour           0\n",
      "dtype: int64\n"
     ]
    }
   ],
   "source": [
    "# check for missing values in each column\n",
    "print(combined_feb.isnull().sum())"
   ]
  },
  {
   "cell_type": "code",
   "execution_count": 19,
   "metadata": {},
   "outputs": [
    {
     "name": "stdout",
     "output_type": "stream",
     "text": [
      "   month  day  hour                       description      lamax       laeq\n",
      "0      2    1     0      MP 03: Naamsestraat 62 Taste  51.096750  48.781028\n",
      "1      2    1     0    MP 05: Calvariekapel KU Leuven  48.761611  45.566611\n",
      "2      2    1     0  MP 06: Parkstraat 2 La Filosovia  49.019056  45.792000\n",
      "3      2    1     0            MP 07: Naamsestraat 81  43.687944  41.601778\n",
      "4      2    1     1      MP 03: Naamsestraat 62 Taste  48.237583  46.278333\n",
      "   month  day                       description      lamax       laeq\n",
      "0      2    1      MP 03: Naamsestraat 62 Taste  54.948997  53.332087\n",
      "1      2    1    MP 05: Calvariekapel KU Leuven  53.203722  51.239140\n",
      "2      2    1  MP 06: Parkstraat 2 La Filosovia  53.183853  51.231713\n",
      "3      2    1            MP 07: Naamsestraat 81  51.413080  50.029712\n",
      "4      2    2      MP 03: Naamsestraat 62 Taste  54.271621  52.578714\n",
      "   month                       description      lamax       laeq\n",
      "0      2     MP 01: Naamsestraat 35  Maxim  57.287668  55.245502\n",
      "1      2       MP 02: Naamsestraat 57 Xior  52.207648  50.042913\n",
      "2      2      MP 03: Naamsestraat 62 Taste  54.835517  53.144498\n",
      "3      2    MP 05: Calvariekapel KU Leuven  53.403797  51.377944\n",
      "4      2  MP 06: Parkstraat 2 La Filosovia  53.149800  51.201093\n"
     ]
    }
   ],
   "source": [
    "# Create dataframe per hour\n",
    "feb_per_hour = combined_feb.groupby(['month', 'day', 'hour', 'description']).mean()\n",
    "feb_per_hour = feb_per_hour.reset_index()\n",
    "print(feb_per_hour.head())\n",
    "\n",
    "# Create dataframe per day\n",
    "combined_feb.drop('hour', axis=1, inplace=True)\n",
    "feb_per_day = combined_feb.groupby(['month', 'day', 'description']).mean()\n",
    "feb_per_day = feb_per_day.reset_index()\n",
    "print(feb_per_day.head())\n",
    "\n",
    "# Create dataframe per month\n",
    "combined_feb.drop('day', axis=1, inplace=True)\n",
    "feb_per_month = combined_feb.groupby(['month', 'description']).mean()\n",
    "feb_per_month = feb_per_month.reset_index()\n",
    "print(feb_per_month.head())\n",
    "\n",
    "del combined_feb"
   ]
  },
  {
   "attachments": {},
   "cell_type": "markdown",
   "metadata": {},
   "source": [
    "- March"
   ]
  },
  {
   "cell_type": "code",
   "execution_count": 20,
   "metadata": {},
   "outputs": [
    {
     "data": {
      "text/html": [
       "<div>\n",
       "<style scoped>\n",
       "    .dataframe tbody tr th:only-of-type {\n",
       "        vertical-align: middle;\n",
       "    }\n",
       "\n",
       "    .dataframe tbody tr th {\n",
       "        vertical-align: top;\n",
       "    }\n",
       "\n",
       "    .dataframe thead th {\n",
       "        text-align: right;\n",
       "    }\n",
       "</style>\n",
       "<table border=\"1\" class=\"dataframe\">\n",
       "  <thead>\n",
       "    <tr style=\"text-align: right;\">\n",
       "      <th></th>\n",
       "      <th>#object_id</th>\n",
       "      <th>description</th>\n",
       "      <th>result_timestamp</th>\n",
       "      <th>lamax</th>\n",
       "      <th>lamax_unit</th>\n",
       "      <th>laeq</th>\n",
       "      <th>laeq_unit</th>\n",
       "      <th>lceq</th>\n",
       "      <th>lceq_unit</th>\n",
       "      <th>lcpeak</th>\n",
       "      <th>lcpeak_unit</th>\n",
       "      <th>month</th>\n",
       "      <th>day</th>\n",
       "      <th>hour</th>\n",
       "    </tr>\n",
       "  </thead>\n",
       "  <tbody>\n",
       "    <tr>\n",
       "      <th>0</th>\n",
       "      <td>255439</td>\n",
       "      <td>MP 01: Naamsestraat 35  Maxim</td>\n",
       "      <td>2022-03-01 00:00:00.462</td>\n",
       "      <td>60.5</td>\n",
       "      <td>dB(A)</td>\n",
       "      <td>57.9</td>\n",
       "      <td>dB(A)</td>\n",
       "      <td>63.36</td>\n",
       "      <td>dB(C)</td>\n",
       "      <td>76.57</td>\n",
       "      <td>dB(C)</td>\n",
       "      <td>3</td>\n",
       "      <td>1</td>\n",
       "      <td>0</td>\n",
       "    </tr>\n",
       "    <tr>\n",
       "      <th>1</th>\n",
       "      <td>255439</td>\n",
       "      <td>MP 01: Naamsestraat 35  Maxim</td>\n",
       "      <td>2022-03-01 00:00:01.462</td>\n",
       "      <td>54.1</td>\n",
       "      <td>dB(A)</td>\n",
       "      <td>53.2</td>\n",
       "      <td>dB(A)</td>\n",
       "      <td>61.86</td>\n",
       "      <td>dB(C)</td>\n",
       "      <td>74.52</td>\n",
       "      <td>dB(C)</td>\n",
       "      <td>3</td>\n",
       "      <td>1</td>\n",
       "      <td>0</td>\n",
       "    </tr>\n",
       "    <tr>\n",
       "      <th>2</th>\n",
       "      <td>255439</td>\n",
       "      <td>MP 01: Naamsestraat 35  Maxim</td>\n",
       "      <td>2022-03-01 00:00:02.462</td>\n",
       "      <td>61.4</td>\n",
       "      <td>dB(A)</td>\n",
       "      <td>57.5</td>\n",
       "      <td>dB(A)</td>\n",
       "      <td>64.12</td>\n",
       "      <td>dB(C)</td>\n",
       "      <td>76.46</td>\n",
       "      <td>dB(C)</td>\n",
       "      <td>3</td>\n",
       "      <td>1</td>\n",
       "      <td>0</td>\n",
       "    </tr>\n",
       "    <tr>\n",
       "      <th>3</th>\n",
       "      <td>255439</td>\n",
       "      <td>MP 01: Naamsestraat 35  Maxim</td>\n",
       "      <td>2022-03-01 00:00:03.462</td>\n",
       "      <td>61.3</td>\n",
       "      <td>dB(A)</td>\n",
       "      <td>59.1</td>\n",
       "      <td>dB(A)</td>\n",
       "      <td>64.68</td>\n",
       "      <td>dB(C)</td>\n",
       "      <td>76.67</td>\n",
       "      <td>dB(C)</td>\n",
       "      <td>3</td>\n",
       "      <td>1</td>\n",
       "      <td>0</td>\n",
       "    </tr>\n",
       "    <tr>\n",
       "      <th>4</th>\n",
       "      <td>255439</td>\n",
       "      <td>MP 01: Naamsestraat 35  Maxim</td>\n",
       "      <td>2022-03-01 00:00:04.462</td>\n",
       "      <td>61.1</td>\n",
       "      <td>dB(A)</td>\n",
       "      <td>58.4</td>\n",
       "      <td>dB(A)</td>\n",
       "      <td>64.53</td>\n",
       "      <td>dB(C)</td>\n",
       "      <td>77.07</td>\n",
       "      <td>dB(C)</td>\n",
       "      <td>3</td>\n",
       "      <td>1</td>\n",
       "      <td>0</td>\n",
       "    </tr>\n",
       "  </tbody>\n",
       "</table>\n",
       "</div>"
      ],
      "text/plain": [
       "  #object_id                    description        result_timestamp  lamax  \\\n",
       "0     255439  MP 01: Naamsestraat 35  Maxim 2022-03-01 00:00:00.462   60.5   \n",
       "1     255439  MP 01: Naamsestraat 35  Maxim 2022-03-01 00:00:01.462   54.1   \n",
       "2     255439  MP 01: Naamsestraat 35  Maxim 2022-03-01 00:00:02.462   61.4   \n",
       "3     255439  MP 01: Naamsestraat 35  Maxim 2022-03-01 00:00:03.462   61.3   \n",
       "4     255439  MP 01: Naamsestraat 35  Maxim 2022-03-01 00:00:04.462   61.1   \n",
       "\n",
       "  lamax_unit  laeq laeq_unit   lceq lceq_unit  lcpeak lcpeak_unit  month  day  \\\n",
       "0      dB(A)  57.9     dB(A)  63.36     dB(C)   76.57       dB(C)      3    1   \n",
       "1      dB(A)  53.2     dB(A)  61.86     dB(C)   74.52       dB(C)      3    1   \n",
       "2      dB(A)  57.5     dB(A)  64.12     dB(C)   76.46       dB(C)      3    1   \n",
       "3      dB(A)  59.1     dB(A)  64.68     dB(C)   76.67       dB(C)      3    1   \n",
       "4      dB(A)  58.4     dB(A)  64.53     dB(C)   77.07       dB(C)      3    1   \n",
       "\n",
       "   hour  \n",
       "0     0  \n",
       "1     0  \n",
       "2     0  \n",
       "3     0  \n",
       "4     0  "
      ]
     },
     "execution_count": 20,
     "metadata": {},
     "output_type": "execute_result"
    }
   ],
   "source": [
    "# Define a list of URLs \n",
    "urls = [\n",
    "    'https://mda-georgia-bucket.s3.eu-central-1.amazonaws.com/Noise+data/March/March/csv_results_44_255439_mp-01-naamsestraat-35-maxim.csv',\n",
    "    'https://mda-georgia-bucket.s3.eu-central-1.amazonaws.com/Noise+data/March/March/csv_results_44_255440_mp-02-naamsestraat-57-xior.csv',\n",
    "    'https://mda-georgia-bucket.s3.eu-central-1.amazonaws.com/Noise+data/March/March/csv_results_44_255441_mp-03-naamsestraat-62-taste.csv',\n",
    "    'https://mda-georgia-bucket.s3.eu-central-1.amazonaws.com/Noise+data/March/March/csv_results_44_255442_mp-05-calvariekapel-ku-leuven.csv',\n",
    "    'https://mda-georgia-bucket.s3.eu-central-1.amazonaws.com/Noise+data/March/March/csv_results_44_255443_mp-06-parkstraat-2-la-filosovia.csv',\n",
    "    'https://mda-georgia-bucket.s3.eu-central-1.amazonaws.com/Noise+data/March/March/csv_results_44_255444_mp-07-naamsestraat-81.csv',\n",
    "    'https://mda-georgia-bucket.s3.eu-central-1.amazonaws.com/Noise+data/March/March/csv_results_44_255445_mp-08-kiosk-stadspark.csv',\n",
    "    'https://mda-georgia-bucket.s3.eu-central-1.amazonaws.com/Noise+data/March/March/csv_results_44_280324_mp08bis---vrijthof.csv',\n",
    "    'https://mda-georgia-bucket.s3.eu-central-1.amazonaws.com/Noise+data/March/March/csv_results_44_303910_mp-04-his-hears.csv'\n",
    "   ]\n",
    "\n",
    "# Create an empty list to store the DataFrames\n",
    "dfs = []\n",
    "\n",
    "# Loop through each URL and read the CSV into a DataFrame\n",
    "for url in urls:\n",
    "    df = pd.read_csv(url, header=0, sep=';')\n",
    "    dfs.append(df)\n",
    "\n",
    "# Now we have a list of DataFrames for each URL\n",
    "\n",
    "# Combining the datasets for March\n",
    "combined_mar = pd.concat(dfs, ignore_index=True)\n",
    "del dfs # deleting the separate dataframes to minimize memory usage\n",
    "\n",
    "# extract the month, day, hour, minute of \"result_timestamp\"\n",
    "combined_mar['result_timestamp'] = pd.to_datetime(combined_mar['result_timestamp'], format='%d/%m/%Y %H:%M:%S.%f')\n",
    "combined_mar['month'] = combined_mar['result_timestamp'].dt.month\n",
    "combined_mar['day'] = combined_mar['result_timestamp'].dt.day\n",
    "combined_mar['hour'] = combined_mar['result_timestamp'].dt.hour\n",
    "#combined_mar['minute'] = combined_mar['result_timestamp'].dt.minute\n",
    "\n",
    "combined_mar.head()"
   ]
  },
  {
   "cell_type": "code",
   "execution_count": 21,
   "metadata": {},
   "outputs": [
    {
     "data": {
      "text/html": [
       "<div>\n",
       "<style scoped>\n",
       "    .dataframe tbody tr th:only-of-type {\n",
       "        vertical-align: middle;\n",
       "    }\n",
       "\n",
       "    .dataframe tbody tr th {\n",
       "        vertical-align: top;\n",
       "    }\n",
       "\n",
       "    .dataframe thead th {\n",
       "        text-align: right;\n",
       "    }\n",
       "</style>\n",
       "<table border=\"1\" class=\"dataframe\">\n",
       "  <thead>\n",
       "    <tr style=\"text-align: right;\">\n",
       "      <th></th>\n",
       "      <th>description</th>\n",
       "      <th>lamax</th>\n",
       "      <th>laeq</th>\n",
       "      <th>month</th>\n",
       "      <th>day</th>\n",
       "      <th>hour</th>\n",
       "    </tr>\n",
       "  </thead>\n",
       "  <tbody>\n",
       "    <tr>\n",
       "      <th>0</th>\n",
       "      <td>MP 01: Naamsestraat 35  Maxim</td>\n",
       "      <td>60.5</td>\n",
       "      <td>57.9</td>\n",
       "      <td>3</td>\n",
       "      <td>1</td>\n",
       "      <td>0</td>\n",
       "    </tr>\n",
       "    <tr>\n",
       "      <th>1</th>\n",
       "      <td>MP 01: Naamsestraat 35  Maxim</td>\n",
       "      <td>54.1</td>\n",
       "      <td>53.2</td>\n",
       "      <td>3</td>\n",
       "      <td>1</td>\n",
       "      <td>0</td>\n",
       "    </tr>\n",
       "    <tr>\n",
       "      <th>2</th>\n",
       "      <td>MP 01: Naamsestraat 35  Maxim</td>\n",
       "      <td>61.4</td>\n",
       "      <td>57.5</td>\n",
       "      <td>3</td>\n",
       "      <td>1</td>\n",
       "      <td>0</td>\n",
       "    </tr>\n",
       "    <tr>\n",
       "      <th>3</th>\n",
       "      <td>MP 01: Naamsestraat 35  Maxim</td>\n",
       "      <td>61.3</td>\n",
       "      <td>59.1</td>\n",
       "      <td>3</td>\n",
       "      <td>1</td>\n",
       "      <td>0</td>\n",
       "    </tr>\n",
       "    <tr>\n",
       "      <th>4</th>\n",
       "      <td>MP 01: Naamsestraat 35  Maxim</td>\n",
       "      <td>61.1</td>\n",
       "      <td>58.4</td>\n",
       "      <td>3</td>\n",
       "      <td>1</td>\n",
       "      <td>0</td>\n",
       "    </tr>\n",
       "  </tbody>\n",
       "</table>\n",
       "</div>"
      ],
      "text/plain": [
       "                     description  lamax  laeq  month  day  hour\n",
       "0  MP 01: Naamsestraat 35  Maxim   60.5  57.9      3    1     0\n",
       "1  MP 01: Naamsestraat 35  Maxim   54.1  53.2      3    1     0\n",
       "2  MP 01: Naamsestraat 35  Maxim   61.4  57.5      3    1     0\n",
       "3  MP 01: Naamsestraat 35  Maxim   61.3  59.1      3    1     0\n",
       "4  MP 01: Naamsestraat 35  Maxim   61.1  58.4      3    1     0"
      ]
     },
     "execution_count": 21,
     "metadata": {},
     "output_type": "execute_result"
    }
   ],
   "source": [
    "# Drop the columns we won't use\n",
    "columns_to_keep = ['description', 'lamax', 'laeq', 'month', 'day', 'hour'] #also minute if we calculate it\n",
    "columns_to_drop = set(combined_mar.columns) - set(columns_to_keep)\n",
    "combined_mar.drop(columns=columns_to_drop, inplace=True)\n",
    "combined_mar.head()"
   ]
  },
  {
   "cell_type": "code",
   "execution_count": 22,
   "metadata": {},
   "outputs": [
    {
     "name": "stdout",
     "output_type": "stream",
     "text": [
      "description     0\n",
      "lamax          13\n",
      "laeq           13\n",
      "month           0\n",
      "day             0\n",
      "hour            0\n",
      "dtype: int64\n"
     ]
    }
   ],
   "source": [
    "# check for missing values in each column\n",
    "print(combined_mar.isnull().sum())"
   ]
  },
  {
   "cell_type": "code",
   "execution_count": 24,
   "metadata": {},
   "outputs": [
    {
     "name": "stdout",
     "output_type": "stream",
     "text": [
      "description    0\n",
      "lamax          0\n",
      "laeq           0\n",
      "month          0\n",
      "day            0\n",
      "hour           0\n",
      "dtype: int64\n"
     ]
    }
   ],
   "source": [
    "# forward fill missing values \n",
    "combined_mar.ffill(inplace=True)\n",
    "\n",
    "# check whether there are missing values left\n",
    "print(combined_mar.isnull().sum())"
   ]
  },
  {
   "cell_type": "code",
   "execution_count": 25,
   "metadata": {},
   "outputs": [
    {
     "name": "stdout",
     "output_type": "stream",
     "text": [
      "   month  day  hour                       description      lamax       laeq\n",
      "0      3    1     0     MP 01: Naamsestraat 35  Maxim  63.333278  60.815722\n",
      "1      3    1     0       MP 02: Naamsestraat 57 Xior  54.192944  51.577083\n",
      "2      3    1     0      MP 03: Naamsestraat 62 Taste  53.878000  51.471417\n",
      "3      3    1     0    MP 05: Calvariekapel KU Leuven  53.308556  50.065111\n",
      "4      3    1     0  MP 06: Parkstraat 2 La Filosovia  52.805778  49.801306\n",
      "   month  day                       description      lamax       laeq\n",
      "0      3    1     MP 01: Naamsestraat 35  Maxim  58.176227  55.849949\n",
      "1      3    1       MP 02: Naamsestraat 57 Xior  54.176705  52.183638\n",
      "2      3    1      MP 03: Naamsestraat 62 Taste  55.187625  53.303638\n",
      "3      3    1    MP 05: Calvariekapel KU Leuven  54.506068  52.138010\n",
      "4      3    1  MP 06: Parkstraat 2 La Filosovia  53.991586  51.884388\n",
      "   month                       description      lamax       laeq\n",
      "0      3     MP 01: Naamsestraat 35  Maxim  57.351576  55.014774\n",
      "1      3       MP 02: Naamsestraat 57 Xior  54.369712  52.351330\n",
      "2      3      MP 03: Naamsestraat 62 Taste  55.582914  53.692100\n",
      "3      3    MP 05: Calvariekapel KU Leuven  54.177727  51.848479\n",
      "4      3  MP 06: Parkstraat 2 La Filosovia  54.219983  52.085121\n"
     ]
    }
   ],
   "source": [
    "# Create dataframe per hour\n",
    "mar_per_hour = combined_mar.groupby(['month', 'day', 'hour', 'description']).mean()\n",
    "mar_per_hour = mar_per_hour.reset_index()\n",
    "print(mar_per_hour.head())\n",
    "\n",
    "# Create dataframe per day\n",
    "combined_mar.drop('hour', axis=1, inplace=True)\n",
    "mar_per_day = combined_mar.groupby(['month', 'day', 'description']).mean()\n",
    "mar_per_day = mar_per_day.reset_index()\n",
    "print(mar_per_day.head())\n",
    "\n",
    "# Create dataframe per month\n",
    "combined_mar.drop('day', axis=1, inplace=True)\n",
    "mar_per_month = combined_mar.groupby(['month', 'description']).mean()\n",
    "mar_per_month = mar_per_month.reset_index()\n",
    "print(mar_per_month.head())\n",
    "\n",
    "del combined_mar"
   ]
  },
  {
   "attachments": {},
   "cell_type": "markdown",
   "metadata": {},
   "source": [
    "- April"
   ]
  },
  {
   "cell_type": "code",
   "execution_count": 26,
   "metadata": {},
   "outputs": [
    {
     "data": {
      "text/html": [
       "<div>\n",
       "<style scoped>\n",
       "    .dataframe tbody tr th:only-of-type {\n",
       "        vertical-align: middle;\n",
       "    }\n",
       "\n",
       "    .dataframe tbody tr th {\n",
       "        vertical-align: top;\n",
       "    }\n",
       "\n",
       "    .dataframe thead th {\n",
       "        text-align: right;\n",
       "    }\n",
       "</style>\n",
       "<table border=\"1\" class=\"dataframe\">\n",
       "  <thead>\n",
       "    <tr style=\"text-align: right;\">\n",
       "      <th></th>\n",
       "      <th>#object_id</th>\n",
       "      <th>description</th>\n",
       "      <th>result_timestamp</th>\n",
       "      <th>lamax</th>\n",
       "      <th>lamax_unit</th>\n",
       "      <th>laeq</th>\n",
       "      <th>laeq_unit</th>\n",
       "      <th>lceq</th>\n",
       "      <th>lceq_unit</th>\n",
       "      <th>lcpeak</th>\n",
       "      <th>lcpeak_unit</th>\n",
       "      <th>month</th>\n",
       "      <th>day</th>\n",
       "      <th>hour</th>\n",
       "    </tr>\n",
       "  </thead>\n",
       "  <tbody>\n",
       "    <tr>\n",
       "      <th>0</th>\n",
       "      <td>255439</td>\n",
       "      <td>MP 01: Naamsestraat 35  Maxim</td>\n",
       "      <td>2022-04-01 00:00:00.520</td>\n",
       "      <td>62.5</td>\n",
       "      <td>dB(A)</td>\n",
       "      <td>59.3</td>\n",
       "      <td>dB(A)</td>\n",
       "      <td>64.56</td>\n",
       "      <td>dB(C)</td>\n",
       "      <td>78.13</td>\n",
       "      <td>dB(C)</td>\n",
       "      <td>4</td>\n",
       "      <td>1</td>\n",
       "      <td>0</td>\n",
       "    </tr>\n",
       "    <tr>\n",
       "      <th>1</th>\n",
       "      <td>255439</td>\n",
       "      <td>MP 01: Naamsestraat 35  Maxim</td>\n",
       "      <td>2022-04-01 00:00:01.520</td>\n",
       "      <td>63.3</td>\n",
       "      <td>dB(A)</td>\n",
       "      <td>61.3</td>\n",
       "      <td>dB(A)</td>\n",
       "      <td>65.35</td>\n",
       "      <td>dB(C)</td>\n",
       "      <td>78.09</td>\n",
       "      <td>dB(C)</td>\n",
       "      <td>4</td>\n",
       "      <td>1</td>\n",
       "      <td>0</td>\n",
       "    </tr>\n",
       "    <tr>\n",
       "      <th>2</th>\n",
       "      <td>255439</td>\n",
       "      <td>MP 01: Naamsestraat 35  Maxim</td>\n",
       "      <td>2022-04-01 00:00:02.520</td>\n",
       "      <td>61.4</td>\n",
       "      <td>dB(A)</td>\n",
       "      <td>59.1</td>\n",
       "      <td>dB(A)</td>\n",
       "      <td>64.18</td>\n",
       "      <td>dB(C)</td>\n",
       "      <td>76.63</td>\n",
       "      <td>dB(C)</td>\n",
       "      <td>4</td>\n",
       "      <td>1</td>\n",
       "      <td>0</td>\n",
       "    </tr>\n",
       "    <tr>\n",
       "      <th>3</th>\n",
       "      <td>255439</td>\n",
       "      <td>MP 01: Naamsestraat 35  Maxim</td>\n",
       "      <td>2022-04-01 00:00:03.510</td>\n",
       "      <td>58.9</td>\n",
       "      <td>dB(A)</td>\n",
       "      <td>56.6</td>\n",
       "      <td>dB(A)</td>\n",
       "      <td>63.58</td>\n",
       "      <td>dB(C)</td>\n",
       "      <td>75.74</td>\n",
       "      <td>dB(C)</td>\n",
       "      <td>4</td>\n",
       "      <td>1</td>\n",
       "      <td>0</td>\n",
       "    </tr>\n",
       "    <tr>\n",
       "      <th>4</th>\n",
       "      <td>255439</td>\n",
       "      <td>MP 01: Naamsestraat 35  Maxim</td>\n",
       "      <td>2022-04-01 00:00:04.510</td>\n",
       "      <td>59.6</td>\n",
       "      <td>dB(A)</td>\n",
       "      <td>57.2</td>\n",
       "      <td>dB(A)</td>\n",
       "      <td>63.32</td>\n",
       "      <td>dB(C)</td>\n",
       "      <td>77.86</td>\n",
       "      <td>dB(C)</td>\n",
       "      <td>4</td>\n",
       "      <td>1</td>\n",
       "      <td>0</td>\n",
       "    </tr>\n",
       "  </tbody>\n",
       "</table>\n",
       "</div>"
      ],
      "text/plain": [
       "  #object_id                    description        result_timestamp  lamax  \\\n",
       "0     255439  MP 01: Naamsestraat 35  Maxim 2022-04-01 00:00:00.520   62.5   \n",
       "1     255439  MP 01: Naamsestraat 35  Maxim 2022-04-01 00:00:01.520   63.3   \n",
       "2     255439  MP 01: Naamsestraat 35  Maxim 2022-04-01 00:00:02.520   61.4   \n",
       "3     255439  MP 01: Naamsestraat 35  Maxim 2022-04-01 00:00:03.510   58.9   \n",
       "4     255439  MP 01: Naamsestraat 35  Maxim 2022-04-01 00:00:04.510   59.6   \n",
       "\n",
       "  lamax_unit  laeq laeq_unit   lceq lceq_unit  lcpeak lcpeak_unit  month  day  \\\n",
       "0      dB(A)  59.3     dB(A)  64.56     dB(C)   78.13       dB(C)      4    1   \n",
       "1      dB(A)  61.3     dB(A)  65.35     dB(C)   78.09       dB(C)      4    1   \n",
       "2      dB(A)  59.1     dB(A)  64.18     dB(C)   76.63       dB(C)      4    1   \n",
       "3      dB(A)  56.6     dB(A)  63.58     dB(C)   75.74       dB(C)      4    1   \n",
       "4      dB(A)  57.2     dB(A)  63.32     dB(C)   77.86       dB(C)      4    1   \n",
       "\n",
       "   hour  \n",
       "0     0  \n",
       "1     0  \n",
       "2     0  \n",
       "3     0  \n",
       "4     0  "
      ]
     },
     "execution_count": 26,
     "metadata": {},
     "output_type": "execute_result"
    }
   ],
   "source": [
    "# Define a list of URLs \n",
    "urls = [\n",
    "    'https://mda-georgia-bucket.s3.eu-central-1.amazonaws.com/Noise+data/April/April/csv_results_45_255439_mp-01-naamsestraat-35-maxim.csv',\n",
    "    'https://mda-georgia-bucket.s3.eu-central-1.amazonaws.com/Noise+data/April/April/csv_results_45_255440_mp-02-naamsestraat-57-xior.csv',\n",
    "    'https://mda-georgia-bucket.s3.eu-central-1.amazonaws.com/Noise+data/April/April/csv_results_45_255441_mp-03-naamsestraat-62-taste.csv',\n",
    "    'https://mda-georgia-bucket.s3.eu-central-1.amazonaws.com/Noise+data/April/April/csv_results_45_255442_mp-05-calvariekapel-ku-leuven.csv',\n",
    "    'https://mda-georgia-bucket.s3.eu-central-1.amazonaws.com/Noise+data/April/April/csv_results_45_255443_mp-06-parkstraat-2-la-filosovia.csv',\n",
    "    'https://mda-georgia-bucket.s3.eu-central-1.amazonaws.com/Noise+data/April/April/csv_results_45_255444_mp-07-naamsestraat-81.csv',\n",
    "    'https://mda-georgia-bucket.s3.eu-central-1.amazonaws.com/Noise+data/April/April/csv_results_45_255445_mp-08-kiosk-stadspark.csv',\n",
    "    'https://mda-georgia-bucket.s3.eu-central-1.amazonaws.com/Noise+data/April/April/csv_results_45_280324_mp08bis---vrijthof.csv',\n",
    "    'https://mda-georgia-bucket.s3.eu-central-1.amazonaws.com/Noise+data/April/April/csv_results_45_303910_mp-04-his-hears.csv'\n",
    "   ]\n",
    "\n",
    "# Create an empty list to store the DataFrames\n",
    "dfs = []\n",
    "\n",
    "# Loop through each URL and read the CSV into a DataFrame\n",
    "for url in urls:\n",
    "    df = pd.read_csv(url, header=0, sep=';')\n",
    "    dfs.append(df)\n",
    "\n",
    "# Now we have a list of DataFrames for each URL\n",
    "\n",
    "# Combining the datasets for March\n",
    "combined_apr = pd.concat(dfs, ignore_index=True)\n",
    "del dfs # deleting the separate dataframes to minimize memory usage\n",
    "\n",
    "# extract the month, day, hour, minute of \"result_timestamp\"\n",
    "combined_apr['result_timestamp'] = pd.to_datetime(combined_apr['result_timestamp'], format='%d/%m/%Y %H:%M:%S.%f')\n",
    "combined_apr['month'] = combined_apr['result_timestamp'].dt.month\n",
    "combined_apr['day'] = combined_apr['result_timestamp'].dt.day\n",
    "combined_apr['hour'] = combined_apr['result_timestamp'].dt.hour\n",
    "#combined_apr['minute'] = combined_apr['result_timestamp'].dt.minute\n",
    "\n",
    "combined_apr.head()"
   ]
  },
  {
   "cell_type": "code",
   "execution_count": 27,
   "metadata": {},
   "outputs": [
    {
     "data": {
      "text/html": [
       "<div>\n",
       "<style scoped>\n",
       "    .dataframe tbody tr th:only-of-type {\n",
       "        vertical-align: middle;\n",
       "    }\n",
       "\n",
       "    .dataframe tbody tr th {\n",
       "        vertical-align: top;\n",
       "    }\n",
       "\n",
       "    .dataframe thead th {\n",
       "        text-align: right;\n",
       "    }\n",
       "</style>\n",
       "<table border=\"1\" class=\"dataframe\">\n",
       "  <thead>\n",
       "    <tr style=\"text-align: right;\">\n",
       "      <th></th>\n",
       "      <th>description</th>\n",
       "      <th>lamax</th>\n",
       "      <th>laeq</th>\n",
       "      <th>month</th>\n",
       "      <th>day</th>\n",
       "      <th>hour</th>\n",
       "    </tr>\n",
       "  </thead>\n",
       "  <tbody>\n",
       "    <tr>\n",
       "      <th>0</th>\n",
       "      <td>MP 01: Naamsestraat 35  Maxim</td>\n",
       "      <td>62.5</td>\n",
       "      <td>59.3</td>\n",
       "      <td>4</td>\n",
       "      <td>1</td>\n",
       "      <td>0</td>\n",
       "    </tr>\n",
       "    <tr>\n",
       "      <th>1</th>\n",
       "      <td>MP 01: Naamsestraat 35  Maxim</td>\n",
       "      <td>63.3</td>\n",
       "      <td>61.3</td>\n",
       "      <td>4</td>\n",
       "      <td>1</td>\n",
       "      <td>0</td>\n",
       "    </tr>\n",
       "    <tr>\n",
       "      <th>2</th>\n",
       "      <td>MP 01: Naamsestraat 35  Maxim</td>\n",
       "      <td>61.4</td>\n",
       "      <td>59.1</td>\n",
       "      <td>4</td>\n",
       "      <td>1</td>\n",
       "      <td>0</td>\n",
       "    </tr>\n",
       "    <tr>\n",
       "      <th>3</th>\n",
       "      <td>MP 01: Naamsestraat 35  Maxim</td>\n",
       "      <td>58.9</td>\n",
       "      <td>56.6</td>\n",
       "      <td>4</td>\n",
       "      <td>1</td>\n",
       "      <td>0</td>\n",
       "    </tr>\n",
       "    <tr>\n",
       "      <th>4</th>\n",
       "      <td>MP 01: Naamsestraat 35  Maxim</td>\n",
       "      <td>59.6</td>\n",
       "      <td>57.2</td>\n",
       "      <td>4</td>\n",
       "      <td>1</td>\n",
       "      <td>0</td>\n",
       "    </tr>\n",
       "  </tbody>\n",
       "</table>\n",
       "</div>"
      ],
      "text/plain": [
       "                     description  lamax  laeq  month  day  hour\n",
       "0  MP 01: Naamsestraat 35  Maxim   62.5  59.3      4    1     0\n",
       "1  MP 01: Naamsestraat 35  Maxim   63.3  61.3      4    1     0\n",
       "2  MP 01: Naamsestraat 35  Maxim   61.4  59.1      4    1     0\n",
       "3  MP 01: Naamsestraat 35  Maxim   58.9  56.6      4    1     0\n",
       "4  MP 01: Naamsestraat 35  Maxim   59.6  57.2      4    1     0"
      ]
     },
     "execution_count": 27,
     "metadata": {},
     "output_type": "execute_result"
    }
   ],
   "source": [
    "# Drop the columns we won't use\n",
    "columns_to_keep = ['description', 'lamax', 'laeq', 'month', 'day', 'hour'] #also minute if we calculate it\n",
    "columns_to_drop = set(combined_apr.columns) - set(columns_to_keep)\n",
    "combined_apr.drop(columns=columns_to_drop, inplace=True)\n",
    "combined_apr.head()"
   ]
  },
  {
   "cell_type": "code",
   "execution_count": 29,
   "metadata": {},
   "outputs": [
    {
     "name": "stdout",
     "output_type": "stream",
     "text": [
      "description    0.000000\n",
      "lamax          0.000078\n",
      "laeq           0.000002\n",
      "month          0.000000\n",
      "day            0.000000\n",
      "hour           0.000000\n",
      "dtype: float64\n"
     ]
    }
   ],
   "source": [
    "# check for missing values in each column\n",
    "print(combined_apr.isnull().sum() / len(combined_apr))"
   ]
  },
  {
   "cell_type": "code",
   "execution_count": 30,
   "metadata": {},
   "outputs": [
    {
     "name": "stdout",
     "output_type": "stream",
     "text": [
      "description    0\n",
      "lamax          0\n",
      "laeq           0\n",
      "month          0\n",
      "day            0\n",
      "hour           0\n",
      "dtype: int64\n"
     ]
    }
   ],
   "source": [
    "# forward fill missing values \n",
    "combined_apr.ffill(inplace=True)\n",
    "\n",
    "# check whether there are missing values left\n",
    "print(combined_apr.isnull().sum())"
   ]
  },
  {
   "cell_type": "code",
   "execution_count": 31,
   "metadata": {},
   "outputs": [
    {
     "name": "stdout",
     "output_type": "stream",
     "text": [
      "   month  day  hour                       description      lamax       laeq\n",
      "0      4    1     0     MP 01: Naamsestraat 35  Maxim  66.120833  63.600472\n",
      "1      4    1     0       MP 02: Naamsestraat 57 Xior  59.498917  56.891000\n",
      "2      4    1     0      MP 03: Naamsestraat 62 Taste  59.414194  56.662389\n",
      "3      4    1     0    MP 05: Calvariekapel KU Leuven  58.328889  55.176444\n",
      "4      4    1     0  MP 06: Parkstraat 2 La Filosovia  58.421944  55.435500\n",
      "   month  day                       description      lamax       laeq\n",
      "0      4    1     MP 01: Naamsestraat 35  Maxim  59.920866  57.731795\n",
      "1      4    1       MP 02: Naamsestraat 57 Xior  57.569984  55.615654\n",
      "2      4    1      MP 03: Naamsestraat 62 Taste  57.684719  55.881178\n",
      "3      4    1    MP 05: Calvariekapel KU Leuven  57.161305  54.901119\n",
      "4      4    1  MP 06: Parkstraat 2 La Filosovia  56.794676  54.744187\n",
      "   month                       description      lamax       laeq\n",
      "0      4     MP 01: Naamsestraat 35  Maxim  55.052381  52.643537\n",
      "1      4       MP 02: Naamsestraat 57 Xior  53.401914  51.320308\n",
      "2      4      MP 03: Naamsestraat 62 Taste  54.835791  53.050721\n",
      "3      4    MP 05: Calvariekapel KU Leuven  52.861174  50.671500\n",
      "4      4  MP 06: Parkstraat 2 La Filosovia  52.694284  50.657729\n"
     ]
    }
   ],
   "source": [
    "# Create dataframe per hour\n",
    "apr_per_hour = combined_apr.groupby(['month', 'day', 'hour', 'description']).mean()\n",
    "apr_per_hour = apr_per_hour.reset_index()\n",
    "print(apr_per_hour.head())\n",
    "\n",
    "# Create dataframe per day\n",
    "combined_apr.drop('hour', axis=1, inplace=True)\n",
    "apr_per_day = combined_apr.groupby(['month', 'day', 'description']).mean()\n",
    "apr_per_day = apr_per_day.reset_index()\n",
    "print(apr_per_day.head())\n",
    "\n",
    "# Create dataframe per month\n",
    "combined_apr.drop('day', axis=1, inplace=True)\n",
    "apr_per_month = combined_apr.groupby(['month', 'description']).mean()\n",
    "apr_per_month = apr_per_month.reset_index()\n",
    "print(apr_per_month.head())\n",
    "\n",
    "del combined_apr"
   ]
  },
  {
   "attachments": {},
   "cell_type": "markdown",
   "metadata": {},
   "source": [
    "- May"
   ]
  },
  {
   "cell_type": "code",
   "execution_count": null,
   "metadata": {},
   "outputs": [],
   "source": [
    "# Define a list of URLs \n",
    "urls = [\n",
    "    'https://mda-georgia-bucket.s3.eu-central-1.amazonaws.com/Noise+data/May/May/csv_results_46_255439_mp-01-naamsestraat-35-maxim.csv',\n",
    "    'https://mda-georgia-bucket.s3.eu-central-1.amazonaws.com/Noise+data/May/May/csv_results_46_255440_mp-02-naamsestraat-57-xior.csv',\n",
    "    'https://mda-georgia-bucket.s3.eu-central-1.amazonaws.com/Noise+data/May/May/csv_results_46_255441_mp-03-naamsestraat-62-taste.csv',\n",
    "    'https://mda-georgia-bucket.s3.eu-central-1.amazonaws.com/Noise+data/May/May/csv_results_46_255442_mp-05-calvariekapel-ku-leuven.csv',\n",
    "    'https://mda-georgia-bucket.s3.eu-central-1.amazonaws.com/Noise+data/May/May/csv_results_46_255443_mp-06-parkstraat-2-la-filosovia.csv',\n",
    "    'https://mda-georgia-bucket.s3.eu-central-1.amazonaws.com/Noise+data/May/May/csv_results_46_255444_mp-07-naamsestraat-81.csv',\n",
    "    'https://mda-georgia-bucket.s3.eu-central-1.amazonaws.com/Noise+data/May/May/csv_results_46_255445_mp-08-kiosk-stadspark.csv',\n",
    "    'https://mda-georgia-bucket.s3.eu-central-1.amazonaws.com/Noise+data/May/May/csv_results_46_280324_mp08bis---vrijthof.csv',\n",
    "    'https://mda-georgia-bucket.s3.eu-central-1.amazonaws.com/Noise+data/May/May/csv_results_46_303910_mp-04-his-hears.csv'\n",
    "   ]\n",
    "\n",
    "# Create an empty list to store the DataFrames\n",
    "dfs = []\n",
    "\n",
    "# Loop through each URL and read the CSV into a DataFrame\n",
    "for url in urls:\n",
    "    df = pd.read_csv(url, header=0, sep=';')\n",
    "    dfs.append(df)\n",
    "\n",
    "# Now we have a list of DataFrames for each URL\n",
    "\n",
    "# Combining the datasets for March\n",
    "combined_may = pd.concat(dfs, ignore_index=True)\n",
    "del dfs # deleting the separate dataframes to minimize memory usage\n",
    "\n",
    "# extract the month, day, hour, minute of \"result_timestamp\"\n",
    "combined_may['result_timestamp'] = pd.to_datetime(combined_may['result_timestamp'], format='%d/%m/%Y %H:%M:%S.%f')\n",
    "combined_may['month'] = combined_may['result_timestamp'].dt.month\n",
    "combined_may['day'] = combined_may['result_timestamp'].dt.day\n",
    "combined_may['hour'] = combined_may['result_timestamp'].dt.hour\n",
    "#combined_may['minute'] = combined_may['result_timestamp'].dt.minute\n",
    "\n",
    "# Drop the columns we won't use\n",
    "columns_to_keep = ['description', 'lamax', 'laeq', 'month', 'day', 'hour'] #also minute if we calculate it\n",
    "columns_to_drop = set(combined_may.columns) - set(columns_to_keep)\n",
    "combined_may.drop(columns=columns_to_drop, inplace=True)\n",
    "\n",
    "# check for missing values in each column\n",
    "print(combined_may.isnull().sum())"
   ]
  },
  {
   "cell_type": "code",
   "execution_count": 32,
   "metadata": {},
   "outputs": [],
   "source": []
  },
  {
   "cell_type": "code",
   "execution_count": null,
   "metadata": {},
   "outputs": [],
   "source": [
    "# Create dataframe per hour\n",
    "may_per_hour = combined_may.groupby(['month', 'day', 'hour', 'description']).mean()\n",
    "may_per_hour = may_per_hour.reset_index()\n",
    "print(may_per_hour.head())\n",
    "\n",
    "# Create dataframe per day\n",
    "combined_may.drop('hour', axis=1, inplace=True)\n",
    "may_per_day = combined_may.groupby(['month', 'day', 'description']).mean()\n",
    "may_per_day = may_per_day.reset_index()\n",
    "print(may_per_day.head())\n",
    "\n",
    "# Create dataframe per month\n",
    "combined_may.drop('day', axis=1, inplace=True)\n",
    "may_per_month = combined_may.groupby(['month', 'description']).mean()\n",
    "may_per_month = may_per_month.reset_index()\n",
    "print(may_per_month.head())\n",
    "\n",
    "del combined_may"
   ]
  },
  {
   "attachments": {},
   "cell_type": "markdown",
   "metadata": {},
   "source": [
    "- June"
   ]
  },
  {
   "cell_type": "code",
   "execution_count": null,
   "metadata": {},
   "outputs": [],
   "source": [
    "# Define a list of URLs \n",
    "urls = [\n",
    "    'https://mda-georgia-bucket.s3.eu-central-1.amazonaws.com/Noise+data/June/June/csv_results_47_255439_mp-01-naamsestraat-35-maxim.csv',\n",
    "    'https://mda-georgia-bucket.s3.eu-central-1.amazonaws.com/Noise+data/June/June/csv_results_47_255440_mp-02-naamsestraat-57-xior.csv',\n",
    "    'https://mda-georgia-bucket.s3.eu-central-1.amazonaws.com/Noise+data/June/June/csv_results_47_255441_mp-03-naamsestraat-62-taste.csv',\n",
    "    'https://mda-georgia-bucket.s3.eu-central-1.amazonaws.com/Noise+data/June/June/csv_results_47_255442_mp-05-calvariekapel-ku-leuven.csv',\n",
    "    'https://mda-georgia-bucket.s3.eu-central-1.amazonaws.com/Noise+data/June/June/csv_results_47_255443_mp-06-parkstraat-2-la-filosovia.csv',\n",
    "    'https://mda-georgia-bucket.s3.eu-central-1.amazonaws.com/Noise+data/June/June/csv_results_47_255444_mp-07-naamsestraat-81.csv',\n",
    "    'https://mda-georgia-bucket.s3.eu-central-1.amazonaws.com/Noise+data/June/June/csv_results_47_255445_mp-08-kiosk-stadspark.csv',\n",
    "    'https://mda-georgia-bucket.s3.eu-central-1.amazonaws.com/Noise+data/June/June/csv_results_47_280324_mp08bis---vrijthof.csv',\n",
    "    'https://mda-georgia-bucket.s3.eu-central-1.amazonaws.com/Noise+data/June/June/csv_results_47_303910_mp-04-his-hears.csv'\n",
    "   ]\n",
    "\n",
    "# Create an empty list to store the DataFrames\n",
    "dfs = []\n",
    "\n",
    "# Loop through each URL and read the CSV into a DataFrame\n",
    "for url in urls:\n",
    "    df = pd.read_csv(url, header=0, sep=';')\n",
    "    dfs.append(df)\n",
    "\n",
    "# Now we have a list of DataFrames for each URL\n",
    "\n",
    "# Combining the datasets for June\n",
    "combined_jun = pd.concat(dfs, ignore_index=True)\n",
    "del dfs # deleting the separate dataframes to minimize memory usage\n",
    "\n",
    "# extract the date, month, hour, minute of \"result_timestamp\"\n",
    "combined_jun['result_timestamp'] = pd.to_datetime(combined_jun['result_timestamp'], format='%d/%m/%Y %H:%M:%S.%f')\n",
    "\n",
    "combined_jun['result_date'] = combined_jun['result_timestamp'].dt.date\n",
    "combined_jun['result_month'] = combined_jun['result_timestamp'].dt.month\n",
    "combined_jun['result_day'] = combined_jun['result_timestamp'].dt.day\n",
    "combined_jun['result_hour'] = combined_jun['result_timestamp'].dt.hour\n",
    "combined_jun['result_minute'] = combined_jun['result_timestamp'].dt.minute\n",
    "\n",
    "combined_jun.head()\n",
    "\n",
    "# aggregate the data by day\n",
    "combined_jun = combined_jun.groupby(['result_date','description']).mean()\n",
    "combined_jun = combined_jun.reset_index()\n",
    "columns_to_drop = ['result_hour', 'result_minute']\n",
    "combined_jun.drop(columns_to_drop, axis=1, inplace=True)\n",
    "combined_jun.head(150)\n",
    "\n",
    "# check for missing values in each column\n",
    "print(combined_jun.isnull().sum())"
   ]
  },
  {
   "attachments": {},
   "cell_type": "markdown",
   "metadata": {},
   "source": [
    "- July"
   ]
  },
  {
   "cell_type": "code",
   "execution_count": null,
   "metadata": {},
   "outputs": [],
   "source": [
    "# Define a list of URLs \n",
    "urls = [\n",
    "    'https://mda-georgia-bucket.s3.eu-central-1.amazonaws.com/Noise+data/Jul/Jul/csv_results_48_255439_mp-01-naamsestraat-35-maxim.csv',\n",
    "    'https://mda-georgia-bucket.s3.eu-central-1.amazonaws.com/Noise+data/Jul/Jul/csv_results_48_255440_mp-02-naamsestraat-57-xior.csv',\n",
    "    'https://mda-georgia-bucket.s3.eu-central-1.amazonaws.com/Noise+data/Jul/Jul/csv_results_48_255441_mp-03-naamsestraat-62-taste.csv',\n",
    "    'https://mda-georgia-bucket.s3.eu-central-1.amazonaws.com/Noise+data/Jul/Jul/csv_results_48_255442_mp-05-calvariekapel-ku-leuven.csv',\n",
    "    'https://mda-georgia-bucket.s3.eu-central-1.amazonaws.com/Noise+data/Jul/Jul/csv_results_48_255443_mp-06-parkstraat-2-la-filosovia.csv',\n",
    "    'https://mda-georgia-bucket.s3.eu-central-1.amazonaws.com/Noise+data/Jul/Jul/csv_results_48_255444_mp-07-naamsestraat-81.csv',\n",
    "    'https://mda-georgia-bucket.s3.eu-central-1.amazonaws.com/Noise+data/Jul/Jul/csv_results_48_255445_mp-08-kiosk-stadspark.csv',\n",
    "    'https://mda-georgia-bucket.s3.eu-central-1.amazonaws.com/Noise+data/Jul/Jul/csv_results_48_280324_mp08bis---vrijthof.csv',\n",
    "    'https://mda-georgia-bucket.s3.eu-central-1.amazonaws.com/Noise+data/Jul/Jul/csv_results_48_303910_mp-04-his-hears.csv'\n",
    "   ]\n",
    "\n",
    "# Create an empty list to store the DataFrames\n",
    "dfs = []\n",
    "\n",
    "# Loop through each URL and read the CSV into a DataFrame\n",
    "for url in urls:\n",
    "    df = pd.read_csv(url, header=0, sep=';')\n",
    "    dfs.append(df)\n",
    "\n",
    "# Now we have a list of DataFrames for each URL\n",
    "\n",
    "# Combining the datasets for July\n",
    "combined_jul = pd.concat(dfs, ignore_index=True)\n",
    "del dfs # deleting the separate dataframes to minimize memory usage\n",
    "\n",
    "# extract the date, month, hour, minute of \"result_timestamp\"\n",
    "combined_jul['result_timestamp'] = pd.to_datetime(combined_jul['result_timestamp'], format='%d/%m/%Y %H:%M:%S.%f')\n",
    "\n",
    "combined_jul['result_date'] = combined_jul['result_timestamp'].dt.date\n",
    "combined_jul['result_month'] = combined_jul['result_timestamp'].dt.month\n",
    "combined_jul['result_day'] = combined_jul['result_timestamp'].dt.day\n",
    "combined_jul['result_hour'] = combined_jul['result_timestamp'].dt.hour\n",
    "combined_jul['result_minute'] = combined_jul['result_timestamp'].dt.minute\n",
    "\n",
    "combined_jul.head()\n",
    "\n",
    "# aggregate the data by day\n",
    "combined_jul = combined_jul.groupby(['result_date','description']).mean()\n",
    "combined_jul = combined_jul.reset_index()\n",
    "columns_to_drop = ['result_hour', 'result_minute']\n",
    "combined_jul.drop(columns_to_drop, axis=1, inplace=True)\n",
    "combined_jul.head(150)\n",
    "\n",
    "# check for missing values in each column\n",
    "print(combined_jul.isnull().sum())"
   ]
  },
  {
   "attachments": {},
   "cell_type": "markdown",
   "metadata": {},
   "source": [
    "- August"
   ]
  },
  {
   "cell_type": "code",
   "execution_count": null,
   "metadata": {},
   "outputs": [],
   "source": [
    "# Define a list of URLs \n",
    "urls = [\n",
    "    'https://mda-georgia-bucket.s3.eu-central-1.amazonaws.com/Noise+data/Aug/Aug/csv_results_49_255439_mp-01-naamsestraat-35-maxim.csv',\n",
    "    'https://mda-georgia-bucket.s3.eu-central-1.amazonaws.com/Noise+data/Aug/Aug/csv_results_49_255440_mp-02-naamsestraat-57-xior.csv',\n",
    "    'https://mda-georgia-bucket.s3.eu-central-1.amazonaws.com/Noise+data/Aug/Aug/csv_results_49_255441_mp-03-naamsestraat-62-taste.csv',\n",
    "    'https://mda-georgia-bucket.s3.eu-central-1.amazonaws.com/Noise+data/Aug/Aug/csv_results_49_255442_mp-05-calvariekapel-ku-leuven.csv',\n",
    "    'https://mda-georgia-bucket.s3.eu-central-1.amazonaws.com/Noise+data/Aug/Aug/csv_results_49_255443_mp-06-parkstraat-2-la-filosovia.csv',\n",
    "    'https://mda-georgia-bucket.s3.eu-central-1.amazonaws.com/Noise+data/Aug/Aug/csv_results_49_255444_mp-07-naamsestraat-81.csv',\n",
    "    'https://mda-georgia-bucket.s3.eu-central-1.amazonaws.com/Noise+data/Aug/Aug/csv_results_49_255445_mp-08-kiosk-stadspark.csv',\n",
    "    'https://mda-georgia-bucket.s3.eu-central-1.amazonaws.com/Noise+data/Aug/Aug/csv_results_49_280324_mp08bis---vrijthof.csv',\n",
    "    'https://mda-georgia-bucket.s3.eu-central-1.amazonaws.com/Noise+data/Aug/Aug/csv_results_49_303910_mp-04-his-hears.csv'\n",
    "   ]\n",
    "\n",
    "# Create an empty list to store the DataFrames\n",
    "dfs = []\n",
    "\n",
    "# Loop through each URL and read the CSV into a DataFrame\n",
    "for url in urls:\n",
    "    df = pd.read_csv(url, header=0, sep=';')\n",
    "    dfs.append(df)\n",
    "\n",
    "# Now we have a list of DataFrames for each URL\n",
    "\n",
    "# Combining the datasets for August\n",
    "combined_aug = pd.concat(dfs, ignore_index=True)\n",
    "del dfs # deleting the separate dataframes to minimize memory usage\n",
    "\n",
    "# extract the date, month, hour, minute of \"result_timestamp\"\n",
    "combined_aug['result_timestamp'] = pd.to_datetime(combined_aug['result_timestamp'], format='%d/%m/%Y %H:%M:%S.%f')\n",
    "\n",
    "combined_aug['result_date'] = combined_aug['result_timestamp'].dt.date\n",
    "combined_aug['result_month'] = combined_aug['result_timestamp'].dt.month\n",
    "combined_aug['result_day'] = combined_aug['result_timestamp'].dt.day\n",
    "combined_aug['result_hour'] = combined_aug['result_timestamp'].dt.hour\n",
    "combined_aug['result_minute'] = combined_aug['result_timestamp'].dt.minute\n",
    "\n",
    "combined_aug.head()\n",
    "\n",
    "# aggregate the data by day\n",
    "combined_aug = combined_aug.groupby(['result_date','description']).mean()\n",
    "combined_aug = combined_aug.reset_index()\n",
    "columns_to_drop = ['result_hour', 'result_minute']\n",
    "combined_aug.drop(columns_to_drop, axis=1, inplace=True)\n",
    "combined_aug.head(150)\n",
    "\n",
    "# check for missing values in each column\n",
    "print(combined_aug.isnull().sum())"
   ]
  },
  {
   "attachments": {},
   "cell_type": "markdown",
   "metadata": {},
   "source": [
    "- September"
   ]
  },
  {
   "cell_type": "code",
   "execution_count": null,
   "metadata": {},
   "outputs": [],
   "source": [
    "# Define a list of URLs \n",
    "urls = [\n",
    "    'https://mda-georgia-bucket.s3.eu-central-1.amazonaws.com/Noise+data/Sep/Sep/csv_results_50_255439_mp-01-naamsestraat-35-maxim.csv',\n",
    "    'https://mda-georgia-bucket.s3.eu-central-1.amazonaws.com/Noise+data/Sep/Sep/csv_results_50_255440_mp-02-naamsestraat-57-xior.csv',\n",
    "    'https://mda-georgia-bucket.s3.eu-central-1.amazonaws.com/Noise+data/Sep/Sep/csv_results_50_255441_mp-03-naamsestraat-62-taste.csv',\n",
    "    'https://mda-georgia-bucket.s3.eu-central-1.amazonaws.com/Noise+data/Sep/Sep/csv_results_50_255442_mp-05-calvariekapel-ku-leuven.csv',\n",
    "    'https://mda-georgia-bucket.s3.eu-central-1.amazonaws.com/Noise+data/Sep/Sep/csv_results_50_255443_mp-06-parkstraat-2-la-filosovia.csv',\n",
    "    'https://mda-georgia-bucket.s3.eu-central-1.amazonaws.com/Noise+data/Sep/Sep/csv_results_50_255444_mp-07-naamsestraat-81.csv',\n",
    "    'https://mda-georgia-bucket.s3.eu-central-1.amazonaws.com/Noise+data/Sep/Sep/csv_results_50_255445_mp-08-kiosk-stadspark.csv',\n",
    "    'https://mda-georgia-bucket.s3.eu-central-1.amazonaws.com/Noise+data/Sep/Sep/csv_results_50_280324_mp08bis---vrijthof.csv',\n",
    "    'https://mda-georgia-bucket.s3.eu-central-1.amazonaws.com/Noise+data/Sep/Sep/csv_results_50_303910_mp-04-his-hears.csv'\n",
    "   ]\n",
    "\n",
    "# Create an empty list to store the DataFrames\n",
    "dfs = []\n",
    "\n",
    "# Loop through each URL and read the CSV into a DataFrame\n",
    "for url in urls:\n",
    "    df = pd.read_csv(url, header=0, sep=';')\n",
    "    dfs.append(df)\n",
    "\n",
    "# Now we have a list of DataFrames for each URL\n",
    "\n",
    "# Combining the datasets for September\n",
    "combined_sep = pd.concat(dfs, ignore_index=True)\n",
    "del dfs # deleting the separate dataframes to minimize memory usage\n",
    "\n",
    "# extract the date, month, hour, minute of \"result_timestamp\"\n",
    "combined_sep['result_timestamp'] = pd.to_datetime(combined_sep['result_timestamp'], format='%d/%m/%Y %H:%M:%S.%f')\n",
    "\n",
    "combined_sep['result_date'] = combined_sep['result_timestamp'].dt.date\n",
    "combined_sep['result_month'] = combined_sep['result_timestamp'].dt.month\n",
    "combined_sep['result_day'] = combined_sep['result_timestamp'].dt.day\n",
    "combined_sep['result_hour'] = combined_sep['result_timestamp'].dt.hour\n",
    "combined_sep['result_minute'] = combined_sep['result_timestamp'].dt.minute\n",
    "\n",
    "combined_sep.head()\n",
    "\n",
    "# aggregate the data by day\n",
    "combined_sep = combined_sep.groupby(['result_date','description']).mean()\n",
    "combined_sep = combined_sep.reset_index()\n",
    "columns_to_drop = ['result_hour', 'result_minute']\n",
    "combined_sep.drop(columns_to_drop, axis=1, inplace=True)\n",
    "combined_sep.head(150)\n",
    "\n",
    "# check for missing values in each column\n",
    "print(combined_sep.isnull().sum())"
   ]
  },
  {
   "attachments": {},
   "cell_type": "markdown",
   "metadata": {},
   "source": [
    "- October"
   ]
  },
  {
   "cell_type": "code",
   "execution_count": null,
   "metadata": {},
   "outputs": [],
   "source": [
    "# Define a list of URLs \n",
    "urls = [\n",
    "    'https://mda-georgia-bucket.s3.eu-central-1.amazonaws.com/Noise+data/Oct/Oct/csv_results_51_255439_mp-01-naamsestraat-35-maxim.csv',\n",
    "    'https://mda-georgia-bucket.s3.eu-central-1.amazonaws.com/Noise+data/Oct/Oct/csv_results_51_255440_mp-02-naamsestraat-57-xior.csv',\n",
    "    'https://mda-georgia-bucket.s3.eu-central-1.amazonaws.com/Noise+data/Oct/Oct/csv_results_51_255441_mp-03-naamsestraat-62-taste.csv',\n",
    "    'https://mda-georgia-bucket.s3.eu-central-1.amazonaws.com/Noise+data/Oct/Oct/csv_results_51_255442_mp-05-calvariekapel-ku-leuven.csv',\n",
    "    'https://mda-georgia-bucket.s3.eu-central-1.amazonaws.com/Noise+data/Oct/Oct/csv_results_51_255443_mp-06-parkstraat-2-la-filosovia.csv',\n",
    "    'https://mda-georgia-bucket.s3.eu-central-1.amazonaws.com/Noise+data/Oct/Oct/csv_results_51_255444_mp-07-naamsestraat-81.csv',\n",
    "    'https://mda-georgia-bucket.s3.eu-central-1.amazonaws.com/Noise+data/Oct/Oct/csv_results_51_255445_mp-08-kiosk-stadspark.csv',\n",
    "    'https://mda-georgia-bucket.s3.eu-central-1.amazonaws.com/Noise+data/Oct/Oct/csv_results_51_280324_mp08bis---vrijthof.csv',\n",
    "    'https://mda-georgia-bucket.s3.eu-central-1.amazonaws.com/Noise+data/Oct/Oct/csv_results_51_303910_mp-04-his-hears.csv'\n",
    "   ]\n",
    "\n",
    "# Create an empty list to store the DataFrames\n",
    "dfs = []\n",
    "\n",
    "# Loop through each URL and read the CSV into a DataFrame\n",
    "for url in urls:\n",
    "    df = pd.read_csv(url, header=0, sep=';')\n",
    "    dfs.append(df)\n",
    "\n",
    "# Now we have a list of DataFrames for each URL\n",
    "\n",
    "# Combining the datasets for October\n",
    "combined_oct = pd.concat(dfs, ignore_index=True)\n",
    "del dfs # deleting the separate dataframes to minimize memory usage\n",
    "\n",
    "# extract the date, month, hour, minute of \"result_timestamp\"\n",
    "combined_oct['result_timestamp'] = pd.to_datetime(combined_oct['result_timestamp'], format='%d/%m/%Y %H:%M:%S.%f')\n",
    "\n",
    "combined_oct['result_date'] = combined_oct['result_timestamp'].dt.date\n",
    "combined_oct['result_month'] = combined_oct['result_timestamp'].dt.month\n",
    "combined_oct['result_day'] = combined_oct['result_timestamp'].dt.day\n",
    "combined_oct['result_hour'] = combined_oct['result_timestamp'].dt.hour\n",
    "combined_oct['result_minute'] = combined_oct['result_timestamp'].dt.minute\n",
    "\n",
    "combined_oct.head()\n",
    "\n",
    "# aggregate the data by day\n",
    "combined_oct = combined_oct.groupby(['result_date','description']).mean()\n",
    "combined_oct = combined_oct.reset_index()\n",
    "columns_to_drop = ['result_hour', 'result_minute']\n",
    "combined_oct.drop(columns_to_drop, axis=1, inplace=True)\n",
    "combined_oct.head(150)\n",
    "\n",
    "# check for missing values in each column\n",
    "print(combined_oct.isnull().sum())"
   ]
  },
  {
   "attachments": {},
   "cell_type": "markdown",
   "metadata": {},
   "source": [
    "- November"
   ]
  },
  {
   "cell_type": "code",
   "execution_count": null,
   "metadata": {},
   "outputs": [],
   "source": [
    "# Define a list of URLs \n",
    "urls = [\n",
    "    'https://mda-georgia-bucket.s3.eu-central-1.amazonaws.com/Noise+data/Nov/Nov/csv_results_52_255439_mp-01-naamsestraat-35-maxim.csv',\n",
    "    'https://mda-georgia-bucket.s3.eu-central-1.amazonaws.com/Noise+data/Nov/Nov/csv_results_52_255440_mp-02-naamsestraat-57-xior.csv',\n",
    "    'https://mda-georgia-bucket.s3.eu-central-1.amazonaws.com/Noise+data/Nov/Nov/csv_results_52_255441_mp-03-naamsestraat-62-taste.csv',\n",
    "    'https://mda-georgia-bucket.s3.eu-central-1.amazonaws.com/Noise+data/Nov/Nov/csv_results_52_255442_mp-05-calvariekapel-ku-leuven.csv',\n",
    "    'https://mda-georgia-bucket.s3.eu-central-1.amazonaws.com/Noise+data/Nov/Nov/csv_results_52_255443_mp-06-parkstraat-2-la-filosovia.csv',\n",
    "    'https://mda-georgia-bucket.s3.eu-central-1.amazonaws.com/Noise+data/Nov/Nov/csv_results_52_255444_mp-07-naamsestraat-81.csv',\n",
    "    'https://mda-georgia-bucket.s3.eu-central-1.amazonaws.com/Noise+data/Nov/Nov/csv_results_52_255445_mp-08-kiosk-stadspark.csv',\n",
    "    'https://mda-georgia-bucket.s3.eu-central-1.amazonaws.com/Noise+data/Nov/Nov/csv_results_52_280324_mp08bis---vrijthof.csv',\n",
    "    'https://mda-georgia-bucket.s3.eu-central-1.amazonaws.com/Noise+data/Nov/Nov/csv_results_52_303910_mp-04-his-hears.csv'\n",
    "   ]\n",
    "\n",
    "# Create an empty list to store the DataFrames\n",
    "dfs = []\n",
    "\n",
    "# Loop through each URL and read the CSV into a DataFrame\n",
    "for url in urls:\n",
    "    df = pd.read_csv(url, header=0, sep=';')\n",
    "    dfs.append(df)\n",
    "\n",
    "# Now we have a list of DataFrames for each URL\n",
    "\n",
    "# Combining the datasets for November\n",
    "combined_nov = pd.concat(dfs, ignore_index=True)\n",
    "del dfs # deleting the separate dataframes to minimize memory usage\n",
    "\n",
    "# extract the date, month, hour, minute of \"result_timestamp\"\n",
    "combined_nov['result_timestamp'] = pd.to_datetime(combined_nov['result_timestamp'], format='%d/%m/%Y %H:%M:%S.%f')\n",
    "\n",
    "combined_nov['result_date'] = combined_nov['result_timestamp'].dt.date\n",
    "combined_nov['result_month'] = combined_nov['result_timestamp'].dt.month\n",
    "combined_nov['result_day'] = combined_nov['result_timestamp'].dt.day\n",
    "combined_nov['result_hour'] = combined_nov['result_timestamp'].dt.hour\n",
    "combined_nov['result_minute'] = combined_nov['result_timestamp'].dt.minute\n",
    "\n",
    "combined_nov.head()\n",
    "\n",
    "# aggregate the data by day\n",
    "combined_nov = combined_nov.groupby(['result_date','description']).mean()\n",
    "combined_nov = combined_nov.reset_index()\n",
    "columns_to_drop = ['result_hour', 'result_minute']\n",
    "combined_nov.drop(columns_to_drop, axis=1, inplace=True)\n",
    "combined_nov.head(150)\n",
    "\n",
    "# check for missing values in each column\n",
    "print(combined_nov.isnull().sum())"
   ]
  },
  {
   "attachments": {},
   "cell_type": "markdown",
   "metadata": {},
   "source": [
    "- December"
   ]
  },
  {
   "cell_type": "code",
   "execution_count": null,
   "metadata": {},
   "outputs": [],
   "source": [
    "# Define a list of URLs \n",
    "urls = [\n",
    "    'https://mda-georgia-bucket.s3.eu-central-1.amazonaws.com/Noise+data/Dec/Dec/csv_results_53_255439_mp-01-naamsestraat-35-maxim.csv',\n",
    "    'https://mda-georgia-bucket.s3.eu-central-1.amazonaws.com/Noise+data/Dec/Dec/csv_results_53_255440_mp-02-naamsestraat-57-xior.csv',\n",
    "    'https://mda-georgia-bucket.s3.eu-central-1.amazonaws.com/Noise+data/Dec/Dec/csv_results_53_255441_mp-03-naamsestraat-62-taste.csv',\n",
    "    'https://mda-georgia-bucket.s3.eu-central-1.amazonaws.com/Noise+data/Dec/Dec/csv_results_53_255442_mp-05-calvariekapel-ku-leuven.csv',\n",
    "    'https://mda-georgia-bucket.s3.eu-central-1.amazonaws.com/Noise+data/Dec/Dec/csv_results_53_255443_mp-06-parkstraat-2-la-filosovia.csv',\n",
    "    'https://mda-georgia-bucket.s3.eu-central-1.amazonaws.com/Noise+data/Dec/Dec/csv_results_53_255444_mp-07-naamsestraat-81.csv',\n",
    "    'https://mda-georgia-bucket.s3.eu-central-1.amazonaws.com/Noise+data/Dec/Dec/csv_results_53_255445_mp-08-kiosk-stadspark.csv',\n",
    "    'https://mda-georgia-bucket.s3.eu-central-1.amazonaws.com/Noise+data/Dec/Dec/csv_results_53_280324_mp08bis---vrijthof.csv',\n",
    "    'https://mda-georgia-bucket.s3.eu-central-1.amazonaws.com/Noise+data/Dec/Dec/csv_results_53_303910_mp-04-his-hears.csv'\n",
    "   ]\n",
    "\n",
    "# Create an empty list to store the DataFrames\n",
    "dfs = []\n",
    "\n",
    "# Loop through each URL and read the CSV into a DataFrame\n",
    "for url in urls:\n",
    "    df = pd.read_csv(url, header=0, sep=';')\n",
    "    dfs.append(df)\n",
    "\n",
    "# Now we have a list of DataFrames for each URL\n",
    "\n",
    "# Combining the datasets for December\n",
    "combined_dec = pd.concat(dfs, ignore_index=True)\n",
    "del dfs # deleting the separate dataframes to minimize memory usage\n",
    "\n",
    "# extract the date, month, hour, minute of \"result_timestamp\"\n",
    "combined_dec['result_timestamp'] = pd.to_datetime(combined_dec['result_timestamp'], format='%d/%m/%Y %H:%M:%S.%f')\n",
    "\n",
    "combined_dec['result_date'] = combined_dec['result_timestamp'].dt.date\n",
    "combined_dec['result_month'] = combined_dec['result_timestamp'].dt.month\n",
    "combined_dec['result_day'] = combined_dec['result_timestamp'].dt.day\n",
    "combined_dec['result_hour'] = combined_dec['result_timestamp'].dt.hour\n",
    "combined_dec['result_minute'] = combined_dec['result_timestamp'].dt.minute\n",
    "\n",
    "combined_dec.head()\n",
    "\n",
    "# aggregate the data by day\n",
    "combined_dec = combined_dec.groupby(['result_date','description']).mean()\n",
    "combined_dec = combined_dec.reset_index()\n",
    "columns_to_drop = ['result_hour', 'result_minute']\n",
    "combined_dec.drop(columns_to_drop, axis=1, inplace=True)\n",
    "combined_dec.head(150)\n",
    "\n",
    "# check for missing values in each column\n",
    "print(combined_dec.isnull().sum())"
   ]
  },
  {
   "attachments": {},
   "cell_type": "markdown",
   "metadata": {},
   "source": [
    "#### Yearly noise data"
   ]
  },
  {
   "cell_type": "code",
   "execution_count": null,
   "metadata": {},
   "outputs": [],
   "source": [
    "# List of the monthly datasets\n",
    "datasets = [combined_jan, combined_feb, combined_mar, combined_apr, combined_may, combined_jun, combined_jul, combined_aug, combined_sep, combined_oct, combined_nov, combined_dec]\n",
    "\n",
    "# Concatenate the datasets vertically\n",
    "combined_year = pd.concat(datasets, ignore_index=True)\n",
    "del datasets\n",
    "\n",
    "# Reset the index of the combined dataset\n",
    "combined_year = combined_year.reset_index()\n",
    "\n",
    "# Display the combined and sorted yearly dataset\n",
    "\n",
    "combined_year.head(2000)\n"
   ]
  },
  {
   "cell_type": "code",
   "execution_count": null,
   "metadata": {},
   "outputs": [],
   "source": [
    "# exporting file (only needs to be ran one time so comment it out)\n",
    "# combined_year.to_csv('combined_noisedata_2022.csv', index=False)  \n"
   ]
  },
  {
   "attachments": {},
   "cell_type": "markdown",
   "metadata": {},
   "source": [
    "Now that we have exported the preprocessed dataframes for the noise and weather data of 2022, we can just use these files instead of loading all 112 files from the S3 bucket each time, as this takes a lot of time."
   ]
  },
  {
   "cell_type": "code",
   "execution_count": null,
   "metadata": {},
   "outputs": [],
   "source": [
    "data_noise = pd.read_csv('combined_noisedata_2022.csv', header=0, sep=',')\n",
    "data_noise.head()"
   ]
  },
  {
   "cell_type": "code",
   "execution_count": null,
   "metadata": {},
   "outputs": [],
   "source": [
    "data_weather = pd.read_csv('combined_weatherdata_2022.csv', header=0, sep=',')\n",
    "data_weather.head()"
   ]
  },
  {
   "attachments": {},
   "cell_type": "markdown",
   "metadata": {},
   "source": [
    "## OLD PREPROCESSING"
   ]
  },
  {
   "attachments": {},
   "cell_type": "markdown",
   "metadata": {},
   "source": [
    "### Reading in the data from the S3 bucket (don't forget to pip install boto3)"
   ]
  },
  {
   "cell_type": "code",
   "execution_count": null,
   "metadata": {},
   "outputs": [],
   "source": [
    "# # meteo data\n",
    "# Q1_2022 = pd.read_csv('https://mda-georgia-bucket.s3.eu-central-1.amazonaws.com/Meteo+data/LC_2022Q1.csv')\n",
    "# Q2_2022 = pd.read_csv('https://mda-georgia-bucket.s3.eu-central-1.amazonaws.com/Meteo+data/LC_2022Q2.csv')\n",
    "# Q3_2022 = pd.read_csv('https://mda-georgia-bucket.s3.eu-central-1.amazonaws.com/Meteo+data/LC_2022Q3.csv')\n",
    "# Q4_2022 = pd.read_csv('https://mda-georgia-bucket.s3.eu-central-1.amazonaws.com/Meteo+data/LC_2022Q4.csv')"
   ]
  },
  {
   "cell_type": "code",
   "execution_count": null,
   "metadata": {},
   "outputs": [],
   "source": [
    "# REMARK: this is the 'old' noise data, don't run this\n",
    "\n",
    "# noise data\n",
    "# exp40_naamse35 = pd.read_csv('https://mda-georgia-bucket.s3.eu-central-1.amazonaws.com/Noise+data/export_40/csv_results_40_255439_mp-01-naamsestraat-35-maxim.csv', header=0, sep=';')\n",
    "# exp40_naamse57 = pd.read_csv('https://mda-georgia-bucket.s3.eu-central-1.amazonaws.com/Noise+data/export_40/csv_results_40_255440_mp-02-naamsestraat-57-xior.csv', header=0, sep=';')\n",
    "# exp40_naamse62 = pd.read_csv('https://mda-georgia-bucket.s3.eu-central-1.amazonaws.com/Noise+data/export_40/csv_results_40_255441_mp-03-naamsestraat-62-taste.csv', header=0, sep=';')\n",
    "# exp40_calvarie = pd.read_csv('https://mda-georgia-bucket.s3.eu-central-1.amazonaws.com/Noise+data/export_40/csv_results_40_255442_mp-05-calvariekapel-ku-leuven.csv', header=0, sep=';')\n",
    "# exp40_naamse81 = pd.read_csv('https://mda-georgia-bucket.s3.eu-central-1.amazonaws.com/Noise+data/export_40/csv_results_40_255444_mp-07-naamsestraat-81.csv', header=0, sep=';')\n",
    "# exp40_park = pd.read_csv('https://mda-georgia-bucket.s3.eu-central-1.amazonaws.com/Noise+data/export_40/csv_results_40_255443_mp-06-parkstraat-2-la-filosovia.csv', header=0, sep=';')\n",
    "# exp40_kiosk = pd.read_csv('https://mda-georgia-bucket.s3.eu-central-1.amazonaws.com/Noise+data/export_40/csv_results_40_255445_mp-08-kiosk-stadspark.csv', header=0, sep=';')\n",
    "# exp40_vrijt = pd.read_csv('https://mda-georgia-bucket.s3.eu-central-1.amazonaws.com/Noise+data/export_40/csv_results_40_280324_mp08bis---vrijthof.csv', header=0, sep=';')\n",
    "# exp40_his = pd.read_csv('https://mda-georgia-bucket.s3.eu-central-1.amazonaws.com/Noise+data/export_40/csv_results_40_303910_mp-04-his-hears.csv', header=0, sep=';')\n",
    "\n",
    "# exp41_naamse35 = pd.read_csv('https://mda-georgia-bucket.s3.eu-central-1.amazonaws.com/Noise+data/export_41/csv_results_41_255439_mp-01-naamsestraat-35-maxim.csv', header=0, sep=';')\n",
    "# exp41_naamse57 = pd.read_csv('https://mda-georgia-bucket.s3.eu-central-1.amazonaws.com/Noise+data/export_41/csv_results_41_255440_mp-02-naamsestraat-57-xior.csv', header=0, sep=';')\n",
    "# exp41_naamse62 = pd.read_csv('https://mda-georgia-bucket.s3.eu-central-1.amazonaws.com/Noise+data/export_41/csv_results_41_255441_mp-03-naamsestraat-62-taste.csv', header=0, sep=';')\n",
    "# exp41_calvarie = pd.read_csv('https://mda-georgia-bucket.s3.eu-central-1.amazonaws.com/Noise+data/export_41/csv_results_41_255442_mp-05-calvariekapel-ku-leuven.csv', header=0, sep=';')\n",
    "# exp41_naamse81 = pd.read_csv('https://mda-georgia-bucket.s3.eu-central-1.amazonaws.com/Noise+data/export_41/csv_results_41_255444_mp-07-naamsestraat-81.csv', header=0, sep=';')\n",
    "# exp41_park = pd.read_csv('https://mda-georgia-bucket.s3.eu-central-1.amazonaws.com/Noise+data/export_41/csv_results_41_255443_mp-06-parkstraat-2-la-filosovia.csv', header=0, sep=';')\n",
    "# exp41_kiosk = pd.read_csv('https://mda-georgia-bucket.s3.eu-central-1.amazonaws.com/Noise+data/export_41/csv_results_41_255445_mp-08-kiosk-stadspark.csv', header=0, sep=';')\n",
    "# exp41_vrijt = pd.read_csv('https://mda-georgia-bucket.s3.eu-central-1.amazonaws.com/Noise+data/export_41/csv_results_41_280324_mp08bis---vrijthof.csv', header=0, sep=';')\n",
    "# exp41_his = pd.read_csv('https://mda-georgia-bucket.s3.eu-central-1.amazonaws.com/Noise+data/export_41/csv_results_41_303910_mp-04-his-hears.csv', header=0, sep=';')\n",
    "\n",
    "# exp42_naamse35 = pd.read_csv('https://mda-georgia-bucket.s3.eu-central-1.amazonaws.com/Noise+data/export_42/csv_results_42_255439_mp-01-naamsestraat-35-maxim.csv', header=0, sep=';')\n",
    "# exp42_naamse57 = pd.read_csv('https://mda-georgia-bucket.s3.eu-central-1.amazonaws.com/Noise+data/export_42/csv_results_42_255440_mp-02-naamsestraat-57-xior.csv', header=0, sep=';')\n",
    "# exp42_naamse62 = pd.read_csv('https://mda-georgia-bucket.s3.eu-central-1.amazonaws.com/Noise+data/export_42/csv_results_42_255441_mp-03-naamsestraat-62-taste.csv', header=0, sep=';')\n",
    "# exp42_calvarie = pd.read_csv('https://mda-georgia-bucket.s3.eu-central-1.amazonaws.com/Noise+data/export_42/csv_results_42_255442_mp-05-calvariekapel-ku-leuven.csv', header=0, sep=';')\n",
    "# exp42_naamse81 = pd.read_csv('https://mda-georgia-bucket.s3.eu-central-1.amazonaws.com/Noise+data/export_42/csv_results_42_255444_mp-07-naamsestraat-81.csv', header=0, sep=';')\n",
    "# exp42_park = pd.read_csv('https://mda-georgia-bucket.s3.eu-central-1.amazonaws.com/Noise+data/export_42/csv_results_42_255443_mp-06-parkstraat-2-la-filosovia.csv', header=0, sep=';')\n",
    "# exp42_kiosk = pd.read_csv('https://mda-georgia-bucket.s3.eu-central-1.amazonaws.com/Noise+data/export_42/csv_results_42_255445_mp-08-kiosk-stadspark.csv', header=0, sep=';')\n",
    "# exp42_vrijt = pd.read_csv('https://mda-georgia-bucket.s3.eu-central-1.amazonaws.com/Noise+data/export_42/csv_results_42_280324_mp08bis---vrijthof.csv', header=0, sep=';')\n",
    "# exp42_his = pd.read_csv('https://mda-georgia-bucket.s3.eu-central-1.amazonaws.com/Noise+data/export_42/csv_results_42_303910_mp-04-his-hears.csv', header=0, sep=';')\n"
   ]
  },
  {
   "cell_type": "code",
   "execution_count": null,
   "metadata": {},
   "outputs": [],
   "source": [
    "# noise_columns = [\"#object_id\", \"description\", \"result_timestamp\", \"lamax\", \"laeq\"]\n",
    "# naamse35_jan = pd.read_csv('https://mda-georgia-bucket.s3.eu-central-1.amazonaws.com/Noise+data/Jan/Jan/csv_results_42_255439_mp-01-naamsestraat-35-maxim.csv', header=0, sep=';', usecols=noise_columns)"
   ]
  },
  {
   "cell_type": "code",
   "execution_count": null,
   "metadata": {},
   "outputs": [],
   "source": [
    "# # updated noise data - January\n",
    "# naamse35_jan = pd.read_csv('https://mda-georgia-bucket.s3.eu-central-1.amazonaws.com/Noise+data/Jan/Jan/csv_results_42_255439_mp-01-naamsestraat-35-maxim.csv', header=0, sep=';')\n",
    "# naamse57_jan = pd.read_csv('https://mda-georgia-bucket.s3.eu-central-1.amazonaws.com/Noise+data/Jan/Jan/csv_results_42_255440_mp-02-naamsestraat-57-xior.csv', header=0, sep=';')\n",
    "# naamse62_jan = pd.read_csv('https://mda-georgia-bucket.s3.eu-central-1.amazonaws.com/Noise+data/Jan/Jan/csv_results_42_255441_mp-03-naamsestraat-62-taste.csv', header=0, sep=';')\n",
    "# calvarie_jan = pd.read_csv('https://mda-georgia-bucket.s3.eu-central-1.amazonaws.com/Noise+data/Jan/Jan/csv_results_42_255442_mp-05-calvariekapel-ku-leuven.csv', header=0, sep=';')\n",
    "# park_jan = pd.read_csv('https://mda-georgia-bucket.s3.eu-central-1.amazonaws.com/Noise+data/Jan/Jan/csv_results_42_255443_mp-06-parkstraat-2-la-filosovia.csv', header=0, sep=';')\n",
    "# naamse81_jan = pd.read_csv('https://mda-georgia-bucket.s3.eu-central-1.amazonaws.com/Noise+data/Jan/Jan/csv_results_42_255444_mp-07-naamsestraat-81.csv', header=0, sep=';')\n",
    "# kiosk_jan = pd.read_csv('https://mda-georgia-bucket.s3.eu-central-1.amazonaws.com/Noise+data/Jan/Jan/csv_results_42_255445_mp-08-kiosk-stadspark.csv', header=0, sep=';')\n",
    "# vrijt_jan = pd.read_csv('https://mda-georgia-bucket.s3.eu-central-1.amazonaws.com/Noise+data/Jan/Jan/csv_results_42_280324_mp08bis---vrijthof.csv', header=0, sep=';')\n",
    "# his_jan = pd.read_csv('https://mda-georgia-bucket.s3.eu-central-1.amazonaws.com/Noise+data/Jan/Jan/csv_results_42_303910_mp-04-his-hears.csv', header=0, sep=';')"
   ]
  },
  {
   "cell_type": "code",
   "execution_count": null,
   "metadata": {},
   "outputs": [],
   "source": [
    "# # updated noise data - February\n",
    "# naamse35_feb = pd.read_csv('https://mda-georgia-bucket.s3.eu-central-1.amazonaws.com/Noise+data/Feb/Feb/csv_results_42_255439_mp-01-naamsestraat-35-maxim.csv', header=0, sep=';')\n",
    "# naamse57_feb = pd.read_csv('https://mda-georgia-bucket.s3.eu-central-1.amazonaws.com/Noise+data/Feb/Feb/csv_results_42_255440_mp-02-naamsestraat-57-xior.csv', header=0, sep=';')\n",
    "# naamse62_feb = pd.read_csv('https://mda-georgia-bucket.s3.eu-central-1.amazonaws.com/Noise+data/Feb/Feb/csv_results_42_255441_mp-03-naamsestraat-62-taste.csv', header=0, sep=';')\n",
    "# calvarie_feb = pd.read_csv('https://mda-georgia-bucket.s3.eu-central-1.amazonaws.com/Noise+data/Feb/Feb/csv_results_42_255442_mp-05-calvariekapel-ku-leuven.csv', header=0, sep=';')\n",
    "# park_feb = pd.read_csv('https://mda-georgia-bucket.s3.eu-central-1.amazonaws.com/Noise+data/Feb/Feb/csv_results_42_255443_mp-06-parkstraat-2-la-filosovia.csv', header=0, sep=';')\n",
    "# naamse81_feb = pd.read_csv('https://mda-georgia-bucket.s3.eu-central-1.amazonaws.com/Noise+data/Feb/Feb/csv_results_42_255444_mp-07-naamsestraat-81.csv', header=0, sep=';')\n",
    "# kiosk_feb = pd.read_csv('https://mda-georgia-bucket.s3.eu-central-1.amazonaws.com/Noise+data/Feb/Feb/csv_results_42_255445_mp-08-kiosk-stadspark.csv', header=0, sep=';')\n",
    "# vrijt_feb = pd.read_csv('https://mda-georgia-bucket.s3.eu-central-1.amazonaws.com/Noise+data/Feb/Feb/csv_results_42_280324_mp08bis---vrijthof.csv', header=0, sep=';')\n",
    "# his_feb = pd.read_csv('https://mda-georgia-bucket.s3.eu-central-1.amazonaws.com/Noise+data/Feb/Feb/csv_results_42_303910_mp-04-his-hears.csv', header=0, sep=';')"
   ]
  },
  {
   "cell_type": "code",
   "execution_count": null,
   "metadata": {},
   "outputs": [],
   "source": [
    "# # updated noise data - March\n",
    "# naamse35_mar = pd.read_csv('https://mda-georgia-bucket.s3.eu-central-1.amazonaws.com/Noise+data/March/March/csv_results_44_255439_mp-01-naamsestraat-35-maxim.csv', header=0, sep=';')\n",
    "# naamse57_mar = pd.read_csv('https://mda-georgia-bucket.s3.eu-central-1.amazonaws.com/Noise+data/March/March/csv_results_44_255440_mp-02-naamsestraat-57-xior.csv', header=0, sep=';')\n",
    "# naamse62_mar = pd.read_csv('https://mda-georgia-bucket.s3.eu-central-1.amazonaws.com/Noise+data/March/March/csv_results_44_255441_mp-03-naamsestraat-62-taste.csv', header=0, sep=';')\n",
    "# calvarie_mar = pd.read_csv('https://mda-georgia-bucket.s3.eu-central-1.amazonaws.com/Noise+data/March/March/csv_results_44_255442_mp-05-calvariekapel-ku-leuven.csv', header=0, sep=';')\n",
    "# park_mar = pd.read_csv('https://mda-georgia-bucket.s3.eu-central-1.amazonaws.com/Noise+data/March/March/csv_results_44_255443_mp-06-parkstraat-2-la-filosovia.csv', header=0, sep=';')\n",
    "# naamse81_mar = pd.read_csv('https://mda-georgia-bucket.s3.eu-central-1.amazonaws.com/Noise+data/March/March/csv_results_44_255444_mp-07-naamsestraat-81.csv', header=0, sep=';')\n",
    "# kiosk_mar = pd.read_csv('https://mda-georgia-bucket.s3.eu-central-1.amazonaws.com/Noise+data/March/March/csv_results_44_255445_mp-08-kiosk-stadspark.csv', header=0, sep=';')\n",
    "# vrijt_mar = pd.read_csv('https://mda-georgia-bucket.s3.eu-central-1.amazonaws.com/Noise+data/March/March/csv_results_44_280324_mp08bis---vrijthof.csv', header=0, sep=';')\n",
    "# his_mar = pd.read_csv('https://mda-georgia-bucket.s3.eu-central-1.amazonaws.com/Noise+data/March/March/csv_results_44_303910_mp-04-his-hears.csv', header=0, sep=';')"
   ]
  },
  {
   "cell_type": "code",
   "execution_count": null,
   "metadata": {},
   "outputs": [],
   "source": [
    "# # updated noise data - April\n",
    "# naamse35_apr = pd.read_csv('https://mda-georgia-bucket.s3.eu-central-1.amazonaws.com/Noise+data/April/April/csv_results_45_255439_mp-01-naamsestraat-35-maxim.csv', header=0, sep=';')\n",
    "# naamse57_apr = pd.read_csv('https://mda-georgia-bucket.s3.eu-central-1.amazonaws.com/Noise+data/April/April/csv_results_45_255440_mp-02-naamsestraat-57-xior.csv', header=0, sep=';')\n",
    "# naamse62_apr = pd.read_csv('https://mda-georgia-bucket.s3.eu-central-1.amazonaws.com/Noise+data/April/April/csv_results_45_255441_mp-03-naamsestraat-62-taste.csv', header=0, sep=';')\n",
    "# calvarie_apr = pd.read_csv('https://mda-georgia-bucket.s3.eu-central-1.amazonaws.com/Noise+data/April/April/csv_results_45_255442_mp-05-calvariekapel-ku-leuven.csv', header=0, sep=';')\n",
    "# park_apr = pd.read_csv('https://mda-georgia-bucket.s3.eu-central-1.amazonaws.com/Noise+data/April/April/csv_results_45_255443_mp-06-parkstraat-2-la-filosovia.csv', header=0, sep=';')\n",
    "# naamse81_apr = pd.read_csv('https://mda-georgia-bucket.s3.eu-central-1.amazonaws.com/Noise+data/April/April/csv_results_45_255444_mp-07-naamsestraat-81.csv', header=0, sep=';')\n",
    "# kiosk_apr = pd.read_csv('https://mda-georgia-bucket.s3.eu-central-1.amazonaws.com/Noise+data/April/April/csv_results_45_255445_mp-08-kiosk-stadspark.csv', header=0, sep=';')\n",
    "# vrijt_apr = pd.read_csv('https://mda-georgia-bucket.s3.eu-central-1.amazonaws.com/Noise+data/April/April/csv_results_45_280324_mp08bis---vrijthof.csv', header=0, sep=';')\n",
    "# his_apr = pd.read_csv('https://mda-georgia-bucket.s3.eu-central-1.amazonaws.com/Noise+data/April/April/csv_results_45_303910_mp-04-his-hears.csv', header=0, sep=';')"
   ]
  },
  {
   "cell_type": "code",
   "execution_count": null,
   "metadata": {},
   "outputs": [],
   "source": [
    "# # updated noise data - May\n",
    "# naamse35_may = pd.read_csv('https://mda-georgia-bucket.s3.eu-central-1.amazonaws.com/Noise+data/May/May/csv_results_46_255439_mp-01-naamsestraat-35-maxim.csv', header=0, sep=';')\n",
    "# naamse57_may = pd.read_csv('https://mda-georgia-bucket.s3.eu-central-1.amazonaws.com/Noise+data/May/May/csv_results_46_255440_mp-02-naamsestraat-57-xior.csv', header=0, sep=';')\n",
    "# naamse62_may = pd.read_csv('https://mda-georgia-bucket.s3.eu-central-1.amazonaws.com/Noise+data/May/May/csv_results_46_255441_mp-03-naamsestraat-62-taste.csv', header=0, sep=';')\n",
    "# calvarie_may = pd.read_csv('https://mda-georgia-bucket.s3.eu-central-1.amazonaws.com/Noise+data/May/May/csv_results_46_255442_mp-05-calvariekapel-ku-leuven.csv', header=0, sep=';')\n",
    "# park_may = pd.read_csv('https://mda-georgia-bucket.s3.eu-central-1.amazonaws.com/Noise+data/May/May/csv_results_46_255443_mp-06-parkstraat-2-la-filosovia.csv', header=0, sep=';')\n",
    "# naamse81_may = pd.read_csv('https://mda-georgia-bucket.s3.eu-central-1.amazonaws.com/Noise+data/May/May/csv_results_46_255444_mp-07-naamsestraat-81.csv', header=0, sep=';')\n",
    "# kiosk_may = pd.read_csv('https://mda-georgia-bucket.s3.eu-central-1.amazonaws.com/Noise+data/May/May/csv_results_46_255445_mp-08-kiosk-stadspark.csv', header=0, sep=';')\n",
    "# vrijt_may = pd.read_csv('https://mda-georgia-bucket.s3.eu-central-1.amazonaws.com/Noise+data/May/May/csv_results_46_280324_mp08bis---vrijthof.csv', header=0, sep=';')\n",
    "# his_may = pd.read_csv('https://mda-georgia-bucket.s3.eu-central-1.amazonaws.com/Noise+data/May/May/csv_results_46_303910_mp-04-his-hears.csv', header=0, sep=';')"
   ]
  },
  {
   "cell_type": "code",
   "execution_count": null,
   "metadata": {},
   "outputs": [],
   "source": [
    "# # updated noise data - June\n",
    "# naamse35_jun = pd.read_csv('https://mda-georgia-bucket.s3.eu-central-1.amazonaws.com/Noise+data/June/June/csv_results_47_255439_mp-01-naamsestraat-35-maxim.csv', header=0, sep=';')\n",
    "# naamse57_jun = pd.read_csv('https://mda-georgia-bucket.s3.eu-central-1.amazonaws.com/Noise+data/June/June/csv_results_47_255440_mp-02-naamsestraat-57-xior.csv', header=0, sep=';')\n",
    "# naamse62_jun = pd.read_csv('https://mda-georgia-bucket.s3.eu-central-1.amazonaws.com/Noise+data/June/June/csv_results_47_255441_mp-03-naamsestraat-62-taste.csv', header=0, sep=';')\n",
    "# calvarie_jun = pd.read_csv('https://mda-georgia-bucket.s3.eu-central-1.amazonaws.com/Noise+data/June/June/csv_results_47_255442_mp-05-calvariekapel-ku-leuven.csv', header=0, sep=';')\n",
    "# park_jun = pd.read_csv('https://mda-georgia-bucket.s3.eu-central-1.amazonaws.com/Noise+data/June/June/csv_results_47_255443_mp-06-parkstraat-2-la-filosovia.csv', header=0, sep=';')\n",
    "# naamse81_jun = pd.read_csv('https://mda-georgia-bucket.s3.eu-central-1.amazonaws.com/Noise+data/June/June/csv_results_47_255444_mp-07-naamsestraat-81.csv', header=0, sep=';')\n",
    "# kiosk_jun = pd.read_csv('https://mda-georgia-bucket.s3.eu-central-1.amazonaws.com/Noise+data/June/June/csv_results_47_255445_mp-08-kiosk-stadspark.csv', header=0, sep=';')\n",
    "# vrijt_jun = pd.read_csv('https://mda-georgia-bucket.s3.eu-central-1.amazonaws.com/Noise+data/June/June/csv_results_47_280324_mp08bis---vrijthof.csv', header=0, sep=';')\n",
    "# his_jun = pd.read_csv('https://mda-georgia-bucket.s3.eu-central-1.amazonaws.com/Noise+data/June/June/csv_results_47_303910_mp-04-his-hears.csv', header=0, sep=';')"
   ]
  },
  {
   "cell_type": "code",
   "execution_count": null,
   "metadata": {},
   "outputs": [],
   "source": [
    "# # updated noise data - July\n",
    "# naamse35_jul = pd.read_csv('https://mda-georgia-bucket.s3.eu-central-1.amazonaws.com/Noise+data/Jul/Jul/csv_results_48_255439_mp-01-naamsestraat-35-maxim.csv', header=0, sep=';')\n",
    "# naamse57_jul = pd.read_csv('https://mda-georgia-bucket.s3.eu-central-1.amazonaws.com/Noise+data/Jul/Jul/csv_results_48_255440_mp-02-naamsestraat-57-xior.csv', header=0, sep=';')\n",
    "# naamse62_jul = pd.read_csv('https://mda-georgia-bucket.s3.eu-central-1.amazonaws.com/Noise+data/Jul/Jul/csv_results_48_255441_mp-03-naamsestraat-62-taste.csv', header=0, sep=';')\n",
    "# calvarie_jul = pd.read_csv('https://mda-georgia-bucket.s3.eu-central-1.amazonaws.com/Noise+data/Jul/Jul/csv_results_48_255442_mp-05-calvariekapel-ku-leuven.csv', header=0, sep=';')\n",
    "# park_jul = pd.read_csv('https://mda-georgia-bucket.s3.eu-central-1.amazonaws.com/Noise+data/Jul/Jul/csv_results_48_255443_mp-06-parkstraat-2-la-filosovia.csv', header=0, sep=';')\n",
    "# naamse81_jul = pd.read_csv('https://mda-georgia-bucket.s3.eu-central-1.amazonaws.com/Noise+data/Jul/Jul/csv_results_48_255444_mp-07-naamsestraat-81.csv', header=0, sep=';')\n",
    "# kiosk_jul = pd.read_csv('https://mda-georgia-bucket.s3.eu-central-1.amazonaws.com/Noise+data/Jul/Jul/csv_results_48_255445_mp-08-kiosk-stadspark.csv', header=0, sep=';')\n",
    "# vrijt_jul = pd.read_csv('https://mda-georgia-bucket.s3.eu-central-1.amazonaws.com/Noise+data/Jul/Jul/csv_results_48_280324_mp08bis---vrijthof.csv', header=0, sep=';')\n",
    "# his_jul = pd.read_csv('https://mda-georgia-bucket.s3.eu-central-1.amazonaws.com/Noise+data/Jul/Jul/csv_results_48_303910_mp-04-his-hears.csv', header=0, sep=';')"
   ]
  },
  {
   "cell_type": "code",
   "execution_count": null,
   "metadata": {},
   "outputs": [],
   "source": [
    "# # updated noise data - August\n",
    "# naamse35_aug = pd.read_csv('https://mda-georgia-bucket.s3.eu-central-1.amazonaws.com/Noise+data/Aug/Aug/csv_results_49_255439_mp-01-naamsestraat-35-maxim.csv', header=0, sep=';')\n",
    "# naamse57_aug = pd.read_csv('https://mda-georgia-bucket.s3.eu-central-1.amazonaws.com/Noise+data/Aug/Aug/csv_results_49_255440_mp-02-naamsestraat-57-xior.csv', header=0, sep=';')\n",
    "# naamse62_aug = pd.read_csv('https://mda-georgia-bucket.s3.eu-central-1.amazonaws.com/Noise+data/Aug/Aug/csv_results_49_255441_mp-03-naamsestraat-62-taste.csv', header=0, sep=';')\n",
    "# calvarie_aug = pd.read_csv('https://mda-georgia-bucket.s3.eu-central-1.amazonaws.com/Noise+data/Aug/Aug/csv_results_49_255442_mp-05-calvariekapel-ku-leuven.csv', header=0, sep=';')\n",
    "# park_aug = pd.read_csv('https://mda-georgia-bucket.s3.eu-central-1.amazonaws.com/Noise+data/Aug/Aug/csv_results_49_255443_mp-06-parkstraat-2-la-filosovia.csv', header=0, sep=';')\n",
    "# naamse81_aug = pd.read_csv('https://mda-georgia-bucket.s3.eu-central-1.amazonaws.com/Noise+data/Aug/Aug/csv_results_49_255444_mp-07-naamsestraat-81.csv', header=0, sep=';')\n",
    "# kiosk_aug = pd.read_csv('https://mda-georgia-bucket.s3.eu-central-1.amazonaws.com/Noise+data/Aug/Aug/csv_results_49_255445_mp-08-kiosk-stadspark.csv', header=0, sep=';')\n",
    "# vrijt_aug = pd.read_csv('https://mda-georgia-bucket.s3.eu-central-1.amazonaws.com/Noise+data/Aug/Aug/csv_results_49_280324_mp08bis---vrijthof.csv', header=0, sep=';')\n",
    "# his_aug = pd.read_csv('https://mda-georgia-bucket.s3.eu-central-1.amazonaws.com/Noise+data/Aug/Aug/csv_results_49_303910_mp-04-his-hears.csv', header=0, sep=';')"
   ]
  },
  {
   "cell_type": "code",
   "execution_count": null,
   "metadata": {},
   "outputs": [],
   "source": [
    "# # updated noise data - September\n",
    "# naamse35_sep = pd.read_csv('https://mda-georgia-bucket.s3.eu-central-1.amazonaws.com/Noise+data/Sep/Sep/csv_results_50_255439_mp-01-naamsestraat-35-maxim.csv', header=0, sep=';')\n",
    "# naamse57_sep = pd.read_csv('https://mda-georgia-bucket.s3.eu-central-1.amazonaws.com/Noise+data/Sep/Sep/csv_results_50_255440_mp-02-naamsestraat-57-xior.csv', header=0, sep=';')\n",
    "# naamse62_sep = pd.read_csv('https://mda-georgia-bucket.s3.eu-central-1.amazonaws.com/Noise+data/Sep/Sep/csv_results_50_255441_mp-03-naamsestraat-62-taste.csv', header=0, sep=';')\n",
    "# calvarie_sep = pd.read_csv('https://mda-georgia-bucket.s3.eu-central-1.amazonaws.com/Noise+data/Sep/Sep/csv_results_50_255442_mp-05-calvariekapel-ku-leuven.csv', header=0, sep=';')\n",
    "# park_sep = pd.read_csv('https://mda-georgia-bucket.s3.eu-central-1.amazonaws.com/Noise+data/Sep/Sep/csv_results_50_255443_mp-06-parkstraat-2-la-filosovia.csv', header=0, sep=';')\n",
    "# naamse81_sep = pd.read_csv('https://mda-georgia-bucket.s3.eu-central-1.amazonaws.com/Noise+data/Sep/Sep/csv_results_50_255444_mp-07-naamsestraat-81.csv', header=0, sep=';')\n",
    "# kiosk_sep = pd.read_csv('https://mda-georgia-bucket.s3.eu-central-1.amazonaws.com/Noise+data/Sep/Sep/csv_results_50_255445_mp-08-kiosk-stadspark.csv', header=0, sep=';')\n",
    "# vrijt_sep = pd.read_csv('https://mda-georgia-bucket.s3.eu-central-1.amazonaws.com/Noise+data/Sep/Sep/csv_results_50_280324_mp08bis---vrijthof.csv', header=0, sep=';')\n",
    "# his_sep = pd.read_csv('https://mda-georgia-bucket.s3.eu-central-1.amazonaws.com/Noise+data/Sep/Sep/csv_results_50_303910_mp-04-his-hears.csv', header=0, sep=';')"
   ]
  },
  {
   "cell_type": "code",
   "execution_count": null,
   "metadata": {},
   "outputs": [],
   "source": [
    "# # updated noise data - October\n",
    "# naamse35_oct = pd.read_csv('https://mda-georgia-bucket.s3.eu-central-1.amazonaws.com/Noise+data/Oct/Oct/csv_results_51_255439_mp-01-naamsestraat-35-maxim.csv', header=0, sep=';')\n",
    "# naamse57_oct = pd.read_csv('https://mda-georgia-bucket.s3.eu-central-1.amazonaws.com/Noise+data/Oct/Oct/csv_results_51_255440_mp-02-naamsestraat-57-xior.csv', header=0, sep=';')\n",
    "# naamse62_oct = pd.read_csv('https://mda-georgia-bucket.s3.eu-central-1.amazonaws.com/Noise+data/Oct/Oct/csv_results_51_255441_mp-03-naamsestraat-62-taste.csv', header=0, sep=';')\n",
    "# calvarie_oct = pd.read_csv('https://mda-georgia-bucket.s3.eu-central-1.amazonaws.com/Noise+data/Oct/Oct/csv_results_51_255442_mp-05-calvariekapel-ku-leuven.csv', header=0, sep=';')\n",
    "# park_oct = pd.read_csv('https://mda-georgia-bucket.s3.eu-central-1.amazonaws.com/Noise+data/Oct/Oct/csv_results_51_255443_mp-06-parkstraat-2-la-filosovia.csv', header=0, sep=';')\n",
    "# naamse81_oct = pd.read_csv('https://mda-georgia-bucket.s3.eu-central-1.amazonaws.com/Noise+data/Oct/Oct/csv_results_51_255444_mp-07-naamsestraat-81.csv', header=0, sep=';')\n",
    "# kiosk_oct = pd.read_csv('https://mda-georgia-bucket.s3.eu-central-1.amazonaws.com/Noise+data/Oct/Oct/csv_results_51_255445_mp-08-kiosk-stadspark.csv', header=0, sep=';')\n",
    "# vrijt_oct = pd.read_csv('https://mda-georgia-bucket.s3.eu-central-1.amazonaws.com/Noise+data/Oct/Oct/csv_results_51_280324_mp08bis---vrijthof.csv', header=0, sep=';')\n",
    "# his_oct = pd.read_csv('https://mda-georgia-bucket.s3.eu-central-1.amazonaws.com/Noise+data/Oct/Oct/csv_results_51_303910_mp-04-his-hears.csv', header=0, sep=';')"
   ]
  },
  {
   "cell_type": "code",
   "execution_count": null,
   "metadata": {},
   "outputs": [],
   "source": [
    "# # updated noise data - November\n",
    "# naamse35_nov = pd.read_csv('https://mda-georgia-bucket.s3.eu-central-1.amazonaws.com/Noise+data/Nov/Nov/csv_results_52_255439_mp-01-naamsestraat-35-maxim.csv', header=0, sep=';')\n",
    "# naamse57_nov = pd.read_csv('https://mda-georgia-bucket.s3.eu-central-1.amazonaws.com/Noise+data/Nov/Nov/csv_results_52_255440_mp-02-naamsestraat-57-xior.csv', header=0, sep=';')\n",
    "# naamse62_nov = pd.read_csv('https://mda-georgia-bucket.s3.eu-central-1.amazonaws.com/Noise+data/Nov/Nov/csv_results_52_255441_mp-03-naamsestraat-62-taste.csv', header=0, sep=';')\n",
    "# calvarie_nov = pd.read_csv('https://mda-georgia-bucket.s3.eu-central-1.amazonaws.com/Noise+data/Nov/Nov/csv_results_52_255442_mp-05-calvariekapel-ku-leuven.csv', header=0, sep=';')\n",
    "# park_nov = pd.read_csv('https://mda-georgia-bucket.s3.eu-central-1.amazonaws.com/Noise+data/Nov/Nov/csv_results_52_255443_mp-06-parkstraat-2-la-filosovia.csv', header=0, sep=';')\n",
    "# naamse81_nov = pd.read_csv('https://mda-georgia-bucket.s3.eu-central-1.amazonaws.com/Noise+data/Nov/Nov/csv_results_52_255444_mp-07-naamsestraat-81.csv', header=0, sep=';')\n",
    "# kiosk_nov = pd.read_csv('https://mda-georgia-bucket.s3.eu-central-1.amazonaws.com/Noise+data/Nov/Nov/csv_results_52_255445_mp-08-kiosk-stadspark.csv', header=0, sep=';')\n",
    "# vrijt_nov = pd.read_csv('https://mda-georgia-bucket.s3.eu-central-1.amazonaws.com/Noise+data/Nov/Nov/csv_results_52_280324_mp08bis---vrijthof.csv', header=0, sep=';')\n",
    "# his_nov = pd.read_csv('https://mda-georgia-bucket.s3.eu-central-1.amazonaws.com/Noise+data/Nov/Nov/csv_results_52_303910_mp-04-his-hears.csv', header=0, sep=';')"
   ]
  },
  {
   "cell_type": "code",
   "execution_count": null,
   "metadata": {},
   "outputs": [],
   "source": [
    "# # updated noise data - December\n",
    "# naamse35_dec = pd.read_csv('https://mda-georgia-bucket.s3.eu-central-1.amazonaws.com/Noise+data/Dec/Dec/csv_results_53_255439_mp-01-naamsestraat-35-maxim.csv', header=0, sep=';')\n",
    "# naamse57_dec = pd.read_csv('https://mda-georgia-bucket.s3.eu-central-1.amazonaws.com/Noise+data/Dec/Dec/csv_results_53_255440_mp-02-naamsestraat-57-xior.csv', header=0, sep=';')\n",
    "# naamse62_dec = pd.read_csv('https://mda-georgia-bucket.s3.eu-central-1.amazonaws.com/Noise+data/Dec/Dec/csv_results_53_255441_mp-03-naamsestraat-62-taste.csv', header=0, sep=';')\n",
    "# calvarie_dec = pd.read_csv('https://mda-georgia-bucket.s3.eu-central-1.amazonaws.com/Noise+data/Dec/Dec/csv_results_53_255442_mp-05-calvariekapel-ku-leuven.csv', header=0, sep=';')\n",
    "# park_dec = pd.read_csv('https://mda-georgia-bucket.s3.eu-central-1.amazonaws.com/Noise+data/Dec/Dec/csv_results_53_255443_mp-06-parkstraat-2-la-filosovia.csv', header=0, sep=';')\n",
    "# naamse81_dec = pd.read_csv('https://mda-georgia-bucket.s3.eu-central-1.amazonaws.com/Noise+data/Dec/Dec/csv_results_53_255444_mp-07-naamsestraat-81.csv', header=0, sep=';')\n",
    "# kiosk_dec = pd.read_csv('https://mda-georgia-bucket.s3.eu-central-1.amazonaws.com/Noise+data/Dec/Dec/csv_results_53_255445_mp-08-kiosk-stadspark.csv', header=0, sep=';')\n",
    "# vrijt_dec = pd.read_csv('https://mda-georgia-bucket.s3.eu-central-1.amazonaws.com/Noise+data/Dec/Dec/csv_results_53_280324_mp08bis---vrijthof.csv', header=0, sep=';')\n",
    "# his_dec = pd.read_csv('https://mda-georgia-bucket.s3.eu-central-1.amazonaws.com/Noise+data/Dec/Dec/csv_results_53_303910_mp-04-his-hears.csv', header=0, sep=';')"
   ]
  },
  {
   "attachments": {},
   "cell_type": "markdown",
   "metadata": {},
   "source": [
    "### Combining and aggregating the meteo data"
   ]
  },
  {
   "cell_type": "code",
   "execution_count": null,
   "metadata": {},
   "outputs": [],
   "source": [
    "# # combine meteo dataset \n",
    "# meteocombined = pd.concat([Q1_2022, Q2_2022, Q3_2022, Q4_2022], axis=0)\n",
    "# meteocombined.head()"
   ]
  },
  {
   "cell_type": "code",
   "execution_count": null,
   "metadata": {},
   "outputs": [],
   "source": [
    "# check for missing values in each column\n",
    "# print(meteocombined.isnull().sum())"
   ]
  },
  {
   "cell_type": "code",
   "execution_count": null,
   "metadata": {},
   "outputs": [],
   "source": [
    "# # aggregate meteo data by day\n",
    "# avg_meteo_combined = meteocombined.groupby(['Year','Month', 'Day']).mean()\n",
    "# avg_meteo_combined = avg_meteo_combined.reset_index()\n",
    "# avg_meteo_combined.head()\n"
   ]
  },
  {
   "cell_type": "code",
   "execution_count": null,
   "metadata": {},
   "outputs": [],
   "source": [
    "# month_max_value = avg_meteo_combined['Month'].max()\n",
    "# print(f\"This combined meteo dataset contains the weather data for all {month_max_value} months.\")"
   ]
  },
  {
   "attachments": {},
   "cell_type": "markdown",
   "metadata": {},
   "source": [
    "### Combining and aggregating the noise data"
   ]
  },
  {
   "attachments": {},
   "cell_type": "markdown",
   "metadata": {},
   "source": [
    "- January"
   ]
  },
  {
   "cell_type": "code",
   "execution_count": null,
   "metadata": {},
   "outputs": [],
   "source": [
    "# # combine noise data for January together\n",
    "# noise_jan_combined = pd.concat([naamse35_jan, naamse57_jan, naamse62_jan, calvarie_jan, park_jan, naamse81_jan, kiosk_jan, vrijt_jan, his_jan], axis=0)\n",
    "# noise_jan_combined.head()"
   ]
  },
  {
   "cell_type": "code",
   "execution_count": null,
   "metadata": {},
   "outputs": [],
   "source": [
    "# # extract the date, month, hour, minute of \"result_timestamp\"\n",
    "# noise_jan_combined['result_timestamp'] = pd.to_datetime(noise_jan_combined['result_timestamp'], format='%d/%m/%Y %H:%M:%S.%f')\n",
    "\n",
    "\n",
    "# noise_jan_combined['result_date'] = noise_jan_combined['result_timestamp'].dt.date\n",
    "# noise_jan_combined['result_month'] = noise_jan_combined['result_timestamp'].dt.month\n",
    "# noise_jan_combined['result_day'] = noise_jan_combined['result_timestamp'].dt.day\n",
    "# noise_jan_combined['result_hour'] = noise_jan_combined['result_timestamp'].dt.hour\n",
    "# noise_jan_combined['result_minute'] = noise_jan_combined['result_timestamp'].dt.minute\n",
    "\n",
    "# noise_jan_combined.head()"
   ]
  },
  {
   "cell_type": "code",
   "execution_count": null,
   "metadata": {},
   "outputs": [],
   "source": [
    "# # aggregate the data by day\n",
    "# avg_jan_combined = noise_jan_combined.groupby(['result_date','description']).mean()\n",
    "# avg_jan_combined = avg_jan_combined.reset_index()\n",
    "# columns_to_drop = ['result_hour', 'result_minute']\n",
    "# avg_jan_combined.drop(columns_to_drop, axis=1, inplace=True)\n",
    "# avg_jan_combined.head(150)"
   ]
  },
  {
   "cell_type": "code",
   "execution_count": null,
   "metadata": {},
   "outputs": [],
   "source": [
    "# check for missing values in each column\n",
    "# print(avg_jan_combined.isnull().sum())"
   ]
  },
  {
   "attachments": {},
   "cell_type": "markdown",
   "metadata": {},
   "source": [
    "- February"
   ]
  },
  {
   "cell_type": "code",
   "execution_count": null,
   "metadata": {},
   "outputs": [],
   "source": [
    "# # combine noise data for February together\n",
    "# noise_feb_combined = pd.concat([naamse35_feb, naamse57_feb, naamse62_feb, calvarie_feb, park_feb, naamse81_feb, kiosk_feb, vrijt_feb, his_feb], axis=0)\n",
    "# noise_feb_combined.head()"
   ]
  },
  {
   "cell_type": "code",
   "execution_count": null,
   "metadata": {},
   "outputs": [],
   "source": [
    "# # extract the date, month, hour, minute of \"result_timestamp\"\n",
    "# noise_feb_combined['result_timestamp'] = pd.to_datetime(noise_feb_combined['result_timestamp'], format='%d/%m/%Y %H:%M:%S.%f')\n",
    "\n",
    "\n",
    "# noise_feb_combined['result_date'] = noise_feb_combined['result_timestamp'].dt.date\n",
    "# noise_feb_combined['result_month'] = noise_feb_combined['result_timestamp'].dt.month\n",
    "# noise_feb_combined['result_day'] = noise_feb_combined['result_timestamp'].dt.day\n",
    "# noise_feb_combined['result_hour'] = noise_feb_combined['result_timestamp'].dt.hour\n",
    "# noise_feb_combined['result_minute'] = noise_feb_combined['result_timestamp'].dt.minute\n",
    "\n",
    "# noise_feb_combined.head()"
   ]
  },
  {
   "cell_type": "code",
   "execution_count": null,
   "metadata": {},
   "outputs": [],
   "source": [
    "# # aggregate the data by day\n",
    "# avg_feb_combined = noise_feb_combined.groupby(['result_date','description']).mean()\n",
    "# avg_feb_combined = avg_feb_combined.reset_index()\n",
    "# columns_to_drop = ['result_hour', 'result_minute']\n",
    "# avg_feb_combined.drop(columns_to_drop, axis=1, inplace=True)\n",
    "# avg_feb_combined.head(150)"
   ]
  },
  {
   "cell_type": "code",
   "execution_count": null,
   "metadata": {},
   "outputs": [],
   "source": [
    "# # check for missing values in each column\n",
    "# print(avg_feb_combined.isnull().sum())"
   ]
  },
  {
   "attachments": {},
   "cell_type": "markdown",
   "metadata": {},
   "source": [
    "- March"
   ]
  },
  {
   "cell_type": "code",
   "execution_count": null,
   "metadata": {},
   "outputs": [],
   "source": [
    "# # combine noise data for March together\n",
    "# noise_mar_combined = pd.concat([naamse35_mar, naamse57_mar, naamse62_mar, calvarie_mar, park_mar, naamse81_mar, kiosk_mar, vrijt_mar, his_mar], axis=0)\n",
    "# noise_mar_combined.head()"
   ]
  },
  {
   "cell_type": "code",
   "execution_count": null,
   "metadata": {},
   "outputs": [],
   "source": [
    "# # extract the date, month, hour, minute of \"result_timestamp\"\n",
    "# noise_mar_combined['result_timestamp'] = pd.to_datetime(noise_mar_combined['result_timestamp'], format='%d/%m/%Y %H:%M:%S.%f')\n",
    "\n",
    "\n",
    "# noise_mar_combined['result_date'] = noise_mar_combined['result_timestamp'].dt.date\n",
    "# noise_mar_combined['result_month'] = noise_mar_combined['result_timestamp'].dt.month\n",
    "# noise_mar_combined['result_day'] = noise_mar_combined['result_timestamp'].dt.day\n",
    "# noise_mar_combined['result_hour'] = noise_mar_combined['result_timestamp'].dt.hour\n",
    "# noise_mar_combined['result_minute'] = noise_mar_combined['result_timestamp'].dt.minute\n",
    "\n",
    "# noise_mar_combined.head()"
   ]
  },
  {
   "cell_type": "code",
   "execution_count": null,
   "metadata": {},
   "outputs": [],
   "source": [
    "# # aggregate the data by day\n",
    "# avg_mar_combined = noise_mar_combined.groupby(['result_date','description']).mean()\n",
    "# avg_mar_combined = avg_mar_combined.reset_index()\n",
    "# columns_to_drop = ['result_hour', 'result_minute']\n",
    "# avg_mar_combined.drop(columns_to_drop, axis=1, inplace=True)\n",
    "# avg_mar_combined.head(150)"
   ]
  },
  {
   "cell_type": "code",
   "execution_count": null,
   "metadata": {},
   "outputs": [],
   "source": [
    "# # check for missing values in each column\n",
    "# print(avg_mar_combined.isnull().sum())"
   ]
  },
  {
   "attachments": {},
   "cell_type": "markdown",
   "metadata": {},
   "source": [
    "- April "
   ]
  },
  {
   "cell_type": "code",
   "execution_count": null,
   "metadata": {},
   "outputs": [],
   "source": [
    "# # combine noise data for April together\n",
    "# noise_apr_combined = pd.concat([naamse35_apr, naamse57_apr, naamse62_apr, calvarie_apr, park_apr, naamse81_apr, kiosk_apr, vrijt_apr, his_apr], axis=0)\n",
    "# noise_apr_combined.head()"
   ]
  },
  {
   "cell_type": "code",
   "execution_count": null,
   "metadata": {},
   "outputs": [],
   "source": [
    "# # extract the date, month, hour, minute of \"result_timestamp\"\n",
    "# noise_apr_combined['result_timestamp'] = pd.to_datetime(noise_apr_combined['result_timestamp'], format='%d/%m/%Y %H:%M:%S.%f')\n",
    "\n",
    "\n",
    "# noise_apr_combined['result_date'] = noise_apr_combined['result_timestamp'].dt.date\n",
    "# noise_apr_combined['result_month'] = noise_apr_combined['result_timestamp'].dt.month\n",
    "# noise_apr_combined['result_day'] = noise_apr_combined['result_timestamp'].dt.day\n",
    "# noise_apr_combined['result_hour'] = noise_apr_combined['result_timestamp'].dt.hour\n",
    "# noise_apr_combined['result_minute'] = noise_apr_combined['result_timestamp'].dt.minute\n",
    "\n",
    "# noise_apr_combined.head()"
   ]
  },
  {
   "cell_type": "code",
   "execution_count": null,
   "metadata": {},
   "outputs": [],
   "source": [
    "# # aggregate the data by day\n",
    "# avg_apr_combined = noise_apr_combined.groupby(['result_date','description']).mean()\n",
    "# avg_apr_combined = avg_apr_combined.reset_index()\n",
    "# columns_to_drop = ['result_hour', 'result_minute']\n",
    "# avg_apr_combined.drop(columns_to_drop, axis=1, inplace=True)\n",
    "# avg_apr_combined.head(150)"
   ]
  },
  {
   "cell_type": "code",
   "execution_count": null,
   "metadata": {},
   "outputs": [],
   "source": [
    "# # check for missing values in each column\n",
    "# print(avg_apr_combined.isnull().sum())"
   ]
  },
  {
   "attachments": {},
   "cell_type": "markdown",
   "metadata": {},
   "source": [
    "- May "
   ]
  },
  {
   "cell_type": "code",
   "execution_count": null,
   "metadata": {},
   "outputs": [],
   "source": [
    "# # combine noise data for May together\n",
    "# noise_may_combined = pd.concat([naamse35_may, naamse57_may, naamse62_may, calvarie_may, park_may, naamse81_may, kiosk_may, vrijt_may, his_may], axis=0)\n",
    "# noise_may_combined.head()"
   ]
  },
  {
   "cell_type": "code",
   "execution_count": null,
   "metadata": {},
   "outputs": [],
   "source": [
    "# # extract the date, month, hour, minute of \"result_timestamp\"\n",
    "# noise_may_combined['result_timestamp'] = pd.to_datetime(noise_may_combined['result_timestamp'], format='%d/%m/%Y %H:%M:%S.%f')\n",
    "\n",
    "\n",
    "# noise_may_combined['result_date'] = noise_may_combined['result_timestamp'].dt.date\n",
    "# noise_may_combined['result_month'] = noise_may_combined['result_timestamp'].dt.month\n",
    "# noise_may_combined['result_day'] = noise_may_combined['result_timestamp'].dt.day\n",
    "# noise_may_combined['result_hour'] = noise_may_combined['result_timestamp'].dt.hour\n",
    "# noise_may_combined['result_minute'] = noise_may_combined['result_timestamp'].dt.minute\n",
    "\n",
    "# noise_may_combined.head()"
   ]
  },
  {
   "cell_type": "code",
   "execution_count": null,
   "metadata": {},
   "outputs": [],
   "source": [
    "# # aggregate the data by day\n",
    "# avg_may_combined = noise_may_combined.groupby(['result_date','description']).mean()\n",
    "# avg_may_combined = avg_may_combined.reset_index()\n",
    "# columns_to_drop = ['result_hour', 'result_minute']\n",
    "# avg_may_combined.drop(columns_to_drop, axis=1, inplace=True)\n",
    "# avg_may_combined.head(150)"
   ]
  },
  {
   "cell_type": "code",
   "execution_count": null,
   "metadata": {},
   "outputs": [],
   "source": [
    "# # check for missing values in each column\n",
    "# print(avg_may_combined.isnull().sum())"
   ]
  },
  {
   "attachments": {},
   "cell_type": "markdown",
   "metadata": {},
   "source": [
    "- June"
   ]
  },
  {
   "cell_type": "code",
   "execution_count": null,
   "metadata": {},
   "outputs": [],
   "source": [
    "# # combine noise data for June together\n",
    "# noise_jun_combined = pd.concat([naamse35_jun, naamse57_jun, naamse62_jun, calvarie_jun, park_jun, naamse81_jun, kiosk_jun, vrijt_jun, his_jun], axis=0)\n",
    "# noise_jun_combined.head()"
   ]
  },
  {
   "cell_type": "code",
   "execution_count": null,
   "metadata": {},
   "outputs": [],
   "source": [
    "# # extract the date, month, hour, minute of \"result_timestamp\"\n",
    "# noise_jun_combined['result_timestamp'] = pd.to_datetime(noise_jun_combined['result_timestamp'], format='%d/%m/%Y %H:%M:%S.%f')\n",
    "\n",
    "\n",
    "# noise_jun_combined['result_date'] = noise_jun_combined['result_timestamp'].dt.date\n",
    "# noise_jun_combined['result_month'] = noise_jun_combined['result_timestamp'].dt.month\n",
    "# noise_jun_combined['result_day'] = noise_jun_combined['result_timestamp'].dt.day\n",
    "# noise_jun_combined['result_hour'] = noise_jun_combined['result_timestamp'].dt.hour\n",
    "# noise_jun_combined['result_minute'] = noise_jun_combined['result_timestamp'].dt.minute\n",
    "\n",
    "# noise_jun_combined.head()"
   ]
  },
  {
   "cell_type": "code",
   "execution_count": null,
   "metadata": {},
   "outputs": [],
   "source": [
    "# aggregate the data by day\n",
    "# avg_jun_combined = noise_jun_combined.groupby(['result_date','description']).mean()\n",
    "# avg_jun_combined = avg_jun_combined.reset_index()\n",
    "# columns_to_drop = ['result_hour', 'result_minute']\n",
    "# avg_jun_combined.drop(columns_to_drop, axis=1, inplace=True)\n",
    "# avg_jun_combined.head(150)"
   ]
  },
  {
   "cell_type": "code",
   "execution_count": null,
   "metadata": {},
   "outputs": [],
   "source": [
    "# # check for missing values in each column\n",
    "# print(avg_jun_combined.isnull().sum())"
   ]
  },
  {
   "attachments": {},
   "cell_type": "markdown",
   "metadata": {},
   "source": [
    "- July"
   ]
  },
  {
   "cell_type": "code",
   "execution_count": null,
   "metadata": {},
   "outputs": [],
   "source": [
    "# # combine noise data for July together\n",
    "# noise_jul_combined = pd.concat([naamse35_jul, naamse57_jul, naamse62_jul, calvarie_jul, park_jul, naamse81_jul, kiosk_jul, vrijt_jul, his_jul], axis=0)\n",
    "# noise_jul_combined.head()"
   ]
  },
  {
   "cell_type": "code",
   "execution_count": null,
   "metadata": {},
   "outputs": [],
   "source": [
    "# # extract the date, month, hour, minute of \"result_timestamp\"\n",
    "# noise_jul_combined['result_timestamp'] = pd.to_datetime(noise_jul_combined['result_timestamp'], format='%d/%m/%Y %H:%M:%S.%f')\n",
    "\n",
    "\n",
    "# noise_jul_combined['result_date'] = noise_jul_combined['result_timestamp'].dt.date\n",
    "# noise_jul_combined['result_month'] = noise_jul_combined['result_timestamp'].dt.month\n",
    "# noise_jul_combined['result_day'] = noise_jul_combined['result_timestamp'].dt.day\n",
    "# noise_jul_combined['result_hour'] = noise_jul_combined['result_timestamp'].dt.hour\n",
    "# noise_jul_combined['result_minute'] = noise_jul_combined['result_timestamp'].dt.minute\n",
    "\n",
    "# noise_jul_combined.head()"
   ]
  },
  {
   "cell_type": "code",
   "execution_count": null,
   "metadata": {},
   "outputs": [],
   "source": [
    "# # aggregate the data by day\n",
    "# avg_jul_combined = noise_jul_combined.groupby(['result_date','description']).mean()\n",
    "# avg_jul_combined = avg_jul_combined.reset_index()\n",
    "# columns_to_drop = ['result_hour', 'result_minute']\n",
    "# avg_jul_combined.drop(columns_to_drop, axis=1, inplace=True)\n",
    "# avg_jul_combined.head(150)"
   ]
  },
  {
   "cell_type": "code",
   "execution_count": null,
   "metadata": {},
   "outputs": [],
   "source": [
    "# # check for missing values in each column\n",
    "# print(avg_jul_combined.isnull().sum())"
   ]
  },
  {
   "attachments": {},
   "cell_type": "markdown",
   "metadata": {},
   "source": [
    "- August"
   ]
  },
  {
   "cell_type": "code",
   "execution_count": null,
   "metadata": {},
   "outputs": [],
   "source": [
    "# # combine noise data for August together\n",
    "# noise_aug_combined = pd.concat([naamse35_aug, naamse57_aug, naamse62_aug, calvarie_aug, park_aug, naamse81_aug, kiosk_aug, vrijt_aug, his_aug], axis=0)\n",
    "# noise_aug_combined.head()"
   ]
  },
  {
   "cell_type": "code",
   "execution_count": null,
   "metadata": {},
   "outputs": [],
   "source": [
    "# # extract the date, month, hour, minute of \"result_timestamp\"\n",
    "# noise_aug_combined['result_timestamp'] = pd.to_datetime(noise_aug_combined['result_timestamp'], format='%d/%m/%Y %H:%M:%S.%f')\n",
    "\n",
    "\n",
    "# noise_aug_combined['result_date'] = noise_aug_combined['result_timestamp'].dt.date\n",
    "# noise_aug_combined['result_month'] = noise_aug_combined['result_timestamp'].dt.month\n",
    "# noise_aug_combined['result_day'] = noise_aug_combined['result_timestamp'].dt.day\n",
    "# noise_aug_combined['result_hour'] = noise_aug_combined['result_timestamp'].dt.hour\n",
    "# noise_aug_combined['result_minute'] = noise_aug_combined['result_timestamp'].dt.minute\n",
    "\n",
    "# noise_aug_combined.head()"
   ]
  },
  {
   "cell_type": "code",
   "execution_count": null,
   "metadata": {},
   "outputs": [],
   "source": [
    "# # aggregate the data by day\n",
    "# avg_aug_combined = noise_aug_combined.groupby(['result_date','description']).mean()\n",
    "# avg_aug_combined = avg_aug_combined.reset_index()\n",
    "# columns_to_drop = ['result_hour', 'result_minute']\n",
    "# avg_aug_combined.drop(columns_to_drop, axis=1, inplace=True)\n",
    "# avg_aug_combined.head(150)"
   ]
  },
  {
   "cell_type": "code",
   "execution_count": null,
   "metadata": {},
   "outputs": [],
   "source": [
    "# # check for missing values in each column\n",
    "# print(avg_aug_combined.isnull().sum())"
   ]
  },
  {
   "attachments": {},
   "cell_type": "markdown",
   "metadata": {},
   "source": [
    "- September"
   ]
  },
  {
   "cell_type": "code",
   "execution_count": null,
   "metadata": {},
   "outputs": [],
   "source": [
    "# # combine noise data for September together\n",
    "# noise_sep_combined = pd.concat([naamse35_sep, naamse57_sep, naamse62_sep, calvarie_sep, park_sep, naamse81_sep, kiosk_sep, vrijt_sep, his_sep], axis=0)\n",
    "# noise_sep_combined.head()"
   ]
  },
  {
   "cell_type": "code",
   "execution_count": null,
   "metadata": {},
   "outputs": [],
   "source": [
    "# # extract the date, month, hour, minute of \"result_timestamp\"\n",
    "# noise_sep_combined['result_timestamp'] = pd.to_datetime(noise_sep_combined['result_timestamp'], format='%d/%m/%Y %H:%M:%S.%f')\n",
    "\n",
    "\n",
    "# noise_sep_combined['result_date'] = noise_sep_combined['result_timestamp'].dt.date\n",
    "# noise_sep_combined['result_month'] = noise_sep_combined['result_timestamp'].dt.month\n",
    "# noise_sep_combined['result_day'] = noise_sep_combined['result_timestamp'].dt.day\n",
    "# noise_sep_combined['result_hour'] = noise_sep_combined['result_timestamp'].dt.hour\n",
    "# noise_sep_combined['result_minute'] = noise_sep_combined['result_timestamp'].dt.minute\n",
    "\n",
    "# noise_sep_combined.head()"
   ]
  },
  {
   "cell_type": "code",
   "execution_count": null,
   "metadata": {},
   "outputs": [],
   "source": [
    "# # aggregate the data by day\n",
    "# avg_sep_combined = noise_sep_combined.groupby(['result_date','description']).mean()\n",
    "# avg_sep_combined = avg_sep_combined.reset_index()\n",
    "# columns_to_drop = ['result_hour', 'result_minute']\n",
    "# avg_sep_combined.drop(columns_to_drop, axis=1, inplace=True)\n",
    "# avg_sep_combined.head(150)"
   ]
  },
  {
   "cell_type": "code",
   "execution_count": null,
   "metadata": {},
   "outputs": [],
   "source": [
    "# # check for missing values in each column\n",
    "# print(avg_sep_combined.isnull().sum())"
   ]
  },
  {
   "attachments": {},
   "cell_type": "markdown",
   "metadata": {},
   "source": [
    "- October"
   ]
  },
  {
   "cell_type": "code",
   "execution_count": null,
   "metadata": {},
   "outputs": [],
   "source": [
    "# # combine noise data for Octber together\n",
    "# noise_oct_combined = pd.concat([naamse35_oct, naamse57_oct, naamse62_oct, calvarie_oct, park_oct, naamse81_oct, kiosk_oct, vrijt_oct, his_oct], axis=0)\n",
    "# noise_oct_combined.head()"
   ]
  },
  {
   "cell_type": "code",
   "execution_count": null,
   "metadata": {},
   "outputs": [],
   "source": [
    "# # extract the date, month, hour, minute of \"result_timestamp\"\n",
    "# noise_oct_combined['result_timestamp'] = pd.to_datetime(noise_oct_combined['result_timestamp'], format='%d/%m/%Y %H:%M:%S.%f')\n",
    "\n",
    "\n",
    "# noise_oct_combined['result_date'] = noise_oct_combined['result_timestamp'].dt.date\n",
    "# noise_oct_combined['result_month'] = noise_oct_combined['result_timestamp'].dt.month\n",
    "# noise_oct_combined['result_day'] = noise_oct_combined['result_timestamp'].dt.day\n",
    "# noise_oct_combined['result_hour'] = noise_oct_combined['result_timestamp'].dt.hour\n",
    "# noise_oct_combined['result_minute'] = noise_oct_combined['result_timestamp'].dt.minute\n",
    "\n",
    "# noise_oct_combined.head()"
   ]
  },
  {
   "cell_type": "code",
   "execution_count": null,
   "metadata": {},
   "outputs": [],
   "source": [
    "# # aggregate the data by day\n",
    "# avg_oct_combined = noise_oct_combined.groupby(['result_date','description']).mean()\n",
    "# avg_oct_combined = avg_oct_combined.reset_index()\n",
    "# columns_to_drop = ['result_hour', 'result_minute']\n",
    "# avg_oct_combined.drop(columns_to_drop, axis=1, inplace=True)\n",
    "# avg_oct_combined.head(150)"
   ]
  },
  {
   "cell_type": "code",
   "execution_count": null,
   "metadata": {},
   "outputs": [],
   "source": [
    "# # check for missing values in each column\n",
    "# print(avg_oct_combined.isnull().sum())"
   ]
  },
  {
   "attachments": {},
   "cell_type": "markdown",
   "metadata": {},
   "source": [
    "- November"
   ]
  },
  {
   "cell_type": "code",
   "execution_count": null,
   "metadata": {},
   "outputs": [],
   "source": [
    "# # combine noise data for November together\n",
    "# noise_nov_combined = pd.concat([naamse35_nov, naamse57_nov, naamse62_nov, calvarie_nov, park_nov, naamse81_nov, kiosk_nov, vrijt_nov, his_nov], axis=0)\n",
    "# noise_nov_combined.head()"
   ]
  },
  {
   "cell_type": "code",
   "execution_count": null,
   "metadata": {},
   "outputs": [],
   "source": [
    "# # extract the date, month, hour, minute of \"result_timestamp\"\n",
    "# noise_nov_combined['result_timestamp'] = pd.to_datetime(noise_nov_combined['result_timestamp'], format='%d/%m/%Y %H:%M:%S.%f')\n",
    "\n",
    "\n",
    "# noise_nov_combined['result_date'] = noise_nov_combined['result_timestamp'].dt.date\n",
    "# noise_nov_combined['result_month'] = noise_nov_combined['result_timestamp'].dt.month\n",
    "# noise_nov_combined['result_day'] = noise_nov_combined['result_timestamp'].dt.day\n",
    "# noise_nov_combined['result_hour'] = noise_nov_combined['result_timestamp'].dt.hour\n",
    "# noise_nov_combined['result_minute'] = noise_nov_combined['result_timestamp'].dt.minute\n",
    "\n",
    "# noise_nov_combined.head()"
   ]
  },
  {
   "cell_type": "code",
   "execution_count": null,
   "metadata": {},
   "outputs": [],
   "source": [
    "# # aggregate the data by day\n",
    "# avg_nov_combined = noise_nov_combined.groupby(['result_date','description']).mean()\n",
    "# avg_nov_combined = avg_nov_combined.reset_index()\n",
    "# columns_to_drop = ['result_hour', 'result_minute']\n",
    "# avg_nov_combined.drop(columns_to_drop, axis=1, inplace=True)\n",
    "# avg_nov_combined.head(150)"
   ]
  },
  {
   "cell_type": "code",
   "execution_count": null,
   "metadata": {},
   "outputs": [],
   "source": [
    "# # check for missing values in each column\n",
    "# print(avg_nov_combined.isnull().sum())"
   ]
  },
  {
   "attachments": {},
   "cell_type": "markdown",
   "metadata": {},
   "source": [
    "- December"
   ]
  },
  {
   "cell_type": "code",
   "execution_count": null,
   "metadata": {},
   "outputs": [],
   "source": [
    "# # combine noise data for December together\n",
    "# noise_dec_combined = pd.concat([naamse35_dec, naamse57_dec, naamse62_dec, calvarie_dec, park_dec, naamse81_dec, kiosk_dec, vrijt_dec, his_dec], axis=0)\n",
    "# noise_dec_combined.head()"
   ]
  },
  {
   "cell_type": "code",
   "execution_count": null,
   "metadata": {},
   "outputs": [],
   "source": [
    "# # extract the date, month, hour, minute of \"result_timestamp\"\n",
    "# noise_dec_combined['result_timestamp'] = pd.to_datetime(noise_dec_combined['result_timestamp'], format='%d/%m/%Y %H:%M:%S.%f')\n",
    "\n",
    "\n",
    "# noise_dec_combined['result_date'] = noise_dec_combined['result_timestamp'].dt.date\n",
    "# noise_dec_combined['result_month'] = noise_dec_combined['result_timestamp'].dt.month\n",
    "# noise_dec_combined['result_day'] = noise_dec_combined['result_timestamp'].dt.day\n",
    "# noise_dec_combined['result_hour'] = noise_dec_combined['result_timestamp'].dt.hour\n",
    "# noise_dec_combined['result_minute'] = noise_dec_combined['result_timestamp'].dt.minute\n",
    "\n",
    "# noise_dec_combined.head()"
   ]
  },
  {
   "cell_type": "code",
   "execution_count": null,
   "metadata": {},
   "outputs": [],
   "source": [
    "# # aggregate the data by day\n",
    "# avg_dec_combined = noise_dec_combined.groupby(['result_date','description']).mean()\n",
    "# avg_dec_combined = avg_dec_combined.reset_index()\n",
    "# columns_to_drop = ['result_hour', 'result_minute']\n",
    "# avg_dec_combined.drop(columns_to_drop, axis=1, inplace=True)\n",
    "# avg_dec_combined.head(150)"
   ]
  },
  {
   "cell_type": "code",
   "execution_count": null,
   "metadata": {},
   "outputs": [],
   "source": [
    "# # check for missing values in each column\n",
    "# print(avg_dec_combined.isnull().sum())"
   ]
  },
  {
   "attachments": {},
   "cell_type": "markdown",
   "metadata": {},
   "source": [
    "Combining monthly noise level datasets into a yearly dataset"
   ]
  },
  {
   "cell_type": "code",
   "execution_count": null,
   "metadata": {},
   "outputs": [],
   "source": [
    "# List of the monthly datasets\n",
    "datasets = [avg_jan_combined, avg_feb_combined, avg_mar_combined, avg_apr_combined, avg_may_combined, avg_jun_combined, avg_jul_combined, avg_aug_combined, avg_sep_combined, avg_oct_combined, avg_nov_combined, avg_dec_combined]\n",
    "\n",
    "# Concatenate the datasets vertically\n",
    "avg_year_combined = pd.concat(datasets, ignore_index=True)\n",
    "\n",
    "# Sort the combined dataset by 'result_date' in ascending order\n",
    "avg_year_combined.sort_values(by='result_date', inplace=True)\n",
    "\n",
    "# Reset the index of the combined dataset\n",
    "avg_year_combined.reset_index(drop=True, inplace=True)\n",
    "\n",
    "# Display the combined and sorted yearly dataset\n",
    "avg_year_combined.head(2000)\n"
   ]
  }
 ],
 "metadata": {
  "kernelspec": {
   "display_name": "Python 3 (ipykernel)",
   "language": "python",
   "name": "python3"
  },
  "language_info": {
   "codemirror_mode": {
    "name": "ipython",
    "version": 3
   },
   "file_extension": ".py",
   "mimetype": "text/x-python",
   "name": "python",
   "nbconvert_exporter": "python",
   "pygments_lexer": "ipython3",
   "version": "3.9.13"
  }
 },
 "nbformat": 4,
 "nbformat_minor": 2
}
