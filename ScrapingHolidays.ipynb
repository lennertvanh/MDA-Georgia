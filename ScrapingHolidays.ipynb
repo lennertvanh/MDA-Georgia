{
 "cells": [
  {
   "attachments": {},
   "cell_type": "markdown",
   "id": "27622f31",
   "metadata": {},
   "source": [
    "\n",
    "# Scraping Belgian holidays in 2022\n",
    "\n",
    "An interesting addition to our data could be the indication whether that day is a holiday or not. Therefore, we chose to scrape Belgian holidays in 2022 using the _BeautifulSoup_ package, from https://www.timeanddate.com/holidays/belgium/2022.\n"
   ]
  },
  {
   "cell_type": "code",
   "execution_count": null,
   "id": "cfa7893c",
   "metadata": {},
   "outputs": [],
   "source": [
    "# Loading packages\n",
    "import requests\n",
    "from bs4 import BeautifulSoup\n",
    "import pandas as pd"
   ]
  },
  {
   "cell_type": "code",
   "execution_count": 1,
   "id": "c3715273",
   "metadata": {},
   "outputs": [
    {
     "ename": "NameError",
     "evalue": "name 'requests' is not defined",
     "output_type": "error",
     "traceback": [
      "\u001b[1;31m---------------------------------------------------------------------------\u001b[0m",
      "\u001b[1;31mNameError\u001b[0m                                 Traceback (most recent call last)",
      "Cell \u001b[1;32mIn[1], line 3\u001b[0m\n\u001b[0;32m      1\u001b[0m \u001b[39m# Scrape data on Belgian holidays in 2022\u001b[39;00m\n\u001b[0;32m      2\u001b[0m url_holidays \u001b[39m=\u001b[39m \u001b[39m\"\u001b[39m\u001b[39mhttps://www.timeanddate.com/holidays/belgium/2022\u001b[39m\u001b[39m\"\u001b[39m\n\u001b[1;32m----> 3\u001b[0m response_holidays \u001b[39m=\u001b[39m requests\u001b[39m.\u001b[39mget(url_holidays)\n\u001b[0;32m      4\u001b[0m soup_holidays \u001b[39m=\u001b[39m BeautifulSoup(response_holidays\u001b[39m.\u001b[39mcontent, \u001b[39m\"\u001b[39m\u001b[39mhtml.parser\u001b[39m\u001b[39m\"\u001b[39m)\n\u001b[0;32m      5\u001b[0m holidays_table \u001b[39m=\u001b[39m soup_holidays\u001b[39m.\u001b[39mfind_all(\u001b[39m\"\u001b[39m\u001b[39mtable\u001b[39m\u001b[39m\"\u001b[39m)[\u001b[39m0\u001b[39m]\n",
      "\u001b[1;31mNameError\u001b[0m: name 'requests' is not defined"
     ]
    }
   ],
   "source": [
    "# Scrape data on Belgian holidays in 2022\n",
    "url_holidays = \"https://www.timeanddate.com/holidays/belgium/2022\"\n",
    "response_holidays = requests.get(url_holidays)\n",
    "soup_holidays = BeautifulSoup(response_holidays.content, \"html.parser\")\n",
    "holidays_table = soup_holidays.find_all(\"table\")[0]\n",
    "holidays_df = pd.read_html(str(holidays_table))[0]\n",
    "\n",
    "# Keep only the columns for the date and name of the holiday\n",
    "holidays_df = holidays_df.iloc[:, 0:4]  \n",
    "\n",
    "# Naming the columns\n",
    "holidays_df.columns = [\"Date\", \"Day\", \"Holiday\", \"Type\"] \n",
    "\n",
    "# Remove the rows with NaN\n",
    "holidays_df = holidays_df.dropna(how='all') \n",
    "\n",
    "# Delete the last row because it's not a holiday\n",
    "holidays_df = holidays_df.drop(holidays_df.index[-1]) \n",
    "holidays_df\n"
   ]
  },
  {
   "cell_type": "code",
   "execution_count": null,
   "id": "a70788ab",
   "metadata": {},
   "outputs": [],
   "source": [
    "# Exporting the holidays data\n",
    "#holidays_df.to_csv(r'Holidays.csv', index=False)"
   ]
  },
  {
   "attachments": {},
   "cell_type": "markdown",
   "id": "214550d8",
   "metadata": {},
   "source": [
    "The holidays dataset was further transformed in the modelling notebooks so it could be used as a feature."
   ]
  }
 ],
 "metadata": {
  "kernelspec": {
   "display_name": "Python 3 (ipykernel)",
   "language": "python",
   "name": "python3"
  },
  "language_info": {
   "codemirror_mode": {
    "name": "ipython",
    "version": 3
   },
   "file_extension": ".py",
   "mimetype": "text/x-python",
   "name": "python",
   "nbconvert_exporter": "python",
   "pygments_lexer": "ipython3",
   "version": "3.9.16"
  }
 },
 "nbformat": 4,
 "nbformat_minor": 5
}
