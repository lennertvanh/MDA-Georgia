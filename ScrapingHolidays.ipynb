{
 "cells": [
  {
   "cell_type": "code",
   "execution_count": 2,
   "id": "27622f31",
   "metadata": {},
   "outputs": [],
   "source": [
    "import requests\n",
    "from bs4 import BeautifulSoup\n",
    "import pandas as pd\n",
    "\n",
    "# Scrape data on Belgian holidays in 2022\n",
    "url_holidays = \"https://www.timeanddate.com/holidays/belgium/2022\"\n",
    "response_holidays = requests.get(url_holidays)\n",
    "soup_holidays = BeautifulSoup(response_holidays.content, \"html.parser\")\n",
    "holidays_table = soup_holidays.find_all(\"table\")[0]\n",
    "holidays_df = pd.read_html(str(holidays_table))[0]\n",
    "holidays_df = holidays_df.iloc[:, 0:4]  # Keep only the columns for the date and name of the holiday\n",
    "holidays_df.columns = [\"Date\", \"Day\", \"Holiday\", \"Type\"] # Name the columns\n",
    "holidays_df = holidays_df.dropna(how='all') # Remove the rows with NaN\n",
    "holidays_df = holidays_df.drop(holidays_df.index[-1]) # Delete the last row because it's not a holiday\n",
    "holidays_df\n",
    "\n",
    "holidays_df.to_csv(r'C:\\Users\\Axl Wynants\\MDA-Georgia\\Holidays.csv', index=False)"
   ]
  },
  {
   "cell_type": "code",
   "execution_count": null,
   "id": "bf9868bb",
   "metadata": {},
   "outputs": [],
   "source": []
  }
 ],
 "metadata": {
  "kernelspec": {
   "display_name": "Python 3 (ipykernel)",
   "language": "python",
   "name": "python3"
  },
  "language_info": {
   "codemirror_mode": {
    "name": "ipython",
    "version": 3
   },
   "file_extension": ".py",
   "mimetype": "text/x-python",
   "name": "python",
   "nbconvert_exporter": "python",
   "pygments_lexer": "ipython3",
   "version": "3.10.9"
  }
 },
 "nbformat": 4,
 "nbformat_minor": 5
}
