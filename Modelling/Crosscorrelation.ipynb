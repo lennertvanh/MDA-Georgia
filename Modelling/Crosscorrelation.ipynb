{
 "cells": [
  {
   "cell_type": "code",
   "execution_count": 10,
   "id": "c5f39d71",
   "metadata": {},
   "outputs": [],
   "source": [
    "import pandas as pd\n",
    "import matplotlib.pyplot as plt\n",
    "import numpy as np\n",
    "from statsmodels.tsa.stattools import acf\n",
    "from statsmodels.tsa.stattools import adfuller\n",
    "from statsmodels.tsa.seasonal import seasonal_decompose\n",
    "from statsmodels.tsa.arima_model import ARIMA\n",
    "from statsmodels.graphics.tsaplots import plot_acf, plot_pacf\n",
    "import statsmodels.api as sm\n",
    "from pmdarima.arima import auto_arima\n",
    "import scipy\n",
    "import sklearn\n",
    "from datetime import datetime\n",
    "import locale\n",
    "import time\n",
    "from random import randint\n",
    "import math\n",
    "import seaborn as sns"
   ]
  },
  {
   "cell_type": "code",
   "execution_count": 11,
   "id": "55f2c69a",
   "metadata": {},
   "outputs": [],
   "source": [
    "from sklearn.model_selection import train_test_split\n",
    "from sklearn.ensemble import RandomForestRegressor\n",
    "from sklearn.metrics import mean_squared_error, mean_absolute_error, r2_score\n",
    "from sklearn.model_selection import GridSearchCV, RandomizedSearchCV\n",
    "from sklearn.preprocessing import OneHotEncoder\n",
    "from sklearn.inspection import permutation_importance"
   ]
  },
  {
   "cell_type": "code",
   "execution_count": 12,
   "id": "a9265aa4",
   "metadata": {},
   "outputs": [
    {
     "data": {
      "text/html": [
       "<div>\n",
       "<style scoped>\n",
       "    .dataframe tbody tr th:only-of-type {\n",
       "        vertical-align: middle;\n",
       "    }\n",
       "\n",
       "    .dataframe tbody tr th {\n",
       "        vertical-align: top;\n",
       "    }\n",
       "\n",
       "    .dataframe thead th {\n",
       "        text-align: right;\n",
       "    }\n",
       "</style>\n",
       "<table border=\"1\" class=\"dataframe\">\n",
       "  <thead>\n",
       "    <tr style=\"text-align: right;\">\n",
       "      <th></th>\n",
       "      <th>month</th>\n",
       "      <th>day</th>\n",
       "      <th>hour</th>\n",
       "      <th>description</th>\n",
       "      <th>lamax</th>\n",
       "      <th>laeq</th>\n",
       "      <th>lamax_standardized</th>\n",
       "      <th>laeq_standardized</th>\n",
       "      <th>date</th>\n",
       "    </tr>\n",
       "  </thead>\n",
       "  <tbody>\n",
       "    <tr>\n",
       "      <th>0</th>\n",
       "      <td>1</td>\n",
       "      <td>1</td>\n",
       "      <td>0</td>\n",
       "      <td>MP 03: Naamsestraat 62 Taste</td>\n",
       "      <td>60.322528</td>\n",
       "      <td>57.126833</td>\n",
       "      <td>1.248969</td>\n",
       "      <td>1.044063</td>\n",
       "      <td>00:00 01-01-2022</td>\n",
       "    </tr>\n",
       "    <tr>\n",
       "      <th>1</th>\n",
       "      <td>1</td>\n",
       "      <td>1</td>\n",
       "      <td>0</td>\n",
       "      <td>MP 05: Calvariekapel KU Leuven</td>\n",
       "      <td>53.230972</td>\n",
       "      <td>49.987639</td>\n",
       "      <td>0.114661</td>\n",
       "      <td>-0.103638</td>\n",
       "      <td>00:00 01-01-2022</td>\n",
       "    </tr>\n",
       "    <tr>\n",
       "      <th>2</th>\n",
       "      <td>1</td>\n",
       "      <td>1</td>\n",
       "      <td>0</td>\n",
       "      <td>MP 06: Parkstraat 2 La Filosovia</td>\n",
       "      <td>53.666056</td>\n",
       "      <td>50.752000</td>\n",
       "      <td>0.184253</td>\n",
       "      <td>0.019241</td>\n",
       "      <td>00:00 01-01-2022</td>\n",
       "    </tr>\n",
       "    <tr>\n",
       "      <th>3</th>\n",
       "      <td>1</td>\n",
       "      <td>1</td>\n",
       "      <td>0</td>\n",
       "      <td>MP 07: Naamsestraat 81</td>\n",
       "      <td>50.056861</td>\n",
       "      <td>47.440222</td>\n",
       "      <td>-0.393044</td>\n",
       "      <td>-0.513162</td>\n",
       "      <td>00:00 01-01-2022</td>\n",
       "    </tr>\n",
       "    <tr>\n",
       "      <th>4</th>\n",
       "      <td>1</td>\n",
       "      <td>1</td>\n",
       "      <td>1</td>\n",
       "      <td>MP 03: Naamsestraat 62 Taste</td>\n",
       "      <td>53.033583</td>\n",
       "      <td>50.853806</td>\n",
       "      <td>0.083088</td>\n",
       "      <td>0.035608</td>\n",
       "      <td>01:00 01-01-2022</td>\n",
       "    </tr>\n",
       "  </tbody>\n",
       "</table>\n",
       "</div>"
      ],
      "text/plain": [
       "   month  day  hour                       description      lamax       laeq   \n",
       "0      1    1     0      MP 03: Naamsestraat 62 Taste  60.322528  57.126833  \\\n",
       "1      1    1     0    MP 05: Calvariekapel KU Leuven  53.230972  49.987639   \n",
       "2      1    1     0  MP 06: Parkstraat 2 La Filosovia  53.666056  50.752000   \n",
       "3      1    1     0            MP 07: Naamsestraat 81  50.056861  47.440222   \n",
       "4      1    1     1      MP 03: Naamsestraat 62 Taste  53.033583  50.853806   \n",
       "\n",
       "   lamax_standardized  laeq_standardized              date  \n",
       "0            1.248969           1.044063  00:00 01-01-2022  \n",
       "1            0.114661          -0.103638  00:00 01-01-2022  \n",
       "2            0.184253           0.019241  00:00 01-01-2022  \n",
       "3           -0.393044          -0.513162  00:00 01-01-2022  \n",
       "4            0.083088           0.035608  01:00 01-01-2022  "
      ]
     },
     "execution_count": 12,
     "metadata": {},
     "output_type": "execute_result"
    }
   ],
   "source": [
    "noise_data = pd.read_csv(\"../Data for visualization/hourly_noisedata_2022.csv\", header = 0, sep=',')\n",
    "noise_data.head()"
   ]
  },
  {
   "cell_type": "code",
   "execution_count": 13,
   "id": "e3ae39a2",
   "metadata": {},
   "outputs": [
    {
     "name": "stdout",
     "output_type": "stream",
     "text": [
      "       month  day  hour                   description      lamax       laeq   \n",
      "0          1    1     0  MP 03: Naamsestraat 62 Taste  60.322528  57.126833  \\\n",
      "4          1    1     1  MP 03: Naamsestraat 62 Taste  53.033583  50.853806   \n",
      "8          1    1     2  MP 03: Naamsestraat 62 Taste  52.173702  50.049903   \n",
      "12         1    1     3  MP 03: Naamsestraat 62 Taste  50.821311  48.964907   \n",
      "16         1    1     4  MP 03: Naamsestraat 62 Taste  49.134851  47.285893   \n",
      "...      ...  ...   ...                           ...        ...        ...   \n",
      "55439     12   31    19  MP 03: Naamsestraat 62 Taste  55.340278  53.559333   \n",
      "55445     12   31    20  MP 03: Naamsestraat 62 Taste  53.803528  52.055583   \n",
      "55451     12   31    21  MP 03: Naamsestraat 62 Taste  52.387139  50.424556   \n",
      "55457     12   31    22  MP 03: Naamsestraat 62 Taste  53.031611  51.030861   \n",
      "55463     12   31    23  MP 03: Naamsestraat 62 Taste  59.199583  56.661017   \n",
      "\n",
      "       lamax_standardized  laeq_standardized              date  \n",
      "0                1.248969           1.044063  00:00 01-01-2022  \n",
      "4                0.083088           0.035608  01:00 01-01-2022  \n",
      "8               -0.054452          -0.093628  02:00 01-01-2022  \n",
      "12              -0.270769          -0.268053  03:00 01-01-2022  \n",
      "16              -0.540522          -0.537972  04:00 01-01-2022  \n",
      "...                   ...                ...               ...  \n",
      "55439            0.452048           0.470550  19:00 31-12-2022  \n",
      "55445            0.206242           0.228806  20:00 31-12-2022  \n",
      "55451           -0.020312          -0.033399  21:00 31-12-2022  \n",
      "55457            0.082773           0.064071  22:00 31-12-2022  \n",
      "55463            1.069352           0.969178  23:00 31-12-2022  \n",
      "\n",
      "[8759 rows x 9 columns]\n"
     ]
    }
   ],
   "source": [
    "noise_data = noise_data[noise_data[\"description\"] == \"MP 03: Naamsestraat 62 Taste\"]\n",
    "print(noise_data)"
   ]
  },
  {
   "cell_type": "code",
   "execution_count": 14,
   "id": "80181c34",
   "metadata": {},
   "outputs": [],
   "source": [
    "#Impute single observation\n",
    "noise_series = pd.Series(noise_data['laeq'])\n",
    "noise_series.loc[9430] = 50.700694\n",
    "noise_series = noise_series.sort_index()\n",
    "noise_series = noise_series.reset_index().drop('index', axis = 1)"
   ]
  },
  {
   "cell_type": "code",
   "execution_count": 15,
   "id": "54d512c2",
   "metadata": {},
   "outputs": [],
   "source": [
    "weather_data = pd.read_csv(\"../Data for visualization/hourly_weatherdata_2022.csv\", header = 0, sep=',')\n",
    "weather_cont = weather_data[['LC_RAININ', 'LC_DAILYRAIN', 'LC_WINDSPEED', 'LC_TEMP_QCL3']]"
   ]
  },
  {
   "cell_type": "code",
   "execution_count": 16,
   "id": "6c4ba639",
   "metadata": {},
   "outputs": [
    {
     "name": "stdout",
     "output_type": "stream",
     "text": [
      "      Noise (A-weighted hourly avg)  Rain intensity  Cumulative rain   \n",
      "0                         57.126833        0.000023         0.002997  \\\n",
      "1                         50.853806        0.000019         0.002174   \n",
      "2                         50.049903        0.000003         0.000360   \n",
      "3                         48.964907        0.000007         0.000000   \n",
      "4                         47.285893        0.000009         0.000000   \n",
      "...                             ...             ...              ...   \n",
      "8755                      53.559333        0.000074         0.002981   \n",
      "8756                      52.055583        0.000077         0.002981   \n",
      "8757                      50.424556        0.000077         0.002988   \n",
      "8758                      51.030861        0.000074         0.002991   \n",
      "8759                      56.661017        0.000019         0.002991   \n",
      "\n",
      "      Windspeed  Temperature  \n",
      "0      1.487099    15.513391  \n",
      "1      1.465571    15.770757  \n",
      "2      0.389565    13.100358  \n",
      "3      0.222602    12.669197  \n",
      "4      0.217194    12.520271  \n",
      "...         ...          ...  \n",
      "8755   1.200756    14.964675  \n",
      "8756   1.364861    15.006786  \n",
      "8757   1.473519    15.320673  \n",
      "8758   1.416481    15.483860  \n",
      "8759   1.481049    15.442535  \n",
      "\n",
      "[8760 rows x 5 columns]\n"
     ]
    }
   ],
   "source": [
    "cont_features = pd.concat([noise_series, weather_cont], axis=1)\n",
    "cont_features.rename(columns={\"laeq\": \"Noise (A-weighted hourly avg)\", \"LC_RAININ\": \"Rain intensity\", \"LC_DAILYRAIN\": \"Cumulative rain\",\n",
    "                              \"LC_WINDSPEED\": \"Windspeed\", \"LC_TEMP_QCL3\": \"Temperature\"},\n",
    "    inplace=True,)\n",
    "print(cont_features)"
   ]
  },
  {
   "cell_type": "code",
   "execution_count": 17,
   "id": "f3d355de",
   "metadata": {},
   "outputs": [
    {
     "data": {
      "image/png": "[encoded data removed]",
      "text/plain": [
       "<Figure size 640x480 with 2 Axes>"
      ]
     },
     "metadata": {},
     "output_type": "display_data"
    }
   ],
   "source": [
    "corr_matrix = cont_features.corr()\n",
    "# Generate mask for upper triangle\n",
    "mask = np.zeros_like(corr_matrix, dtype=bool)\n",
    "mask[np.triu_indices_from(mask)] = True\n",
    "# Create heatmap\n",
    "sns.set_style('white')\n",
    "sns.heatmap(corr_matrix, mask=mask, cmap='coolwarm', center=0,\n",
    "square=True, linewidths=.5, annot=True, xticklabels = True, yticklabels = True)\n",
    "plt.title('Correlation matrix heatmap')\n",
    "plt.show()"
   ]
  },
  {
   "cell_type": "code",
   "execution_count": null,
   "id": "6a959a7e",
   "metadata": {},
   "outputs": [],
   "source": []
  }
 ],
 "metadata": {
  "kernelspec": {
   "display_name": "Python 3 (ipykernel)",
   "language": "python",
   "name": "python3"
  },
  "language_info": {
   "codemirror_mode": {
    "name": "ipython",
    "version": 3
   },
   "file_extension": ".py",
   "mimetype": "text/x-python",
   "name": "python",
   "nbconvert_exporter": "python",
   "pygments_lexer": "ipython3",
   "version": "3.10.9"
  }
 },
 "nbformat": 4,
 "nbformat_minor": 5
}
