{
 "cells": [
  {
   "cell_type": "code",
   "execution_count": 10,
   "id": "ebdf7825",
   "metadata": {},
   "outputs": [],
   "source": [
    "import pandas as pd\n",
    "import dash\n",
    "from dash import Dash, html, dcc, callback, Output, Input\n",
    "from plotly.subplots import make_subplots\n",
    "import plotly.graph_objects as go\n",
    "import numpy as np\n",
    "import plotly.express as px\n",
    "from jupyter_dash import JupyterDash"
   ]
  },
  {
   "cell_type": "markdown",
   "id": "ae33daf7",
   "metadata": {},
   "source": [
    "### Loading the data "
   ]
  },
  {
   "cell_type": "markdown",
   "id": "e978ff17",
   "metadata": {},
   "source": [
    "#### (for now I'm just loading a few files here to play around with the graphs)"
   ]
  },
  {
   "cell_type": "code",
   "execution_count": null,
   "id": "ce1ec478",
   "metadata": {},
   "outputs": [],
   "source": [
    "# meteo data\n",
    "Q1_2022 = pd.read_csv('https://mda-georgia-bucket.s3.eu-central-1.amazonaws.com/Meteo+data/LC_2022Q1.csv')\n",
    "Q2_2022 = pd.read_csv('https://mda-georgia-bucket.s3.eu-central-1.amazonaws.com/Meteo+data/LC_2022Q2.csv')\n",
    "Q3_2022 = pd.read_csv('https://mda-georgia-bucket.s3.eu-central-1.amazonaws.com/Meteo+data/LC_2022Q3.csv')\n",
    "Q4_2022 = pd.read_csv('https://mda-georgia-bucket.s3.eu-central-1.amazonaws.com/Meteo+data/LC_2022Q4.csv')\n",
    "\n",
    "# combine meteo dataset \n",
    "meteocombined = pd.concat([Q1_2022, Q2_2022, Q3_2022, Q4_2022], axis=0)\n",
    "meteocombined.head()\n",
    "\n",
    "# aggregate meteo data by day\n",
    "avg_meteo_combined = meteocombined.groupby(['Year','Month', 'Day']).mean()\n",
    "avg_meteo_combined = avg_meteo_combined.reset_index()\n",
    "avg_meteo_combined.head()"
   ]
  },
  {
   "cell_type": "code",
   "execution_count": null,
   "id": "8ef89223",
   "metadata": {},
   "outputs": [],
   "source": [
    "# updated noise data - January\n",
    "naamse35_jan = pd.read_csv('https://mda-georgia-bucket.s3.eu-central-1.amazonaws.com/Noise+data/Jan/Jan/csv_results_42_255439_mp-01-naamsestraat-35-maxim.csv', header=0, sep=';')\n",
    "naamse57_jan = pd.read_csv('https://mda-georgia-bucket.s3.eu-central-1.amazonaws.com/Noise+data/Jan/Jan/csv_results_42_255440_mp-02-naamsestraat-57-xior.csv', header=0, sep=';')\n",
    "naamse62_jan = pd.read_csv('https://mda-georgia-bucket.s3.eu-central-1.amazonaws.com/Noise+data/Jan/Jan/csv_results_42_255441_mp-03-naamsestraat-62-taste.csv', header=0, sep=';')\n",
    "calvarie_jan = pd.read_csv('https://mda-georgia-bucket.s3.eu-central-1.amazonaws.com/Noise+data/Jan/Jan/csv_results_42_255442_mp-05-calvariekapel-ku-leuven.csv', header=0, sep=';')\n",
    "park_jan = pd.read_csv('https://mda-georgia-bucket.s3.eu-central-1.amazonaws.com/Noise+data/Jan/Jan/csv_results_42_255443_mp-06-parkstraat-2-la-filosovia.csv', header=0, sep=';')\n",
    "naamse81_jan = pd.read_csv('https://mda-georgia-bucket.s3.eu-central-1.amazonaws.com/Noise+data/Jan/Jan/csv_results_42_255444_mp-07-naamsestraat-81.csv', header=0, sep=';')\n",
    "kiosk_jan = pd.read_csv('https://mda-georgia-bucket.s3.eu-central-1.amazonaws.com/Noise+data/Jan/Jan/csv_results_42_255445_mp-08-kiosk-stadspark.csv', header=0, sep=';')\n",
    "vrijt_jan = pd.read_csv('https://mda-georgia-bucket.s3.eu-central-1.amazonaws.com/Noise+data/Jan/Jan/csv_results_42_280324_mp08bis---vrijthof.csv', header=0, sep=';')\n",
    "his_jan = pd.read_csv('https://mda-georgia-bucket.s3.eu-central-1.amazonaws.com/Noise+data/Jan/Jan/csv_results_42_303910_mp-04-his-hears.csv', header=0, sep=';')\n",
    "\n",
    "# combine noise data for January together\n",
    "noise_jan_combined = pd.concat([naamse35_jan, naamse57_jan, naamse62_jan, calvarie_jan, park_jan, naamse81_jan, kiosk_jan, vrijt_jan, his_jan], axis=0)\n",
    "noise_jan_combined.head()\n",
    "\n",
    "# extract the date, month, hour, minute of \"result_timestamp\"\n",
    "noise_jan_combined['result_timestamp'] = pd.to_datetime(noise_jan_combined['result_timestamp'], format='%d/%m/%Y %H:%M:%S.%f')\n",
    "\n",
    "\n",
    "noise_jan_combined['result_date'] = noise_jan_combined['result_timestamp'].dt.date\n",
    "noise_jan_combined['result_month'] = noise_jan_combined['result_timestamp'].dt.month\n",
    "noise_jan_combined['result_day'] = noise_jan_combined['result_timestamp'].dt.day\n",
    "noise_jan_combined['result_hour'] = noise_jan_combined['result_timestamp'].dt.hour\n",
    "noise_jan_combined['result_minute'] = noise_jan_combined['result_timestamp'].dt.minute\n",
    "\n",
    "noise_jan_combined.head()\n",
    "\n",
    "# aggregate the data by day\n",
    "avg_jan_combined = noise_jan_combined.groupby(['result_date','description']).mean()\n",
    "avg_jan_combined = avg_jan_combined.reset_index()\n",
    "columns_to_drop = ['result_hour', 'result_minute']\n",
    "avg_jan_combined.drop(columns_to_drop, axis=1, inplace=True)\n",
    "avg_jan_combined.head(150)"
   ]
  },
  {
   "cell_type": "markdown",
   "id": "346f391c",
   "metadata": {},
   "source": [
    "### Creating Plotly visualizations"
   ]
  },
  {
   "cell_type": "markdown",
   "id": "ca125a26",
   "metadata": {},
   "source": [
    "### Creating a Plotly Dash app"
   ]
  },
  {
   "cell_type": "code",
   "execution_count": 11,
   "id": "a20caa4b",
   "metadata": {},
   "outputs": [],
   "source": [
    "# Setting up the app \n",
    "app = JupyterDash(__name__)"
   ]
  },
  {
   "cell_type": "code",
   "execution_count": 12,
   "id": "11755430",
   "metadata": {},
   "outputs": [],
   "source": [
    "# Defining the app layout \n",
    "app.layout = html.Div(\n",
    "    children=[\n",
    "        html.H1(\"Noise Level Analysis\"),\n",
    "        dcc.Graph(id=\"noise-graph\"),\n",
    "        html.Label(\"Select a noise threshold:\"),\n",
    "        dcc.Slider(\n",
    "            id=\"noise-threshold-slider\",\n",
    "            min=0,\n",
    "            max=100,\n",
    "            step=1,\n",
    "            value=50,\n",
    "            marks={str(i): str(i) for i in range(0, 101, 10)},\n",
    "        ),\n",
    "    ]\n",
    ")\n"
   ]
  },
  {
   "cell_type": "code",
   "execution_count": 13,
   "id": "a784fcc2",
   "metadata": {},
   "outputs": [],
   "source": [
    "@app.callback(\n",
    "    dash.dependencies.Output(\"noise-graph\", \"figure\"),\n",
    "    [dash.dependencies.Input(\"noise-threshold-slider\", \"value\")]\n",
    ")\n",
    "def update_graph(noise_threshold):\n",
    "    # Perform data filtering and analysis based on the noise threshold\n",
    "    # Create and return a new Plotly figure\n",
    "    # Example: Assume `data` is your data and `filter_data()` is a filtering function\n",
    "    filtered_data = filter_data(data, noise_threshold)\n",
    "    fig = create_figure(filtered_data)\n",
    "    return fig\n"
   ]
  },
  {
   "cell_type": "code",
   "execution_count": 14,
   "id": "7c36281e",
   "metadata": {},
   "outputs": [
    {
     "name": "stdout",
     "output_type": "stream",
     "text": [
      "Dash is running on http://127.0.0.1:8050/\n",
      "\n"
     ]
    },
    {
     "data": {
      "text/html": [
       "\n",
       "        <iframe\n",
       "            width=\"100%\"\n",
       "            height=\"650\"\n",
       "            src=\"http://127.0.0.1:8050/\"\n",
       "            frameborder=\"0\"\n",
       "            allowfullscreen\n",
       "            \n",
       "        ></iframe>\n",
       "        "
      ],
      "text/plain": [
       "<IPython.lib.display.IFrame at 0x1da4b434970>"
      ]
     },
     "metadata": {},
     "output_type": "display_data"
    },
    {
     "name": "stdout",
     "output_type": "stream",
     "text": [
      "\u001b[1;31m---------------------------------------------------------------------------\u001b[0m\n",
      "\u001b[1;31mNameError\u001b[0m                                 Traceback (most recent call last)\n",
      "\u001b[1;31mNameError\u001b[0m: name 'filter_data' is not defined\n",
      "\n",
      "\u001b[1;31m---------------------------------------------------------------------------\u001b[0m\n",
      "\u001b[1;31mNameError\u001b[0m                                 Traceback (most recent call last)\n",
      "\u001b[1;31mNameError\u001b[0m: name 'filter_data' is not defined\n",
      "\n",
      "\u001b[1;31m---------------------------------------------------------------------------\u001b[0m\n",
      "\u001b[1;31mNameError\u001b[0m                                 Traceback (most recent call last)\n",
      "\u001b[1;31mNameError\u001b[0m: name 'filter_data' is not defined\n",
      "\n",
      "\u001b[1;31m---------------------------------------------------------------------------\u001b[0m\n",
      "\u001b[1;31mNameError\u001b[0m                                 Traceback (most recent call last)\n",
      "\u001b[1;31mNameError\u001b[0m: name 'filter_data' is not defined\n",
      "\n"
     ]
    }
   ],
   "source": [
    "if __name__ == \"__main__\":\n",
    "    app.run_server(mode='inline')\n"
   ]
  }
 ],
 "metadata": {
  "kernelspec": {
   "display_name": "Python 3 (ipykernel)",
   "language": "python",
   "name": "python3"
  },
  "language_info": {
   "codemirror_mode": {
    "name": "ipython",
    "version": 3
   },
   "file_extension": ".py",
   "mimetype": "text/x-python",
   "name": "python",
   "nbconvert_exporter": "python",
   "pygments_lexer": "ipython3",
   "version": "3.9.7"
  }
 },
 "nbformat": 4,
 "nbformat_minor": 5
}
