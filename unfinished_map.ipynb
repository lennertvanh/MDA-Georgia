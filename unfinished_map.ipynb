{
 "cells": [
  {
   "cell_type": "code",
   "execution_count": 1,
   "metadata": {},
   "outputs": [],
   "source": [
    "import pandas as pd\n",
    "import plotly.graph_objects as go"
   ]
  },
  {
   "cell_type": "code",
   "execution_count": 2,
   "metadata": {},
   "outputs": [
    {
     "data": {
      "text/html": [
       "<div>\n",
       "<style scoped>\n",
       "    .dataframe tbody tr th:only-of-type {\n",
       "        vertical-align: middle;\n",
       "    }\n",
       "\n",
       "    .dataframe tbody tr th {\n",
       "        vertical-align: top;\n",
       "    }\n",
       "\n",
       "    .dataframe thead th {\n",
       "        text-align: right;\n",
       "    }\n",
       "</style>\n",
       "<table border=\"1\" class=\"dataframe\">\n",
       "  <thead>\n",
       "    <tr style=\"text-align: right;\">\n",
       "      <th></th>\n",
       "      <th>index</th>\n",
       "      <th>result_date</th>\n",
       "      <th>description</th>\n",
       "      <th>lamax</th>\n",
       "      <th>laeq</th>\n",
       "      <th>lceq</th>\n",
       "      <th>lcpeak</th>\n",
       "      <th>result_month</th>\n",
       "      <th>result_day</th>\n",
       "    </tr>\n",
       "  </thead>\n",
       "  <tbody>\n",
       "    <tr>\n",
       "      <th>0</th>\n",
       "      <td>0</td>\n",
       "      <td>2022-01-01</td>\n",
       "      <td>MP 03: Naamsestraat 62 Taste</td>\n",
       "      <td>51.665242</td>\n",
       "      <td>49.992637</td>\n",
       "      <td>59.345285</td>\n",
       "      <td>71.190601</td>\n",
       "      <td>1.0</td>\n",
       "      <td>1.0</td>\n",
       "    </tr>\n",
       "    <tr>\n",
       "      <th>1</th>\n",
       "      <td>1</td>\n",
       "      <td>2022-01-01</td>\n",
       "      <td>MP 05: Calvariekapel KU Leuven</td>\n",
       "      <td>48.747476</td>\n",
       "      <td>46.504067</td>\n",
       "      <td>54.970850</td>\n",
       "      <td>67.557919</td>\n",
       "      <td>1.0</td>\n",
       "      <td>1.0</td>\n",
       "    </tr>\n",
       "    <tr>\n",
       "      <th>2</th>\n",
       "      <td>2</td>\n",
       "      <td>2022-01-01</td>\n",
       "      <td>MP 06: Parkstraat 2 La Filosovia</td>\n",
       "      <td>48.270005</td>\n",
       "      <td>46.007220</td>\n",
       "      <td>54.286131</td>\n",
       "      <td>67.321329</td>\n",
       "      <td>1.0</td>\n",
       "      <td>1.0</td>\n",
       "    </tr>\n",
       "    <tr>\n",
       "      <th>3</th>\n",
       "      <td>3</td>\n",
       "      <td>2022-01-01</td>\n",
       "      <td>MP 07: Naamsestraat 81</td>\n",
       "      <td>45.908501</td>\n",
       "      <td>44.373056</td>\n",
       "      <td>55.526650</td>\n",
       "      <td>66.988945</td>\n",
       "      <td>1.0</td>\n",
       "      <td>1.0</td>\n",
       "    </tr>\n",
       "    <tr>\n",
       "      <th>4</th>\n",
       "      <td>4</td>\n",
       "      <td>2022-01-02</td>\n",
       "      <td>MP 03: Naamsestraat 62 Taste</td>\n",
       "      <td>51.407297</td>\n",
       "      <td>50.094018</td>\n",
       "      <td>59.816366</td>\n",
       "      <td>71.545452</td>\n",
       "      <td>1.0</td>\n",
       "      <td>2.0</td>\n",
       "    </tr>\n",
       "  </tbody>\n",
       "</table>\n",
       "</div>"
      ],
      "text/plain": [
       "   index result_date                       description      lamax       laeq  \\\n",
       "0      0  2022-01-01      MP 03: Naamsestraat 62 Taste  51.665242  49.992637   \n",
       "1      1  2022-01-01    MP 05: Calvariekapel KU Leuven  48.747476  46.504067   \n",
       "2      2  2022-01-01  MP 06: Parkstraat 2 La Filosovia  48.270005  46.007220   \n",
       "3      3  2022-01-01            MP 07: Naamsestraat 81  45.908501  44.373056   \n",
       "4      4  2022-01-02      MP 03: Naamsestraat 62 Taste  51.407297  50.094018   \n",
       "\n",
       "        lceq     lcpeak  result_month  result_day  \n",
       "0  59.345285  71.190601           1.0         1.0  \n",
       "1  54.970850  67.557919           1.0         1.0  \n",
       "2  54.286131  67.321329           1.0         1.0  \n",
       "3  55.526650  66.988945           1.0         1.0  \n",
       "4  59.816366  71.545452           1.0         2.0  "
      ]
     },
     "execution_count": 2,
     "metadata": {},
     "output_type": "execute_result"
    }
   ],
   "source": [
    "data_noise = pd.read_csv('combined_noisedata_2022.csv', header=0, sep=',')\n",
    "data_noise.head()"
   ]
  },
  {
   "cell_type": "code",
   "execution_count": 5,
   "metadata": {},
   "outputs": [
    {
     "data": {
      "text/html": [
       "<div>\n",
       "<style scoped>\n",
       "    .dataframe tbody tr th:only-of-type {\n",
       "        vertical-align: middle;\n",
       "    }\n",
       "\n",
       "    .dataframe tbody tr th {\n",
       "        vertical-align: top;\n",
       "    }\n",
       "\n",
       "    .dataframe thead th {\n",
       "        text-align: right;\n",
       "    }\n",
       "</style>\n",
       "<table border=\"1\" class=\"dataframe\">\n",
       "  <thead>\n",
       "    <tr style=\"text-align: right;\">\n",
       "      <th></th>\n",
       "      <th>Year</th>\n",
       "      <th>Month</th>\n",
       "      <th>Day</th>\n",
       "      <th>LC_HUMIDITY</th>\n",
       "      <th>LC_DWPTEMP</th>\n",
       "      <th>LC_n</th>\n",
       "      <th>LC_RAD</th>\n",
       "      <th>LC_RAININ</th>\n",
       "      <th>LC_DAILYRAIN</th>\n",
       "      <th>LC_WINDDIR</th>\n",
       "      <th>LC_WINDSPEED</th>\n",
       "      <th>Hour</th>\n",
       "      <th>Minute</th>\n",
       "      <th>LC_RAD60</th>\n",
       "      <th>LC_TEMP_QCL0</th>\n",
       "      <th>LC_TEMP_QCL1</th>\n",
       "      <th>LC_TEMP_QCL2</th>\n",
       "      <th>LC_TEMP_QCL3</th>\n",
       "    </tr>\n",
       "  </thead>\n",
       "  <tbody>\n",
       "    <tr>\n",
       "      <th>0</th>\n",
       "      <td>2022</td>\n",
       "      <td>1</td>\n",
       "      <td>1</td>\n",
       "      <td>86.557205</td>\n",
       "      <td>10.257703</td>\n",
       "      <td>36.346609</td>\n",
       "      <td>21.264531</td>\n",
       "      <td>2.130943e-06</td>\n",
       "      <td>0.000029</td>\n",
       "      <td>-6.567639</td>\n",
       "      <td>0.322477</td>\n",
       "      <td>11.58042</td>\n",
       "      <td>25.174825</td>\n",
       "      <td>21.396634</td>\n",
       "      <td>12.447359</td>\n",
       "      <td>12.464281</td>\n",
       "      <td>12.450807</td>\n",
       "      <td>12.424740</td>\n",
       "    </tr>\n",
       "    <tr>\n",
       "      <th>1</th>\n",
       "      <td>2022</td>\n",
       "      <td>1</td>\n",
       "      <td>2</td>\n",
       "      <td>83.512460</td>\n",
       "      <td>9.379296</td>\n",
       "      <td>36.056435</td>\n",
       "      <td>14.140794</td>\n",
       "      <td>6.575051e-04</td>\n",
       "      <td>0.003468</td>\n",
       "      <td>-28.866315</td>\n",
       "      <td>0.721487</td>\n",
       "      <td>11.50000</td>\n",
       "      <td>25.000000</td>\n",
       "      <td>14.099483</td>\n",
       "      <td>12.112883</td>\n",
       "      <td>12.115685</td>\n",
       "      <td>12.102359</td>\n",
       "      <td>12.086891</td>\n",
       "    </tr>\n",
       "    <tr>\n",
       "      <th>2</th>\n",
       "      <td>2022</td>\n",
       "      <td>1</td>\n",
       "      <td>3</td>\n",
       "      <td>89.579036</td>\n",
       "      <td>8.004425</td>\n",
       "      <td>35.882086</td>\n",
       "      <td>5.529369</td>\n",
       "      <td>7.500549e-04</td>\n",
       "      <td>0.006831</td>\n",
       "      <td>-35.256016</td>\n",
       "      <td>0.663436</td>\n",
       "      <td>11.50000</td>\n",
       "      <td>25.000000</td>\n",
       "      <td>5.517430</td>\n",
       "      <td>9.646861</td>\n",
       "      <td>9.648249</td>\n",
       "      <td>9.635166</td>\n",
       "      <td>9.683051</td>\n",
       "    </tr>\n",
       "    <tr>\n",
       "      <th>3</th>\n",
       "      <td>2022</td>\n",
       "      <td>1</td>\n",
       "      <td>4</td>\n",
       "      <td>94.288450</td>\n",
       "      <td>5.983424</td>\n",
       "      <td>35.816041</td>\n",
       "      <td>7.944379</td>\n",
       "      <td>4.690343e-04</td>\n",
       "      <td>0.003571</td>\n",
       "      <td>-25.637291</td>\n",
       "      <td>0.333304</td>\n",
       "      <td>11.50000</td>\n",
       "      <td>25.000000</td>\n",
       "      <td>7.962571</td>\n",
       "      <td>6.830167</td>\n",
       "      <td>6.828260</td>\n",
       "      <td>6.816515</td>\n",
       "      <td>6.837235</td>\n",
       "    </tr>\n",
       "    <tr>\n",
       "      <th>4</th>\n",
       "      <td>2022</td>\n",
       "      <td>1</td>\n",
       "      <td>5</td>\n",
       "      <td>88.026102</td>\n",
       "      <td>2.078484</td>\n",
       "      <td>35.573298</td>\n",
       "      <td>13.893690</td>\n",
       "      <td>1.311691e-04</td>\n",
       "      <td>0.000262</td>\n",
       "      <td>-44.342911</td>\n",
       "      <td>0.609569</td>\n",
       "      <td>11.50000</td>\n",
       "      <td>25.000000</td>\n",
       "      <td>13.890103</td>\n",
       "      <td>3.903085</td>\n",
       "      <td>3.900556</td>\n",
       "      <td>3.890475</td>\n",
       "      <td>3.915760</td>\n",
       "    </tr>\n",
       "    <tr>\n",
       "      <th>...</th>\n",
       "      <td>...</td>\n",
       "      <td>...</td>\n",
       "      <td>...</td>\n",
       "      <td>...</td>\n",
       "      <td>...</td>\n",
       "      <td>...</td>\n",
       "      <td>...</td>\n",
       "      <td>...</td>\n",
       "      <td>...</td>\n",
       "      <td>...</td>\n",
       "      <td>...</td>\n",
       "      <td>...</td>\n",
       "      <td>...</td>\n",
       "      <td>...</td>\n",
       "      <td>...</td>\n",
       "      <td>...</td>\n",
       "      <td>...</td>\n",
       "      <td>...</td>\n",
       "    </tr>\n",
       "    <tr>\n",
       "      <th>145</th>\n",
       "      <td>2022</td>\n",
       "      <td>5</td>\n",
       "      <td>26</td>\n",
       "      <td>72.792575</td>\n",
       "      <td>11.827276</td>\n",
       "      <td>35.412651</td>\n",
       "      <td>135.475905</td>\n",
       "      <td>1.333067e-07</td>\n",
       "      <td>0.000000</td>\n",
       "      <td>-38.424648</td>\n",
       "      <td>0.640813</td>\n",
       "      <td>11.50000</td>\n",
       "      <td>25.000000</td>\n",
       "      <td>135.516595</td>\n",
       "      <td>16.897047</td>\n",
       "      <td>16.885121</td>\n",
       "      <td>16.890886</td>\n",
       "      <td>16.672137</td>\n",
       "    </tr>\n",
       "    <tr>\n",
       "      <th>146</th>\n",
       "      <td>2022</td>\n",
       "      <td>5</td>\n",
       "      <td>27</td>\n",
       "      <td>70.133257</td>\n",
       "      <td>9.712733</td>\n",
       "      <td>35.554285</td>\n",
       "      <td>171.633997</td>\n",
       "      <td>7.278353e-05</td>\n",
       "      <td>0.001330</td>\n",
       "      <td>-22.966568</td>\n",
       "      <td>0.467876</td>\n",
       "      <td>11.50000</td>\n",
       "      <td>25.000000</td>\n",
       "      <td>171.576838</td>\n",
       "      <td>15.626943</td>\n",
       "      <td>15.597781</td>\n",
       "      <td>15.604790</td>\n",
       "      <td>15.417696</td>\n",
       "    </tr>\n",
       "    <tr>\n",
       "      <th>147</th>\n",
       "      <td>2022</td>\n",
       "      <td>5</td>\n",
       "      <td>28</td>\n",
       "      <td>66.537662</td>\n",
       "      <td>6.701203</td>\n",
       "      <td>35.230224</td>\n",
       "      <td>148.380535</td>\n",
       "      <td>0.000000e+00</td>\n",
       "      <td>0.000000</td>\n",
       "      <td>-10.757694</td>\n",
       "      <td>0.344446</td>\n",
       "      <td>11.50000</td>\n",
       "      <td>25.000000</td>\n",
       "      <td>148.513698</td>\n",
       "      <td>13.271449</td>\n",
       "      <td>13.230343</td>\n",
       "      <td>13.235645</td>\n",
       "      <td>13.001850</td>\n",
       "    </tr>\n",
       "    <tr>\n",
       "      <th>148</th>\n",
       "      <td>2022</td>\n",
       "      <td>5</td>\n",
       "      <td>29</td>\n",
       "      <td>79.553728</td>\n",
       "      <td>7.084447</td>\n",
       "      <td>35.161585</td>\n",
       "      <td>112.653862</td>\n",
       "      <td>1.125832e-04</td>\n",
       "      <td>0.000662</td>\n",
       "      <td>-7.671372</td>\n",
       "      <td>0.197850</td>\n",
       "      <td>11.50000</td>\n",
       "      <td>25.000000</td>\n",
       "      <td>112.468773</td>\n",
       "      <td>10.652728</td>\n",
       "      <td>10.627754</td>\n",
       "      <td>10.633292</td>\n",
       "      <td>10.507080</td>\n",
       "    </tr>\n",
       "    <tr>\n",
       "      <th>149</th>\n",
       "      <td>2022</td>\n",
       "      <td>5</td>\n",
       "      <td>30</td>\n",
       "      <td>67.619216</td>\n",
       "      <td>5.660162</td>\n",
       "      <td>35.030623</td>\n",
       "      <td>121.243915</td>\n",
       "      <td>1.404119e-06</td>\n",
       "      <td>0.000014</td>\n",
       "      <td>3.859187</td>\n",
       "      <td>0.048360</td>\n",
       "      <td>11.50000</td>\n",
       "      <td>25.000000</td>\n",
       "      <td>121.128537</td>\n",
       "      <td>12.070288</td>\n",
       "      <td>12.066438</td>\n",
       "      <td>12.072032</td>\n",
       "      <td>11.813321</td>\n",
       "    </tr>\n",
       "  </tbody>\n",
       "</table>\n",
       "<p>150 rows × 18 columns</p>\n",
       "</div>"
      ],
      "text/plain": [
       "     Year  Month  Day  LC_HUMIDITY  LC_DWPTEMP       LC_n      LC_RAD  \\\n",
       "0    2022      1    1    86.557205   10.257703  36.346609   21.264531   \n",
       "1    2022      1    2    83.512460    9.379296  36.056435   14.140794   \n",
       "2    2022      1    3    89.579036    8.004425  35.882086    5.529369   \n",
       "3    2022      1    4    94.288450    5.983424  35.816041    7.944379   \n",
       "4    2022      1    5    88.026102    2.078484  35.573298   13.893690   \n",
       "..    ...    ...  ...          ...         ...        ...         ...   \n",
       "145  2022      5   26    72.792575   11.827276  35.412651  135.475905   \n",
       "146  2022      5   27    70.133257    9.712733  35.554285  171.633997   \n",
       "147  2022      5   28    66.537662    6.701203  35.230224  148.380535   \n",
       "148  2022      5   29    79.553728    7.084447  35.161585  112.653862   \n",
       "149  2022      5   30    67.619216    5.660162  35.030623  121.243915   \n",
       "\n",
       "        LC_RAININ  LC_DAILYRAIN  LC_WINDDIR  LC_WINDSPEED      Hour  \\\n",
       "0    2.130943e-06      0.000029   -6.567639      0.322477  11.58042   \n",
       "1    6.575051e-04      0.003468  -28.866315      0.721487  11.50000   \n",
       "2    7.500549e-04      0.006831  -35.256016      0.663436  11.50000   \n",
       "3    4.690343e-04      0.003571  -25.637291      0.333304  11.50000   \n",
       "4    1.311691e-04      0.000262  -44.342911      0.609569  11.50000   \n",
       "..            ...           ...         ...           ...       ...   \n",
       "145  1.333067e-07      0.000000  -38.424648      0.640813  11.50000   \n",
       "146  7.278353e-05      0.001330  -22.966568      0.467876  11.50000   \n",
       "147  0.000000e+00      0.000000  -10.757694      0.344446  11.50000   \n",
       "148  1.125832e-04      0.000662   -7.671372      0.197850  11.50000   \n",
       "149  1.404119e-06      0.000014    3.859187      0.048360  11.50000   \n",
       "\n",
       "        Minute    LC_RAD60  LC_TEMP_QCL0  LC_TEMP_QCL1  LC_TEMP_QCL2  \\\n",
       "0    25.174825   21.396634     12.447359     12.464281     12.450807   \n",
       "1    25.000000   14.099483     12.112883     12.115685     12.102359   \n",
       "2    25.000000    5.517430      9.646861      9.648249      9.635166   \n",
       "3    25.000000    7.962571      6.830167      6.828260      6.816515   \n",
       "4    25.000000   13.890103      3.903085      3.900556      3.890475   \n",
       "..         ...         ...           ...           ...           ...   \n",
       "145  25.000000  135.516595     16.897047     16.885121     16.890886   \n",
       "146  25.000000  171.576838     15.626943     15.597781     15.604790   \n",
       "147  25.000000  148.513698     13.271449     13.230343     13.235645   \n",
       "148  25.000000  112.468773     10.652728     10.627754     10.633292   \n",
       "149  25.000000  121.128537     12.070288     12.066438     12.072032   \n",
       "\n",
       "     LC_TEMP_QCL3  \n",
       "0       12.424740  \n",
       "1       12.086891  \n",
       "2        9.683051  \n",
       "3        6.837235  \n",
       "4        3.915760  \n",
       "..            ...  \n",
       "145     16.672137  \n",
       "146     15.417696  \n",
       "147     13.001850  \n",
       "148     10.507080  \n",
       "149     11.813321  \n",
       "\n",
       "[150 rows x 18 columns]"
      ]
     },
     "execution_count": 5,
     "metadata": {},
     "output_type": "execute_result"
    }
   ],
   "source": [
    "data_weather = pd.read_csv('combined_weatherdata_2022.csv', header=0, sep=',')\n",
    "data_weather.head(150)"
   ]
  },
  {
   "cell_type": "code",
   "execution_count": 17,
   "metadata": {},
   "outputs": [
    {
     "data": {
      "application/vnd.plotly.v1+json": {
       "config": {
        "plotlyServerURL": "https://plot.ly"
       },
       "data": [
        {
         "lat": [
          50.877121
         ],
         "lon": [
          4.700708
         ],
         "marker": {
          "color": "red",
          "opacity": 0.7,
          "size": 12,
          "symbol": "circle"
         },
         "mode": "markers+text",
         "name": "Naamsestraat 35",
         "text": [
          "⓪"
         ],
         "textfont": {
          "color": "white",
          "size": 16
         },
         "textposition": "middle center",
         "type": "scattermapbox"
        },
        {
         "lat": [
          50.877121
         ],
         "lon": [
          4.700708
         ],
         "mode": "text",
         "showlegend": false,
         "text": [
          "Naamsestraat 35"
         ],
         "textfont": {
          "color": "black",
          "size": 12
         },
         "textposition": "bottom center",
         "type": "scattermapbox"
        },
        {
         "lat": [
          50.8765
         ],
         "lon": [
          4.700632
         ],
         "marker": {
          "color": "red",
          "opacity": 0.7,
          "size": 12,
          "symbol": "circle"
         },
         "mode": "markers+text",
         "name": "Naamsestraat 57",
         "text": [
          "⓪"
         ],
         "textfont": {
          "color": "white",
          "size": 16
         },
         "textposition": "middle center",
         "type": "scattermapbox"
        },
        {
         "lat": [
          50.8765
         ],
         "lon": [
          4.700632
         ],
         "mode": "text",
         "showlegend": false,
         "text": [
          "Naamsestraat 57"
         ],
         "textfont": {
          "color": "black",
          "size": 12
         },
         "textposition": "bottom center",
         "type": "scattermapbox"
        },
        {
         "lat": [
          50.8759
         ],
         "lon": [
          4.700262
         ],
         "marker": {
          "color": "red",
          "opacity": 0.7,
          "size": 12,
          "symbol": "circle"
         },
         "mode": "markers+text",
         "name": "Naamsestraat 62",
         "text": [
          "⓪"
         ],
         "textfont": {
          "color": "white",
          "size": 16
         },
         "textposition": "middle center",
         "type": "scattermapbox"
        },
        {
         "lat": [
          50.8759
         ],
         "lon": [
          4.700262
         ],
         "mode": "text",
         "showlegend": false,
         "text": [
          "Naamsestraat 62"
         ],
         "textfont": {
          "color": "black",
          "size": 12
         },
         "textposition": "bottom center",
         "type": "scattermapbox"
        },
        {
         "lat": [
          50.87452
         ],
         "lon": [
          4.69985
         ],
         "marker": {
          "color": "red",
          "opacity": 0.7,
          "size": 12,
          "symbol": "circle"
         },
         "mode": "markers+text",
         "name": "Calvariekapel",
         "text": [
          "⓪"
         ],
         "textfont": {
          "color": "white",
          "size": 16
         },
         "textposition": "middle center",
         "type": "scattermapbox"
        },
        {
         "lat": [
          50.87452
         ],
         "lon": [
          4.69985
         ],
         "mode": "text",
         "showlegend": false,
         "text": [
          "Calvariekapel"
         ],
         "textfont": {
          "color": "black",
          "size": 12
         },
         "textposition": "bottom center",
         "type": "scattermapbox"
        },
        {
         "lat": [
          50.874078
         ],
         "lon": [
          4.70005
         ],
         "marker": {
          "color": "red",
          "opacity": 0.7,
          "size": 12,
          "symbol": "circle"
         },
         "mode": "markers+text",
         "name": "Parkstraat 2",
         "text": [
          "⓪"
         ],
         "textfont": {
          "color": "white",
          "size": 16
         },
         "textposition": "middle center",
         "type": "scattermapbox"
        },
        {
         "lat": [
          50.874078
         ],
         "lon": [
          4.70005
         ],
         "mode": "text",
         "showlegend": false,
         "text": [
          "Parkstraat 2"
         ],
         "textfont": {
          "color": "black",
          "size": 12
         },
         "textposition": "bottom center",
         "type": "scattermapbox"
        },
        {
         "lat": [
          50.873808
         ],
         "lon": [
          4.700007
         ],
         "marker": {
          "color": "red",
          "opacity": 0.7,
          "size": 12,
          "symbol": "circle"
         },
         "mode": "markers+text",
         "name": "Naamsestraat 81",
         "text": [
          "⓪"
         ],
         "textfont": {
          "color": "white",
          "size": 16
         },
         "textposition": "middle center",
         "type": "scattermapbox"
        },
        {
         "lat": [
          50.873808
         ],
         "lon": [
          4.700007
         ],
         "mode": "text",
         "showlegend": false,
         "text": [
          "Naamsestraat 81"
         ],
         "textfont": {
          "color": "black",
          "size": 12
         },
         "textposition": "bottom center",
         "type": "scattermapbox"
        },
        {
         "lat": [
          50.87593
         ],
         "lon": [
          4.70364
         ],
         "marker": {
          "color": "red",
          "opacity": 0.7,
          "size": 12,
          "symbol": "circle"
         },
         "mode": "markers+text",
         "name": "Kiosk Stadspark",
         "text": [
          "⓪"
         ],
         "textfont": {
          "color": "white",
          "size": 16
         },
         "textposition": "middle center",
         "type": "scattermapbox"
        },
        {
         "lat": [
          50.87593
         ],
         "lon": [
          4.70364
         ],
         "mode": "text",
         "showlegend": false,
         "text": [
          "Kiosk Stadspark"
         ],
         "textfont": {
          "color": "black",
          "size": 12
         },
         "textposition": "bottom center",
         "type": "scattermapbox"
        },
        {
         "lat": [
          50.87873
         ],
         "lon": [
          4.70115
         ],
         "marker": {
          "color": "red",
          "opacity": 0.7,
          "size": 12,
          "symbol": "circle"
         },
         "mode": "markers+text",
         "name": "Vrijthof",
         "text": [
          "⓪"
         ],
         "textfont": {
          "color": "white",
          "size": 16
         },
         "textposition": "middle center",
         "type": "scattermapbox"
        },
        {
         "lat": [
          50.87873
         ],
         "lon": [
          4.70115
         ],
         "mode": "text",
         "showlegend": false,
         "text": [
          "Vrijthof"
         ],
         "textfont": {
          "color": "black",
          "size": 12
         },
         "textposition": "bottom center",
         "type": "scattermapbox"
        }
       ],
       "layout": {
        "mapbox": {
         "center": {
          "lat": 50.8764,
          "lon": 4.702
         },
         "style": "open-street-map",
         "zoom": 15
        },
        "margin": {
         "b": 0,
         "l": 0,
         "r": 0,
         "t": 0
        },
        "template": {
         "data": {
          "bar": [
           {
            "error_x": {
             "color": "#2a3f5f"
            },
            "error_y": {
             "color": "#2a3f5f"
            },
            "marker": {
             "line": {
              "color": "#E5ECF6",
              "width": 0.5
             },
             "pattern": {
              "fillmode": "overlay",
              "size": 10,
              "solidity": 0.2
             }
            },
            "type": "bar"
           }
          ],
          "barpolar": [
           {
            "marker": {
             "line": {
              "color": "#E5ECF6",
              "width": 0.5
             },
             "pattern": {
              "fillmode": "overlay",
              "size": 10,
              "solidity": 0.2
             }
            },
            "type": "barpolar"
           }
          ],
          "carpet": [
           {
            "aaxis": {
             "endlinecolor": "#2a3f5f",
             "gridcolor": "white",
             "linecolor": "white",
             "minorgridcolor": "white",
             "startlinecolor": "#2a3f5f"
            },
            "baxis": {
             "endlinecolor": "#2a3f5f",
             "gridcolor": "white",
             "linecolor": "white",
             "minorgridcolor": "white",
             "startlinecolor": "#2a3f5f"
            },
            "type": "carpet"
           }
          ],
          "choropleth": [
           {
            "colorbar": {
             "outlinewidth": 0,
             "ticks": ""
            },
            "type": "choropleth"
           }
          ],
          "contour": [
           {
            "colorbar": {
             "outlinewidth": 0,
             "ticks": ""
            },
            "colorscale": [
             [
              0,
              "#0d0887"
             ],
             [
              0.1111111111111111,
              "#46039f"
             ],
             [
              0.2222222222222222,
              "#7201a8"
             ],
             [
              0.3333333333333333,
              "#9c179e"
             ],
             [
              0.4444444444444444,
              "#bd3786"
             ],
             [
              0.5555555555555556,
              "#d8576b"
             ],
             [
              0.6666666666666666,
              "#ed7953"
             ],
             [
              0.7777777777777778,
              "#fb9f3a"
             ],
             [
              0.8888888888888888,
              "#fdca26"
             ],
             [
              1,
              "#f0f921"
             ]
            ],
            "type": "contour"
           }
          ],
          "contourcarpet": [
           {
            "colorbar": {
             "outlinewidth": 0,
             "ticks": ""
            },
            "type": "contourcarpet"
           }
          ],
          "heatmap": [
           {
            "colorbar": {
             "outlinewidth": 0,
             "ticks": ""
            },
            "colorscale": [
             [
              0,
              "#0d0887"
             ],
             [
              0.1111111111111111,
              "#46039f"
             ],
             [
              0.2222222222222222,
              "#7201a8"
             ],
             [
              0.3333333333333333,
              "#9c179e"
             ],
             [
              0.4444444444444444,
              "#bd3786"
             ],
             [
              0.5555555555555556,
              "#d8576b"
             ],
             [
              0.6666666666666666,
              "#ed7953"
             ],
             [
              0.7777777777777778,
              "#fb9f3a"
             ],
             [
              0.8888888888888888,
              "#fdca26"
             ],
             [
              1,
              "#f0f921"
             ]
            ],
            "type": "heatmap"
           }
          ],
          "heatmapgl": [
           {
            "colorbar": {
             "outlinewidth": 0,
             "ticks": ""
            },
            "colorscale": [
             [
              0,
              "#0d0887"
             ],
             [
              0.1111111111111111,
              "#46039f"
             ],
             [
              0.2222222222222222,
              "#7201a8"
             ],
             [
              0.3333333333333333,
              "#9c179e"
             ],
             [
              0.4444444444444444,
              "#bd3786"
             ],
             [
              0.5555555555555556,
              "#d8576b"
             ],
             [
              0.6666666666666666,
              "#ed7953"
             ],
             [
              0.7777777777777778,
              "#fb9f3a"
             ],
             [
              0.8888888888888888,
              "#fdca26"
             ],
             [
              1,
              "#f0f921"
             ]
            ],
            "type": "heatmapgl"
           }
          ],
          "histogram": [
           {
            "marker": {
             "pattern": {
              "fillmode": "overlay",
              "size": 10,
              "solidity": 0.2
             }
            },
            "type": "histogram"
           }
          ],
          "histogram2d": [
           {
            "colorbar": {
             "outlinewidth": 0,
             "ticks": ""
            },
            "colorscale": [
             [
              0,
              "#0d0887"
             ],
             [
              0.1111111111111111,
              "#46039f"
             ],
             [
              0.2222222222222222,
              "#7201a8"
             ],
             [
              0.3333333333333333,
              "#9c179e"
             ],
             [
              0.4444444444444444,
              "#bd3786"
             ],
             [
              0.5555555555555556,
              "#d8576b"
             ],
             [
              0.6666666666666666,
              "#ed7953"
             ],
             [
              0.7777777777777778,
              "#fb9f3a"
             ],
             [
              0.8888888888888888,
              "#fdca26"
             ],
             [
              1,
              "#f0f921"
             ]
            ],
            "type": "histogram2d"
           }
          ],
          "histogram2dcontour": [
           {
            "colorbar": {
             "outlinewidth": 0,
             "ticks": ""
            },
            "colorscale": [
             [
              0,
              "#0d0887"
             ],
             [
              0.1111111111111111,
              "#46039f"
             ],
             [
              0.2222222222222222,
              "#7201a8"
             ],
             [
              0.3333333333333333,
              "#9c179e"
             ],
             [
              0.4444444444444444,
              "#bd3786"
             ],
             [
              0.5555555555555556,
              "#d8576b"
             ],
             [
              0.6666666666666666,
              "#ed7953"
             ],
             [
              0.7777777777777778,
              "#fb9f3a"
             ],
             [
              0.8888888888888888,
              "#fdca26"
             ],
             [
              1,
              "#f0f921"
             ]
            ],
            "type": "histogram2dcontour"
           }
          ],
          "mesh3d": [
           {
            "colorbar": {
             "outlinewidth": 0,
             "ticks": ""
            },
            "type": "mesh3d"
           }
          ],
          "parcoords": [
           {
            "line": {
             "colorbar": {
              "outlinewidth": 0,
              "ticks": ""
             }
            },
            "type": "parcoords"
           }
          ],
          "pie": [
           {
            "automargin": true,
            "type": "pie"
           }
          ],
          "scatter": [
           {
            "fillpattern": {
             "fillmode": "overlay",
             "size": 10,
             "solidity": 0.2
            },
            "type": "scatter"
           }
          ],
          "scatter3d": [
           {
            "line": {
             "colorbar": {
              "outlinewidth": 0,
              "ticks": ""
             }
            },
            "marker": {
             "colorbar": {
              "outlinewidth": 0,
              "ticks": ""
             }
            },
            "type": "scatter3d"
           }
          ],
          "scattercarpet": [
           {
            "marker": {
             "colorbar": {
              "outlinewidth": 0,
              "ticks": ""
             }
            },
            "type": "scattercarpet"
           }
          ],
          "scattergeo": [
           {
            "marker": {
             "colorbar": {
              "outlinewidth": 0,
              "ticks": ""
             }
            },
            "type": "scattergeo"
           }
          ],
          "scattergl": [
           {
            "marker": {
             "colorbar": {
              "outlinewidth": 0,
              "ticks": ""
             }
            },
            "type": "scattergl"
           }
          ],
          "scattermapbox": [
           {
            "marker": {
             "colorbar": {
              "outlinewidth": 0,
              "ticks": ""
             }
            },
            "type": "scattermapbox"
           }
          ],
          "scatterpolar": [
           {
            "marker": {
             "colorbar": {
              "outlinewidth": 0,
              "ticks": ""
             }
            },
            "type": "scatterpolar"
           }
          ],
          "scatterpolargl": [
           {
            "marker": {
             "colorbar": {
              "outlinewidth": 0,
              "ticks": ""
             }
            },
            "type": "scatterpolargl"
           }
          ],
          "scatterternary": [
           {
            "marker": {
             "colorbar": {
              "outlinewidth": 0,
              "ticks": ""
             }
            },
            "type": "scatterternary"
           }
          ],
          "surface": [
           {
            "colorbar": {
             "outlinewidth": 0,
             "ticks": ""
            },
            "colorscale": [
             [
              0,
              "#0d0887"
             ],
             [
              0.1111111111111111,
              "#46039f"
             ],
             [
              0.2222222222222222,
              "#7201a8"
             ],
             [
              0.3333333333333333,
              "#9c179e"
             ],
             [
              0.4444444444444444,
              "#bd3786"
             ],
             [
              0.5555555555555556,
              "#d8576b"
             ],
             [
              0.6666666666666666,
              "#ed7953"
             ],
             [
              0.7777777777777778,
              "#fb9f3a"
             ],
             [
              0.8888888888888888,
              "#fdca26"
             ],
             [
              1,
              "#f0f921"
             ]
            ],
            "type": "surface"
           }
          ],
          "table": [
           {
            "cells": {
             "fill": {
              "color": "#EBF0F8"
             },
             "line": {
              "color": "white"
             }
            },
            "header": {
             "fill": {
              "color": "#C8D4E3"
             },
             "line": {
              "color": "white"
             }
            },
            "type": "table"
           }
          ]
         },
         "layout": {
          "annotationdefaults": {
           "arrowcolor": "#2a3f5f",
           "arrowhead": 0,
           "arrowwidth": 1
          },
          "autotypenumbers": "strict",
          "coloraxis": {
           "colorbar": {
            "outlinewidth": 0,
            "ticks": ""
           }
          },
          "colorscale": {
           "diverging": [
            [
             0,
             "#8e0152"
            ],
            [
             0.1,
             "#c51b7d"
            ],
            [
             0.2,
             "#de77ae"
            ],
            [
             0.3,
             "#f1b6da"
            ],
            [
             0.4,
             "#fde0ef"
            ],
            [
             0.5,
             "#f7f7f7"
            ],
            [
             0.6,
             "#e6f5d0"
            ],
            [
             0.7,
             "#b8e186"
            ],
            [
             0.8,
             "#7fbc41"
            ],
            [
             0.9,
             "#4d9221"
            ],
            [
             1,
             "#276419"
            ]
           ],
           "sequential": [
            [
             0,
             "#0d0887"
            ],
            [
             0.1111111111111111,
             "#46039f"
            ],
            [
             0.2222222222222222,
             "#7201a8"
            ],
            [
             0.3333333333333333,
             "#9c179e"
            ],
            [
             0.4444444444444444,
             "#bd3786"
            ],
            [
             0.5555555555555556,
             "#d8576b"
            ],
            [
             0.6666666666666666,
             "#ed7953"
            ],
            [
             0.7777777777777778,
             "#fb9f3a"
            ],
            [
             0.8888888888888888,
             "#fdca26"
            ],
            [
             1,
             "#f0f921"
            ]
           ],
           "sequentialminus": [
            [
             0,
             "#0d0887"
            ],
            [
             0.1111111111111111,
             "#46039f"
            ],
            [
             0.2222222222222222,
             "#7201a8"
            ],
            [
             0.3333333333333333,
             "#9c179e"
            ],
            [
             0.4444444444444444,
             "#bd3786"
            ],
            [
             0.5555555555555556,
             "#d8576b"
            ],
            [
             0.6666666666666666,
             "#ed7953"
            ],
            [
             0.7777777777777778,
             "#fb9f3a"
            ],
            [
             0.8888888888888888,
             "#fdca26"
            ],
            [
             1,
             "#f0f921"
            ]
           ]
          },
          "colorway": [
           "#636efa",
           "#EF553B",
           "#00cc96",
           "#ab63fa",
           "#FFA15A",
           "#19d3f3",
           "#FF6692",
           "#B6E880",
           "#FF97FF",
           "#FECB52"
          ],
          "font": {
           "color": "#2a3f5f"
          },
          "geo": {
           "bgcolor": "white",
           "lakecolor": "white",
           "landcolor": "#E5ECF6",
           "showlakes": true,
           "showland": true,
           "subunitcolor": "white"
          },
          "hoverlabel": {
           "align": "left"
          },
          "hovermode": "closest",
          "mapbox": {
           "style": "light"
          },
          "paper_bgcolor": "white",
          "plot_bgcolor": "#E5ECF6",
          "polar": {
           "angularaxis": {
            "gridcolor": "white",
            "linecolor": "white",
            "ticks": ""
           },
           "bgcolor": "#E5ECF6",
           "radialaxis": {
            "gridcolor": "white",
            "linecolor": "white",
            "ticks": ""
           }
          },
          "scene": {
           "xaxis": {
            "backgroundcolor": "#E5ECF6",
            "gridcolor": "white",
            "gridwidth": 2,
            "linecolor": "white",
            "showbackground": true,
            "ticks": "",
            "zerolinecolor": "white"
           },
           "yaxis": {
            "backgroundcolor": "#E5ECF6",
            "gridcolor": "white",
            "gridwidth": 2,
            "linecolor": "white",
            "showbackground": true,
            "ticks": "",
            "zerolinecolor": "white"
           },
           "zaxis": {
            "backgroundcolor": "#E5ECF6",
            "gridcolor": "white",
            "gridwidth": 2,
            "linecolor": "white",
            "showbackground": true,
            "ticks": "",
            "zerolinecolor": "white"
           }
          },
          "shapedefaults": {
           "line": {
            "color": "#2a3f5f"
           }
          },
          "ternary": {
           "aaxis": {
            "gridcolor": "white",
            "linecolor": "white",
            "ticks": ""
           },
           "baxis": {
            "gridcolor": "white",
            "linecolor": "white",
            "ticks": ""
           },
           "bgcolor": "#E5ECF6",
           "caxis": {
            "gridcolor": "white",
            "linecolor": "white",
            "ticks": ""
           }
          },
          "title": {
           "x": 0.05
          },
          "xaxis": {
           "automargin": true,
           "gridcolor": "white",
           "linecolor": "white",
           "ticks": "",
           "title": {
            "standoff": 15
           },
           "zerolinecolor": "white",
           "zerolinewidth": 2
          },
          "yaxis": {
           "automargin": true,
           "gridcolor": "white",
           "linecolor": "white",
           "ticks": "",
           "title": {
            "standoff": 15
           },
           "zerolinecolor": "white",
           "zerolinewidth": 2
          }
         }
        }
       }
      }
     },
     "metadata": {},
     "output_type": "display_data"
    }
   ],
   "source": [
    "# Coordinates of all the locations\n",
    "locations = [\n",
    "    {\"name\": \"Naamsestraat 35\", \"lat\": 50.877121, \"lon\": 4.700708},\n",
    "    {\"name\": \"Naamsestraat 57\", \"lat\": 50.87650, \"lon\": 4.700632},\n",
    "    {\"name\": \"Naamsestraat 62\", \"lat\": 50.87590, \"lon\": 4.700262},\n",
    "    {\"name\": \"Calvariekapel\", \"lat\": 50.87452, \"lon\": 4.69985},\n",
    "    {\"name\": \"Parkstraat 2\", \"lat\": 50.874078, \"lon\": 4.70005},\n",
    "    {\"name\": \"Naamsestraat 81\", \"lat\": 50.873808, \"lon\": 4.700007},\n",
    "    {\"name\": \"Kiosk Stadspark\", \"lat\": 50.875930, \"lon\": 4.703640},\n",
    "    {\"name\": \"Vrijthof\", \"lat\": 50.87873, \"lon\": 4.70115},\n",
    "]\n",
    "\n",
    "# Initialize the figure object\n",
    "fig = go.Figure()\n",
    "\n",
    "# Add a scattermapbox trace for each location\n",
    "for i, location in enumerate(locations):\n",
    "    fig.add_trace(\n",
    "        go.Scattermapbox(\n",
    "            mode=\"markers+text\",\n",
    "            lon=[location[\"lon\"]],\n",
    "            lat=[location[\"lat\"]],\n",
    "            marker=dict(\n",
    "                size=12,\n",
    "                opacity=0.7,\n",
    "                symbol=\"circle\",\n",
    "                color=\"red\"\n",
    "            ),\n",
    "            text=[\"\\u24EA\"],  # Unicode for circled number 1\n",
    "            textfont=dict(color=\"white\", size=16),\n",
    "            textposition=\"middle center\",\n",
    "            name=location[\"name\"],\n",
    "        )\n",
    "    )\n",
    "\n",
    "    # Add a separate trace for the text label\n",
    "    fig.add_trace(\n",
    "        go.Scattermapbox(\n",
    "            mode=\"text\",\n",
    "            lon=[location[\"lon\"]],\n",
    "            lat=[location[\"lat\"]],\n",
    "            text=[location[\"name\"]],\n",
    "            textfont=dict(color=\"black\", size=12),\n",
    "            textposition=\"bottom center\",\n",
    "            showlegend=False,\n",
    "        )\n",
    "    )\n",
    "\n",
    "# Set the layout for the map (options common to all traces)\n",
    "fig.update_layout(\n",
    "    mapbox=dict(\n",
    "        style=\"open-street-map\",\n",
    "        center=dict(lat=50.8764, lon=4.702),\n",
    "        zoom=15\n",
    "    ),\n",
    "    margin=dict(l=0, r=0, t=0, b=0),\n",
    ")\n",
    "\n",
    "# Show the map\n",
    "fig.show()"
   ]
  },
  {
   "cell_type": "code",
   "execution_count": null,
   "metadata": {},
   "outputs": [],
   "source": []
  }
 ],
 "metadata": {
  "kernelspec": {
   "display_name": "base",
   "language": "python",
   "name": "python3"
  },
  "language_info": {
   "codemirror_mode": {
    "name": "ipython",
    "version": 3
   },
   "file_extension": ".py",
   "mimetype": "text/x-python",
   "name": "python",
   "nbconvert_exporter": "python",
   "pygments_lexer": "ipython3",
   "version": "3.9.13"
  },
  "orig_nbformat": 4
 },
 "nbformat": 4,
 "nbformat_minor": 2
}
