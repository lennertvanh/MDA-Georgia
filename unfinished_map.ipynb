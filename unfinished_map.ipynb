{
 "cells": [
  {
   "cell_type": "code",
   "execution_count": 1,
   "metadata": {},
   "outputs": [],
   "source": [
    "import pandas as pd\n",
    "import plotly.graph_objects as go"
   ]
  },
  {
   "cell_type": "code",
   "execution_count": null,
   "metadata": {},
   "outputs": [],
   "source": [
    "data_noise = pd.read_csv('combined_noisedata_2022.csv', header=0, sep=',')\n",
    "data_noise.head()"
   ]
  },
  {
   "cell_type": "code",
   "execution_count": null,
   "metadata": {},
   "outputs": [],
   "source": [
    "data_weather = pd.read_csv('combined_weatherdata_2022.csv', header=0, sep=',')\n",
    "data_weather.head()"
   ]
  },
  {
   "cell_type": "code",
   "execution_count": 17,
   "metadata": {},
   "outputs": [
    {
     "data": {
      "application/vnd.plotly.v1+json": {
       "config": {
        "plotlyServerURL": "https://plot.ly"
       },
       "data": [
        {
         "lat": [
          50.877121
         ],
         "lon": [
          4.700708
         ],
         "marker": {
          "color": "red",
          "opacity": 0.7,
          "size": 12,
          "symbol": "circle"
         },
         "mode": "markers+text",
         "name": "Naamsestraat 35",
         "text": [
          "⓪"
         ],
         "textfont": {
          "color": "white",
          "size": 16
         },
         "textposition": "middle center",
         "type": "scattermapbox"
        },
        {
         "lat": [
          50.877121
         ],
         "lon": [
          4.700708
         ],
         "mode": "text",
         "showlegend": false,
         "text": [
          "Naamsestraat 35"
         ],
         "textfont": {
          "color": "black",
          "size": 12
         },
         "textposition": "bottom center",
         "type": "scattermapbox"
        },
        {
         "lat": [
          50.8765
         ],
         "lon": [
          4.700632
         ],
         "marker": {
          "color": "red",
          "opacity": 0.7,
          "size": 12,
          "symbol": "circle"
         },
         "mode": "markers+text",
         "name": "Naamsestraat 57",
         "text": [
          "⓪"
         ],
         "textfont": {
          "color": "white",
          "size": 16
         },
         "textposition": "middle center",
         "type": "scattermapbox"
        },
        {
         "lat": [
          50.8765
         ],
         "lon": [
          4.700632
         ],
         "mode": "text",
         "showlegend": false,
         "text": [
          "Naamsestraat 57"
         ],
         "textfont": {
          "color": "black",
          "size": 12
         },
         "textposition": "bottom center",
         "type": "scattermapbox"
        },
        {
         "lat": [
          50.8759
         ],
         "lon": [
          4.700262
         ],
         "marker": {
          "color": "red",
          "opacity": 0.7,
          "size": 12,
          "symbol": "circle"
         },
         "mode": "markers+text",
         "name": "Naamsestraat 62",
         "text": [
          "⓪"
         ],
         "textfont": {
          "color": "white",
          "size": 16
         },
         "textposition": "middle center",
         "type": "scattermapbox"
        },
        {
         "lat": [
          50.8759
         ],
         "lon": [
          4.700262
         ],
         "mode": "text",
         "showlegend": false,
         "text": [
          "Naamsestraat 62"
         ],
         "textfont": {
          "color": "black",
          "size": 12
         },
         "textposition": "bottom center",
         "type": "scattermapbox"
        },
        {
         "lat": [
          50.87452
         ],
         "lon": [
          4.69985
         ],
         "marker": {
          "color": "red",
          "opacity": 0.7,
          "size": 12,
          "symbol": "circle"
         },
         "mode": "markers+text",
         "name": "Calvariekapel",
         "text": [
          "⓪"
         ],
         "textfont": {
          "color": "white",
          "size": 16
         },
         "textposition": "middle center",
         "type": "scattermapbox"
        },
        {
         "lat": [
          50.87452
         ],
         "lon": [
          4.69985
         ],
         "mode": "text",
         "showlegend": false,
         "text": [
          "Calvariekapel"
         ],
         "textfont": {
          "color": "black",
          "size": 12
         },
         "textposition": "bottom center",
         "type": "scattermapbox"
        },
        {
         "lat": [
          50.874078
         ],
         "lon": [
          4.70005
         ],
         "marker": {
          "color": "red",
          "opacity": 0.7,
          "size": 12,
          "symbol": "circle"
         },
         "mode": "markers+text",
         "name": "Parkstraat 2",
         "text": [
          "⓪"
         ],
         "textfont": {
          "color": "white",
          "size": 16
         },
         "textposition": "middle center",
         "type": "scattermapbox"
        },
        {
         "lat": [
          50.874078
         ],
         "lon": [
          4.70005
         ],
         "mode": "text",
         "showlegend": false,
         "text": [
          "Parkstraat 2"
         ],
         "textfont": {
          "color": "black",
          "size": 12
         },
         "textposition": "bottom center",
         "type": "scattermapbox"
        },
        {
         "lat": [
          50.873808
         ],
         "lon": [
          4.700007
         ],
         "marker": {
          "color": "red",
          "opacity": 0.7,
          "size": 12,
          "symbol": "circle"
         },
         "mode": "markers+text",
         "name": "Naamsestraat 81",
         "text": [
          "⓪"
         ],
         "textfont": {
          "color": "white",
          "size": 16
         },
         "textposition": "middle center",
         "type": "scattermapbox"
        },
        {
         "lat": [
          50.873808
         ],
         "lon": [
          4.700007
         ],
         "mode": "text",
         "showlegend": false,
         "text": [
          "Naamsestraat 81"
         ],
         "textfont": {
          "color": "black",
          "size": 12
         },
         "textposition": "bottom center",
         "type": "scattermapbox"
        },
        {
         "lat": [
          50.87593
         ],
         "lon": [
          4.70364
         ],
         "marker": {
          "color": "red",
          "opacity": 0.7,
          "size": 12,
          "symbol": "circle"
         },
         "mode": "markers+text",
         "name": "Kiosk Stadspark",
         "text": [
          "⓪"
         ],
         "textfont": {
          "color": "white",
          "size": 16
         },
         "textposition": "middle center",
         "type": "scattermapbox"
        },
        {
         "lat": [
          50.87593
         ],
         "lon": [
          4.70364
         ],
         "mode": "text",
         "showlegend": false,
         "text": [
          "Kiosk Stadspark"
         ],
         "textfont": {
          "color": "black",
          "size": 12
         },
         "textposition": "bottom center",
         "type": "scattermapbox"
        },
        {
         "lat": [
          50.87873
         ],
         "lon": [
          4.70115
         ],
         "marker": {
          "color": "red",
          "opacity": 0.7,
          "size": 12,
          "symbol": "circle"
         },
         "mode": "markers+text",
         "name": "Vrijthof",
         "text": [
          "⓪"
         ],
         "textfont": {
          "color": "white",
          "size": 16
         },
         "textposition": "middle center",
         "type": "scattermapbox"
        },
        {
         "lat": [
          50.87873
         ],
         "lon": [
          4.70115
         ],
         "mode": "text",
         "showlegend": false,
         "text": [
          "Vrijthof"
         ],
         "textfont": {
          "color": "black",
          "size": 12
         },
         "textposition": "bottom center",
         "type": "scattermapbox"
        }
       ],
       "layout": {
        "mapbox": {
         "center": {
          "lat": 50.8764,
          "lon": 4.702
         },
         "style": "open-street-map",
         "zoom": 15
        },
        "margin": {
         "b": 0,
         "l": 0,
         "r": 0,
         "t": 0
        },
        "template": {
         "data": {
          "bar": [
           {
            "error_x": {
             "color": "#2a3f5f"
            },
            "error_y": {
             "color": "#2a3f5f"
            },
            "marker": {
             "line": {
              "color": "#E5ECF6",
              "width": 0.5
             },
             "pattern": {
              "fillmode": "overlay",
              "size": 10,
              "solidity": 0.2
             }
            },
            "type": "bar"
           }
          ],
          "barpolar": [
           {
            "marker": {
             "line": {
              "color": "#E5ECF6",
              "width": 0.5
             },
             "pattern": {
              "fillmode": "overlay",
              "size": 10,
              "solidity": 0.2
             }
            },
            "type": "barpolar"
           }
          ],
          "carpet": [
           {
            "aaxis": {
             "endlinecolor": "#2a3f5f",
             "gridcolor": "white",
             "linecolor": "white",
             "minorgridcolor": "white",
             "startlinecolor": "#2a3f5f"
            },
            "baxis": {
             "endlinecolor": "#2a3f5f",
             "gridcolor": "white",
             "linecolor": "white",
             "minorgridcolor": "white",
             "startlinecolor": "#2a3f5f"
            },
            "type": "carpet"
           }
          ],
          "choropleth": [
           {
            "colorbar": {
             "outlinewidth": 0,
             "ticks": ""
            },
            "type": "choropleth"
           }
          ],
          "contour": [
           {
            "colorbar": {
             "outlinewidth": 0,
             "ticks": ""
            },
            "colorscale": [
             [
              0,
              "#0d0887"
             ],
             [
              0.1111111111111111,
              "#46039f"
             ],
             [
              0.2222222222222222,
              "#7201a8"
             ],
             [
              0.3333333333333333,
              "#9c179e"
             ],
             [
              0.4444444444444444,
              "#bd3786"
             ],
             [
              0.5555555555555556,
              "#d8576b"
             ],
             [
              0.6666666666666666,
              "#ed7953"
             ],
             [
              0.7777777777777778,
              "#fb9f3a"
             ],
             [
              0.8888888888888888,
              "#fdca26"
             ],
             [
              1,
              "#f0f921"
             ]
            ],
            "type": "contour"
           }
          ],
          "contourcarpet": [
           {
            "colorbar": {
             "outlinewidth": 0,
             "ticks": ""
            },
            "type": "contourcarpet"
           }
          ],
          "heatmap": [
           {
            "colorbar": {
             "outlinewidth": 0,
             "ticks": ""
            },
            "colorscale": [
             [
              0,
              "#0d0887"
             ],
             [
              0.1111111111111111,
              "#46039f"
             ],
             [
              0.2222222222222222,
              "#7201a8"
             ],
             [
              0.3333333333333333,
              "#9c179e"
             ],
             [
              0.4444444444444444,
              "#bd3786"
             ],
             [
              0.5555555555555556,
              "#d8576b"
             ],
             [
              0.6666666666666666,
              "#ed7953"
             ],
             [
              0.7777777777777778,
              "#fb9f3a"
             ],
             [
              0.8888888888888888,
              "#fdca26"
             ],
             [
              1,
              "#f0f921"
             ]
            ],
            "type": "heatmap"
           }
          ],
          "heatmapgl": [
           {
            "colorbar": {
             "outlinewidth": 0,
             "ticks": ""
            },
            "colorscale": [
             [
              0,
              "#0d0887"
             ],
             [
              0.1111111111111111,
              "#46039f"
             ],
             [
              0.2222222222222222,
              "#7201a8"
             ],
             [
              0.3333333333333333,
              "#9c179e"
             ],
             [
              0.4444444444444444,
              "#bd3786"
             ],
             [
              0.5555555555555556,
              "#d8576b"
             ],
             [
              0.6666666666666666,
              "#ed7953"
             ],
             [
              0.7777777777777778,
              "#fb9f3a"
             ],
             [
              0.8888888888888888,
              "#fdca26"
             ],
             [
              1,
              "#f0f921"
             ]
            ],
            "type": "heatmapgl"
           }
          ],
          "histogram": [
           {
            "marker": {
             "pattern": {
              "fillmode": "overlay",
              "size": 10,
              "solidity": 0.2
             }
            },
            "type": "histogram"
           }
          ],
          "histogram2d": [
           {
            "colorbar": {
             "outlinewidth": 0,
             "ticks": ""
            },
            "colorscale": [
             [
              0,
              "#0d0887"
             ],
             [
              0.1111111111111111,
              "#46039f"
             ],
             [
              0.2222222222222222,
              "#7201a8"
             ],
             [
              0.3333333333333333,
              "#9c179e"
             ],
             [
              0.4444444444444444,
              "#bd3786"
             ],
             [
              0.5555555555555556,
              "#d8576b"
             ],
             [
              0.6666666666666666,
              "#ed7953"
             ],
             [
              0.7777777777777778,
              "#fb9f3a"
             ],
             [
              0.8888888888888888,
              "#fdca26"
             ],
             [
              1,
              "#f0f921"
             ]
            ],
            "type": "histogram2d"
           }
          ],
          "histogram2dcontour": [
           {
            "colorbar": {
             "outlinewidth": 0,
             "ticks": ""
            },
            "colorscale": [
             [
              0,
              "#0d0887"
             ],
             [
              0.1111111111111111,
              "#46039f"
             ],
             [
              0.2222222222222222,
              "#7201a8"
             ],
             [
              0.3333333333333333,
              "#9c179e"
             ],
             [
              0.4444444444444444,
              "#bd3786"
             ],
             [
              0.5555555555555556,
              "#d8576b"
             ],
             [
              0.6666666666666666,
              "#ed7953"
             ],
             [
              0.7777777777777778,
              "#fb9f3a"
             ],
             [
              0.8888888888888888,
              "#fdca26"
             ],
             [
              1,
              "#f0f921"
             ]
            ],
            "type": "histogram2dcontour"
           }
          ],
          "mesh3d": [
           {
            "colorbar": {
             "outlinewidth": 0,
             "ticks": ""
            },
            "type": "mesh3d"
           }
          ],
          "parcoords": [
           {
            "line": {
             "colorbar": {
              "outlinewidth": 0,
              "ticks": ""
             }
            },
            "type": "parcoords"
           }
          ],
          "pie": [
           {
            "automargin": true,
            "type": "pie"
           }
          ],
          "scatter": [
           {
            "fillpattern": {
             "fillmode": "overlay",
             "size": 10,
             "solidity": 0.2
            },
            "type": "scatter"
           }
          ],
          "scatter3d": [
           {
            "line": {
             "colorbar": {
              "outlinewidth": 0,
              "ticks": ""
             }
            },
            "marker": {
             "colorbar": {
              "outlinewidth": 0,
              "ticks": ""
             }
            },
            "type": "scatter3d"
           }
          ],
          "scattercarpet": [
           {
            "marker": {
             "colorbar": {
              "outlinewidth": 0,
              "ticks": ""
             }
            },
            "type": "scattercarpet"
           }
          ],
          "scattergeo": [
           {
            "marker": {
             "colorbar": {
              "outlinewidth": 0,
              "ticks": ""
             }
            },
            "type": "scattergeo"
           }
          ],
          "scattergl": [
           {
            "marker": {
             "colorbar": {
              "outlinewidth": 0,
              "ticks": ""
             }
            },
            "type": "scattergl"
           }
          ],
          "scattermapbox": [
           {
            "marker": {
             "colorbar": {
              "outlinewidth": 0,
              "ticks": ""
             }
            },
            "type": "scattermapbox"
           }
          ],
          "scatterpolar": [
           {
            "marker": {
             "colorbar": {
              "outlinewidth": 0,
              "ticks": ""
             }
            },
            "type": "scatterpolar"
           }
          ],
          "scatterpolargl": [
           {
            "marker": {
             "colorbar": {
              "outlinewidth": 0,
              "ticks": ""
             }
            },
            "type": "scatterpolargl"
           }
          ],
          "scatterternary": [
           {
            "marker": {
             "colorbar": {
              "outlinewidth": 0,
              "ticks": ""
             }
            },
            "type": "scatterternary"
           }
          ],
          "surface": [
           {
            "colorbar": {
             "outlinewidth": 0,
             "ticks": ""
            },
            "colorscale": [
             [
              0,
              "#0d0887"
             ],
             [
              0.1111111111111111,
              "#46039f"
             ],
             [
              0.2222222222222222,
              "#7201a8"
             ],
             [
              0.3333333333333333,
              "#9c179e"
             ],
             [
              0.4444444444444444,
              "#bd3786"
             ],
             [
              0.5555555555555556,
              "#d8576b"
             ],
             [
              0.6666666666666666,
              "#ed7953"
             ],
             [
              0.7777777777777778,
              "#fb9f3a"
             ],
             [
              0.8888888888888888,
              "#fdca26"
             ],
             [
              1,
              "#f0f921"
             ]
            ],
            "type": "surface"
           }
          ],
          "table": [
           {
            "cells": {
             "fill": {
              "color": "#EBF0F8"
             },
             "line": {
              "color": "white"
             }
            },
            "header": {
             "fill": {
              "color": "#C8D4E3"
             },
             "line": {
              "color": "white"
             }
            },
            "type": "table"
           }
          ]
         },
         "layout": {
          "annotationdefaults": {
           "arrowcolor": "#2a3f5f",
           "arrowhead": 0,
           "arrowwidth": 1
          },
          "autotypenumbers": "strict",
          "coloraxis": {
           "colorbar": {
            "outlinewidth": 0,
            "ticks": ""
           }
          },
          "colorscale": {
           "diverging": [
            [
             0,
             "#8e0152"
            ],
            [
             0.1,
             "#c51b7d"
            ],
            [
             0.2,
             "#de77ae"
            ],
            [
             0.3,
             "#f1b6da"
            ],
            [
             0.4,
             "#fde0ef"
            ],
            [
             0.5,
             "#f7f7f7"
            ],
            [
             0.6,
             "#e6f5d0"
            ],
            [
             0.7,
             "#b8e186"
            ],
            [
             0.8,
             "#7fbc41"
            ],
            [
             0.9,
             "#4d9221"
            ],
            [
             1,
             "#276419"
            ]
           ],
           "sequential": [
            [
             0,
             "#0d0887"
            ],
            [
             0.1111111111111111,
             "#46039f"
            ],
            [
             0.2222222222222222,
             "#7201a8"
            ],
            [
             0.3333333333333333,
             "#9c179e"
            ],
            [
             0.4444444444444444,
             "#bd3786"
            ],
            [
             0.5555555555555556,
             "#d8576b"
            ],
            [
             0.6666666666666666,
             "#ed7953"
            ],
            [
             0.7777777777777778,
             "#fb9f3a"
            ],
            [
             0.8888888888888888,
             "#fdca26"
            ],
            [
             1,
             "#f0f921"
            ]
           ],
           "sequentialminus": [
            [
             0,
             "#0d0887"
            ],
            [
             0.1111111111111111,
             "#46039f"
            ],
            [
             0.2222222222222222,
             "#7201a8"
            ],
            [
             0.3333333333333333,
             "#9c179e"
            ],
            [
             0.4444444444444444,
             "#bd3786"
            ],
            [
             0.5555555555555556,
             "#d8576b"
            ],
            [
             0.6666666666666666,
             "#ed7953"
            ],
            [
             0.7777777777777778,
             "#fb9f3a"
            ],
            [
             0.8888888888888888,
             "#fdca26"
            ],
            [
             1,
             "#f0f921"
            ]
           ]
          },
          "colorway": [
           "#636efa",
           "#EF553B",
           "#00cc96",
           "#ab63fa",
           "#FFA15A",
           "#19d3f3",
           "#FF6692",
           "#B6E880",
           "#FF97FF",
           "#FECB52"
          ],
          "font": {
           "color": "#2a3f5f"
          },
          "geo": {
           "bgcolor": "white",
           "lakecolor": "white",
           "landcolor": "#E5ECF6",
           "showlakes": true,
           "showland": true,
           "subunitcolor": "white"
          },
          "hoverlabel": {
           "align": "left"
          },
          "hovermode": "closest",
          "mapbox": {
           "style": "light"
          },
          "paper_bgcolor": "white",
          "plot_bgcolor": "#E5ECF6",
          "polar": {
           "angularaxis": {
            "gridcolor": "white",
            "linecolor": "white",
            "ticks": ""
           },
           "bgcolor": "#E5ECF6",
           "radialaxis": {
            "gridcolor": "white",
            "linecolor": "white",
            "ticks": ""
           }
          },
          "scene": {
           "xaxis": {
            "backgroundcolor": "#E5ECF6",
            "gridcolor": "white",
            "gridwidth": 2,
            "linecolor": "white",
            "showbackground": true,
            "ticks": "",
            "zerolinecolor": "white"
           },
           "yaxis": {
            "backgroundcolor": "#E5ECF6",
            "gridcolor": "white",
            "gridwidth": 2,
            "linecolor": "white",
            "showbackground": true,
            "ticks": "",
            "zerolinecolor": "white"
           },
           "zaxis": {
            "backgroundcolor": "#E5ECF6",
            "gridcolor": "white",
            "gridwidth": 2,
            "linecolor": "white",
            "showbackground": true,
            "ticks": "",
            "zerolinecolor": "white"
           }
          },
          "shapedefaults": {
           "line": {
            "color": "#2a3f5f"
           }
          },
          "ternary": {
           "aaxis": {
            "gridcolor": "white",
            "linecolor": "white",
            "ticks": ""
           },
           "baxis": {
            "gridcolor": "white",
            "linecolor": "white",
            "ticks": ""
           },
           "bgcolor": "#E5ECF6",
           "caxis": {
            "gridcolor": "white",
            "linecolor": "white",
            "ticks": ""
           }
          },
          "title": {
           "x": 0.05
          },
          "xaxis": {
           "automargin": true,
           "gridcolor": "white",
           "linecolor": "white",
           "ticks": "",
           "title": {
            "standoff": 15
           },
           "zerolinecolor": "white",
           "zerolinewidth": 2
          },
          "yaxis": {
           "automargin": true,
           "gridcolor": "white",
           "linecolor": "white",
           "ticks": "",
           "title": {
            "standoff": 15
           },
           "zerolinecolor": "white",
           "zerolinewidth": 2
          }
         }
        }
       }
      }
     },
     "metadata": {},
     "output_type": "display_data"
    }
   ],
   "source": [
    "# Coordinates of all the locations\n",
    "locations = [\n",
    "    {\"name\": \"Naamsestraat 35\", \"lat\": 50.877121, \"lon\": 4.700708},\n",
    "    {\"name\": \"Naamsestraat 57\", \"lat\": 50.87650, \"lon\": 4.700632},\n",
    "    {\"name\": \"Naamsestraat 62\", \"lat\": 50.87590, \"lon\": 4.700262},\n",
    "    {\"name\": \"Calvariekapel\", \"lat\": 50.87452, \"lon\": 4.69985},\n",
    "    {\"name\": \"Parkstraat 2\", \"lat\": 50.874078, \"lon\": 4.70005},\n",
    "    {\"name\": \"Naamsestraat 81\", \"lat\": 50.873808, \"lon\": 4.700007},\n",
    "    {\"name\": \"Kiosk Stadspark\", \"lat\": 50.875930, \"lon\": 4.703640},\n",
    "    {\"name\": \"Vrijthof\", \"lat\": 50.87873, \"lon\": 4.70115},\n",
    "]\n",
    "\n",
    "# Initialize the figure object\n",
    "fig = go.Figure()\n",
    "\n",
    "# Add a scattermapbox trace for each location\n",
    "for i, location in enumerate(locations):\n",
    "    fig.add_trace(\n",
    "        go.Scattermapbox(\n",
    "            mode=\"markers+text\",\n",
    "            lon=[location[\"lon\"]],\n",
    "            lat=[location[\"lat\"]],\n",
    "            marker=dict(\n",
    "                size=12,\n",
    "                opacity=0.7,\n",
    "                symbol=\"circle\",\n",
    "                color=\"red\"\n",
    "            ),\n",
    "            text=[\"\\u24EA\"],  # Unicode for circled number 1\n",
    "            textfont=dict(color=\"white\", size=16),\n",
    "            textposition=\"middle center\",\n",
    "            name=location[\"name\"],\n",
    "        )\n",
    "    )\n",
    "\n",
    "    # Add a separate trace for the text label\n",
    "    fig.add_trace(\n",
    "        go.Scattermapbox(\n",
    "            mode=\"text\",\n",
    "            lon=[location[\"lon\"]],\n",
    "            lat=[location[\"lat\"]],\n",
    "            text=[location[\"name\"]],\n",
    "            textfont=dict(color=\"black\", size=12),\n",
    "            textposition=\"bottom center\",\n",
    "            showlegend=False,\n",
    "        )\n",
    "    )\n",
    "\n",
    "# Set the layout for the map (options common to all traces)\n",
    "fig.update_layout(\n",
    "    mapbox=dict(\n",
    "        style=\"open-street-map\",\n",
    "        center=dict(lat=50.8764, lon=4.702),\n",
    "        zoom=15\n",
    "    ),\n",
    "    margin=dict(l=0, r=0, t=0, b=0),\n",
    ")\n",
    "\n",
    "# Show the map\n",
    "fig.show()"
   ]
  },
  {
   "cell_type": "code",
   "execution_count": null,
   "metadata": {},
   "outputs": [],
   "source": []
  }
 ],
 "metadata": {
  "kernelspec": {
   "display_name": "base",
   "language": "python",
   "name": "python3"
  },
  "language_info": {
   "codemirror_mode": {
    "name": "ipython",
    "version": 3
   },
   "file_extension": ".py",
   "mimetype": "text/x-python",
   "name": "python",
   "nbconvert_exporter": "python",
   "pygments_lexer": "ipython3",
   "version": "3.9.13"
  },
  "orig_nbformat": 4
 },
 "nbformat": 4,
 "nbformat_minor": 2
}
