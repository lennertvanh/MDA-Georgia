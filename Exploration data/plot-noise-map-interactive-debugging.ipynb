{
 "cells": [
  {
   "cell_type": "code",
   "execution_count": 28,
   "metadata": {},
   "outputs": [],
   "source": [
    "import pandas as pd\n",
    "import plotly.graph_objects as go\n",
    "import plotly.express as px\n",
    "from sklearn.preprocessing import MinMaxScaler, MaxAbsScaler\n",
    "import datetime\n",
    "import numpy as np\n",
    "\n",
    "\n",
    "## Data ##\n",
    "daily_noise = pd.read_csv(\"../Data/daily_noisedata_2022.csv\")\n",
    "monthly_noise = pd.read_csv(\"../Data/monthly_noisedata_2022.csv\")"
   ]
  },
  {
   "cell_type": "code",
   "execution_count": 3,
   "metadata": {},
   "outputs": [],
   "source": [
    "# Create dataframe with GPS coordinates\n",
    "gps_data = {\n",
    "    'description': ['MP 01: Naamsestraat 35  Maxim', 'MP 02: Naamsestraat 57 Xior', 'MP 03: Naamsestraat 62 Taste', 'MP 04: His & Hears', 'MP 05: Calvariekapel KU Leuven', 'MP 06: Parkstraat 2 La Filosovia', 'MP 07: Naamsestraat 81', 'MP08bis - Vrijthof'],\n",
    "    'lat': [50.877121, 50.87650, 50.87590, 50.875237, 50.87452, 50.874078, 50.873808, 50.87873],\n",
    "    'lon': [4.700708, 4.700632, 4.700262, 4.700071, 4.69985, 4.70005, 4.700007, 4.70115]\n",
    "}\n",
    "gps_df = pd.DataFrame(gps_data)"
   ]
  },
  {
   "cell_type": "code",
   "execution_count": 5,
   "metadata": {},
   "outputs": [
    {
     "data": {
      "text/html": [
       "<div>\n",
       "<style scoped>\n",
       "    .dataframe tbody tr th:only-of-type {\n",
       "        vertical-align: middle;\n",
       "    }\n",
       "\n",
       "    .dataframe tbody tr th {\n",
       "        vertical-align: top;\n",
       "    }\n",
       "\n",
       "    .dataframe thead th {\n",
       "        text-align: right;\n",
       "    }\n",
       "</style>\n",
       "<table border=\"1\" class=\"dataframe\">\n",
       "  <thead>\n",
       "    <tr style=\"text-align: right;\">\n",
       "      <th></th>\n",
       "      <th>month</th>\n",
       "      <th>day</th>\n",
       "      <th>description</th>\n",
       "      <th>lamax</th>\n",
       "      <th>laeq</th>\n",
       "      <th>lat</th>\n",
       "      <th>lon</th>\n",
       "    </tr>\n",
       "  </thead>\n",
       "  <tbody>\n",
       "    <tr>\n",
       "      <th>0</th>\n",
       "      <td>1</td>\n",
       "      <td>1</td>\n",
       "      <td>MP 03: Naamsestraat 62 Taste</td>\n",
       "      <td>51.665242</td>\n",
       "      <td>49.992637</td>\n",
       "      <td>50.875900</td>\n",
       "      <td>4.700262</td>\n",
       "    </tr>\n",
       "    <tr>\n",
       "      <th>1</th>\n",
       "      <td>1</td>\n",
       "      <td>1</td>\n",
       "      <td>MP 05: Calvariekapel KU Leuven</td>\n",
       "      <td>48.747476</td>\n",
       "      <td>46.504067</td>\n",
       "      <td>50.874520</td>\n",
       "      <td>4.699850</td>\n",
       "    </tr>\n",
       "    <tr>\n",
       "      <th>2</th>\n",
       "      <td>1</td>\n",
       "      <td>1</td>\n",
       "      <td>MP 06: Parkstraat 2 La Filosovia</td>\n",
       "      <td>48.270005</td>\n",
       "      <td>46.007220</td>\n",
       "      <td>50.874078</td>\n",
       "      <td>4.700050</td>\n",
       "    </tr>\n",
       "    <tr>\n",
       "      <th>3</th>\n",
       "      <td>1</td>\n",
       "      <td>1</td>\n",
       "      <td>MP 07: Naamsestraat 81</td>\n",
       "      <td>45.908501</td>\n",
       "      <td>44.373056</td>\n",
       "      <td>50.873808</td>\n",
       "      <td>4.700007</td>\n",
       "    </tr>\n",
       "    <tr>\n",
       "      <th>4</th>\n",
       "      <td>1</td>\n",
       "      <td>2</td>\n",
       "      <td>MP 03: Naamsestraat 62 Taste</td>\n",
       "      <td>51.407297</td>\n",
       "      <td>50.094018</td>\n",
       "      <td>50.875900</td>\n",
       "      <td>4.700262</td>\n",
       "    </tr>\n",
       "  </tbody>\n",
       "</table>\n",
       "</div>"
      ],
      "text/plain": [
       "   month  day                       description      lamax       laeq   \n",
       "0      1    1      MP 03: Naamsestraat 62 Taste  51.665242  49.992637  \\\n",
       "1      1    1    MP 05: Calvariekapel KU Leuven  48.747476  46.504067   \n",
       "2      1    1  MP 06: Parkstraat 2 La Filosovia  48.270005  46.007220   \n",
       "3      1    1            MP 07: Naamsestraat 81  45.908501  44.373056   \n",
       "4      1    2      MP 03: Naamsestraat 62 Taste  51.407297  50.094018   \n",
       "\n",
       "         lat       lon  \n",
       "0  50.875900  4.700262  \n",
       "1  50.874520  4.699850  \n",
       "2  50.874078  4.700050  \n",
       "3  50.873808  4.700007  \n",
       "4  50.875900  4.700262  "
      ]
     },
     "execution_count": 5,
     "metadata": {},
     "output_type": "execute_result"
    }
   ],
   "source": [
    "# Merging noise data with GPS coordinates\n",
    "merged_daily = pd.merge(daily_noise, gps_df, on='description', how='left')\n",
    "merged_monthly = pd.merge(monthly_noise, gps_df, on='description', how='left')\n",
    "\n",
    "merged_daily.head()"
   ]
  },
  {
   "cell_type": "code",
   "execution_count": 20,
   "metadata": {},
   "outputs": [
    {
     "name": "stdout",
     "output_type": "stream",
     "text": [
      "[0, 31, 59, 90, 120, 151, 181, 212, 243, 273, 304, 334, 365]\n"
     ]
    }
   ],
   "source": [
    "months_for_cum_months = [0,31,28,31,30,31,30,31,31,30,31,30,31]\n",
    "cumulative_months = np.cumsum(months_for_cum_months).tolist()\n",
    "\n",
    "#cumulative_months = [0,cumulative_months]\n",
    "\n",
    "print(cumulative_months)"
   ]
  },
  {
   "cell_type": "code",
   "execution_count": 25,
   "metadata": {},
   "outputs": [
    {
     "data": {
      "text/html": [
       "<div>\n",
       "<style scoped>\n",
       "    .dataframe tbody tr th:only-of-type {\n",
       "        vertical-align: middle;\n",
       "    }\n",
       "\n",
       "    .dataframe tbody tr th {\n",
       "        vertical-align: top;\n",
       "    }\n",
       "\n",
       "    .dataframe thead th {\n",
       "        text-align: right;\n",
       "    }\n",
       "</style>\n",
       "<table border=\"1\" class=\"dataframe\">\n",
       "  <thead>\n",
       "    <tr style=\"text-align: right;\">\n",
       "      <th></th>\n",
       "      <th>month</th>\n",
       "      <th>day</th>\n",
       "      <th>description</th>\n",
       "      <th>lamax</th>\n",
       "      <th>laeq</th>\n",
       "      <th>lat</th>\n",
       "      <th>lon</th>\n",
       "      <th>standardized_lamax</th>\n",
       "      <th>standardized_laeq</th>\n",
       "      <th>day_cum</th>\n",
       "    </tr>\n",
       "  </thead>\n",
       "  <tbody>\n",
       "    <tr>\n",
       "      <th>2302</th>\n",
       "      <td>12</td>\n",
       "      <td>28</td>\n",
       "      <td>MP 07: Naamsestraat 81</td>\n",
       "      <td>49.337377</td>\n",
       "      <td>47.871549</td>\n",
       "      <td>50.873808</td>\n",
       "      <td>4.700007</td>\n",
       "      <td>0.436136</td>\n",
       "      <td>0.464733</td>\n",
       "      <td>362</td>\n",
       "    </tr>\n",
       "    <tr>\n",
       "      <th>2303</th>\n",
       "      <td>12</td>\n",
       "      <td>28</td>\n",
       "      <td>MP08bis - Vrijthof</td>\n",
       "      <td>48.685152</td>\n",
       "      <td>46.587131</td>\n",
       "      <td>50.878730</td>\n",
       "      <td>4.701150</td>\n",
       "      <td>0.413797</td>\n",
       "      <td>0.419773</td>\n",
       "      <td>362</td>\n",
       "    </tr>\n",
       "    <tr>\n",
       "      <th>2304</th>\n",
       "      <td>12</td>\n",
       "      <td>29</td>\n",
       "      <td>MP 03: Naamsestraat 62 Taste</td>\n",
       "      <td>53.274473</td>\n",
       "      <td>51.639495</td>\n",
       "      <td>50.875900</td>\n",
       "      <td>4.700262</td>\n",
       "      <td>0.570988</td>\n",
       "      <td>0.596626</td>\n",
       "      <td>363</td>\n",
       "    </tr>\n",
       "    <tr>\n",
       "      <th>2305</th>\n",
       "      <td>12</td>\n",
       "      <td>29</td>\n",
       "      <td>MP 04: His &amp; Hears</td>\n",
       "      <td>54.423674</td>\n",
       "      <td>52.925144</td>\n",
       "      <td>50.875237</td>\n",
       "      <td>4.700071</td>\n",
       "      <td>0.610350</td>\n",
       "      <td>0.641628</td>\n",
       "      <td>363</td>\n",
       "    </tr>\n",
       "    <tr>\n",
       "      <th>2306</th>\n",
       "      <td>12</td>\n",
       "      <td>29</td>\n",
       "      <td>MP 05: Calvariekapel KU Leuven</td>\n",
       "      <td>51.532345</td>\n",
       "      <td>49.737478</td>\n",
       "      <td>50.874520</td>\n",
       "      <td>4.699850</td>\n",
       "      <td>0.511317</td>\n",
       "      <td>0.530048</td>\n",
       "      <td>363</td>\n",
       "    </tr>\n",
       "    <tr>\n",
       "      <th>2307</th>\n",
       "      <td>12</td>\n",
       "      <td>29</td>\n",
       "      <td>MP 06: Parkstraat 2 La Filosovia</td>\n",
       "      <td>50.393627</td>\n",
       "      <td>48.757242</td>\n",
       "      <td>50.874078</td>\n",
       "      <td>4.700050</td>\n",
       "      <td>0.472315</td>\n",
       "      <td>0.495736</td>\n",
       "      <td>363</td>\n",
       "    </tr>\n",
       "    <tr>\n",
       "      <th>2308</th>\n",
       "      <td>12</td>\n",
       "      <td>29</td>\n",
       "      <td>MP 07: Naamsestraat 81</td>\n",
       "      <td>50.362415</td>\n",
       "      <td>48.713438</td>\n",
       "      <td>50.873808</td>\n",
       "      <td>4.700007</td>\n",
       "      <td>0.471245</td>\n",
       "      <td>0.494202</td>\n",
       "      <td>363</td>\n",
       "    </tr>\n",
       "    <tr>\n",
       "      <th>2309</th>\n",
       "      <td>12</td>\n",
       "      <td>29</td>\n",
       "      <td>MP08bis - Vrijthof</td>\n",
       "      <td>50.691597</td>\n",
       "      <td>48.442939</td>\n",
       "      <td>50.878730</td>\n",
       "      <td>4.701150</td>\n",
       "      <td>0.482520</td>\n",
       "      <td>0.484734</td>\n",
       "      <td>363</td>\n",
       "    </tr>\n",
       "    <tr>\n",
       "      <th>2310</th>\n",
       "      <td>12</td>\n",
       "      <td>30</td>\n",
       "      <td>MP 03: Naamsestraat 62 Taste</td>\n",
       "      <td>54.440668</td>\n",
       "      <td>52.731291</td>\n",
       "      <td>50.875900</td>\n",
       "      <td>4.700262</td>\n",
       "      <td>0.610932</td>\n",
       "      <td>0.634843</td>\n",
       "      <td>364</td>\n",
       "    </tr>\n",
       "    <tr>\n",
       "      <th>2311</th>\n",
       "      <td>12</td>\n",
       "      <td>30</td>\n",
       "      <td>MP 04: His &amp; Hears</td>\n",
       "      <td>54.747025</td>\n",
       "      <td>53.010741</td>\n",
       "      <td>50.875237</td>\n",
       "      <td>4.700071</td>\n",
       "      <td>0.621425</td>\n",
       "      <td>0.644624</td>\n",
       "      <td>364</td>\n",
       "    </tr>\n",
       "    <tr>\n",
       "      <th>2312</th>\n",
       "      <td>12</td>\n",
       "      <td>30</td>\n",
       "      <td>MP 05: Calvariekapel KU Leuven</td>\n",
       "      <td>51.734180</td>\n",
       "      <td>49.870894</td>\n",
       "      <td>50.874520</td>\n",
       "      <td>4.699850</td>\n",
       "      <td>0.518231</td>\n",
       "      <td>0.534718</td>\n",
       "      <td>364</td>\n",
       "    </tr>\n",
       "    <tr>\n",
       "      <th>2313</th>\n",
       "      <td>12</td>\n",
       "      <td>30</td>\n",
       "      <td>MP 06: Parkstraat 2 La Filosovia</td>\n",
       "      <td>50.824315</td>\n",
       "      <td>49.074218</td>\n",
       "      <td>50.874078</td>\n",
       "      <td>4.700050</td>\n",
       "      <td>0.487066</td>\n",
       "      <td>0.506831</td>\n",
       "      <td>364</td>\n",
       "    </tr>\n",
       "    <tr>\n",
       "      <th>2314</th>\n",
       "      <td>12</td>\n",
       "      <td>30</td>\n",
       "      <td>MP 07: Naamsestraat 81</td>\n",
       "      <td>49.178043</td>\n",
       "      <td>47.688811</td>\n",
       "      <td>50.873808</td>\n",
       "      <td>4.700007</td>\n",
       "      <td>0.430679</td>\n",
       "      <td>0.458336</td>\n",
       "      <td>364</td>\n",
       "    </tr>\n",
       "    <tr>\n",
       "      <th>2315</th>\n",
       "      <td>12</td>\n",
       "      <td>30</td>\n",
       "      <td>MP08bis - Vrijthof</td>\n",
       "      <td>49.590364</td>\n",
       "      <td>47.578676</td>\n",
       "      <td>50.878730</td>\n",
       "      <td>4.701150</td>\n",
       "      <td>0.444802</td>\n",
       "      <td>0.454481</td>\n",
       "      <td>364</td>\n",
       "    </tr>\n",
       "    <tr>\n",
       "      <th>2316</th>\n",
       "      <td>12</td>\n",
       "      <td>31</td>\n",
       "      <td>MP 03: Naamsestraat 62 Taste</td>\n",
       "      <td>52.688157</td>\n",
       "      <td>51.113140</td>\n",
       "      <td>50.875900</td>\n",
       "      <td>4.700262</td>\n",
       "      <td>0.550906</td>\n",
       "      <td>0.578201</td>\n",
       "      <td>365</td>\n",
       "    </tr>\n",
       "    <tr>\n",
       "      <th>2317</th>\n",
       "      <td>12</td>\n",
       "      <td>31</td>\n",
       "      <td>MP 04: His &amp; Hears</td>\n",
       "      <td>55.134973</td>\n",
       "      <td>53.632457</td>\n",
       "      <td>50.875237</td>\n",
       "      <td>4.700071</td>\n",
       "      <td>0.634713</td>\n",
       "      <td>0.666387</td>\n",
       "      <td>365</td>\n",
       "    </tr>\n",
       "    <tr>\n",
       "      <th>2318</th>\n",
       "      <td>12</td>\n",
       "      <td>31</td>\n",
       "      <td>MP 05: Calvariekapel KU Leuven</td>\n",
       "      <td>51.925297</td>\n",
       "      <td>50.133166</td>\n",
       "      <td>50.874520</td>\n",
       "      <td>4.699850</td>\n",
       "      <td>0.524777</td>\n",
       "      <td>0.543898</td>\n",
       "      <td>365</td>\n",
       "    </tr>\n",
       "    <tr>\n",
       "      <th>2319</th>\n",
       "      <td>12</td>\n",
       "      <td>31</td>\n",
       "      <td>MP 06: Parkstraat 2 La Filosovia</td>\n",
       "      <td>50.342353</td>\n",
       "      <td>48.683298</td>\n",
       "      <td>50.874078</td>\n",
       "      <td>4.700050</td>\n",
       "      <td>0.470558</td>\n",
       "      <td>0.493147</td>\n",
       "      <td>365</td>\n",
       "    </tr>\n",
       "    <tr>\n",
       "      <th>2320</th>\n",
       "      <td>12</td>\n",
       "      <td>31</td>\n",
       "      <td>MP 07: Naamsestraat 81</td>\n",
       "      <td>49.665543</td>\n",
       "      <td>47.970367</td>\n",
       "      <td>50.873808</td>\n",
       "      <td>4.700007</td>\n",
       "      <td>0.447377</td>\n",
       "      <td>0.468192</td>\n",
       "      <td>365</td>\n",
       "    </tr>\n",
       "    <tr>\n",
       "      <th>2321</th>\n",
       "      <td>12</td>\n",
       "      <td>31</td>\n",
       "      <td>MP08bis - Vrijthof</td>\n",
       "      <td>51.474387</td>\n",
       "      <td>49.131197</td>\n",
       "      <td>50.878730</td>\n",
       "      <td>4.701150</td>\n",
       "      <td>0.509332</td>\n",
       "      <td>0.508825</td>\n",
       "      <td>365</td>\n",
       "    </tr>\n",
       "  </tbody>\n",
       "</table>\n",
       "</div>"
      ],
      "text/plain": [
       "      month  day                       description      lamax       laeq   \n",
       "2302     12   28            MP 07: Naamsestraat 81  49.337377  47.871549  \\\n",
       "2303     12   28                MP08bis - Vrijthof  48.685152  46.587131   \n",
       "2304     12   29      MP 03: Naamsestraat 62 Taste  53.274473  51.639495   \n",
       "2305     12   29                MP 04: His & Hears  54.423674  52.925144   \n",
       "2306     12   29    MP 05: Calvariekapel KU Leuven  51.532345  49.737478   \n",
       "2307     12   29  MP 06: Parkstraat 2 La Filosovia  50.393627  48.757242   \n",
       "2308     12   29            MP 07: Naamsestraat 81  50.362415  48.713438   \n",
       "2309     12   29                MP08bis - Vrijthof  50.691597  48.442939   \n",
       "2310     12   30      MP 03: Naamsestraat 62 Taste  54.440668  52.731291   \n",
       "2311     12   30                MP 04: His & Hears  54.747025  53.010741   \n",
       "2312     12   30    MP 05: Calvariekapel KU Leuven  51.734180  49.870894   \n",
       "2313     12   30  MP 06: Parkstraat 2 La Filosovia  50.824315  49.074218   \n",
       "2314     12   30            MP 07: Naamsestraat 81  49.178043  47.688811   \n",
       "2315     12   30                MP08bis - Vrijthof  49.590364  47.578676   \n",
       "2316     12   31      MP 03: Naamsestraat 62 Taste  52.688157  51.113140   \n",
       "2317     12   31                MP 04: His & Hears  55.134973  53.632457   \n",
       "2318     12   31    MP 05: Calvariekapel KU Leuven  51.925297  50.133166   \n",
       "2319     12   31  MP 06: Parkstraat 2 La Filosovia  50.342353  48.683298   \n",
       "2320     12   31            MP 07: Naamsestraat 81  49.665543  47.970367   \n",
       "2321     12   31                MP08bis - Vrijthof  51.474387  49.131197   \n",
       "\n",
       "            lat       lon  standardized_lamax  standardized_laeq  day_cum  \n",
       "2302  50.873808  4.700007            0.436136           0.464733      362  \n",
       "2303  50.878730  4.701150            0.413797           0.419773      362  \n",
       "2304  50.875900  4.700262            0.570988           0.596626      363  \n",
       "2305  50.875237  4.700071            0.610350           0.641628      363  \n",
       "2306  50.874520  4.699850            0.511317           0.530048      363  \n",
       "2307  50.874078  4.700050            0.472315           0.495736      363  \n",
       "2308  50.873808  4.700007            0.471245           0.494202      363  \n",
       "2309  50.878730  4.701150            0.482520           0.484734      363  \n",
       "2310  50.875900  4.700262            0.610932           0.634843      364  \n",
       "2311  50.875237  4.700071            0.621425           0.644624      364  \n",
       "2312  50.874520  4.699850            0.518231           0.534718      364  \n",
       "2313  50.874078  4.700050            0.487066           0.506831      364  \n",
       "2314  50.873808  4.700007            0.430679           0.458336      364  \n",
       "2315  50.878730  4.701150            0.444802           0.454481      364  \n",
       "2316  50.875900  4.700262            0.550906           0.578201      365  \n",
       "2317  50.875237  4.700071            0.634713           0.666387      365  \n",
       "2318  50.874520  4.699850            0.524777           0.543898      365  \n",
       "2319  50.874078  4.700050            0.470558           0.493147      365  \n",
       "2320  50.873808  4.700007            0.447377           0.468192      365  \n",
       "2321  50.878730  4.701150            0.509332           0.508825      365  "
      ]
     },
     "execution_count": 25,
     "metadata": {},
     "output_type": "execute_result"
    }
   ],
   "source": [
    "merged_daily[\"day_cum\"] = merged_daily.apply(lambda row: cumulative_months[row[\"month\"]-1] + row[\"day\"], axis=1)\n",
    "#merged_daily.head(20)\n",
    "merged_daily.tail(20)"
   ]
  },
  {
   "cell_type": "code",
   "execution_count": 8,
   "metadata": {},
   "outputs": [],
   "source": [
    "#not needed for the moment\n",
    "\n",
    "# Add a new column 'year' with value 2022 for all observations\n",
    "#merged_daily['year'] = 2022\n",
    "# Create a new 'date' column by combining 'year', 'month', and 'day' but put the date in the European way\n",
    "#merged_daily['date'] = pd.to_datetime(merged_daily[['year', 'month', 'day']]).dt.strftime('%d %b %Y')\n",
    "\n",
    "# Convert numeric month to month names (in a column date to use same name as above)\n",
    "#merged_monthly['date'] = pd.to_datetime(merged_monthly['month'], format='%m').dt.strftime('%B')\n",
    "\n",
    "# Create a StandardScaler object\n",
    "scaler = MinMaxScaler()\n",
    "# Fit the StandardScaler to the column and transform the Lamax and laeq values\n",
    "merged_daily['standardized_lamax'] = scaler.fit_transform(merged_daily[['lamax']])\n",
    "merged_daily['standardized_laeq'] = scaler.fit_transform(merged_daily[['laeq']])\n",
    "merged_monthly['standardized_lamax'] = scaler.fit_transform(merged_monthly[['lamax']])\n",
    "merged_monthly['standardized_laeq'] = scaler.fit_transform(merged_monthly[['laeq']])\n"
   ]
  },
  {
   "cell_type": "code",
   "execution_count": 47,
   "metadata": {},
   "outputs": [
    {
     "data": {
      "text/html": [
       "<div>\n",
       "<style scoped>\n",
       "    .dataframe tbody tr th:only-of-type {\n",
       "        vertical-align: middle;\n",
       "    }\n",
       "\n",
       "    .dataframe tbody tr th {\n",
       "        vertical-align: top;\n",
       "    }\n",
       "\n",
       "    .dataframe thead th {\n",
       "        text-align: right;\n",
       "    }\n",
       "</style>\n",
       "<table border=\"1\" class=\"dataframe\">\n",
       "  <thead>\n",
       "    <tr style=\"text-align: right;\">\n",
       "      <th></th>\n",
       "      <th>month</th>\n",
       "      <th>day</th>\n",
       "      <th>description</th>\n",
       "      <th>lamax</th>\n",
       "      <th>laeq</th>\n",
       "      <th>lat</th>\n",
       "      <th>lon</th>\n",
       "      <th>standardized_lamax</th>\n",
       "      <th>standardized_laeq</th>\n",
       "      <th>day_cum</th>\n",
       "      <th>laeq_std</th>\n",
       "    </tr>\n",
       "  </thead>\n",
       "  <tbody>\n",
       "    <tr>\n",
       "      <th>0</th>\n",
       "      <td>1</td>\n",
       "      <td>1</td>\n",
       "      <td>MP 03: Naamsestraat 62 Taste</td>\n",
       "      <td>51.665242</td>\n",
       "      <td>49.992637</td>\n",
       "      <td>50.875900</td>\n",
       "      <td>4.700262</td>\n",
       "      <td>0.515869</td>\n",
       "      <td>0.538979</td>\n",
       "      <td>1</td>\n",
       "      <td>0.677285</td>\n",
       "    </tr>\n",
       "    <tr>\n",
       "      <th>1</th>\n",
       "      <td>1</td>\n",
       "      <td>1</td>\n",
       "      <td>MP 05: Calvariekapel KU Leuven</td>\n",
       "      <td>48.747476</td>\n",
       "      <td>46.504067</td>\n",
       "      <td>50.874520</td>\n",
       "      <td>4.699850</td>\n",
       "      <td>0.415931</td>\n",
       "      <td>0.416866</td>\n",
       "      <td>1</td>\n",
       "      <td>0.591806</td>\n",
       "    </tr>\n",
       "    <tr>\n",
       "      <th>2</th>\n",
       "      <td>1</td>\n",
       "      <td>1</td>\n",
       "      <td>MP 06: Parkstraat 2 La Filosovia</td>\n",
       "      <td>48.270005</td>\n",
       "      <td>46.007220</td>\n",
       "      <td>50.874078</td>\n",
       "      <td>4.700050</td>\n",
       "      <td>0.399577</td>\n",
       "      <td>0.399474</td>\n",
       "      <td>1</td>\n",
       "      <td>0.579632</td>\n",
       "    </tr>\n",
       "    <tr>\n",
       "      <th>3</th>\n",
       "      <td>1</td>\n",
       "      <td>1</td>\n",
       "      <td>MP 07: Naamsestraat 81</td>\n",
       "      <td>45.908501</td>\n",
       "      <td>44.373056</td>\n",
       "      <td>50.873808</td>\n",
       "      <td>4.700007</td>\n",
       "      <td>0.318692</td>\n",
       "      <td>0.342272</td>\n",
       "      <td>1</td>\n",
       "      <td>0.539590</td>\n",
       "    </tr>\n",
       "    <tr>\n",
       "      <th>4</th>\n",
       "      <td>1</td>\n",
       "      <td>2</td>\n",
       "      <td>MP 03: Naamsestraat 62 Taste</td>\n",
       "      <td>51.407297</td>\n",
       "      <td>50.094018</td>\n",
       "      <td>50.875900</td>\n",
       "      <td>4.700262</td>\n",
       "      <td>0.507034</td>\n",
       "      <td>0.542528</td>\n",
       "      <td>2</td>\n",
       "      <td>0.679769</td>\n",
       "    </tr>\n",
       "  </tbody>\n",
       "</table>\n",
       "</div>"
      ],
      "text/plain": [
       "   month  day                       description      lamax       laeq   \n",
       "0      1    1      MP 03: Naamsestraat 62 Taste  51.665242  49.992637  \\\n",
       "1      1    1    MP 05: Calvariekapel KU Leuven  48.747476  46.504067   \n",
       "2      1    1  MP 06: Parkstraat 2 La Filosovia  48.270005  46.007220   \n",
       "3      1    1            MP 07: Naamsestraat 81  45.908501  44.373056   \n",
       "4      1    2      MP 03: Naamsestraat 62 Taste  51.407297  50.094018   \n",
       "\n",
       "         lat       lon  standardized_lamax  standardized_laeq  day_cum   \n",
       "0  50.875900  4.700262            0.515869           0.538979        1  \\\n",
       "1  50.874520  4.699850            0.415931           0.416866        1   \n",
       "2  50.874078  4.700050            0.399577           0.399474        1   \n",
       "3  50.873808  4.700007            0.318692           0.342272        1   \n",
       "4  50.875900  4.700262            0.507034           0.542528        2   \n",
       "\n",
       "   laeq_std  \n",
       "0  0.677285  \n",
       "1  0.591806  \n",
       "2  0.579632  \n",
       "3  0.539590  \n",
       "4  0.679769  "
      ]
     },
     "execution_count": 47,
     "metadata": {},
     "output_type": "execute_result"
    }
   ],
   "source": [
    "# Group the data by 'day_cum' and apply the scaler separately for each group\n",
    "max_laeq = merged_daily[\"laeq\"].max()\n",
    "min_laeq = merged_daily[\"laeq\"].min()\n",
    "\n",
    "start_size = 0.3\n",
    "step_size = 0.7\n",
    "\n",
    "def divide_by_max(x):\n",
    "    #max_value = x.max()#for each column separately: not good all the circles more or less same size\n",
    "    return x / max_laeq\n",
    "\n",
    "def myMapping(x):\n",
    "    return start_size + step_size*(x-min_laeq)/(max_laeq-min_laeq)\n",
    "\n",
    "merged_daily['laeq_std'] = merged_daily.groupby('day_cum')['laeq'].transform(myMapping)\n",
    "\n",
    "merged_daily.head()\n",
    "\n",
    "#print(merged_daily[\"laeq_std\"].max())"
   ]
  },
  {
   "cell_type": "code",
   "execution_count": 49,
   "metadata": {},
   "outputs": [
    {
     "data": {
      "application/vnd.plotly.v1+json": {
       "config": {
        "plotlyServerURL": "https://plot.ly"
       },
       "data": [
        {
         "lat": [
          50.877121,
          50.8765,
          50.8759,
          50.87452,
          50.874078,
          50.873808,
          50.87873
         ],
         "lon": [
          4.700708,
          4.700632,
          4.700262,
          4.69985,
          4.70005,
          4.700007,
          4.70115
         ],
         "marker": {
          "color": "blue",
          "size": [
           0.8652326581667971,
           0.781842152396613,
           0.8019850838500291,
           0.7639770365371116,
           0.7773333968110572,
           0.7662185152962466,
           0.5676086883552312
          ],
          "sizemode": "diameter",
          "sizeref": 0.03
         },
         "mode": "markers",
         "type": "scattermapbox"
        }
       ],
       "layout": {
        "height": 400,
        "mapbox": {
         "center": {
          "lat": 50.876,
          "lon": 4.7002
         },
         "style": "open-street-map",
         "zoom": 15
        },
        "margin": {
         "b": 0,
         "l": 20,
         "r": 20,
         "t": 10
        },
        "template": {
         "data": {
          "bar": [
           {
            "error_x": {
             "color": "#2a3f5f"
            },
            "error_y": {
             "color": "#2a3f5f"
            },
            "marker": {
             "line": {
              "color": "#E5ECF6",
              "width": 0.5
             },
             "pattern": {
              "fillmode": "overlay",
              "size": 10,
              "solidity": 0.2
             }
            },
            "type": "bar"
           }
          ],
          "barpolar": [
           {
            "marker": {
             "line": {
              "color": "#E5ECF6",
              "width": 0.5
             },
             "pattern": {
              "fillmode": "overlay",
              "size": 10,
              "solidity": 0.2
             }
            },
            "type": "barpolar"
           }
          ],
          "carpet": [
           {
            "aaxis": {
             "endlinecolor": "#2a3f5f",
             "gridcolor": "white",
             "linecolor": "white",
             "minorgridcolor": "white",
             "startlinecolor": "#2a3f5f"
            },
            "baxis": {
             "endlinecolor": "#2a3f5f",
             "gridcolor": "white",
             "linecolor": "white",
             "minorgridcolor": "white",
             "startlinecolor": "#2a3f5f"
            },
            "type": "carpet"
           }
          ],
          "choropleth": [
           {
            "colorbar": {
             "outlinewidth": 0,
             "ticks": ""
            },
            "type": "choropleth"
           }
          ],
          "contour": [
           {
            "colorbar": {
             "outlinewidth": 0,
             "ticks": ""
            },
            "colorscale": [
             [
              0,
              "#0d0887"
             ],
             [
              0.1111111111111111,
              "#46039f"
             ],
             [
              0.2222222222222222,
              "#7201a8"
             ],
             [
              0.3333333333333333,
              "#9c179e"
             ],
             [
              0.4444444444444444,
              "#bd3786"
             ],
             [
              0.5555555555555556,
              "#d8576b"
             ],
             [
              0.6666666666666666,
              "#ed7953"
             ],
             [
              0.7777777777777778,
              "#fb9f3a"
             ],
             [
              0.8888888888888888,
              "#fdca26"
             ],
             [
              1,
              "#f0f921"
             ]
            ],
            "type": "contour"
           }
          ],
          "contourcarpet": [
           {
            "colorbar": {
             "outlinewidth": 0,
             "ticks": ""
            },
            "type": "contourcarpet"
           }
          ],
          "heatmap": [
           {
            "colorbar": {
             "outlinewidth": 0,
             "ticks": ""
            },
            "colorscale": [
             [
              0,
              "#0d0887"
             ],
             [
              0.1111111111111111,
              "#46039f"
             ],
             [
              0.2222222222222222,
              "#7201a8"
             ],
             [
              0.3333333333333333,
              "#9c179e"
             ],
             [
              0.4444444444444444,
              "#bd3786"
             ],
             [
              0.5555555555555556,
              "#d8576b"
             ],
             [
              0.6666666666666666,
              "#ed7953"
             ],
             [
              0.7777777777777778,
              "#fb9f3a"
             ],
             [
              0.8888888888888888,
              "#fdca26"
             ],
             [
              1,
              "#f0f921"
             ]
            ],
            "type": "heatmap"
           }
          ],
          "heatmapgl": [
           {
            "colorbar": {
             "outlinewidth": 0,
             "ticks": ""
            },
            "colorscale": [
             [
              0,
              "#0d0887"
             ],
             [
              0.1111111111111111,
              "#46039f"
             ],
             [
              0.2222222222222222,
              "#7201a8"
             ],
             [
              0.3333333333333333,
              "#9c179e"
             ],
             [
              0.4444444444444444,
              "#bd3786"
             ],
             [
              0.5555555555555556,
              "#d8576b"
             ],
             [
              0.6666666666666666,
              "#ed7953"
             ],
             [
              0.7777777777777778,
              "#fb9f3a"
             ],
             [
              0.8888888888888888,
              "#fdca26"
             ],
             [
              1,
              "#f0f921"
             ]
            ],
            "type": "heatmapgl"
           }
          ],
          "histogram": [
           {
            "marker": {
             "pattern": {
              "fillmode": "overlay",
              "size": 10,
              "solidity": 0.2
             }
            },
            "type": "histogram"
           }
          ],
          "histogram2d": [
           {
            "colorbar": {
             "outlinewidth": 0,
             "ticks": ""
            },
            "colorscale": [
             [
              0,
              "#0d0887"
             ],
             [
              0.1111111111111111,
              "#46039f"
             ],
             [
              0.2222222222222222,
              "#7201a8"
             ],
             [
              0.3333333333333333,
              "#9c179e"
             ],
             [
              0.4444444444444444,
              "#bd3786"
             ],
             [
              0.5555555555555556,
              "#d8576b"
             ],
             [
              0.6666666666666666,
              "#ed7953"
             ],
             [
              0.7777777777777778,
              "#fb9f3a"
             ],
             [
              0.8888888888888888,
              "#fdca26"
             ],
             [
              1,
              "#f0f921"
             ]
            ],
            "type": "histogram2d"
           }
          ],
          "histogram2dcontour": [
           {
            "colorbar": {
             "outlinewidth": 0,
             "ticks": ""
            },
            "colorscale": [
             [
              0,
              "#0d0887"
             ],
             [
              0.1111111111111111,
              "#46039f"
             ],
             [
              0.2222222222222222,
              "#7201a8"
             ],
             [
              0.3333333333333333,
              "#9c179e"
             ],
             [
              0.4444444444444444,
              "#bd3786"
             ],
             [
              0.5555555555555556,
              "#d8576b"
             ],
             [
              0.6666666666666666,
              "#ed7953"
             ],
             [
              0.7777777777777778,
              "#fb9f3a"
             ],
             [
              0.8888888888888888,
              "#fdca26"
             ],
             [
              1,
              "#f0f921"
             ]
            ],
            "type": "histogram2dcontour"
           }
          ],
          "mesh3d": [
           {
            "colorbar": {
             "outlinewidth": 0,
             "ticks": ""
            },
            "type": "mesh3d"
           }
          ],
          "parcoords": [
           {
            "line": {
             "colorbar": {
              "outlinewidth": 0,
              "ticks": ""
             }
            },
            "type": "parcoords"
           }
          ],
          "pie": [
           {
            "automargin": true,
            "type": "pie"
           }
          ],
          "scatter": [
           {
            "fillpattern": {
             "fillmode": "overlay",
             "size": 10,
             "solidity": 0.2
            },
            "type": "scatter"
           }
          ],
          "scatter3d": [
           {
            "line": {
             "colorbar": {
              "outlinewidth": 0,
              "ticks": ""
             }
            },
            "marker": {
             "colorbar": {
              "outlinewidth": 0,
              "ticks": ""
             }
            },
            "type": "scatter3d"
           }
          ],
          "scattercarpet": [
           {
            "marker": {
             "colorbar": {
              "outlinewidth": 0,
              "ticks": ""
             }
            },
            "type": "scattercarpet"
           }
          ],
          "scattergeo": [
           {
            "marker": {
             "colorbar": {
              "outlinewidth": 0,
              "ticks": ""
             }
            },
            "type": "scattergeo"
           }
          ],
          "scattergl": [
           {
            "marker": {
             "colorbar": {
              "outlinewidth": 0,
              "ticks": ""
             }
            },
            "type": "scattergl"
           }
          ],
          "scattermapbox": [
           {
            "marker": {
             "colorbar": {
              "outlinewidth": 0,
              "ticks": ""
             }
            },
            "type": "scattermapbox"
           }
          ],
          "scatterpolar": [
           {
            "marker": {
             "colorbar": {
              "outlinewidth": 0,
              "ticks": ""
             }
            },
            "type": "scatterpolar"
           }
          ],
          "scatterpolargl": [
           {
            "marker": {
             "colorbar": {
              "outlinewidth": 0,
              "ticks": ""
             }
            },
            "type": "scatterpolargl"
           }
          ],
          "scatterternary": [
           {
            "marker": {
             "colorbar": {
              "outlinewidth": 0,
              "ticks": ""
             }
            },
            "type": "scatterternary"
           }
          ],
          "surface": [
           {
            "colorbar": {
             "outlinewidth": 0,
             "ticks": ""
            },
            "colorscale": [
             [
              0,
              "#0d0887"
             ],
             [
              0.1111111111111111,
              "#46039f"
             ],
             [
              0.2222222222222222,
              "#7201a8"
             ],
             [
              0.3333333333333333,
              "#9c179e"
             ],
             [
              0.4444444444444444,
              "#bd3786"
             ],
             [
              0.5555555555555556,
              "#d8576b"
             ],
             [
              0.6666666666666666,
              "#ed7953"
             ],
             [
              0.7777777777777778,
              "#fb9f3a"
             ],
             [
              0.8888888888888888,
              "#fdca26"
             ],
             [
              1,
              "#f0f921"
             ]
            ],
            "type": "surface"
           }
          ],
          "table": [
           {
            "cells": {
             "fill": {
              "color": "#EBF0F8"
             },
             "line": {
              "color": "white"
             }
            },
            "header": {
             "fill": {
              "color": "#C8D4E3"
             },
             "line": {
              "color": "white"
             }
            },
            "type": "table"
           }
          ]
         },
         "layout": {
          "annotationdefaults": {
           "arrowcolor": "#2a3f5f",
           "arrowhead": 0,
           "arrowwidth": 1
          },
          "autotypenumbers": "strict",
          "coloraxis": {
           "colorbar": {
            "outlinewidth": 0,
            "ticks": ""
           }
          },
          "colorscale": {
           "diverging": [
            [
             0,
             "#8e0152"
            ],
            [
             0.1,
             "#c51b7d"
            ],
            [
             0.2,
             "#de77ae"
            ],
            [
             0.3,
             "#f1b6da"
            ],
            [
             0.4,
             "#fde0ef"
            ],
            [
             0.5,
             "#f7f7f7"
            ],
            [
             0.6,
             "#e6f5d0"
            ],
            [
             0.7,
             "#b8e186"
            ],
            [
             0.8,
             "#7fbc41"
            ],
            [
             0.9,
             "#4d9221"
            ],
            [
             1,
             "#276419"
            ]
           ],
           "sequential": [
            [
             0,
             "#0d0887"
            ],
            [
             0.1111111111111111,
             "#46039f"
            ],
            [
             0.2222222222222222,
             "#7201a8"
            ],
            [
             0.3333333333333333,
             "#9c179e"
            ],
            [
             0.4444444444444444,
             "#bd3786"
            ],
            [
             0.5555555555555556,
             "#d8576b"
            ],
            [
             0.6666666666666666,
             "#ed7953"
            ],
            [
             0.7777777777777778,
             "#fb9f3a"
            ],
            [
             0.8888888888888888,
             "#fdca26"
            ],
            [
             1,
             "#f0f921"
            ]
           ],
           "sequentialminus": [
            [
             0,
             "#0d0887"
            ],
            [
             0.1111111111111111,
             "#46039f"
            ],
            [
             0.2222222222222222,
             "#7201a8"
            ],
            [
             0.3333333333333333,
             "#9c179e"
            ],
            [
             0.4444444444444444,
             "#bd3786"
            ],
            [
             0.5555555555555556,
             "#d8576b"
            ],
            [
             0.6666666666666666,
             "#ed7953"
            ],
            [
             0.7777777777777778,
             "#fb9f3a"
            ],
            [
             0.8888888888888888,
             "#fdca26"
            ],
            [
             1,
             "#f0f921"
            ]
           ]
          },
          "colorway": [
           "#636efa",
           "#EF553B",
           "#00cc96",
           "#ab63fa",
           "#FFA15A",
           "#19d3f3",
           "#FF6692",
           "#B6E880",
           "#FF97FF",
           "#FECB52"
          ],
          "font": {
           "color": "#2a3f5f"
          },
          "geo": {
           "bgcolor": "white",
           "lakecolor": "white",
           "landcolor": "#E5ECF6",
           "showlakes": true,
           "showland": true,
           "subunitcolor": "white"
          },
          "hoverlabel": {
           "align": "left"
          },
          "hovermode": "closest",
          "mapbox": {
           "style": "light"
          },
          "paper_bgcolor": "white",
          "plot_bgcolor": "#E5ECF6",
          "polar": {
           "angularaxis": {
            "gridcolor": "white",
            "linecolor": "white",
            "ticks": ""
           },
           "bgcolor": "#E5ECF6",
           "radialaxis": {
            "gridcolor": "white",
            "linecolor": "white",
            "ticks": ""
           }
          },
          "scene": {
           "xaxis": {
            "backgroundcolor": "#E5ECF6",
            "gridcolor": "white",
            "gridwidth": 2,
            "linecolor": "white",
            "showbackground": true,
            "ticks": "",
            "zerolinecolor": "white"
           },
           "yaxis": {
            "backgroundcolor": "#E5ECF6",
            "gridcolor": "white",
            "gridwidth": 2,
            "linecolor": "white",
            "showbackground": true,
            "ticks": "",
            "zerolinecolor": "white"
           },
           "zaxis": {
            "backgroundcolor": "#E5ECF6",
            "gridcolor": "white",
            "gridwidth": 2,
            "linecolor": "white",
            "showbackground": true,
            "ticks": "",
            "zerolinecolor": "white"
           }
          },
          "shapedefaults": {
           "line": {
            "color": "#2a3f5f"
           }
          },
          "ternary": {
           "aaxis": {
            "gridcolor": "white",
            "linecolor": "white",
            "ticks": ""
           },
           "baxis": {
            "gridcolor": "white",
            "linecolor": "white",
            "ticks": ""
           },
           "bgcolor": "#E5ECF6",
           "caxis": {
            "gridcolor": "white",
            "linecolor": "white",
            "ticks": ""
           }
          },
          "title": {
           "x": 0.05
          },
          "xaxis": {
           "automargin": true,
           "gridcolor": "white",
           "linecolor": "white",
           "ticks": "",
           "title": {
            "standoff": 15
           },
           "zerolinecolor": "white",
           "zerolinewidth": 2
          },
          "yaxis": {
           "automargin": true,
           "gridcolor": "white",
           "linecolor": "white",
           "ticks": "",
           "title": {
            "standoff": 15
           },
           "zerolinecolor": "white",
           "zerolinewidth": 2
          }
         }
        },
        "width": 200
       }
      }
     },
     "metadata": {},
     "output_type": "display_data"
    }
   ],
   "source": [
    "## Laeq map daily ##\n",
    "# Create the Scattermapbox trace\n",
    "\n",
    "filtered_data = merged_daily[merged_daily['day_cum'] == 90]\n",
    "\n",
    "#print(filtered_data)\n",
    "\n",
    "data_trace = go.Scattermapbox(\n",
    "    lat=filtered_data['lat'],\n",
    "    lon=filtered_data['lon'],\n",
    "    mode='markers',\n",
    "    marker=dict(\n",
    "        size=filtered_data['laeq_std'],\n",
    "        sizemode='diameter',\n",
    "        sizeref=0.03,\n",
    "        color='blue'\n",
    "    ),\n",
    ")\n",
    "# Create the layout #this is the same for all 4 figures\n",
    "layout = go.Layout(\n",
    "    mapbox=dict(\n",
    "        center=dict(lat=50.876, lon=4.70020),\n",
    "        zoom=15,\n",
    "        style='open-street-map'\n",
    "    ),\n",
    "    height=400,\n",
    "    width=200,\n",
    "    margin=dict(l=20, r=20, t=10, b=0)\n",
    ")\n",
    "# Create the figure\n",
    "fig_laeq_daily = go.Figure(data=[data_trace], layout=layout)\n",
    "\n",
    "fig_laeq_daily.show()"
   ]
  },
  {
   "cell_type": "code",
   "execution_count": 10,
   "metadata": {},
   "outputs": [
    {
     "ename": "KeyError",
     "evalue": "\"['date'] not in index\"",
     "output_type": "error",
     "traceback": [
      "\u001b[1;31m---------------------------------------------------------------------------\u001b[0m",
      "\u001b[1;31mKeyError\u001b[0m                                  Traceback (most recent call last)",
      "Cell \u001b[1;32mIn[10], line 13\u001b[0m\n\u001b[0;32m      1\u001b[0m \u001b[39m## Laeq map daily ##\u001b[39;00m\n\u001b[0;32m      2\u001b[0m \u001b[39m# Create the Scattermapbox trace\u001b[39;00m\n\u001b[0;32m      3\u001b[0m data_trace \u001b[39m=\u001b[39m go\u001b[39m.\u001b[39mScattermapbox(\n\u001b[0;32m      4\u001b[0m     lat\u001b[39m=\u001b[39mmerged_daily[\u001b[39m'\u001b[39m\u001b[39mlat\u001b[39m\u001b[39m'\u001b[39m],\n\u001b[0;32m      5\u001b[0m     lon\u001b[39m=\u001b[39mmerged_daily[\u001b[39m'\u001b[39m\u001b[39mlon\u001b[39m\u001b[39m'\u001b[39m],\n\u001b[0;32m      6\u001b[0m     mode\u001b[39m=\u001b[39m\u001b[39m'\u001b[39m\u001b[39mmarkers\u001b[39m\u001b[39m'\u001b[39m,\n\u001b[0;32m      7\u001b[0m     marker\u001b[39m=\u001b[39m\u001b[39mdict\u001b[39m(\n\u001b[0;32m      8\u001b[0m         size\u001b[39m=\u001b[39mmerged_daily[\u001b[39m'\u001b[39m\u001b[39mstandardized_laeq\u001b[39m\u001b[39m'\u001b[39m],\n\u001b[0;32m      9\u001b[0m         sizemode\u001b[39m=\u001b[39m\u001b[39m'\u001b[39m\u001b[39mdiameter\u001b[39m\u001b[39m'\u001b[39m,\n\u001b[0;32m     10\u001b[0m         sizeref\u001b[39m=\u001b[39m\u001b[39m0.1\u001b[39m,\n\u001b[0;32m     11\u001b[0m         color\u001b[39m=\u001b[39m\u001b[39m'\u001b[39m\u001b[39mblue\u001b[39m\u001b[39m'\u001b[39m\n\u001b[0;32m     12\u001b[0m     ),\n\u001b[1;32m---> 13\u001b[0m     customdata\u001b[39m=\u001b[39mmerged_daily[[\u001b[39m'\u001b[39;49m\u001b[39mdate\u001b[39;49m\u001b[39m'\u001b[39;49m, \u001b[39m'\u001b[39;49m\u001b[39mdescription\u001b[39;49m\u001b[39m'\u001b[39;49m, \u001b[39m'\u001b[39;49m\u001b[39mlaeq\u001b[39;49m\u001b[39m'\u001b[39;49m, \u001b[39m'\u001b[39;49m\u001b[39mstandardized_laeq\u001b[39;49m\u001b[39m'\u001b[39;49m]],\n\u001b[0;32m     14\u001b[0m     hoverlabel\u001b[39m=\u001b[39m\u001b[39mdict\u001b[39m(namelength\u001b[39m=\u001b[39m\u001b[39m0\u001b[39m),\n\u001b[0;32m     15\u001b[0m     hovertemplate\u001b[39m=\u001b[39m\u001b[39m'\u001b[39m\u001b[39mDate: \u001b[39m\u001b[39m%\u001b[39m\u001b[39m{customdata[0]}\u001b[39;00m\u001b[39m<br>\u001b[39m\u001b[39m'\u001b[39m\n\u001b[0;32m     16\u001b[0m                   \u001b[39m'\u001b[39m\u001b[39mLocation: \u001b[39m\u001b[39m%\u001b[39m\u001b[39m{customdata[1]}\u001b[39;00m\u001b[39m<br>\u001b[39m\u001b[39m'\u001b[39m\n\u001b[0;32m     17\u001b[0m                   \u001b[39m'\u001b[39m\u001b[39mNoise level: \u001b[39m\u001b[39m%\u001b[39m\u001b[39m{customdata[2]:.2f}\u001b[39;00m\u001b[39m dB(A)<br>\u001b[39m\u001b[39m'\u001b[39m\n\u001b[0;32m     18\u001b[0m                   \u001b[39m'\u001b[39m\u001b[39mStandardized noise level: \u001b[39m\u001b[39m%\u001b[39m\u001b[39m{customdata[3]:.2f}\u001b[39;00m\u001b[39m dB(A)\u001b[39m\u001b[39m'\u001b[39m\n\u001b[0;32m     19\u001b[0m )\n\u001b[0;32m     20\u001b[0m \u001b[39m# Create the layout #this is the same for all 4 figures\u001b[39;00m\n\u001b[0;32m     21\u001b[0m layout \u001b[39m=\u001b[39m go\u001b[39m.\u001b[39mLayout(\n\u001b[0;32m     22\u001b[0m     mapbox\u001b[39m=\u001b[39m\u001b[39mdict\u001b[39m(\n\u001b[0;32m     23\u001b[0m         center\u001b[39m=\u001b[39m\u001b[39mdict\u001b[39m(lat\u001b[39m=\u001b[39m\u001b[39m50.876\u001b[39m, lon\u001b[39m=\u001b[39m\u001b[39m4.70020\u001b[39m),\n\u001b[1;32m   (...)\u001b[0m\n\u001b[0;32m     29\u001b[0m     margin\u001b[39m=\u001b[39m\u001b[39mdict\u001b[39m(l\u001b[39m=\u001b[39m\u001b[39m20\u001b[39m, r\u001b[39m=\u001b[39m\u001b[39m400\u001b[39m, t\u001b[39m=\u001b[39m\u001b[39m0\u001b[39m, b\u001b[39m=\u001b[39m\u001b[39m100\u001b[39m)\n\u001b[0;32m     30\u001b[0m )\n",
      "File \u001b[1;32mc:\\Users\\gcorl\\OneDrive\\Documents\\KUL\\Master 1\\Semester 2\\Modern data analytics\\Project-MDA\\.venv\\lib\\site-packages\\pandas\\core\\frame.py:3767\u001b[0m, in \u001b[0;36mDataFrame.__getitem__\u001b[1;34m(self, key)\u001b[0m\n\u001b[0;32m   3765\u001b[0m     \u001b[39mif\u001b[39;00m is_iterator(key):\n\u001b[0;32m   3766\u001b[0m         key \u001b[39m=\u001b[39m \u001b[39mlist\u001b[39m(key)\n\u001b[1;32m-> 3767\u001b[0m     indexer \u001b[39m=\u001b[39m \u001b[39mself\u001b[39;49m\u001b[39m.\u001b[39;49mcolumns\u001b[39m.\u001b[39;49m_get_indexer_strict(key, \u001b[39m\"\u001b[39;49m\u001b[39mcolumns\u001b[39;49m\u001b[39m\"\u001b[39;49m)[\u001b[39m1\u001b[39m]\n\u001b[0;32m   3769\u001b[0m \u001b[39m# take() does not accept boolean indexers\u001b[39;00m\n\u001b[0;32m   3770\u001b[0m \u001b[39mif\u001b[39;00m \u001b[39mgetattr\u001b[39m(indexer, \u001b[39m\"\u001b[39m\u001b[39mdtype\u001b[39m\u001b[39m\"\u001b[39m, \u001b[39mNone\u001b[39;00m) \u001b[39m==\u001b[39m \u001b[39mbool\u001b[39m:\n",
      "File \u001b[1;32mc:\\Users\\gcorl\\OneDrive\\Documents\\KUL\\Master 1\\Semester 2\\Modern data analytics\\Project-MDA\\.venv\\lib\\site-packages\\pandas\\core\\indexes\\base.py:5876\u001b[0m, in \u001b[0;36mIndex._get_indexer_strict\u001b[1;34m(self, key, axis_name)\u001b[0m\n\u001b[0;32m   5873\u001b[0m \u001b[39melse\u001b[39;00m:\n\u001b[0;32m   5874\u001b[0m     keyarr, indexer, new_indexer \u001b[39m=\u001b[39m \u001b[39mself\u001b[39m\u001b[39m.\u001b[39m_reindex_non_unique(keyarr)\n\u001b[1;32m-> 5876\u001b[0m \u001b[39mself\u001b[39;49m\u001b[39m.\u001b[39;49m_raise_if_missing(keyarr, indexer, axis_name)\n\u001b[0;32m   5878\u001b[0m keyarr \u001b[39m=\u001b[39m \u001b[39mself\u001b[39m\u001b[39m.\u001b[39mtake(indexer)\n\u001b[0;32m   5879\u001b[0m \u001b[39mif\u001b[39;00m \u001b[39misinstance\u001b[39m(key, Index):\n\u001b[0;32m   5880\u001b[0m     \u001b[39m# GH 42790 - Preserve name from an Index\u001b[39;00m\n",
      "File \u001b[1;32mc:\\Users\\gcorl\\OneDrive\\Documents\\KUL\\Master 1\\Semester 2\\Modern data analytics\\Project-MDA\\.venv\\lib\\site-packages\\pandas\\core\\indexes\\base.py:5938\u001b[0m, in \u001b[0;36mIndex._raise_if_missing\u001b[1;34m(self, key, indexer, axis_name)\u001b[0m\n\u001b[0;32m   5935\u001b[0m     \u001b[39mraise\u001b[39;00m \u001b[39mKeyError\u001b[39;00m(\u001b[39mf\u001b[39m\u001b[39m\"\u001b[39m\u001b[39mNone of [\u001b[39m\u001b[39m{\u001b[39;00mkey\u001b[39m}\u001b[39;00m\u001b[39m] are in the [\u001b[39m\u001b[39m{\u001b[39;00maxis_name\u001b[39m}\u001b[39;00m\u001b[39m]\u001b[39m\u001b[39m\"\u001b[39m)\n\u001b[0;32m   5937\u001b[0m not_found \u001b[39m=\u001b[39m \u001b[39mlist\u001b[39m(ensure_index(key)[missing_mask\u001b[39m.\u001b[39mnonzero()[\u001b[39m0\u001b[39m]]\u001b[39m.\u001b[39munique())\n\u001b[1;32m-> 5938\u001b[0m \u001b[39mraise\u001b[39;00m \u001b[39mKeyError\u001b[39;00m(\u001b[39mf\u001b[39m\u001b[39m\"\u001b[39m\u001b[39m{\u001b[39;00mnot_found\u001b[39m}\u001b[39;00m\u001b[39m not in index\u001b[39m\u001b[39m\"\u001b[39m)\n",
      "\u001b[1;31mKeyError\u001b[0m: \"['date'] not in index\""
     ]
    }
   ],
   "source": [
    "## Laeq map daily ##\n",
    "# Create the Scattermapbox trace\n",
    "data_trace = go.Scattermapbox(\n",
    "    lat=merged_daily['lat'],\n",
    "    lon=merged_daily['lon'],\n",
    "    mode='markers',\n",
    "    marker=dict(\n",
    "        size=merged_daily['standardized_laeq'],\n",
    "        sizemode='diameter',\n",
    "        sizeref=0.1,\n",
    "        color='blue'\n",
    "    ),\n",
    "    customdata=merged_daily[['date', 'description', 'laeq', 'standardized_laeq']],\n",
    "    hoverlabel=dict(namelength=0),\n",
    "    hovertemplate='Date: %{customdata[0]}<br>'\n",
    "                  'Location: %{customdata[1]}<br>'\n",
    "                  'Noise level: %{customdata[2]:.2f} dB(A)<br>'\n",
    "                  'Standardized noise level: %{customdata[3]:.2f} dB(A)'\n",
    ")\n",
    "# Create the layout #this is the same for all 4 figures\n",
    "layout = go.Layout(\n",
    "    mapbox=dict(\n",
    "        center=dict(lat=50.876, lon=4.70020),\n",
    "        zoom=15,\n",
    "        style='open-street-map'\n",
    "    ),\n",
    "    height=800,\n",
    "    width=800,\n",
    "    margin=dict(l=20, r=400, t=0, b=100)\n",
    ")\n",
    "# Create the figure\n",
    "fig_laeq_daily = go.Figure(data=[data_trace], layout=layout)\n",
    "\n",
    "fig_laeq_daily.show()"
   ]
  },
  {
   "cell_type": "code",
   "execution_count": 53,
   "metadata": {},
   "outputs": [
    {
     "name": "stdout",
     "output_type": "stream",
     "text": [
      "31 December 2022\n"
     ]
    }
   ],
   "source": [
    "from datetime import datetime, timedelta\n",
    "\n",
    "def convert_day_to_date(day):\n",
    "    # Define the start date for the year\n",
    "    start_date = datetime(2022, 1, 1)\n",
    "    \n",
    "    # Add the number of days to the start date\n",
    "    target_date = start_date + timedelta(days=day - 1)\n",
    "    \n",
    "    # Format the date as desired (e.g., \"5 March 2022\")\n",
    "    formatted_date = target_date.strftime(\"%d %B %Y\")\n",
    "    \n",
    "    return formatted_date\n",
    "\n",
    "# Example usage\n",
    "day = 365\n",
    "formatted_date = convert_day_to_date(day)\n",
    "print(formatted_date)"
   ]
  }
 ],
 "metadata": {
  "kernelspec": {
   "display_name": ".venv",
   "language": "python",
   "name": "python3"
  },
  "language_info": {
   "codemirror_mode": {
    "name": "ipython",
    "version": 3
   },
   "file_extension": ".py",
   "mimetype": "text/x-python",
   "name": "python",
   "nbconvert_exporter": "python",
   "pygments_lexer": "ipython3",
   "version": "3.9.0"
  },
  "orig_nbformat": 4
 },
 "nbformat": 4,
 "nbformat_minor": 2
}
