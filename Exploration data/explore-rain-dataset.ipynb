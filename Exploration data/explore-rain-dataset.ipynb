{
 "cells": [
  {
   "cell_type": "code",
   "execution_count": 2,
   "metadata": {},
   "outputs": [],
   "source": [
    "import pandas as pd"
   ]
  },
  {
   "cell_type": "code",
   "execution_count": 3,
   "metadata": {},
   "outputs": [
    {
     "name": "stdout",
     "output_type": "stream",
     "text": [
      "   Year  Month  Day  LC_HUMIDITY  LC_DWPTEMP       LC_n     LC_RAD  LC_RAININ   \n",
      "0  2022      1    1    86.557205   10.257703  36.346609  21.264531   0.000002  \\\n",
      "1  2022      1    2    83.512460    9.379296  36.056435  14.140794   0.000658   \n",
      "2  2022      1    3    89.579036    8.004425  35.882086   5.529369   0.000750   \n",
      "3  2022      1    4    94.288450    5.983424  35.816041   7.944379   0.000469   \n",
      "4  2022      1    5    88.026102    2.078484  35.573298  13.893690   0.000131   \n",
      "\n",
      "   LC_DAILYRAIN  LC_WINDDIR  LC_WINDSPEED      Hour     Minute   LC_RAD60   \n",
      "0      0.000029   -6.567639      0.322477  11.58042  25.174825  21.396634  \\\n",
      "1      0.003468  -28.866315      0.721487  11.50000  25.000000  14.099483   \n",
      "2      0.006831  -35.256016      0.663436  11.50000  25.000000   5.517430   \n",
      "3      0.003571  -25.637291      0.333304  11.50000  25.000000   7.962571   \n",
      "4      0.000262  -44.342911      0.609569  11.50000  25.000000  13.890103   \n",
      "\n",
      "   LC_TEMP_QCL0  LC_TEMP_QCL1  LC_TEMP_QCL2  LC_TEMP_QCL3  \n",
      "0     12.447359     12.464281     12.450807     12.424740  \n",
      "1     12.112883     12.115685     12.102359     12.086891  \n",
      "2      9.646861      9.648249      9.635166      9.683051  \n",
      "3      6.830167      6.828260      6.816515      6.837235  \n",
      "4      3.903085      3.900556      3.890475      3.915760  \n"
     ]
    }
   ],
   "source": [
    "weather_data = pd.read_csv(\"../Data/daily_weatherdata_2022.csv\", header = 0, sep=',')\n",
    "print(weather_data.head())\n"
   ]
  },
  {
   "cell_type": "code",
   "execution_count": 8,
   "metadata": {},
   "outputs": [
    {
     "name": "stdout",
     "output_type": "stream",
     "text": [
      "the maximum rain is 0.02097,\n",
      " the minimum is 0.0\n",
      " and the average is 0.0012 all expressed in mm and it is daily\n"
     ]
    }
   ],
   "source": [
    "#print(weather_data['LC_DAILYRAIN'])\n",
    "\n",
    "#theoretically 0.2mm or more is a rainy day\n",
    "\n",
    "min_rain = min(weather_data[\"LC_DAILYRAIN\"])\n",
    "mean_rain = weather_data[\"LC_DAILYRAIN\"].mean()\n",
    "max_rain = max(weather_data[\"LC_DAILYRAIN\"])\n",
    "\n",
    "print(f\"the maximum rain is {round(max_rain,5)},\\n the minimum is {round(min_rain,5)}\\n and the average is {round(mean_rain,5)} all expressed in mm and it is daily\")"
   ]
  },
  {
   "cell_type": "code",
   "execution_count": 12,
   "metadata": {},
   "outputs": [
    {
     "data": {
      "image/png": "[encoded data removed]",
      "text/plain": [
       "<Figure size 640x480 with 1 Axes>"
      ]
     },
     "metadata": {},
     "output_type": "display_data"
    }
   ],
   "source": [
    "import matplotlib.pyplot as plt\n",
    "\n",
    "number_of_bins = 5\n",
    "\n",
    "plt.hist(weather_data[\"LC_DAILYRAIN\"], bins=number_of_bins)\n",
    "plt.show()"
   ]
  },
  {
   "cell_type": "code",
   "execution_count": 19,
   "metadata": {},
   "outputs": [
    {
     "name": "stdout",
     "output_type": "stream",
     "text": [
      "0      0.000029\n",
      "1      0.003468\n",
      "2      0.006831\n",
      "3      0.003571\n",
      "4      0.000262\n",
      "         ...   \n",
      "361    0.001504\n",
      "362    0.009915\n",
      "363    0.002715\n",
      "364    0.000983\n",
      "365    0.000000\n",
      "Name: LC_DAILYRAIN, Length: 366, dtype: float64\n",
      "<PandasArray>\n",
      "[ 0.020973337833277,  0.017167374041621, 0.0126690164261488,\n",
      " 0.0113924119241192, 0.0111424802110817, 0.0110150038561312,\n",
      " 0.0106897330322752, 0.0106758685070347, 0.0099151156232374,\n",
      " 0.0099013479582397,\n",
      " ...\n",
      "                0.0,                0.0,                0.0,\n",
      "                0.0,                0.0,                0.0,\n",
      "                0.0,                0.0,                0.0,\n",
      "                0.0]\n",
      "Length: 366, dtype: float64\n"
     ]
    }
   ],
   "source": [
    "#apparently 144 precipiatation days in Belgium 2022\n",
    "#https://www.thebulletin.be/2022-was-belgiums-second-hottest-and-driest-record-after-2020#:~:text=%E2%80%9CThe%20number%20of%20precipitation%20days,period%201991%2D2020).%E2%80%9D\n",
    "\n",
    "rain_days = weather_data[\"LC_DAILYRAIN\"]\n",
    "\n",
    "print(rain_days)\n",
    "\n",
    "sorted_rain_days = rain_days.sort_values(ascending=False).array\n",
    "\n",
    "print(sorted_rain_days)\n"
   ]
  },
  {
   "cell_type": "code",
   "execution_count": 26,
   "metadata": {},
   "outputs": [
    {
     "name": "stdout",
     "output_type": "stream",
     "text": [
      "0.0001954542388885\n"
     ]
    }
   ],
   "source": [
    "#get cutoff values\n",
    "\n",
    "cutoff_rain_day_144 = sorted_rain_days[143] #144th value\n",
    "\n",
    "print(cutoff_rain_day_144)\n",
    "\n",
    "#I think the data is in meters and not in mm\n",
    "\n",
    "#cutoff value 0.2mm\n",
    "cutoff_rain_day = 0.0002"
   ]
  },
  {
   "cell_type": "code",
   "execution_count": 28,
   "metadata": {},
   "outputs": [
    {
     "data": {
      "text/html": [
       "<div>\n",
       "<style scoped>\n",
       "    .dataframe tbody tr th:only-of-type {\n",
       "        vertical-align: middle;\n",
       "    }\n",
       "\n",
       "    .dataframe tbody tr th {\n",
       "        vertical-align: top;\n",
       "    }\n",
       "\n",
       "    .dataframe thead th {\n",
       "        text-align: right;\n",
       "    }\n",
       "</style>\n",
       "<table border=\"1\" class=\"dataframe\">\n",
       "  <thead>\n",
       "    <tr style=\"text-align: right;\">\n",
       "      <th></th>\n",
       "      <th>Year</th>\n",
       "      <th>Month</th>\n",
       "      <th>Day</th>\n",
       "      <th>LC_HUMIDITY</th>\n",
       "      <th>LC_DWPTEMP</th>\n",
       "      <th>LC_n</th>\n",
       "      <th>LC_RAD</th>\n",
       "      <th>LC_RAININ</th>\n",
       "      <th>LC_DAILYRAIN</th>\n",
       "      <th>LC_WINDDIR</th>\n",
       "      <th>LC_WINDSPEED</th>\n",
       "      <th>Hour</th>\n",
       "      <th>Minute</th>\n",
       "      <th>LC_RAD60</th>\n",
       "      <th>LC_TEMP_QCL0</th>\n",
       "      <th>LC_TEMP_QCL1</th>\n",
       "      <th>LC_TEMP_QCL2</th>\n",
       "      <th>LC_TEMP_QCL3</th>\n",
       "      <th>bool_rainday</th>\n",
       "    </tr>\n",
       "  </thead>\n",
       "  <tbody>\n",
       "    <tr>\n",
       "      <th>0</th>\n",
       "      <td>2022</td>\n",
       "      <td>1</td>\n",
       "      <td>1</td>\n",
       "      <td>86.557205</td>\n",
       "      <td>10.257703</td>\n",
       "      <td>36.346609</td>\n",
       "      <td>21.264531</td>\n",
       "      <td>0.000002</td>\n",
       "      <td>0.000029</td>\n",
       "      <td>-6.567639</td>\n",
       "      <td>0.322477</td>\n",
       "      <td>11.58042</td>\n",
       "      <td>25.174825</td>\n",
       "      <td>21.396634</td>\n",
       "      <td>12.447359</td>\n",
       "      <td>12.464281</td>\n",
       "      <td>12.450807</td>\n",
       "      <td>12.424740</td>\n",
       "      <td>False</td>\n",
       "    </tr>\n",
       "    <tr>\n",
       "      <th>1</th>\n",
       "      <td>2022</td>\n",
       "      <td>1</td>\n",
       "      <td>2</td>\n",
       "      <td>83.512460</td>\n",
       "      <td>9.379296</td>\n",
       "      <td>36.056435</td>\n",
       "      <td>14.140794</td>\n",
       "      <td>0.000658</td>\n",
       "      <td>0.003468</td>\n",
       "      <td>-28.866315</td>\n",
       "      <td>0.721487</td>\n",
       "      <td>11.50000</td>\n",
       "      <td>25.000000</td>\n",
       "      <td>14.099483</td>\n",
       "      <td>12.112883</td>\n",
       "      <td>12.115685</td>\n",
       "      <td>12.102359</td>\n",
       "      <td>12.086891</td>\n",
       "      <td>True</td>\n",
       "    </tr>\n",
       "    <tr>\n",
       "      <th>2</th>\n",
       "      <td>2022</td>\n",
       "      <td>1</td>\n",
       "      <td>3</td>\n",
       "      <td>89.579036</td>\n",
       "      <td>8.004425</td>\n",
       "      <td>35.882086</td>\n",
       "      <td>5.529369</td>\n",
       "      <td>0.000750</td>\n",
       "      <td>0.006831</td>\n",
       "      <td>-35.256016</td>\n",
       "      <td>0.663436</td>\n",
       "      <td>11.50000</td>\n",
       "      <td>25.000000</td>\n",
       "      <td>5.517430</td>\n",
       "      <td>9.646861</td>\n",
       "      <td>9.648249</td>\n",
       "      <td>9.635166</td>\n",
       "      <td>9.683051</td>\n",
       "      <td>True</td>\n",
       "    </tr>\n",
       "    <tr>\n",
       "      <th>3</th>\n",
       "      <td>2022</td>\n",
       "      <td>1</td>\n",
       "      <td>4</td>\n",
       "      <td>94.288450</td>\n",
       "      <td>5.983424</td>\n",
       "      <td>35.816041</td>\n",
       "      <td>7.944379</td>\n",
       "      <td>0.000469</td>\n",
       "      <td>0.003571</td>\n",
       "      <td>-25.637291</td>\n",
       "      <td>0.333304</td>\n",
       "      <td>11.50000</td>\n",
       "      <td>25.000000</td>\n",
       "      <td>7.962571</td>\n",
       "      <td>6.830167</td>\n",
       "      <td>6.828260</td>\n",
       "      <td>6.816515</td>\n",
       "      <td>6.837235</td>\n",
       "      <td>True</td>\n",
       "    </tr>\n",
       "    <tr>\n",
       "      <th>4</th>\n",
       "      <td>2022</td>\n",
       "      <td>1</td>\n",
       "      <td>5</td>\n",
       "      <td>88.026102</td>\n",
       "      <td>2.078484</td>\n",
       "      <td>35.573298</td>\n",
       "      <td>13.893690</td>\n",
       "      <td>0.000131</td>\n",
       "      <td>0.000262</td>\n",
       "      <td>-44.342911</td>\n",
       "      <td>0.609569</td>\n",
       "      <td>11.50000</td>\n",
       "      <td>25.000000</td>\n",
       "      <td>13.890103</td>\n",
       "      <td>3.903085</td>\n",
       "      <td>3.900556</td>\n",
       "      <td>3.890475</td>\n",
       "      <td>3.915760</td>\n",
       "      <td>True</td>\n",
       "    </tr>\n",
       "  </tbody>\n",
       "</table>\n",
       "</div>"
      ],
      "text/plain": [
       "   Year  Month  Day  LC_HUMIDITY  LC_DWPTEMP       LC_n     LC_RAD  LC_RAININ   \n",
       "0  2022      1    1    86.557205   10.257703  36.346609  21.264531   0.000002  \\\n",
       "1  2022      1    2    83.512460    9.379296  36.056435  14.140794   0.000658   \n",
       "2  2022      1    3    89.579036    8.004425  35.882086   5.529369   0.000750   \n",
       "3  2022      1    4    94.288450    5.983424  35.816041   7.944379   0.000469   \n",
       "4  2022      1    5    88.026102    2.078484  35.573298  13.893690   0.000131   \n",
       "\n",
       "   LC_DAILYRAIN  LC_WINDDIR  LC_WINDSPEED      Hour     Minute   LC_RAD60   \n",
       "0      0.000029   -6.567639      0.322477  11.58042  25.174825  21.396634  \\\n",
       "1      0.003468  -28.866315      0.721487  11.50000  25.000000  14.099483   \n",
       "2      0.006831  -35.256016      0.663436  11.50000  25.000000   5.517430   \n",
       "3      0.003571  -25.637291      0.333304  11.50000  25.000000   7.962571   \n",
       "4      0.000262  -44.342911      0.609569  11.50000  25.000000  13.890103   \n",
       "\n",
       "   LC_TEMP_QCL0  LC_TEMP_QCL1  LC_TEMP_QCL2  LC_TEMP_QCL3  bool_rainday  \n",
       "0     12.447359     12.464281     12.450807     12.424740         False  \n",
       "1     12.112883     12.115685     12.102359     12.086891          True  \n",
       "2      9.646861      9.648249      9.635166      9.683051          True  \n",
       "3      6.830167      6.828260      6.816515      6.837235          True  \n",
       "4      3.903085      3.900556      3.890475      3.915760          True  "
      ]
     },
     "execution_count": 28,
     "metadata": {},
     "output_type": "execute_result"
    }
   ],
   "source": [
    "#add column to dataframe (in the script, not in the real dataset)\n",
    "\n",
    "weather_data[\"bool_rainday\"] = weather_data[\"LC_DAILYRAIN\"] > cutoff_rain_day\n",
    "\n",
    "weather_data.head()"
   ]
  }
 ],
 "metadata": {
  "kernelspec": {
   "display_name": ".venv",
   "language": "python",
   "name": "python3"
  },
  "language_info": {
   "codemirror_mode": {
    "name": "ipython",
    "version": 3
   },
   "file_extension": ".py",
   "mimetype": "text/x-python",
   "name": "python",
   "nbconvert_exporter": "python",
   "pygments_lexer": "ipython3",
   "version": "3.9.0"
  },
  "orig_nbformat": 4
 },
 "nbformat": 4,
 "nbformat_minor": 2
}
