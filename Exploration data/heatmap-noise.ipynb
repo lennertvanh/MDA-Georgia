{
 "cells": [
  {
   "cell_type": "code",
   "execution_count": 11,
   "metadata": {},
   "outputs": [],
   "source": [
    "import pandas as pd\n",
    "import datetime"
   ]
  },
  {
   "cell_type": "code",
   "execution_count": 12,
   "metadata": {},
   "outputs": [
    {
     "name": "stdout",
     "output_type": "stream",
     "text": [
      "   month  day  hour                       description      lamax       laeq\n",
      "0      1    1     0      MP 03: Naamsestraat 62 Taste  60.322528  57.126833\n",
      "1      1    1     0    MP 05: Calvariekapel KU Leuven  53.230972  49.987639\n",
      "2      1    1     0  MP 06: Parkstraat 2 La Filosovia  53.666056  50.752000\n",
      "3      1    1     0            MP 07: Naamsestraat 81  50.056861  47.440222\n",
      "4      1    1     1      MP 03: Naamsestraat 62 Taste  53.033583  50.853806\n"
     ]
    }
   ],
   "source": [
    "noise_data = pd.read_csv(\"../Data/hourly_noisedata_2022.csv\", header = 0, sep=',')\n",
    "print(noise_data.head())"
   ]
  },
  {
   "cell_type": "code",
   "execution_count": 13,
   "metadata": {},
   "outputs": [
    {
     "data": {
      "text/html": [
       "<div>\n",
       "<style scoped>\n",
       "    .dataframe tbody tr th:only-of-type {\n",
       "        vertical-align: middle;\n",
       "    }\n",
       "\n",
       "    .dataframe tbody tr th {\n",
       "        vertical-align: top;\n",
       "    }\n",
       "\n",
       "    .dataframe thead th {\n",
       "        text-align: right;\n",
       "    }\n",
       "</style>\n",
       "<table border=\"1\" class=\"dataframe\">\n",
       "  <thead>\n",
       "    <tr style=\"text-align: right;\">\n",
       "      <th></th>\n",
       "      <th>month</th>\n",
       "      <th>day</th>\n",
       "      <th>hour</th>\n",
       "      <th>lamax</th>\n",
       "      <th>laeq</th>\n",
       "    </tr>\n",
       "  </thead>\n",
       "  <tbody>\n",
       "    <tr>\n",
       "      <th>0</th>\n",
       "      <td>1</td>\n",
       "      <td>1</td>\n",
       "      <td>0</td>\n",
       "      <td>54.319104</td>\n",
       "      <td>51.326674</td>\n",
       "    </tr>\n",
       "    <tr>\n",
       "      <th>1</th>\n",
       "      <td>1</td>\n",
       "      <td>1</td>\n",
       "      <td>1</td>\n",
       "      <td>54.152799</td>\n",
       "      <td>51.563278</td>\n",
       "    </tr>\n",
       "    <tr>\n",
       "      <th>2</th>\n",
       "      <td>1</td>\n",
       "      <td>1</td>\n",
       "      <td>2</td>\n",
       "      <td>50.295141</td>\n",
       "      <td>47.712392</td>\n",
       "    </tr>\n",
       "    <tr>\n",
       "      <th>3</th>\n",
       "      <td>1</td>\n",
       "      <td>1</td>\n",
       "      <td>3</td>\n",
       "      <td>47.531120</td>\n",
       "      <td>45.182907</td>\n",
       "    </tr>\n",
       "    <tr>\n",
       "      <th>4</th>\n",
       "      <td>1</td>\n",
       "      <td>1</td>\n",
       "      <td>4</td>\n",
       "      <td>45.521949</td>\n",
       "      <td>42.996168</td>\n",
       "    </tr>\n",
       "  </tbody>\n",
       "</table>\n",
       "</div>"
      ],
      "text/plain": [
       "   month  day  hour      lamax       laeq\n",
       "0      1    1     0  54.319104  51.326674\n",
       "1      1    1     1  54.152799  51.563278\n",
       "2      1    1     2  50.295141  47.712392\n",
       "3      1    1     3  47.531120  45.182907\n",
       "4      1    1     4  45.521949  42.996168"
      ]
     },
     "execution_count": 13,
     "metadata": {},
     "output_type": "execute_result"
    }
   ],
   "source": [
    "# Should we take the mean over all locations first? Or make it such that you can select the locations?\n",
    "\n",
    "# take the mean value across all locations\n",
    "noise_per_hour = noise_data.drop(columns='description', axis=1)\n",
    "noise_per_hour = noise_per_hour.groupby(['month', 'day', 'hour']).mean()\n",
    "noise_per_hour = noise_per_hour.reset_index()\n",
    "noise_per_hour.head()"
   ]
  },
  {
   "cell_type": "code",
   "execution_count": 14,
   "metadata": {},
   "outputs": [
    {
     "name": "stdout",
     "output_type": "stream",
     "text": [
      "   month  day  hour      lamax       laeq wk_day\n",
      "0      1    1     0  54.319104  51.326674    Sat\n",
      "1      1    1     1  54.152799  51.563278    Sat\n",
      "2      1    1     2  50.295141  47.712392    Sat\n",
      "3      1    1     3  47.531120  45.182907    Sat\n",
      "4      1    1     4  45.521949  42.996168    Sat\n"
     ]
    }
   ],
   "source": [
    "# Create a new column 'wk_day' in the dataframe\n",
    "noise_per_hour['wk_day'] = None\n",
    "\n",
    "# Iterate through each row in the DataFrame\n",
    "for index, row in noise_per_hour.iterrows():\n",
    "    # Extract the hour, day, and month values from the row\n",
    "    hour = row['hour']\n",
    "    day = row['day']\n",
    "    month = row['month']\n",
    "    \n",
    "    # Create a datetime object for the given hour, day, month, and assuming the year is 2022\n",
    "    dt = datetime.datetime(2022, month, day, hour)\n",
    "    \n",
    "    # Get the abbreviated weekday name (e.g., Mon, Tue, Wed) and assign it to the 'wk_day' column\n",
    "    noise_per_hour.at[index, 'wk_day'] = dt.strftime(\"%a\")\n",
    "\n",
    "print(noise_per_hour.head())"
   ]
  },
  {
   "cell_type": "code",
   "execution_count": null,
   "metadata": {},
   "outputs": [],
   "source": []
  }
 ],
 "metadata": {
  "kernelspec": {
   "display_name": "MDA_georgia",
   "language": "python",
   "name": "python3"
  },
  "language_info": {
   "codemirror_mode": {
    "name": "ipython",
    "version": 3
   },
   "file_extension": ".py",
   "mimetype": "text/x-python",
   "name": "python",
   "nbconvert_exporter": "python",
   "pygments_lexer": "ipython3",
   "version": "3.9.16"
  },
  "orig_nbformat": 4
 },
 "nbformat": 4,
 "nbformat_minor": 2
}
