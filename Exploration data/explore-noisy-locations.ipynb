{
 "cells": [
  {
   "cell_type": "code",
   "execution_count": 3,
   "metadata": {},
   "outputs": [
    {
     "data": {
      "text/html": [
       "<div>\n",
       "<style scoped>\n",
       "    .dataframe tbody tr th:only-of-type {\n",
       "        vertical-align: middle;\n",
       "    }\n",
       "\n",
       "    .dataframe tbody tr th {\n",
       "        vertical-align: top;\n",
       "    }\n",
       "\n",
       "    .dataframe thead th {\n",
       "        text-align: right;\n",
       "    }\n",
       "</style>\n",
       "<table border=\"1\" class=\"dataframe\">\n",
       "  <thead>\n",
       "    <tr style=\"text-align: right;\">\n",
       "      <th></th>\n",
       "      <th>month</th>\n",
       "      <th>day</th>\n",
       "      <th>description</th>\n",
       "      <th>lamax</th>\n",
       "      <th>laeq</th>\n",
       "    </tr>\n",
       "  </thead>\n",
       "  <tbody>\n",
       "    <tr>\n",
       "      <th>0</th>\n",
       "      <td>1</td>\n",
       "      <td>1</td>\n",
       "      <td>MP 03: Naamsestraat 62 Taste</td>\n",
       "      <td>51.665242</td>\n",
       "      <td>49.992637</td>\n",
       "    </tr>\n",
       "    <tr>\n",
       "      <th>1</th>\n",
       "      <td>1</td>\n",
       "      <td>1</td>\n",
       "      <td>MP 05: Calvariekapel KU Leuven</td>\n",
       "      <td>48.747476</td>\n",
       "      <td>46.504067</td>\n",
       "    </tr>\n",
       "    <tr>\n",
       "      <th>2</th>\n",
       "      <td>1</td>\n",
       "      <td>1</td>\n",
       "      <td>MP 06: Parkstraat 2 La Filosovia</td>\n",
       "      <td>48.270005</td>\n",
       "      <td>46.007220</td>\n",
       "    </tr>\n",
       "    <tr>\n",
       "      <th>3</th>\n",
       "      <td>1</td>\n",
       "      <td>1</td>\n",
       "      <td>MP 07: Naamsestraat 81</td>\n",
       "      <td>45.908501</td>\n",
       "      <td>44.373056</td>\n",
       "    </tr>\n",
       "    <tr>\n",
       "      <th>4</th>\n",
       "      <td>1</td>\n",
       "      <td>2</td>\n",
       "      <td>MP 03: Naamsestraat 62 Taste</td>\n",
       "      <td>51.407297</td>\n",
       "      <td>50.094018</td>\n",
       "    </tr>\n",
       "  </tbody>\n",
       "</table>\n",
       "</div>"
      ],
      "text/plain": [
       "   month  day                       description      lamax       laeq\n",
       "0      1    1      MP 03: Naamsestraat 62 Taste  51.665242  49.992637\n",
       "1      1    1    MP 05: Calvariekapel KU Leuven  48.747476  46.504067\n",
       "2      1    1  MP 06: Parkstraat 2 La Filosovia  48.270005  46.007220\n",
       "3      1    1            MP 07: Naamsestraat 81  45.908501  44.373056\n",
       "4      1    2      MP 03: Naamsestraat 62 Taste  51.407297  50.094018"
      ]
     },
     "execution_count": 3,
     "metadata": {},
     "output_type": "execute_result"
    }
   ],
   "source": [
    "import pandas as pd\n",
    "\n",
    "data_noise = pd.read_csv(\"../Data/daily_noisedata_2022.csv\")\n",
    "\n",
    "data_noise.head()"
   ]
  },
  {
   "cell_type": "code",
   "execution_count": 8,
   "metadata": {},
   "outputs": [
    {
     "name": "stdout",
     "output_type": "stream",
     "text": [
      "description\n",
      "MP 01: Naamsestraat 35  Maxim       54.723157\n",
      "MP 02: Naamsestraat 57 Xior         53.246322\n",
      "MP 03: Naamsestraat 62 Taste        54.739524\n",
      "MP 04: His & Hears                  55.340832\n",
      "MP 05: Calvariekapel KU Leuven      52.788496\n",
      "MP 06: Parkstraat 2 La Filosovia    52.750015\n",
      "MP 07: Naamsestraat 81              51.339836\n",
      "MP08bis - Vrijthof                  46.527404\n",
      "Name: lamax, dtype: float64\n",
      "noisiest place\n",
      "MP 04: His & Hears\n",
      "55.34\n"
     ]
    }
   ],
   "source": [
    "average_lamax_per_location = data_noise.groupby('description')['lamax'].mean()\n",
    "\n",
    "print(average_lamax_per_location)\n",
    "\n",
    "location_with_highest_average = average_lamax_per_location.idxmax()\n",
    "highest_average_value = average_lamax_per_location.max()\n",
    "\n",
    "print(\"noisiest place\")\n",
    "print(location_with_highest_average)\n",
    "print(round(highest_average_value,2))"
   ]
  },
  {
   "cell_type": "code",
   "execution_count": 9,
   "metadata": {},
   "outputs": [
    {
     "name": "stdout",
     "output_type": "stream",
     "text": [
      "His & Hears\n"
     ]
    }
   ],
   "source": [
    "location_with_highest_average = location_with_highest_average.split(\":\")[-1].strip()\n",
    "\n",
    "print(location_with_highest_average)"
   ]
  }
 ],
 "metadata": {
  "kernelspec": {
   "display_name": ".venv",
   "language": "python",
   "name": "python3"
  },
  "language_info": {
   "codemirror_mode": {
    "name": "ipython",
    "version": 3
   },
   "file_extension": ".py",
   "mimetype": "text/x-python",
   "name": "python",
   "nbconvert_exporter": "python",
   "pygments_lexer": "ipython3",
   "version": "3.9.0"
  },
  "orig_nbformat": 4
 },
 "nbformat": 4,
 "nbformat_minor": 2
}
