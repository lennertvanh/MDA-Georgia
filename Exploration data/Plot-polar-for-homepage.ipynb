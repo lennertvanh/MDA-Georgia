{
 "cells": [
  {
   "cell_type": "code",
   "execution_count": 20,
   "metadata": {},
   "outputs": [
    {
     "data": {
      "text/html": [
       "<div>\n",
       "<style scoped>\n",
       "    .dataframe tbody tr th:only-of-type {\n",
       "        vertical-align: middle;\n",
       "    }\n",
       "\n",
       "    .dataframe tbody tr th {\n",
       "        vertical-align: top;\n",
       "    }\n",
       "\n",
       "    .dataframe thead th {\n",
       "        text-align: right;\n",
       "    }\n",
       "</style>\n",
       "<table border=\"1\" class=\"dataframe\">\n",
       "  <thead>\n",
       "    <tr style=\"text-align: right;\">\n",
       "      <th></th>\n",
       "      <th>month</th>\n",
       "      <th>day</th>\n",
       "      <th>hour</th>\n",
       "      <th>description</th>\n",
       "      <th>lamax</th>\n",
       "      <th>laeq</th>\n",
       "    </tr>\n",
       "  </thead>\n",
       "  <tbody>\n",
       "    <tr>\n",
       "      <th>0</th>\n",
       "      <td>1</td>\n",
       "      <td>1</td>\n",
       "      <td>0</td>\n",
       "      <td>MP 03: Naamsestraat 62 Taste</td>\n",
       "      <td>60.322528</td>\n",
       "      <td>57.126833</td>\n",
       "    </tr>\n",
       "    <tr>\n",
       "      <th>1</th>\n",
       "      <td>1</td>\n",
       "      <td>1</td>\n",
       "      <td>0</td>\n",
       "      <td>MP 05: Calvariekapel KU Leuven</td>\n",
       "      <td>53.230972</td>\n",
       "      <td>49.987639</td>\n",
       "    </tr>\n",
       "    <tr>\n",
       "      <th>2</th>\n",
       "      <td>1</td>\n",
       "      <td>1</td>\n",
       "      <td>0</td>\n",
       "      <td>MP 06: Parkstraat 2 La Filosovia</td>\n",
       "      <td>53.666056</td>\n",
       "      <td>50.752000</td>\n",
       "    </tr>\n",
       "    <tr>\n",
       "      <th>3</th>\n",
       "      <td>1</td>\n",
       "      <td>1</td>\n",
       "      <td>0</td>\n",
       "      <td>MP 07: Naamsestraat 81</td>\n",
       "      <td>50.056861</td>\n",
       "      <td>47.440222</td>\n",
       "    </tr>\n",
       "    <tr>\n",
       "      <th>4</th>\n",
       "      <td>1</td>\n",
       "      <td>1</td>\n",
       "      <td>1</td>\n",
       "      <td>MP 03: Naamsestraat 62 Taste</td>\n",
       "      <td>53.033583</td>\n",
       "      <td>50.853806</td>\n",
       "    </tr>\n",
       "  </tbody>\n",
       "</table>\n",
       "</div>"
      ],
      "text/plain": [
       "   month  day  hour                       description      lamax       laeq\n",
       "0      1    1     0      MP 03: Naamsestraat 62 Taste  60.322528  57.126833\n",
       "1      1    1     0    MP 05: Calvariekapel KU Leuven  53.230972  49.987639\n",
       "2      1    1     0  MP 06: Parkstraat 2 La Filosovia  53.666056  50.752000\n",
       "3      1    1     0            MP 07: Naamsestraat 81  50.056861  47.440222\n",
       "4      1    1     1      MP 03: Naamsestraat 62 Taste  53.033583  50.853806"
      ]
     },
     "execution_count": 20,
     "metadata": {},
     "output_type": "execute_result"
    }
   ],
   "source": [
    "import pandas as pd\n",
    "import numpy as np\n",
    "\n",
    "data_noise_hourly = pd.read_csv(\"../Data/hourly_noisedata_2022.csv\")\n",
    "data_Namen = data_noise_hourly[data_noise_hourly[\"description\"]==\"MP 03: Naamsestraat 62 Taste\"]\n",
    "data_noise_hourly.head()\n"
   ]
  },
  {
   "cell_type": "code",
   "execution_count": 12,
   "metadata": {},
   "outputs": [
    {
     "name": "stdout",
     "output_type": "stream",
     "text": [
      "Missing hour(s) detected:\n",
      "Month: 3, Day: 27, Hour: 2\n"
     ]
    }
   ],
   "source": [
    "#detect missing datapoint in data_Namen\n",
    "\n",
    "missing_hours = []\n",
    "days_month = [31,28,31,30,31,30,31,31,30,31,30,31]\n",
    "\n",
    "# Iterate over each day of the year\n",
    "for month in range(1, 13):\n",
    "    for day in range(1, days_month[month-1]):  # Assuming maximum day is 31 for simplicity\n",
    "        # Filter the data for the specific month and day\n",
    "        day_data = data_Namen[(data_Namen[\"month\"] == month) & (data_Namen[\"day\"] == day)]\n",
    "\n",
    "        # Get the list of hours present in the data for the current day\n",
    "        hours = day_data[\"hour\"].tolist()\n",
    "\n",
    "        # Check if there is any missing hour in the sequence\n",
    "        for hour in range(24):\n",
    "            if hour not in hours:\n",
    "                missing_hours.append((month, day, hour))\n",
    "\n",
    "# Print the missing hour(s), if any\n",
    "if missing_hours:\n",
    "    print(\"Missing hour(s) detected:\")\n",
    "    for month, day, hour in missing_hours:\n",
    "        print(f\"Month: {month}, Day: {day}, Hour: {hour}\")\n",
    "else:\n",
    "    print(\"No missing hours found.\")"
   ]
  },
  {
   "cell_type": "code",
   "execution_count": 16,
   "metadata": {},
   "outputs": [
    {
     "name": "stdout",
     "output_type": "stream",
     "text": [
      "Unique locations:\n",
      "MP 01: Naamsestraat 35  Maxim\n",
      "MP 02: Naamsestraat 57 Xior\n",
      "MP 03: Naamsestraat 62 Taste\n",
      "MP 04: His & Hears\n",
      "MP 05: Calvariekapel KU Leuven\n",
      "MP 06: Parkstraat 2 La Filosovia\n",
      "MP 07: Naamsestraat 81\n",
      "MP08bis - Vrijthof\n"
     ]
    }
   ],
   "source": [
    "#different locations\n",
    "\n",
    "# Extract the unique locations from the \"description\" column\n",
    "locations = sorted(data_noise_hourly[\"description\"].unique())\n",
    "#sorted to get in alphabetical order\n",
    "\n",
    "# Print the unique locations\n",
    "print(\"Unique locations:\")\n",
    "for location in locations:\n",
    "    print(location)"
   ]
  },
  {
   "cell_type": "code",
   "execution_count": 23,
   "metadata": {},
   "outputs": [
    {
     "name": "stdout",
     "output_type": "stream",
     "text": [
      "8\n",
      "45.0\n",
      "[  0.  45.  90. 135. 180. 225. 270. 315.]\n"
     ]
    }
   ],
   "source": [
    "number_locations = len(locations)\n",
    "print(number_locations)\n",
    "\n",
    "angle = 360/number_locations\n",
    "print(angle)\n",
    "\n",
    "# Create an array from 0 to 360 with steps of 45\n",
    "angles = np.arange(0, 360, angle) #360 not included\n",
    "\n",
    "# Print the array\n",
    "print(angles)"
   ]
  },
  {
   "cell_type": "code",
   "execution_count": 74,
   "metadata": {},
   "outputs": [
    {
     "name": "stdout",
     "output_type": "stream",
     "text": [
      "Average laeq for each location:\n",
      "description\n",
      "MP 01: Naamsestraat 35  Maxim       52.371057\n",
      "MP 02: Naamsestraat 57 Xior         51.245595\n",
      "MP 03: Naamsestraat 62 Taste        53.014597\n",
      "MP 04: His & Hears                  53.792969\n",
      "MP 05: Calvariekapel KU Leuven      50.704132\n",
      "MP 06: Parkstraat 2 La Filosovia    50.799555\n",
      "MP 07: Naamsestraat 81              49.720100\n",
      "MP08bis - Vrijthof                  44.991085\n",
      "Name: laeq, dtype: float64\n",
      "   Average laeq  Average lamax      description\n",
      "0     52.371057      54.672615            Maxim\n",
      "1     51.245595      53.238218             Xior\n",
      "2     53.014597      54.739970            Taste\n",
      "3     53.792969      55.507523      His & Hears\n",
      "4     50.704132      52.789002   Calvariekapel \n",
      "5     50.799555      52.747400     La Filosovia\n",
      "6     49.720100      51.350269  Naamsestraat 81\n",
      "7     44.991085      46.527490         Vrijthof\n",
      "Index(['Average laeq', 'Average lamax', 'description'], dtype='object')\n"
     ]
    }
   ],
   "source": [
    "# Compute the average \"laeq\" for each location\n",
    "average_laeq = data_noise_hourly.groupby(\"description\")[\"laeq\"].mean()\n",
    "average_lamax = data_noise_hourly.groupby(\"description\")[\"lamax\"].mean()\n",
    "\n",
    "# Print the average \"laeq\" for each location\n",
    "print(\"Average laeq for each location:\")\n",
    "print(average_laeq)\n",
    "\n",
    "# Create a new dataframe by combining the average values\n",
    "average_noise_per_location = pd.DataFrame({'Average laeq': average_laeq, 'Average lamax': average_lamax})\n",
    "\n",
    "# Add the \"description\" as a column\n",
    "average_noise_per_location['description'] = average_noise_per_location.index\n",
    "\n",
    "# Remove the portion before \":\" or \"-\" symbol, including any preceding numbers\n",
    "average_noise_per_location['description'] = average_noise_per_location['description'].str.replace('.*?(?!(\\d|$))[:|-]', '', regex=True)\n",
    "#using a negative lookhead to keep the string if \"\\d\" removes the complete string\n",
    "\n",
    "average_noise_per_location['description'] = average_noise_per_location['description'].str.replace('.*?(?!\\d{2,}$)(\\d{1,2})', '', regex=True)\n",
    "\n",
    "\n",
    "\n",
    "# Remove the portion before the digit or two digits, including the digit(s), except if it removes the complete string\n",
    "#average_noise_per_location['description'] = average_noise_per_location['description'].apply(lambda x: np.nan if x == x.replace(x, '') else x.replace('.*?(?!\\d{2,}$)(\\d{1,2})', '', regex=True))\n",
    "\n",
    "# Reset the index\n",
    "average_noise_per_location.reset_index(drop=True, inplace=True)\n",
    "\n",
    "# Remove the text \"KU Leuven\" if it is present\n",
    "average_noise_per_location['description'] = average_noise_per_location['description'].str.replace('KU Leuven', '', regex=False)\n",
    "#exception that I cannot fix with code\n",
    "average_noise_per_location.loc[6, 'description'] = \"Naamsestraat 81\"\n",
    "\n",
    "\n",
    "# Print the combined dataframe\n",
    "print(average_noise_per_location)\n",
    "\n",
    "print(average_noise_per_location.columns)"
   ]
  },
  {
   "cell_type": "code",
   "execution_count": 82,
   "metadata": {},
   "outputs": [
    {
     "data": {
      "application/vnd.plotly.v1+json": {
       "config": {
        "plotlyServerURL": "https://plot.ly"
       },
       "data": [
        {
         "marker": {
          "color": [
           "#E4FF87",
           "#709BFF",
           "#FFDF70",
           "#FFAA70",
           "#96D5B3",
           "#FFC2A0",
           "#B6FFB4",
           "#FFDEA6"
          ],
          "line": {
           "color": "black",
           "width": 2
          }
         },
         "opacity": 0.8,
         "r": [
          3.243555068432903,
          2.5030822008754243,
          3.761622993594208,
          4.5,
          2.209677083623958,
          2.2587651323720044,
          1.7616743177781589,
          0.5929581615010349
         ],
         "theta": [
          0,
          45,
          90,
          135,
          180,
          225,
          270,
          315
         ],
         "type": "barpolar",
         "width": [
          37.129718300677524,
          26.685906242410073,
          37.71005817572879,
          45,
          24.063589316128745,
          23.83417638175246,
          17.277745224143985,
          5.69126958784588
         ]
        }
       ],
       "layout": {
        "margin": {
         "b": 20,
         "l": 0,
         "r": 0,
         "t": 20
        },
        "polar": {
         "angularaxis": {
          "showticklabels": true,
          "tickmode": "array",
          "ticks": "",
          "ticktext": [
           "  Maxim",
           " Xior",
           " Taste",
           " His & Hears",
           " Calvariekapel ",
           " La Filosovia",
           "Naamsestraat 81",
           " Vrijthof"
          ],
          "tickvals": [
           0,
           45,
           90,
           135,
           180,
           225,
           270,
           315
          ]
         },
         "radialaxis": {
          "range": [
           0,
           5
          ],
          "showticklabels": false,
          "ticks": ""
         }
        },
        "template": {}
       }
      }
     },
     "metadata": {},
     "output_type": "display_data"
    }
   ],
   "source": [
    "import plotly.graph_objects as go\n",
    "\n",
    "fig = go.Figure(go.Barpolar(\n",
    "    r=average_noise_per_location[\"radius\"],\n",
    "    theta=angles,\n",
    "    width=average_noise_per_location[\"angle\"],\n",
    "    marker_color=[\"#E4FF87\", '#709BFF',  '#FFDF70', '#FFAA70', '#96D5B3', '#FFC2A0', '#B6FFB4', '#FFDEA6'],\n",
    "    marker_line_color=\"black\",\n",
    "    marker_line_width=2,\n",
    "    opacity=0.8\n",
    "))\n",
    "\n",
    "fig.update_layout(\n",
    "    template=None,\n",
    "    margin=dict(l=0, r=0, t=20, b=20),  # Set margins to 0\n",
    "    polar = dict(\n",
    "        radialaxis = dict(range=[0, 5], showticklabels=False, ticks=''),\n",
    "        angularaxis=dict(\n",
    "            tickmode='array',\n",
    "            tickvals=angles,\n",
    "            ticktext=average_noise_per_location[\"description\"],\n",
    "            showticklabels=True,\n",
    "            ticks=''\n",
    "        )\n",
    "    )\n",
    ")\n",
    "\n",
    "fig.show()"
   ]
  },
  {
   "cell_type": "code",
   "execution_count": null,
   "metadata": {},
   "outputs": [],
   "source": []
  }
 ],
 "metadata": {
  "kernelspec": {
   "display_name": ".venv",
   "language": "python",
   "name": "python3"
  },
  "language_info": {
   "codemirror_mode": {
    "name": "ipython",
    "version": 3
   },
   "file_extension": ".py",
   "mimetype": "text/x-python",
   "name": "python",
   "nbconvert_exporter": "python",
   "pygments_lexer": "ipython3",
   "version": "3.9.0"
  },
  "orig_nbformat": 4
 },
 "nbformat": 4,
 "nbformat_minor": 2
}
