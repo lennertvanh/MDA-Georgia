{
 "cells": [
  {
   "cell_type": "code",
   "execution_count": 1,
   "id": "59e30cc0",
   "metadata": {},
   "outputs": [],
   "source": [
    "import pandas as pd\n",
    "import plotly.express as px\n",
    "from sklearn.preprocessing import MinMaxScaler"
   ]
  },
  {
   "cell_type": "code",
   "execution_count": 2,
   "id": "2598535e",
   "metadata": {},
   "outputs": [
    {
     "ename": "FileNotFoundError",
     "evalue": "[Errno 2] No such file or directory: '..\\\\Data\\\\monthly_noisedata_2022.csv'",
     "output_type": "error",
     "traceback": [
      "\u001b[0;31m---------------------------------------------------------------------------\u001b[0m",
      "\u001b[0;31mFileNotFoundError\u001b[0m                         Traceback (most recent call last)",
      "\u001b[0;32m/var/folders/4l/srd4ffps1qz5k88lkjbdywqw0000gn/T/ipykernel_31216/3468358519.py\u001b[0m in \u001b[0;36m<module>\u001b[0;34m\u001b[0m\n\u001b[0;32m----> 1\u001b[0;31m \u001b[0mmonthly_noise\u001b[0m \u001b[0;34m=\u001b[0m \u001b[0mpd\u001b[0m\u001b[0;34m.\u001b[0m\u001b[0mread_csv\u001b[0m\u001b[0;34m(\u001b[0m\u001b[0;34m'..\\Data\\monthly_noisedata_2022.csv'\u001b[0m\u001b[0;34m,\u001b[0m \u001b[0mheader\u001b[0m \u001b[0;34m=\u001b[0m \u001b[0;36m0\u001b[0m\u001b[0;34m,\u001b[0m \u001b[0msep\u001b[0m\u001b[0;34m=\u001b[0m\u001b[0;34m','\u001b[0m\u001b[0;34m)\u001b[0m\u001b[0;34m\u001b[0m\u001b[0;34m\u001b[0m\u001b[0m\n\u001b[0m\u001b[1;32m      2\u001b[0m \u001b[0mdaily_noise\u001b[0m \u001b[0;34m=\u001b[0m \u001b[0mpd\u001b[0m\u001b[0;34m.\u001b[0m\u001b[0mread_csv\u001b[0m\u001b[0;34m(\u001b[0m\u001b[0;34m'..\\Data\\daily_noisedata_2022.csv'\u001b[0m\u001b[0;34m,\u001b[0m \u001b[0mheader\u001b[0m \u001b[0;34m=\u001b[0m \u001b[0;36m0\u001b[0m\u001b[0;34m,\u001b[0m \u001b[0msep\u001b[0m\u001b[0;34m=\u001b[0m\u001b[0;34m','\u001b[0m\u001b[0;34m)\u001b[0m\u001b[0;34m\u001b[0m\u001b[0;34m\u001b[0m\u001b[0m\n\u001b[1;32m      3\u001b[0m \u001b[0mhourly_noise\u001b[0m \u001b[0;34m=\u001b[0m \u001b[0mpd\u001b[0m\u001b[0;34m.\u001b[0m\u001b[0mread_csv\u001b[0m\u001b[0;34m(\u001b[0m\u001b[0;34m'..\\Data\\hourly_noisedata_2022.csv'\u001b[0m\u001b[0;34m,\u001b[0m \u001b[0mheader\u001b[0m \u001b[0;34m=\u001b[0m \u001b[0;36m0\u001b[0m\u001b[0;34m,\u001b[0m \u001b[0msep\u001b[0m\u001b[0;34m=\u001b[0m\u001b[0;34m','\u001b[0m\u001b[0;34m)\u001b[0m\u001b[0;34m\u001b[0m\u001b[0;34m\u001b[0m\u001b[0m\n",
      "\u001b[0;32m~/opt/anaconda3/lib/python3.9/site-packages/pandas/util/_decorators.py\u001b[0m in \u001b[0;36mwrapper\u001b[0;34m(*args, **kwargs)\u001b[0m\n\u001b[1;32m    309\u001b[0m                     \u001b[0mstacklevel\u001b[0m\u001b[0;34m=\u001b[0m\u001b[0mstacklevel\u001b[0m\u001b[0;34m,\u001b[0m\u001b[0;34m\u001b[0m\u001b[0;34m\u001b[0m\u001b[0m\n\u001b[1;32m    310\u001b[0m                 )\n\u001b[0;32m--> 311\u001b[0;31m             \u001b[0;32mreturn\u001b[0m \u001b[0mfunc\u001b[0m\u001b[0;34m(\u001b[0m\u001b[0;34m*\u001b[0m\u001b[0margs\u001b[0m\u001b[0;34m,\u001b[0m \u001b[0;34m**\u001b[0m\u001b[0mkwargs\u001b[0m\u001b[0;34m)\u001b[0m\u001b[0;34m\u001b[0m\u001b[0;34m\u001b[0m\u001b[0m\n\u001b[0m\u001b[1;32m    312\u001b[0m \u001b[0;34m\u001b[0m\u001b[0m\n\u001b[1;32m    313\u001b[0m         \u001b[0;32mreturn\u001b[0m \u001b[0mwrapper\u001b[0m\u001b[0;34m\u001b[0m\u001b[0;34m\u001b[0m\u001b[0m\n",
      "\u001b[0;32m~/opt/anaconda3/lib/python3.9/site-packages/pandas/io/parsers/readers.py\u001b[0m in \u001b[0;36mread_csv\u001b[0;34m(filepath_or_buffer, sep, delimiter, header, names, index_col, usecols, squeeze, prefix, mangle_dupe_cols, dtype, engine, converters, true_values, false_values, skipinitialspace, skiprows, skipfooter, nrows, na_values, keep_default_na, na_filter, verbose, skip_blank_lines, parse_dates, infer_datetime_format, keep_date_col, date_parser, dayfirst, cache_dates, iterator, chunksize, compression, thousands, decimal, lineterminator, quotechar, quoting, doublequote, escapechar, comment, encoding, encoding_errors, dialect, error_bad_lines, warn_bad_lines, on_bad_lines, delim_whitespace, low_memory, memory_map, float_precision, storage_options)\u001b[0m\n\u001b[1;32m    676\u001b[0m     \u001b[0mkwds\u001b[0m\u001b[0;34m.\u001b[0m\u001b[0mupdate\u001b[0m\u001b[0;34m(\u001b[0m\u001b[0mkwds_defaults\u001b[0m\u001b[0;34m)\u001b[0m\u001b[0;34m\u001b[0m\u001b[0;34m\u001b[0m\u001b[0m\n\u001b[1;32m    677\u001b[0m \u001b[0;34m\u001b[0m\u001b[0m\n\u001b[0;32m--> 678\u001b[0;31m     \u001b[0;32mreturn\u001b[0m \u001b[0m_read\u001b[0m\u001b[0;34m(\u001b[0m\u001b[0mfilepath_or_buffer\u001b[0m\u001b[0;34m,\u001b[0m \u001b[0mkwds\u001b[0m\u001b[0;34m)\u001b[0m\u001b[0;34m\u001b[0m\u001b[0;34m\u001b[0m\u001b[0m\n\u001b[0m\u001b[1;32m    679\u001b[0m \u001b[0;34m\u001b[0m\u001b[0m\n\u001b[1;32m    680\u001b[0m \u001b[0;34m\u001b[0m\u001b[0m\n",
      "\u001b[0;32m~/opt/anaconda3/lib/python3.9/site-packages/pandas/io/parsers/readers.py\u001b[0m in \u001b[0;36m_read\u001b[0;34m(filepath_or_buffer, kwds)\u001b[0m\n\u001b[1;32m    573\u001b[0m \u001b[0;34m\u001b[0m\u001b[0m\n\u001b[1;32m    574\u001b[0m     \u001b[0;31m# Create the parser.\u001b[0m\u001b[0;34m\u001b[0m\u001b[0;34m\u001b[0m\u001b[0m\n\u001b[0;32m--> 575\u001b[0;31m     \u001b[0mparser\u001b[0m \u001b[0;34m=\u001b[0m \u001b[0mTextFileReader\u001b[0m\u001b[0;34m(\u001b[0m\u001b[0mfilepath_or_buffer\u001b[0m\u001b[0;34m,\u001b[0m \u001b[0;34m**\u001b[0m\u001b[0mkwds\u001b[0m\u001b[0;34m)\u001b[0m\u001b[0;34m\u001b[0m\u001b[0;34m\u001b[0m\u001b[0m\n\u001b[0m\u001b[1;32m    576\u001b[0m \u001b[0;34m\u001b[0m\u001b[0m\n\u001b[1;32m    577\u001b[0m     \u001b[0;32mif\u001b[0m \u001b[0mchunksize\u001b[0m \u001b[0;32mor\u001b[0m \u001b[0miterator\u001b[0m\u001b[0;34m:\u001b[0m\u001b[0;34m\u001b[0m\u001b[0;34m\u001b[0m\u001b[0m\n",
      "\u001b[0;32m~/opt/anaconda3/lib/python3.9/site-packages/pandas/io/parsers/readers.py\u001b[0m in \u001b[0;36m__init__\u001b[0;34m(self, f, engine, **kwds)\u001b[0m\n\u001b[1;32m    930\u001b[0m \u001b[0;34m\u001b[0m\u001b[0m\n\u001b[1;32m    931\u001b[0m         \u001b[0mself\u001b[0m\u001b[0;34m.\u001b[0m\u001b[0mhandles\u001b[0m\u001b[0;34m:\u001b[0m \u001b[0mIOHandles\u001b[0m \u001b[0;34m|\u001b[0m \u001b[0;32mNone\u001b[0m \u001b[0;34m=\u001b[0m \u001b[0;32mNone\u001b[0m\u001b[0;34m\u001b[0m\u001b[0;34m\u001b[0m\u001b[0m\n\u001b[0;32m--> 932\u001b[0;31m         \u001b[0mself\u001b[0m\u001b[0;34m.\u001b[0m\u001b[0m_engine\u001b[0m \u001b[0;34m=\u001b[0m \u001b[0mself\u001b[0m\u001b[0;34m.\u001b[0m\u001b[0m_make_engine\u001b[0m\u001b[0;34m(\u001b[0m\u001b[0mf\u001b[0m\u001b[0;34m,\u001b[0m \u001b[0mself\u001b[0m\u001b[0;34m.\u001b[0m\u001b[0mengine\u001b[0m\u001b[0;34m)\u001b[0m\u001b[0;34m\u001b[0m\u001b[0;34m\u001b[0m\u001b[0m\n\u001b[0m\u001b[1;32m    933\u001b[0m \u001b[0;34m\u001b[0m\u001b[0m\n\u001b[1;32m    934\u001b[0m     \u001b[0;32mdef\u001b[0m \u001b[0mclose\u001b[0m\u001b[0;34m(\u001b[0m\u001b[0mself\u001b[0m\u001b[0;34m)\u001b[0m\u001b[0;34m:\u001b[0m\u001b[0;34m\u001b[0m\u001b[0;34m\u001b[0m\u001b[0m\n",
      "\u001b[0;32m~/opt/anaconda3/lib/python3.9/site-packages/pandas/io/parsers/readers.py\u001b[0m in \u001b[0;36m_make_engine\u001b[0;34m(self, f, engine)\u001b[0m\n\u001b[1;32m   1214\u001b[0m             \u001b[0;31m# \"Union[str, PathLike[str], ReadCsvBuffer[bytes], ReadCsvBuffer[str]]\"\u001b[0m\u001b[0;34m\u001b[0m\u001b[0;34m\u001b[0m\u001b[0m\n\u001b[1;32m   1215\u001b[0m             \u001b[0;31m# , \"str\", \"bool\", \"Any\", \"Any\", \"Any\", \"Any\", \"Any\"\u001b[0m\u001b[0;34m\u001b[0m\u001b[0;34m\u001b[0m\u001b[0m\n\u001b[0;32m-> 1216\u001b[0;31m             self.handles = get_handle(  # type: ignore[call-overload]\n\u001b[0m\u001b[1;32m   1217\u001b[0m                 \u001b[0mf\u001b[0m\u001b[0;34m,\u001b[0m\u001b[0;34m\u001b[0m\u001b[0;34m\u001b[0m\u001b[0m\n\u001b[1;32m   1218\u001b[0m                 \u001b[0mmode\u001b[0m\u001b[0;34m,\u001b[0m\u001b[0;34m\u001b[0m\u001b[0;34m\u001b[0m\u001b[0m\n",
      "\u001b[0;32m~/opt/anaconda3/lib/python3.9/site-packages/pandas/io/common.py\u001b[0m in \u001b[0;36mget_handle\u001b[0;34m(path_or_buf, mode, encoding, compression, memory_map, is_text, errors, storage_options)\u001b[0m\n\u001b[1;32m    784\u001b[0m         \u001b[0;32mif\u001b[0m \u001b[0mioargs\u001b[0m\u001b[0;34m.\u001b[0m\u001b[0mencoding\u001b[0m \u001b[0;32mand\u001b[0m \u001b[0;34m\"b\"\u001b[0m \u001b[0;32mnot\u001b[0m \u001b[0;32min\u001b[0m \u001b[0mioargs\u001b[0m\u001b[0;34m.\u001b[0m\u001b[0mmode\u001b[0m\u001b[0;34m:\u001b[0m\u001b[0;34m\u001b[0m\u001b[0;34m\u001b[0m\u001b[0m\n\u001b[1;32m    785\u001b[0m             \u001b[0;31m# Encoding\u001b[0m\u001b[0;34m\u001b[0m\u001b[0;34m\u001b[0m\u001b[0m\n\u001b[0;32m--> 786\u001b[0;31m             handle = open(\n\u001b[0m\u001b[1;32m    787\u001b[0m                 \u001b[0mhandle\u001b[0m\u001b[0;34m,\u001b[0m\u001b[0;34m\u001b[0m\u001b[0;34m\u001b[0m\u001b[0m\n\u001b[1;32m    788\u001b[0m                 \u001b[0mioargs\u001b[0m\u001b[0;34m.\u001b[0m\u001b[0mmode\u001b[0m\u001b[0;34m,\u001b[0m\u001b[0;34m\u001b[0m\u001b[0;34m\u001b[0m\u001b[0m\n",
      "\u001b[0;31mFileNotFoundError\u001b[0m: [Errno 2] No such file or directory: '..\\\\Data\\\\monthly_noisedata_2022.csv'"
     ]
    }
   ],
   "source": [
    "monthly_noise = pd.read_csv('..\\Data\\monthly_noisedata_2022.csv', header = 0, sep=',')\n",
    "daily_noise = pd.read_csv('..\\Data\\daily_noisedata_2022.csv', header = 0, sep=',')\n",
    "hourly_noise = pd.read_csv('..\\Data\\hourly_noisedata_2022.csv', header = 0, sep=',')"
   ]
  },
  {
   "cell_type": "code",
   "execution_count": null,
   "id": "66ee0a57",
   "metadata": {},
   "outputs": [
    {
     "data": {
      "text/html": [
       "<div>\n",
       "<style scoped>\n",
       "    .dataframe tbody tr th:only-of-type {\n",
       "        vertical-align: middle;\n",
       "    }\n",
       "\n",
       "    .dataframe tbody tr th {\n",
       "        vertical-align: top;\n",
       "    }\n",
       "\n",
       "    .dataframe thead th {\n",
       "        text-align: right;\n",
       "    }\n",
       "</style>\n",
       "<table border=\"1\" class=\"dataframe\">\n",
       "  <thead>\n",
       "    <tr style=\"text-align: right;\">\n",
       "      <th></th>\n",
       "      <th>description</th>\n",
       "      <th>lat</th>\n",
       "      <th>lon</th>\n",
       "    </tr>\n",
       "  </thead>\n",
       "  <tbody>\n",
       "    <tr>\n",
       "      <th>0</th>\n",
       "      <td>MP 01: Naamsestraat 35  Maxim</td>\n",
       "      <td>50.877121</td>\n",
       "      <td>4.700708</td>\n",
       "    </tr>\n",
       "    <tr>\n",
       "      <th>1</th>\n",
       "      <td>MP 02: Naamsestraat 57 Xior</td>\n",
       "      <td>50.876500</td>\n",
       "      <td>4.700632</td>\n",
       "    </tr>\n",
       "    <tr>\n",
       "      <th>2</th>\n",
       "      <td>MP 03: Naamsestraat 62 Taste</td>\n",
       "      <td>50.875900</td>\n",
       "      <td>4.700262</td>\n",
       "    </tr>\n",
       "    <tr>\n",
       "      <th>3</th>\n",
       "      <td>MP 04: His &amp; Hears</td>\n",
       "      <td>50.875237</td>\n",
       "      <td>4.700071</td>\n",
       "    </tr>\n",
       "    <tr>\n",
       "      <th>4</th>\n",
       "      <td>MP 05: Calvariekapel KU Leuven</td>\n",
       "      <td>50.874520</td>\n",
       "      <td>4.699850</td>\n",
       "    </tr>\n",
       "    <tr>\n",
       "      <th>5</th>\n",
       "      <td>MP 06: Parkstraat 2 La Filosovia</td>\n",
       "      <td>50.874078</td>\n",
       "      <td>4.700050</td>\n",
       "    </tr>\n",
       "    <tr>\n",
       "      <th>6</th>\n",
       "      <td>MP 07: Naamsestraat 81</td>\n",
       "      <td>50.873808</td>\n",
       "      <td>4.700007</td>\n",
       "    </tr>\n",
       "    <tr>\n",
       "      <th>7</th>\n",
       "      <td>MP08bis - Vrijthof</td>\n",
       "      <td>50.878730</td>\n",
       "      <td>4.701150</td>\n",
       "    </tr>\n",
       "  </tbody>\n",
       "</table>\n",
       "</div>"
      ],
      "text/plain": [
       "                        description        lat       lon\n",
       "0     MP 01: Naamsestraat 35  Maxim  50.877121  4.700708\n",
       "1       MP 02: Naamsestraat 57 Xior  50.876500  4.700632\n",
       "2      MP 03: Naamsestraat 62 Taste  50.875900  4.700262\n",
       "3                MP 04: His & Hears  50.875237  4.700071\n",
       "4    MP 05: Calvariekapel KU Leuven  50.874520  4.699850\n",
       "5  MP 06: Parkstraat 2 La Filosovia  50.874078  4.700050\n",
       "6            MP 07: Naamsestraat 81  50.873808  4.700007\n",
       "7                MP08bis - Vrijthof  50.878730  4.701150"
      ]
     },
     "execution_count": 4,
     "metadata": {},
     "output_type": "execute_result"
    }
   ],
   "source": [
    "# create a dataframe\n",
    "gps_data = {\n",
    "    'description': ['MP 01: Naamsestraat 35  Maxim', 'MP 02: Naamsestraat 57 Xior', 'MP 03: Naamsestraat 62 Taste', 'MP 04: His & Hears', 'MP 05: Calvariekapel KU Leuven', 'MP 06: Parkstraat 2 La Filosovia', 'MP 07: Naamsestraat 81', 'MP08bis - Vrijthof'],\n",
    "    'lat': [50.877121, 50.87650, 50.87590, 50.875237, 50.87452, 50.874078, 50.873808, 50.87873],\n",
    "    'lon': [4.700708, 4.700632, 4.700262, 4.700071, 4.69985, 4.70005, 4.700007, 4.70115]\n",
    "}\n",
    "\n",
    "gps_df = pd.DataFrame(gps_data)\n",
    "gps_df.head(10)\n",
    "  "
   ]
  },
  {
   "cell_type": "code",
   "execution_count": null,
   "id": "61b99e55",
   "metadata": {},
   "outputs": [
    {
     "data": {
      "text/html": [
       "<div>\n",
       "<style scoped>\n",
       "    .dataframe tbody tr th:only-of-type {\n",
       "        vertical-align: middle;\n",
       "    }\n",
       "\n",
       "    .dataframe tbody tr th {\n",
       "        vertical-align: top;\n",
       "    }\n",
       "\n",
       "    .dataframe thead th {\n",
       "        text-align: right;\n",
       "    }\n",
       "</style>\n",
       "<table border=\"1\" class=\"dataframe\">\n",
       "  <thead>\n",
       "    <tr style=\"text-align: right;\">\n",
       "      <th></th>\n",
       "      <th>month</th>\n",
       "      <th>day</th>\n",
       "      <th>description</th>\n",
       "      <th>lamax</th>\n",
       "      <th>laeq</th>\n",
       "      <th>lat</th>\n",
       "      <th>lon</th>\n",
       "      <th>year</th>\n",
       "      <th>date</th>\n",
       "      <th>standardized_lamax</th>\n",
       "      <th>standardized_laeq</th>\n",
       "    </tr>\n",
       "  </thead>\n",
       "  <tbody>\n",
       "    <tr>\n",
       "      <th>0</th>\n",
       "      <td>1</td>\n",
       "      <td>1</td>\n",
       "      <td>MP 03: Naamsestraat 62 Taste</td>\n",
       "      <td>51.665242</td>\n",
       "      <td>49.992637</td>\n",
       "      <td>50.875900</td>\n",
       "      <td>4.700262</td>\n",
       "      <td>2022</td>\n",
       "      <td>2022-01-01</td>\n",
       "      <td>0.515869</td>\n",
       "      <td>0.538979</td>\n",
       "    </tr>\n",
       "    <tr>\n",
       "      <th>1</th>\n",
       "      <td>1</td>\n",
       "      <td>1</td>\n",
       "      <td>MP 05: Calvariekapel KU Leuven</td>\n",
       "      <td>48.747476</td>\n",
       "      <td>46.504067</td>\n",
       "      <td>50.874520</td>\n",
       "      <td>4.699850</td>\n",
       "      <td>2022</td>\n",
       "      <td>2022-01-01</td>\n",
       "      <td>0.415931</td>\n",
       "      <td>0.416866</td>\n",
       "    </tr>\n",
       "    <tr>\n",
       "      <th>2</th>\n",
       "      <td>1</td>\n",
       "      <td>1</td>\n",
       "      <td>MP 06: Parkstraat 2 La Filosovia</td>\n",
       "      <td>48.270005</td>\n",
       "      <td>46.007220</td>\n",
       "      <td>50.874078</td>\n",
       "      <td>4.700050</td>\n",
       "      <td>2022</td>\n",
       "      <td>2022-01-01</td>\n",
       "      <td>0.399577</td>\n",
       "      <td>0.399474</td>\n",
       "    </tr>\n",
       "    <tr>\n",
       "      <th>3</th>\n",
       "      <td>1</td>\n",
       "      <td>1</td>\n",
       "      <td>MP 07: Naamsestraat 81</td>\n",
       "      <td>45.908501</td>\n",
       "      <td>44.373056</td>\n",
       "      <td>50.873808</td>\n",
       "      <td>4.700007</td>\n",
       "      <td>2022</td>\n",
       "      <td>2022-01-01</td>\n",
       "      <td>0.318692</td>\n",
       "      <td>0.342272</td>\n",
       "    </tr>\n",
       "    <tr>\n",
       "      <th>4</th>\n",
       "      <td>1</td>\n",
       "      <td>2</td>\n",
       "      <td>MP 03: Naamsestraat 62 Taste</td>\n",
       "      <td>51.407297</td>\n",
       "      <td>50.094018</td>\n",
       "      <td>50.875900</td>\n",
       "      <td>4.700262</td>\n",
       "      <td>2022</td>\n",
       "      <td>2022-01-02</td>\n",
       "      <td>0.507034</td>\n",
       "      <td>0.542528</td>\n",
       "    </tr>\n",
       "  </tbody>\n",
       "</table>\n",
       "</div>"
      ],
      "text/plain": [
       "   month  day                       description      lamax       laeq   \n",
       "0      1    1      MP 03: Naamsestraat 62 Taste  51.665242  49.992637  \\\n",
       "1      1    1    MP 05: Calvariekapel KU Leuven  48.747476  46.504067   \n",
       "2      1    1  MP 06: Parkstraat 2 La Filosovia  48.270005  46.007220   \n",
       "3      1    1            MP 07: Naamsestraat 81  45.908501  44.373056   \n",
       "4      1    2      MP 03: Naamsestraat 62 Taste  51.407297  50.094018   \n",
       "\n",
       "         lat       lon  year       date  standardized_lamax  standardized_laeq  \n",
       "0  50.875900  4.700262  2022 2022-01-01            0.515869           0.538979  \n",
       "1  50.874520  4.699850  2022 2022-01-01            0.415931           0.416866  \n",
       "2  50.874078  4.700050  2022 2022-01-01            0.399577           0.399474  \n",
       "3  50.873808  4.700007  2022 2022-01-01            0.318692           0.342272  \n",
       "4  50.875900  4.700262  2022 2022-01-02            0.507034           0.542528  "
      ]
     },
     "execution_count": 7,
     "metadata": {},
     "output_type": "execute_result"
    }
   ],
   "source": [
    "# merge noise data with gps\n",
    "merged = pd.merge(daily_noise, gps_df, on='description', how='left')\n",
    "# Add a new column 'year' with value 2022 for all observations\n",
    "merged['year'] = 2022\n",
    "\n",
    "# Create a new 'date' column by combining 'year', 'month', and 'day'\n",
    "merged['date'] = pd.to_datetime(merged[['year', 'month', 'day']])\n",
    "\n",
    "reference_date = pd.to_datetime('2022-01-01')\n",
    "merged['days_since_reference'] = (merged['date'] - reference_date).dt.days\n",
    "\n",
    "# Create a StandardScaler object\n",
    "scaler = MinMaxScaler()\n",
    "\n",
    "# Fit the StandardScaler to the column and transform the lamax values\n",
    "merged['standardized_lamax'] = scaler.fit_transform(merged[['lamax']])\n",
    "\n",
    "# Fit the StandardScaler to the column and transform the lamax values\n",
    "merged['standardized_laeq'] = scaler.fit_transform(merged[['laeq']])\n",
    "\n",
    "merged.head()"
   ]
  },
  {
   "cell_type": "code",
   "execution_count": null,
   "id": "10cb4bf4",
   "metadata": {},
   "outputs": [
    {
     "name": "stdout",
     "output_type": "stream",
     "text": [
      "month                 0\n",
      "description           0\n",
      "lamax                 0\n",
      "laeq                  0\n",
      "lat                   0\n",
      "lon                   0\n",
      "standardized_lamax    0\n",
      "standardized_laeq     0\n",
      "dtype: int64\n"
     ]
    }
   ],
   "source": [
    "# check for missing values in each column\n",
    "print(merged.isnull().sum())"
   ]
  },
  {
   "cell_type": "code",
   "execution_count": null,
   "id": "e058752b",
   "metadata": {},
   "outputs": [
    {
     "data": {
      "application/vnd.plotly.v1+json": {
       "config": {
        "plotlyServerURL": "https://plot.ly"
       },
       "data": [
        {
         "hovertemplate": "month=1<br>standardized_lamax=%{marker.size}<br>lat=%{lat}<br>lon=%{lon}<extra></extra>",
         "lat": [
          50.8759,
          50.87452,
          50.874078,
          50.873808
         ],
         "legendgroup": "",
         "lon": [
          4.700262,
          4.69985,
          4.70005,
          4.700007
         ],
         "marker": {
          "color": "#636efa",
          "size": [
           0.6567206323196442,
           0.4176420416838913,
           0.39356534201584426,
           0.2862298109159087
          ],
          "sizemode": "area",
          "sizeref": 0.0011111111111111107
         },
         "mode": "markers",
         "name": "",
         "showlegend": false,
         "subplot": "mapbox",
         "type": "scattermapbox"
        }
       ],
       "frames": [
        {
         "data": [
          {
           "hovertemplate": "month=1<br>standardized_lamax=%{marker.size}<br>lat=%{lat}<br>lon=%{lon}<extra></extra>",
           "lat": [
            50.8759,
            50.87452,
            50.874078,
            50.873808
           ],
           "legendgroup": "",
           "lon": [
            4.700262,
            4.69985,
            4.70005,
            4.700007
           ],
           "marker": {
            "color": "#636efa",
            "size": [
             0.6567206323196442,
             0.4176420416838913,
             0.39356534201584426,
             0.2862298109159087
            ],
            "sizemode": "area",
            "sizeref": 0.0011111111111111107
           },
           "mode": "markers",
           "name": "",
           "showlegend": false,
           "subplot": "mapbox",
           "type": "scattermapbox"
          }
         ],
         "name": "1"
        },
        {
         "data": [
          {
           "hovertemplate": "month=2<br>standardized_lamax=%{marker.size}<br>lat=%{lat}<br>lon=%{lon}<extra></extra>",
           "lat": [
            50.877121,
            50.8765,
            50.8759,
            50.87452,
            50.874078,
            50.873808
           ],
           "legendgroup": "",
           "lon": [
            4.700708,
            4.700632,
            4.700262,
            4.69985,
            4.70005,
            4.700007
           ],
           "marker": {
            "color": "#636efa",
            "size": [
             0.9946655468913996,
             0.5706320740230688,
             0.7899824401043429,
             0.6704755590856499,
             0.649274300047693,
             0.5931350135111777
            ],
            "sizemode": "area",
            "sizeref": 0.0011111111111111107
           },
           "mode": "markers",
           "name": "",
           "showlegend": false,
           "subplot": "mapbox",
           "type": "scattermapbox"
          }
         ],
         "name": "2"
        },
        {
         "data": [
          {
           "hovertemplate": "month=3<br>standardized_lamax=%{marker.size}<br>lat=%{lat}<br>lon=%{lon}<extra></extra>",
           "lat": [
            50.877121,
            50.8765,
            50.8759,
            50.87452,
            50.874078,
            50.873808,
            50.87873
           ],
           "legendgroup": "",
           "lon": [
            4.700708,
            4.700632,
            4.700262,
            4.69985,
            4.70005,
            4.700007,
            4.70115
           ],
           "marker": {
            "color": "#636efa",
            "size": [
             0.9999999999999996,
             0.7511012945344535,
             0.8523683215041458,
             0.7350761936534824,
             0.738603345627141,
             0.6560836590522512,
             0.11667762767572709
            ],
            "sizemode": "area",
            "sizeref": 0.0011111111111111107
           },
           "mode": "markers",
           "name": "",
           "showlegend": false,
           "subplot": "mapbox",
           "type": "scattermapbox"
          }
         ],
         "name": "3"
        },
        {
         "data": [
          {
           "hovertemplate": "month=4<br>standardized_lamax=%{marker.size}<br>lat=%{lat}<br>lon=%{lon}<extra></extra>",
           "lat": [
            50.877121,
            50.8765,
            50.8759,
            50.87452,
            50.874078,
            50.873808,
            50.87873
           ],
           "legendgroup": "",
           "lon": [
            4.700708,
            4.700632,
            4.700262,
            4.69985,
            4.70005,
            4.700007,
            4.70115
           ],
           "marker": {
            "color": "#636efa",
            "size": [
             0.8080842467508895,
             0.6703184212486764,
             0.7900053718272715,
             0.6251824451556547,
             0.6112519247403303,
             0.4605518047894006,
             0.10281294214047021
            ],
            "sizemode": "area",
            "sizeref": 0.0011111111111111107
           },
           "mode": "markers",
           "name": "",
           "showlegend": false,
           "subplot": "mapbox",
           "type": "scattermapbox"
          }
         ],
         "name": "4"
        },
        {
         "data": [
          {
           "hovertemplate": "month=5<br>standardized_lamax=%{marker.size}<br>lat=%{lat}<br>lon=%{lon}<extra></extra>",
           "lat": [
            50.877121,
            50.8765,
            50.8759,
            50.87452,
            50.874078,
            50.873808,
            50.87873
           ],
           "legendgroup": "",
           "lon": [
            4.700708,
            4.700632,
            4.700262,
            4.69985,
            4.70005,
            4.700007,
            4.70115
           ],
           "marker": {
            "color": "#636efa",
            "size": [
             0.8503324372737535,
             0.6885147225744297,
             0.8220687528561936,
             0.6610218138210597,
             0.7112665751696512,
             0.6313979591061387,
             0.1646625147602334
            ],
            "sizemode": "area",
            "sizeref": 0.0011111111111111107
           },
           "mode": "markers",
           "name": "",
           "showlegend": false,
           "subplot": "mapbox",
           "type": "scattermapbox"
          }
         ],
         "name": "5"
        },
        {
         "data": [
          {
           "hovertemplate": "month=6<br>standardized_lamax=%{marker.size}<br>lat=%{lat}<br>lon=%{lon}<extra></extra>",
           "lat": [
            50.877121,
            50.8765,
            50.8759,
            50.87452,
            50.874078,
            50.873808,
            50.87873
           ],
           "legendgroup": "",
           "lon": [
            4.700708,
            4.700632,
            4.700262,
            4.69985,
            4.70005,
            4.700007,
            4.70115
           ],
           "marker": {
            "color": "#636efa",
            "size": [
             0.7250856363484419,
             0.6352888313987273,
             0.7977071534622131,
             0.636204329878487,
             0.6813862773956783,
             0.5620406408711767,
             0.05790125815041902
            ],
            "sizemode": "area",
            "sizeref": 0.0011111111111111107
           },
           "mode": "markers",
           "name": "",
           "showlegend": false,
           "subplot": "mapbox",
           "type": "scattermapbox"
          }
         ],
         "name": "6"
        },
        {
         "data": [
          {
           "hovertemplate": "month=7<br>standardized_lamax=%{marker.size}<br>lat=%{lat}<br>lon=%{lon}<extra></extra>",
           "lat": [
            50.877121,
            50.8765,
            50.8759,
            50.87452,
            50.874078,
            50.873808,
            50.87873
           ],
           "legendgroup": "",
           "lon": [
            4.700708,
            4.700632,
            4.700262,
            4.69985,
            4.70005,
            4.700007,
            4.70115
           ],
           "marker": {
            "color": "#636efa",
            "size": [
             0.5661184570253757,
             0.5165805297872468,
             0.6778466944470947,
             0.4398235292583288,
             0.4393739757153754,
             0.29523279814000647,
             0
            ],
            "sizemode": "area",
            "sizeref": 0.0011111111111111107
           },
           "mode": "markers",
           "name": "",
           "showlegend": false,
           "subplot": "mapbox",
           "type": "scattermapbox"
          }
         ],
         "name": "7"
        },
        {
         "data": [
          {
           "hovertemplate": "month=8<br>standardized_lamax=%{marker.size}<br>lat=%{lat}<br>lon=%{lon}<extra></extra>",
           "lat": [
            50.877121,
            50.8765,
            50.8759,
            50.87452,
            50.874078,
            50.873808,
            50.87873
           ],
           "legendgroup": "",
           "lon": [
            4.700708,
            4.700632,
            4.700262,
            4.69985,
            4.70005,
            4.700007,
            4.70115
           ],
           "marker": {
            "color": "#636efa",
            "size": [
             0.6080471518429831,
             0.5461219593649864,
             0.6997730625156806,
             0.5181560609624278,
             0.5664733086638098,
             0.42723747710960547,
             0.03656691064670525
            ],
            "sizemode": "area",
            "sizeref": 0.0011111111111111107
           },
           "mode": "markers",
           "name": "",
           "showlegend": false,
           "subplot": "mapbox",
           "type": "scattermapbox"
          }
         ],
         "name": "8"
        },
        {
         "data": [
          {
           "hovertemplate": "month=9<br>standardized_lamax=%{marker.size}<br>lat=%{lat}<br>lon=%{lon}<extra></extra>",
           "lat": [
            50.877121,
            50.8765,
            50.8759,
            50.87452,
            50.874078,
            50.87873
           ],
           "legendgroup": "",
           "lon": [
            4.700708,
            4.700632,
            4.700262,
            4.69985,
            4.70005,
            4.70115
           ],
           "marker": {
            "color": "#636efa",
            "size": [
             0.7522934898727729,
             0.6693496639914662,
             0.8265070683432678,
             0.671693501407852,
             0.6647056749060005,
             0.10100678831133791
            ],
            "sizemode": "area",
            "sizeref": 0.0011111111111111107
           },
           "mode": "markers",
           "name": "",
           "showlegend": false,
           "subplot": "mapbox",
           "type": "scattermapbox"
          }
         ],
         "name": "9"
        },
        {
         "data": [
          {
           "hovertemplate": "month=10<br>standardized_lamax=%{marker.size}<br>lat=%{lat}<br>lon=%{lon}<extra></extra>",
           "lat": [
            50.877121,
            50.8765,
            50.8759,
            50.875237,
            50.87452,
            50.874078,
            50.873808,
            50.87873
           ],
           "legendgroup": "",
           "lon": [
            4.700708,
            4.700632,
            4.700262,
            4.700071,
            4.69985,
            4.70005,
            4.700007,
            4.70115
           ],
           "marker": {
            "color": "#636efa",
            "size": [
             0.9410754653346465,
             0.786391463325423,
             0.8818533829615611,
             0.8438370544666287,
             0.7588435280264219,
             0.7316467405377387,
             0.5489833694365847,
             0.2091469448058083
            ],
            "sizemode": "area",
            "sizeref": 0.0011111111111111107
           },
           "mode": "markers",
           "name": "",
           "showlegend": false,
           "subplot": "mapbox",
           "type": "scattermapbox"
          }
         ],
         "name": "10"
        },
        {
         "data": [
          {
           "hovertemplate": "month=11<br>standardized_lamax=%{marker.size}<br>lat=%{lat}<br>lon=%{lon}<extra></extra>",
           "lat": [
            50.877121,
            50.8765,
            50.8759,
            50.875237,
            50.87452,
            50.874078,
            50.873808,
            50.87873
           ],
           "legendgroup": "",
           "lon": [
            4.700708,
            4.700632,
            4.700262,
            4.700071,
            4.69985,
            4.70005,
            4.700007,
            4.70115
           ],
           "marker": {
            "color": "#636efa",
            "size": [
             0.8649801784983207,
             0.7352488495154561,
             0.8502332393315322,
             0.911002573313517,
             0.7188956365096009,
             0.6777748049629664,
             0.6157805429408705,
             0.12004336063348564
            ],
            "sizemode": "area",
            "sizeref": 0.0011111111111111107
           },
           "mode": "markers",
           "name": "",
           "showlegend": false,
           "subplot": "mapbox",
           "type": "scattermapbox"
          }
         ],
         "name": "11"
        },
        {
         "data": [
          {
           "hovertemplate": "month=12<br>standardized_lamax=%{marker.size}<br>lat=%{lat}<br>lon=%{lon}<extra></extra>",
           "lat": [
            50.877121,
            50.8765,
            50.8759,
            50.875237,
            50.87452,
            50.874078,
            50.873808,
            50.87873
           ],
           "legendgroup": "",
           "lon": [
            4.700708,
            4.700632,
            4.700262,
            4.700071,
            4.69985,
            4.70005,
            4.700007,
            4.70115
           ],
           "marker": {
            "color": "#636efa",
            "size": [
             0.6977513333867473,
             0.6156885476533138,
             0.7435383128929867,
             0.7850688571176501,
             0.5872993592989242,
             0.5278155421521409,
             0.44476580258999254,
             0.07539851390004904
            ],
            "sizemode": "area",
            "sizeref": 0.0011111111111111107
           },
           "mode": "markers",
           "name": "",
           "showlegend": false,
           "subplot": "mapbox",
           "type": "scattermapbox"
          }
         ],
         "name": "12"
        }
       ],
       "layout": {
        "legend": {
         "itemsizing": "constant",
         "tracegroupgap": 0
        },
        "mapbox": {
         "center": {
          "lat": 50.87452,
          "lon": 4.69985
         },
         "domain": {
          "x": [
           0,
           1
          ],
          "y": [
           0,
           1
          ]
         },
         "style": "open-street-map",
         "zoom": 15
        },
        "margin": {
         "t": 60
        },
        "sliders": [
         {
          "active": 0,
          "currentvalue": {
           "prefix": "month="
          },
          "len": 0.9,
          "pad": {
           "b": 10,
           "t": 60
          },
          "steps": [
           {
            "args": [
             [
              "1"
             ],
             {
              "frame": {
               "duration": 0,
               "redraw": true
              },
              "fromcurrent": true,
              "mode": "immediate",
              "transition": {
               "duration": 0,
               "easing": "linear"
              }
             }
            ],
            "label": "1",
            "method": "animate"
           },
           {
            "args": [
             [
              "2"
             ],
             {
              "frame": {
               "duration": 0,
               "redraw": true
              },
              "fromcurrent": true,
              "mode": "immediate",
              "transition": {
               "duration": 0,
               "easing": "linear"
              }
             }
            ],
            "label": "2",
            "method": "animate"
           },
           {
            "args": [
             [
              "3"
             ],
             {
              "frame": {
               "duration": 0,
               "redraw": true
              },
              "fromcurrent": true,
              "mode": "immediate",
              "transition": {
               "duration": 0,
               "easing": "linear"
              }
             }
            ],
            "label": "3",
            "method": "animate"
           },
           {
            "args": [
             [
              "4"
             ],
             {
              "frame": {
               "duration": 0,
               "redraw": true
              },
              "fromcurrent": true,
              "mode": "immediate",
              "transition": {
               "duration": 0,
               "easing": "linear"
              }
             }
            ],
            "label": "4",
            "method": "animate"
           },
           {
            "args": [
             [
              "5"
             ],
             {
              "frame": {
               "duration": 0,
               "redraw": true
              },
              "fromcurrent": true,
              "mode": "immediate",
              "transition": {
               "duration": 0,
               "easing": "linear"
              }
             }
            ],
            "label": "5",
            "method": "animate"
           },
           {
            "args": [
             [
              "6"
             ],
             {
              "frame": {
               "duration": 0,
               "redraw": true
              },
              "fromcurrent": true,
              "mode": "immediate",
              "transition": {
               "duration": 0,
               "easing": "linear"
              }
             }
            ],
            "label": "6",
            "method": "animate"
           },
           {
            "args": [
             [
              "7"
             ],
             {
              "frame": {
               "duration": 0,
               "redraw": true
              },
              "fromcurrent": true,
              "mode": "immediate",
              "transition": {
               "duration": 0,
               "easing": "linear"
              }
             }
            ],
            "label": "7",
            "method": "animate"
           },
           {
            "args": [
             [
              "8"
             ],
             {
              "frame": {
               "duration": 0,
               "redraw": true
              },
              "fromcurrent": true,
              "mode": "immediate",
              "transition": {
               "duration": 0,
               "easing": "linear"
              }
             }
            ],
            "label": "8",
            "method": "animate"
           },
           {
            "args": [
             [
              "9"
             ],
             {
              "frame": {
               "duration": 0,
               "redraw": true
              },
              "fromcurrent": true,
              "mode": "immediate",
              "transition": {
               "duration": 0,
               "easing": "linear"
              }
             }
            ],
            "label": "9",
            "method": "animate"
           },
           {
            "args": [
             [
              "10"
             ],
             {
              "frame": {
               "duration": 0,
               "redraw": true
              },
              "fromcurrent": true,
              "mode": "immediate",
              "transition": {
               "duration": 0,
               "easing": "linear"
              }
             }
            ],
            "label": "10",
            "method": "animate"
           },
           {
            "args": [
             [
              "11"
             ],
             {
              "frame": {
               "duration": 0,
               "redraw": true
              },
              "fromcurrent": true,
              "mode": "immediate",
              "transition": {
               "duration": 0,
               "easing": "linear"
              }
             }
            ],
            "label": "11",
            "method": "animate"
           },
           {
            "args": [
             [
              "12"
             ],
             {
              "frame": {
               "duration": 0,
               "redraw": true
              },
              "fromcurrent": true,
              "mode": "immediate",
              "transition": {
               "duration": 0,
               "easing": "linear"
              }
             }
            ],
            "label": "12",
            "method": "animate"
           }
          ],
          "x": 0.1,
          "xanchor": "left",
          "y": 0,
          "yanchor": "top"
         }
        ],
        "template": {
         "data": {
          "bar": [
           {
            "error_x": {
             "color": "#2a3f5f"
            },
            "error_y": {
             "color": "#2a3f5f"
            },
            "marker": {
             "line": {
              "color": "#E5ECF6",
              "width": 0.5
             },
             "pattern": {
              "fillmode": "overlay",
              "size": 10,
              "solidity": 0.2
             }
            },
            "type": "bar"
           }
          ],
          "barpolar": [
           {
            "marker": {
             "line": {
              "color": "#E5ECF6",
              "width": 0.5
             },
             "pattern": {
              "fillmode": "overlay",
              "size": 10,
              "solidity": 0.2
             }
            },
            "type": "barpolar"
           }
          ],
          "carpet": [
           {
            "aaxis": {
             "endlinecolor": "#2a3f5f",
             "gridcolor": "white",
             "linecolor": "white",
             "minorgridcolor": "white",
             "startlinecolor": "#2a3f5f"
            },
            "baxis": {
             "endlinecolor": "#2a3f5f",
             "gridcolor": "white",
             "linecolor": "white",
             "minorgridcolor": "white",
             "startlinecolor": "#2a3f5f"
            },
            "type": "carpet"
           }
          ],
          "choropleth": [
           {
            "colorbar": {
             "outlinewidth": 0,
             "ticks": ""
            },
            "type": "choropleth"
           }
          ],
          "contour": [
           {
            "colorbar": {
             "outlinewidth": 0,
             "ticks": ""
            },
            "colorscale": [
             [
              0,
              "#0d0887"
             ],
             [
              0.1111111111111111,
              "#46039f"
             ],
             [
              0.2222222222222222,
              "#7201a8"
             ],
             [
              0.3333333333333333,
              "#9c179e"
             ],
             [
              0.4444444444444444,
              "#bd3786"
             ],
             [
              0.5555555555555556,
              "#d8576b"
             ],
             [
              0.6666666666666666,
              "#ed7953"
             ],
             [
              0.7777777777777778,
              "#fb9f3a"
             ],
             [
              0.8888888888888888,
              "#fdca26"
             ],
             [
              1,
              "#f0f921"
             ]
            ],
            "type": "contour"
           }
          ],
          "contourcarpet": [
           {
            "colorbar": {
             "outlinewidth": 0,
             "ticks": ""
            },
            "type": "contourcarpet"
           }
          ],
          "heatmap": [
           {
            "colorbar": {
             "outlinewidth": 0,
             "ticks": ""
            },
            "colorscale": [
             [
              0,
              "#0d0887"
             ],
             [
              0.1111111111111111,
              "#46039f"
             ],
             [
              0.2222222222222222,
              "#7201a8"
             ],
             [
              0.3333333333333333,
              "#9c179e"
             ],
             [
              0.4444444444444444,
              "#bd3786"
             ],
             [
              0.5555555555555556,
              "#d8576b"
             ],
             [
              0.6666666666666666,
              "#ed7953"
             ],
             [
              0.7777777777777778,
              "#fb9f3a"
             ],
             [
              0.8888888888888888,
              "#fdca26"
             ],
             [
              1,
              "#f0f921"
             ]
            ],
            "type": "heatmap"
           }
          ],
          "heatmapgl": [
           {
            "colorbar": {
             "outlinewidth": 0,
             "ticks": ""
            },
            "colorscale": [
             [
              0,
              "#0d0887"
             ],
             [
              0.1111111111111111,
              "#46039f"
             ],
             [
              0.2222222222222222,
              "#7201a8"
             ],
             [
              0.3333333333333333,
              "#9c179e"
             ],
             [
              0.4444444444444444,
              "#bd3786"
             ],
             [
              0.5555555555555556,
              "#d8576b"
             ],
             [
              0.6666666666666666,
              "#ed7953"
             ],
             [
              0.7777777777777778,
              "#fb9f3a"
             ],
             [
              0.8888888888888888,
              "#fdca26"
             ],
             [
              1,
              "#f0f921"
             ]
            ],
            "type": "heatmapgl"
           }
          ],
          "histogram": [
           {
            "marker": {
             "pattern": {
              "fillmode": "overlay",
              "size": 10,
              "solidity": 0.2
             }
            },
            "type": "histogram"
           }
          ],
          "histogram2d": [
           {
            "colorbar": {
             "outlinewidth": 0,
             "ticks": ""
            },
            "colorscale": [
             [
              0,
              "#0d0887"
             ],
             [
              0.1111111111111111,
              "#46039f"
             ],
             [
              0.2222222222222222,
              "#7201a8"
             ],
             [
              0.3333333333333333,
              "#9c179e"
             ],
             [
              0.4444444444444444,
              "#bd3786"
             ],
             [
              0.5555555555555556,
              "#d8576b"
             ],
             [
              0.6666666666666666,
              "#ed7953"
             ],
             [
              0.7777777777777778,
              "#fb9f3a"
             ],
             [
              0.8888888888888888,
              "#fdca26"
             ],
             [
              1,
              "#f0f921"
             ]
            ],
            "type": "histogram2d"
           }
          ],
          "histogram2dcontour": [
           {
            "colorbar": {
             "outlinewidth": 0,
             "ticks": ""
            },
            "colorscale": [
             [
              0,
              "#0d0887"
             ],
             [
              0.1111111111111111,
              "#46039f"
             ],
             [
              0.2222222222222222,
              "#7201a8"
             ],
             [
              0.3333333333333333,
              "#9c179e"
             ],
             [
              0.4444444444444444,
              "#bd3786"
             ],
             [
              0.5555555555555556,
              "#d8576b"
             ],
             [
              0.6666666666666666,
              "#ed7953"
             ],
             [
              0.7777777777777778,
              "#fb9f3a"
             ],
             [
              0.8888888888888888,
              "#fdca26"
             ],
             [
              1,
              "#f0f921"
             ]
            ],
            "type": "histogram2dcontour"
           }
          ],
          "mesh3d": [
           {
            "colorbar": {
             "outlinewidth": 0,
             "ticks": ""
            },
            "type": "mesh3d"
           }
          ],
          "parcoords": [
           {
            "line": {
             "colorbar": {
              "outlinewidth": 0,
              "ticks": ""
             }
            },
            "type": "parcoords"
           }
          ],
          "pie": [
           {
            "automargin": true,
            "type": "pie"
           }
          ],
          "scatter": [
           {
            "fillpattern": {
             "fillmode": "overlay",
             "size": 10,
             "solidity": 0.2
            },
            "type": "scatter"
           }
          ],
          "scatter3d": [
           {
            "line": {
             "colorbar": {
              "outlinewidth": 0,
              "ticks": ""
             }
            },
            "marker": {
             "colorbar": {
              "outlinewidth": 0,
              "ticks": ""
             }
            },
            "type": "scatter3d"
           }
          ],
          "scattercarpet": [
           {
            "marker": {
             "colorbar": {
              "outlinewidth": 0,
              "ticks": ""
             }
            },
            "type": "scattercarpet"
           }
          ],
          "scattergeo": [
           {
            "marker": {
             "colorbar": {
              "outlinewidth": 0,
              "ticks": ""
             }
            },
            "type": "scattergeo"
           }
          ],
          "scattergl": [
           {
            "marker": {
             "colorbar": {
              "outlinewidth": 0,
              "ticks": ""
             }
            },
            "type": "scattergl"
           }
          ],
          "scattermapbox": [
           {
            "marker": {
             "colorbar": {
              "outlinewidth": 0,
              "ticks": ""
             }
            },
            "type": "scattermapbox"
           }
          ],
          "scatterpolar": [
           {
            "marker": {
             "colorbar": {
              "outlinewidth": 0,
              "ticks": ""
             }
            },
            "type": "scatterpolar"
           }
          ],
          "scatterpolargl": [
           {
            "marker": {
             "colorbar": {
              "outlinewidth": 0,
              "ticks": ""
             }
            },
            "type": "scatterpolargl"
           }
          ],
          "scatterternary": [
           {
            "marker": {
             "colorbar": {
              "outlinewidth": 0,
              "ticks": ""
             }
            },
            "type": "scatterternary"
           }
          ],
          "surface": [
           {
            "colorbar": {
             "outlinewidth": 0,
             "ticks": ""
            },
            "colorscale": [
             [
              0,
              "#0d0887"
             ],
             [
              0.1111111111111111,
              "#46039f"
             ],
             [
              0.2222222222222222,
              "#7201a8"
             ],
             [
              0.3333333333333333,
              "#9c179e"
             ],
             [
              0.4444444444444444,
              "#bd3786"
             ],
             [
              0.5555555555555556,
              "#d8576b"
             ],
             [
              0.6666666666666666,
              "#ed7953"
             ],
             [
              0.7777777777777778,
              "#fb9f3a"
             ],
             [
              0.8888888888888888,
              "#fdca26"
             ],
             [
              1,
              "#f0f921"
             ]
            ],
            "type": "surface"
           }
          ],
          "table": [
           {
            "cells": {
             "fill": {
              "color": "#EBF0F8"
             },
             "line": {
              "color": "white"
             }
            },
            "header": {
             "fill": {
              "color": "#C8D4E3"
             },
             "line": {
              "color": "white"
             }
            },
            "type": "table"
           }
          ]
         },
         "layout": {
          "annotationdefaults": {
           "arrowcolor": "#2a3f5f",
           "arrowhead": 0,
           "arrowwidth": 1
          },
          "autotypenumbers": "strict",
          "coloraxis": {
           "colorbar": {
            "outlinewidth": 0,
            "ticks": ""
           }
          },
          "colorscale": {
           "diverging": [
            [
             0,
             "#8e0152"
            ],
            [
             0.1,
             "#c51b7d"
            ],
            [
             0.2,
             "#de77ae"
            ],
            [
             0.3,
             "#f1b6da"
            ],
            [
             0.4,
             "#fde0ef"
            ],
            [
             0.5,
             "#f7f7f7"
            ],
            [
             0.6,
             "#e6f5d0"
            ],
            [
             0.7,
             "#b8e186"
            ],
            [
             0.8,
             "#7fbc41"
            ],
            [
             0.9,
             "#4d9221"
            ],
            [
             1,
             "#276419"
            ]
           ],
           "sequential": [
            [
             0,
             "#0d0887"
            ],
            [
             0.1111111111111111,
             "#46039f"
            ],
            [
             0.2222222222222222,
             "#7201a8"
            ],
            [
             0.3333333333333333,
             "#9c179e"
            ],
            [
             0.4444444444444444,
             "#bd3786"
            ],
            [
             0.5555555555555556,
             "#d8576b"
            ],
            [
             0.6666666666666666,
             "#ed7953"
            ],
            [
             0.7777777777777778,
             "#fb9f3a"
            ],
            [
             0.8888888888888888,
             "#fdca26"
            ],
            [
             1,
             "#f0f921"
            ]
           ],
           "sequentialminus": [
            [
             0,
             "#0d0887"
            ],
            [
             0.1111111111111111,
             "#46039f"
            ],
            [
             0.2222222222222222,
             "#7201a8"
            ],
            [
             0.3333333333333333,
             "#9c179e"
            ],
            [
             0.4444444444444444,
             "#bd3786"
            ],
            [
             0.5555555555555556,
             "#d8576b"
            ],
            [
             0.6666666666666666,
             "#ed7953"
            ],
            [
             0.7777777777777778,
             "#fb9f3a"
            ],
            [
             0.8888888888888888,
             "#fdca26"
            ],
            [
             1,
             "#f0f921"
            ]
           ]
          },
          "colorway": [
           "#636efa",
           "#EF553B",
           "#00cc96",
           "#ab63fa",
           "#FFA15A",
           "#19d3f3",
           "#FF6692",
           "#B6E880",
           "#FF97FF",
           "#FECB52"
          ],
          "font": {
           "color": "#2a3f5f"
          },
          "geo": {
           "bgcolor": "white",
           "lakecolor": "white",
           "landcolor": "#E5ECF6",
           "showlakes": true,
           "showland": true,
           "subunitcolor": "white"
          },
          "hoverlabel": {
           "align": "left"
          },
          "hovermode": "closest",
          "mapbox": {
           "style": "light"
          },
          "paper_bgcolor": "white",
          "plot_bgcolor": "#E5ECF6",
          "polar": {
           "angularaxis": {
            "gridcolor": "white",
            "linecolor": "white",
            "ticks": ""
           },
           "bgcolor": "#E5ECF6",
           "radialaxis": {
            "gridcolor": "white",
            "linecolor": "white",
            "ticks": ""
           }
          },
          "scene": {
           "xaxis": {
            "backgroundcolor": "#E5ECF6",
            "gridcolor": "white",
            "gridwidth": 2,
            "linecolor": "white",
            "showbackground": true,
            "ticks": "",
            "zerolinecolor": "white"
           },
           "yaxis": {
            "backgroundcolor": "#E5ECF6",
            "gridcolor": "white",
            "gridwidth": 2,
            "linecolor": "white",
            "showbackground": true,
            "ticks": "",
            "zerolinecolor": "white"
           },
           "zaxis": {
            "backgroundcolor": "#E5ECF6",
            "gridcolor": "white",
            "gridwidth": 2,
            "linecolor": "white",
            "showbackground": true,
            "ticks": "",
            "zerolinecolor": "white"
           }
          },
          "shapedefaults": {
           "line": {
            "color": "#2a3f5f"
           }
          },
          "ternary": {
           "aaxis": {
            "gridcolor": "white",
            "linecolor": "white",
            "ticks": ""
           },
           "baxis": {
            "gridcolor": "white",
            "linecolor": "white",
            "ticks": ""
           },
           "bgcolor": "#E5ECF6",
           "caxis": {
            "gridcolor": "white",
            "linecolor": "white",
            "ticks": ""
           }
          },
          "title": {
           "x": 0.05
          },
          "xaxis": {
           "automargin": true,
           "gridcolor": "white",
           "linecolor": "white",
           "ticks": "",
           "title": {
            "standoff": 15
           },
           "zerolinecolor": "white",
           "zerolinewidth": 2
          },
          "yaxis": {
           "automargin": true,
           "gridcolor": "white",
           "linecolor": "white",
           "ticks": "",
           "title": {
            "standoff": 15
           },
           "zerolinecolor": "white",
           "zerolinewidth": 2
          }
         }
        },
        "updatemenus": [
         {
          "buttons": [
           {
            "args": [
             null,
             {
              "frame": {
               "duration": 500,
               "redraw": true
              },
              "fromcurrent": true,
              "mode": "immediate",
              "transition": {
               "duration": 500,
               "easing": "linear"
              }
             }
            ],
            "label": "&#9654;",
            "method": "animate"
           },
           {
            "args": [
             [
              null
             ],
             {
              "frame": {
               "duration": 0,
               "redraw": true
              },
              "fromcurrent": true,
              "mode": "immediate",
              "transition": {
               "duration": 0,
               "easing": "linear"
              }
             }
            ],
            "label": "&#9724;",
            "method": "animate"
           }
          ],
          "direction": "left",
          "pad": {
           "r": 10,
           "t": 70
          },
          "showactive": false,
          "type": "buttons",
          "x": 0.1,
          "xanchor": "right",
          "y": 0,
          "yanchor": "top"
         }
        ]
       }
      }
     },
     "metadata": {},
     "output_type": "display_data"
    }
   ],
   "source": [
    "# Add initial trace to the figure\n",
    "fig = px.scatter_mapbox(merged, \n",
    "                        lat = 'lat', \n",
    "                        lon = 'lon', \n",
    "                        size = 'standardized_lamax',\n",
    "                        size_max = 30,\n",
    "                        animation_frame=\"days_since_reference\",\n",
    "                        hover_data={\"description\":True,\"days_since_reference\":False,\"lat\":False,\"lon\":False,\"date\": True},\n",
    "                        zoom = 14, mapbox_style = 'open-street-map')\n",
    "# Set the initial center and zoom level of the map\n",
    "fig.update_layout(mapbox={\n",
    "    'center': {'lat': 50.875900, 'lon': 4.700262}\n",
    "})"
   ]
  },
  {
   "cell_type": "code",
   "execution_count": null,
   "id": "56751715",
   "metadata": {},
   "outputs": [
    {
     "data": {
      "application/vnd.plotly.v1+json": {
       "config": {
        "plotlyServerURL": "https://plot.ly"
       },
       "data": [
        {
         "hovertemplate": "month=1<br>standardized_lamax=%{marker.size}<br>lat=%{lat}<br>lon=%{lon}<extra></extra>",
         "lat": [
          50.8759,
          50.87452,
          50.874078,
          50.873808
         ],
         "legendgroup": "",
         "lon": [
          4.700262,
          4.69985,
          4.70005,
          4.700007
         ],
         "marker": {
          "color": "#636efa",
          "size": [
           0.6567206323196442,
           0.4176420416838913,
           0.39356534201584426,
           0.2862298109159087
          ],
          "sizemode": "area",
          "sizeref": 0.0011111111111111107
         },
         "mode": "markers",
         "name": "",
         "showlegend": false,
         "subplot": "mapbox",
         "type": "scattermapbox"
        }
       ],
       "frames": [
        {
         "data": [
          {
           "hovertemplate": "month=1<br>standardized_lamax=%{marker.size}<br>lat=%{lat}<br>lon=%{lon}<extra></extra>",
           "lat": [
            50.8759,
            50.87452,
            50.874078,
            50.873808
           ],
           "legendgroup": "",
           "lon": [
            4.700262,
            4.69985,
            4.70005,
            4.700007
           ],
           "marker": {
            "color": "#636efa",
            "size": [
             0.6567206323196442,
             0.4176420416838913,
             0.39356534201584426,
             0.2862298109159087
            ],
            "sizemode": "area",
            "sizeref": 0.0011111111111111107
           },
           "mode": "markers",
           "name": "",
           "showlegend": false,
           "subplot": "mapbox",
           "type": "scattermapbox"
          }
         ],
         "name": "1"
        },
        {
         "data": [
          {
           "hovertemplate": "month=2<br>standardized_lamax=%{marker.size}<br>lat=%{lat}<br>lon=%{lon}<extra></extra>",
           "lat": [
            50.877121,
            50.8765,
            50.8759,
            50.87452,
            50.874078,
            50.873808
           ],
           "legendgroup": "",
           "lon": [
            4.700708,
            4.700632,
            4.700262,
            4.69985,
            4.70005,
            4.700007
           ],
           "marker": {
            "color": "#636efa",
            "size": [
             0.9946655468913996,
             0.5706320740230688,
             0.7899824401043429,
             0.6704755590856499,
             0.649274300047693,
             0.5931350135111777
            ],
            "sizemode": "area",
            "sizeref": 0.0011111111111111107
           },
           "mode": "markers",
           "name": "",
           "showlegend": false,
           "subplot": "mapbox",
           "type": "scattermapbox"
          }
         ],
         "name": "2"
        },
        {
         "data": [
          {
           "hovertemplate": "month=3<br>standardized_lamax=%{marker.size}<br>lat=%{lat}<br>lon=%{lon}<extra></extra>",
           "lat": [
            50.877121,
            50.8765,
            50.8759,
            50.87452,
            50.874078,
            50.873808,
            50.87873
           ],
           "legendgroup": "",
           "lon": [
            4.700708,
            4.700632,
            4.700262,
            4.69985,
            4.70005,
            4.700007,
            4.70115
           ],
           "marker": {
            "color": "#636efa",
            "size": [
             0.9999999999999996,
             0.7511012945344535,
             0.8523683215041458,
             0.7350761936534824,
             0.738603345627141,
             0.6560836590522512,
             0.11667762767572709
            ],
            "sizemode": "area",
            "sizeref": 0.0011111111111111107
           },
           "mode": "markers",
           "name": "",
           "showlegend": false,
           "subplot": "mapbox",
           "type": "scattermapbox"
          }
         ],
         "name": "3"
        },
        {
         "data": [
          {
           "hovertemplate": "month=4<br>standardized_lamax=%{marker.size}<br>lat=%{lat}<br>lon=%{lon}<extra></extra>",
           "lat": [
            50.877121,
            50.8765,
            50.8759,
            50.87452,
            50.874078,
            50.873808,
            50.87873
           ],
           "legendgroup": "",
           "lon": [
            4.700708,
            4.700632,
            4.700262,
            4.69985,
            4.70005,
            4.700007,
            4.70115
           ],
           "marker": {
            "color": "#636efa",
            "size": [
             0.8080842467508895,
             0.6703184212486764,
             0.7900053718272715,
             0.6251824451556547,
             0.6112519247403303,
             0.4605518047894006,
             0.10281294214047021
            ],
            "sizemode": "area",
            "sizeref": 0.0011111111111111107
           },
           "mode": "markers",
           "name": "",
           "showlegend": false,
           "subplot": "mapbox",
           "type": "scattermapbox"
          }
         ],
         "name": "4"
        },
        {
         "data": [
          {
           "hovertemplate": "month=5<br>standardized_lamax=%{marker.size}<br>lat=%{lat}<br>lon=%{lon}<extra></extra>",
           "lat": [
            50.877121,
            50.8765,
            50.8759,
            50.87452,
            50.874078,
            50.873808,
            50.87873
           ],
           "legendgroup": "",
           "lon": [
            4.700708,
            4.700632,
            4.700262,
            4.69985,
            4.70005,
            4.700007,
            4.70115
           ],
           "marker": {
            "color": "#636efa",
            "size": [
             0.8503324372737535,
             0.6885147225744297,
             0.8220687528561936,
             0.6610218138210597,
             0.7112665751696512,
             0.6313979591061387,
             0.1646625147602334
            ],
            "sizemode": "area",
            "sizeref": 0.0011111111111111107
           },
           "mode": "markers",
           "name": "",
           "showlegend": false,
           "subplot": "mapbox",
           "type": "scattermapbox"
          }
         ],
         "name": "5"
        },
        {
         "data": [
          {
           "hovertemplate": "month=6<br>standardized_lamax=%{marker.size}<br>lat=%{lat}<br>lon=%{lon}<extra></extra>",
           "lat": [
            50.877121,
            50.8765,
            50.8759,
            50.87452,
            50.874078,
            50.873808,
            50.87873
           ],
           "legendgroup": "",
           "lon": [
            4.700708,
            4.700632,
            4.700262,
            4.69985,
            4.70005,
            4.700007,
            4.70115
           ],
           "marker": {
            "color": "#636efa",
            "size": [
             0.7250856363484419,
             0.6352888313987273,
             0.7977071534622131,
             0.636204329878487,
             0.6813862773956783,
             0.5620406408711767,
             0.05790125815041902
            ],
            "sizemode": "area",
            "sizeref": 0.0011111111111111107
           },
           "mode": "markers",
           "name": "",
           "showlegend": false,
           "subplot": "mapbox",
           "type": "scattermapbox"
          }
         ],
         "name": "6"
        },
        {
         "data": [
          {
           "hovertemplate": "month=7<br>standardized_lamax=%{marker.size}<br>lat=%{lat}<br>lon=%{lon}<extra></extra>",
           "lat": [
            50.877121,
            50.8765,
            50.8759,
            50.87452,
            50.874078,
            50.873808,
            50.87873
           ],
           "legendgroup": "",
           "lon": [
            4.700708,
            4.700632,
            4.700262,
            4.69985,
            4.70005,
            4.700007,
            4.70115
           ],
           "marker": {
            "color": "#636efa",
            "size": [
             0.5661184570253757,
             0.5165805297872468,
             0.6778466944470947,
             0.4398235292583288,
             0.4393739757153754,
             0.29523279814000647,
             0
            ],
            "sizemode": "area",
            "sizeref": 0.0011111111111111107
           },
           "mode": "markers",
           "name": "",
           "showlegend": false,
           "subplot": "mapbox",
           "type": "scattermapbox"
          }
         ],
         "name": "7"
        },
        {
         "data": [
          {
           "hovertemplate": "month=8<br>standardized_lamax=%{marker.size}<br>lat=%{lat}<br>lon=%{lon}<extra></extra>",
           "lat": [
            50.877121,
            50.8765,
            50.8759,
            50.87452,
            50.874078,
            50.873808,
            50.87873
           ],
           "legendgroup": "",
           "lon": [
            4.700708,
            4.700632,
            4.700262,
            4.69985,
            4.70005,
            4.700007,
            4.70115
           ],
           "marker": {
            "color": "#636efa",
            "size": [
             0.6080471518429831,
             0.5461219593649864,
             0.6997730625156806,
             0.5181560609624278,
             0.5664733086638098,
             0.42723747710960547,
             0.03656691064670525
            ],
            "sizemode": "area",
            "sizeref": 0.0011111111111111107
           },
           "mode": "markers",
           "name": "",
           "showlegend": false,
           "subplot": "mapbox",
           "type": "scattermapbox"
          }
         ],
         "name": "8"
        },
        {
         "data": [
          {
           "hovertemplate": "month=9<br>standardized_lamax=%{marker.size}<br>lat=%{lat}<br>lon=%{lon}<extra></extra>",
           "lat": [
            50.877121,
            50.8765,
            50.8759,
            50.87452,
            50.874078,
            50.87873
           ],
           "legendgroup": "",
           "lon": [
            4.700708,
            4.700632,
            4.700262,
            4.69985,
            4.70005,
            4.70115
           ],
           "marker": {
            "color": "#636efa",
            "size": [
             0.7522934898727729,
             0.6693496639914662,
             0.8265070683432678,
             0.671693501407852,
             0.6647056749060005,
             0.10100678831133791
            ],
            "sizemode": "area",
            "sizeref": 0.0011111111111111107
           },
           "mode": "markers",
           "name": "",
           "showlegend": false,
           "subplot": "mapbox",
           "type": "scattermapbox"
          }
         ],
         "name": "9"
        },
        {
         "data": [
          {
           "hovertemplate": "month=10<br>standardized_lamax=%{marker.size}<br>lat=%{lat}<br>lon=%{lon}<extra></extra>",
           "lat": [
            50.877121,
            50.8765,
            50.8759,
            50.875237,
            50.87452,
            50.874078,
            50.873808,
            50.87873
           ],
           "legendgroup": "",
           "lon": [
            4.700708,
            4.700632,
            4.700262,
            4.700071,
            4.69985,
            4.70005,
            4.700007,
            4.70115
           ],
           "marker": {
            "color": "#636efa",
            "size": [
             0.9410754653346465,
             0.786391463325423,
             0.8818533829615611,
             0.8438370544666287,
             0.7588435280264219,
             0.7316467405377387,
             0.5489833694365847,
             0.2091469448058083
            ],
            "sizemode": "area",
            "sizeref": 0.0011111111111111107
           },
           "mode": "markers",
           "name": "",
           "showlegend": false,
           "subplot": "mapbox",
           "type": "scattermapbox"
          }
         ],
         "name": "10"
        },
        {
         "data": [
          {
           "hovertemplate": "month=11<br>standardized_lamax=%{marker.size}<br>lat=%{lat}<br>lon=%{lon}<extra></extra>",
           "lat": [
            50.877121,
            50.8765,
            50.8759,
            50.875237,
            50.87452,
            50.874078,
            50.873808,
            50.87873
           ],
           "legendgroup": "",
           "lon": [
            4.700708,
            4.700632,
            4.700262,
            4.700071,
            4.69985,
            4.70005,
            4.700007,
            4.70115
           ],
           "marker": {
            "color": "#636efa",
            "size": [
             0.8649801784983207,
             0.7352488495154561,
             0.8502332393315322,
             0.911002573313517,
             0.7188956365096009,
             0.6777748049629664,
             0.6157805429408705,
             0.12004336063348564
            ],
            "sizemode": "area",
            "sizeref": 0.0011111111111111107
           },
           "mode": "markers",
           "name": "",
           "showlegend": false,
           "subplot": "mapbox",
           "type": "scattermapbox"
          }
         ],
         "name": "11"
        },
        {
         "data": [
          {
           "hovertemplate": "month=12<br>standardized_lamax=%{marker.size}<br>lat=%{lat}<br>lon=%{lon}<extra></extra>",
           "lat": [
            50.877121,
            50.8765,
            50.8759,
            50.875237,
            50.87452,
            50.874078,
            50.873808,
            50.87873
           ],
           "legendgroup": "",
           "lon": [
            4.700708,
            4.700632,
            4.700262,
            4.700071,
            4.69985,
            4.70005,
            4.700007,
            4.70115
           ],
           "marker": {
            "color": "#636efa",
            "size": [
             0.6977513333867473,
             0.6156885476533138,
             0.7435383128929867,
             0.7850688571176501,
             0.5872993592989242,
             0.5278155421521409,
             0.44476580258999254,
             0.07539851390004904
            ],
            "sizemode": "area",
            "sizeref": 0.0011111111111111107
           },
           "mode": "markers",
           "name": "",
           "showlegend": false,
           "subplot": "mapbox",
           "type": "scattermapbox"
          }
         ],
         "name": "12"
        }
       ],
       "layout": {
        "legend": {
         "itemsizing": "constant",
         "tracegroupgap": 0
        },
        "mapbox": {
         "center": {
          "lat": 50.87452,
          "lon": 4.69985
         },
         "domain": {
          "x": [
           0,
           1
          ],
          "y": [
           0,
           1
          ]
         },
         "style": "open-street-map",
         "zoom": 15
        },
        "margin": {
         "t": 60
        },
        "sliders": [
         {
          "active": 0,
          "currentvalue": {
           "prefix": "month="
          },
          "len": 0.9,
          "pad": {
           "b": 10,
           "t": 60
          },
          "steps": [
           {
            "args": [
             [
              "1"
             ],
             {
              "frame": {
               "duration": 0,
               "redraw": true
              },
              "fromcurrent": true,
              "mode": "immediate",
              "transition": {
               "duration": 0,
               "easing": "linear"
              }
             }
            ],
            "label": "1",
            "method": "animate"
           },
           {
            "args": [
             [
              "2"
             ],
             {
              "frame": {
               "duration": 0,
               "redraw": true
              },
              "fromcurrent": true,
              "mode": "immediate",
              "transition": {
               "duration": 0,
               "easing": "linear"
              }
             }
            ],
            "label": "2",
            "method": "animate"
           },
           {
            "args": [
             [
              "3"
             ],
             {
              "frame": {
               "duration": 0,
               "redraw": true
              },
              "fromcurrent": true,
              "mode": "immediate",
              "transition": {
               "duration": 0,
               "easing": "linear"
              }
             }
            ],
            "label": "3",
            "method": "animate"
           },
           {
            "args": [
             [
              "4"
             ],
             {
              "frame": {
               "duration": 0,
               "redraw": true
              },
              "fromcurrent": true,
              "mode": "immediate",
              "transition": {
               "duration": 0,
               "easing": "linear"
              }
             }
            ],
            "label": "4",
            "method": "animate"
           },
           {
            "args": [
             [
              "5"
             ],
             {
              "frame": {
               "duration": 0,
               "redraw": true
              },
              "fromcurrent": true,
              "mode": "immediate",
              "transition": {
               "duration": 0,
               "easing": "linear"
              }
             }
            ],
            "label": "5",
            "method": "animate"
           },
           {
            "args": [
             [
              "6"
             ],
             {
              "frame": {
               "duration": 0,
               "redraw": true
              },
              "fromcurrent": true,
              "mode": "immediate",
              "transition": {
               "duration": 0,
               "easing": "linear"
              }
             }
            ],
            "label": "6",
            "method": "animate"
           },
           {
            "args": [
             [
              "7"
             ],
             {
              "frame": {
               "duration": 0,
               "redraw": true
              },
              "fromcurrent": true,
              "mode": "immediate",
              "transition": {
               "duration": 0,
               "easing": "linear"
              }
             }
            ],
            "label": "7",
            "method": "animate"
           },
           {
            "args": [
             [
              "8"
             ],
             {
              "frame": {
               "duration": 0,
               "redraw": true
              },
              "fromcurrent": true,
              "mode": "immediate",
              "transition": {
               "duration": 0,
               "easing": "linear"
              }
             }
            ],
            "label": "8",
            "method": "animate"
           },
           {
            "args": [
             [
              "9"
             ],
             {
              "frame": {
               "duration": 0,
               "redraw": true
              },
              "fromcurrent": true,
              "mode": "immediate",
              "transition": {
               "duration": 0,
               "easing": "linear"
              }
             }
            ],
            "label": "9",
            "method": "animate"
           },
           {
            "args": [
             [
              "10"
             ],
             {
              "frame": {
               "duration": 0,
               "redraw": true
              },
              "fromcurrent": true,
              "mode": "immediate",
              "transition": {
               "duration": 0,
               "easing": "linear"
              }
             }
            ],
            "label": "10",
            "method": "animate"
           },
           {
            "args": [
             [
              "11"
             ],
             {
              "frame": {
               "duration": 0,
               "redraw": true
              },
              "fromcurrent": true,
              "mode": "immediate",
              "transition": {
               "duration": 0,
               "easing": "linear"
              }
             }
            ],
            "label": "11",
            "method": "animate"
           },
           {
            "args": [
             [
              "12"
             ],
             {
              "frame": {
               "duration": 0,
               "redraw": true
              },
              "fromcurrent": true,
              "mode": "immediate",
              "transition": {
               "duration": 0,
               "easing": "linear"
              }
             }
            ],
            "label": "12",
            "method": "animate"
           }
          ],
          "x": 0.1,
          "xanchor": "left",
          "y": 0,
          "yanchor": "top"
         }
        ],
        "template": {
         "data": {
          "bar": [
           {
            "error_x": {
             "color": "#2a3f5f"
            },
            "error_y": {
             "color": "#2a3f5f"
            },
            "marker": {
             "line": {
              "color": "#E5ECF6",
              "width": 0.5
             },
             "pattern": {
              "fillmode": "overlay",
              "size": 10,
              "solidity": 0.2
             }
            },
            "type": "bar"
           }
          ],
          "barpolar": [
           {
            "marker": {
             "line": {
              "color": "#E5ECF6",
              "width": 0.5
             },
             "pattern": {
              "fillmode": "overlay",
              "size": 10,
              "solidity": 0.2
             }
            },
            "type": "barpolar"
           }
          ],
          "carpet": [
           {
            "aaxis": {
             "endlinecolor": "#2a3f5f",
             "gridcolor": "white",
             "linecolor": "white",
             "minorgridcolor": "white",
             "startlinecolor": "#2a3f5f"
            },
            "baxis": {
             "endlinecolor": "#2a3f5f",
             "gridcolor": "white",
             "linecolor": "white",
             "minorgridcolor": "white",
             "startlinecolor": "#2a3f5f"
            },
            "type": "carpet"
           }
          ],
          "choropleth": [
           {
            "colorbar": {
             "outlinewidth": 0,
             "ticks": ""
            },
            "type": "choropleth"
           }
          ],
          "contour": [
           {
            "colorbar": {
             "outlinewidth": 0,
             "ticks": ""
            },
            "colorscale": [
             [
              0,
              "#0d0887"
             ],
             [
              0.1111111111111111,
              "#46039f"
             ],
             [
              0.2222222222222222,
              "#7201a8"
             ],
             [
              0.3333333333333333,
              "#9c179e"
             ],
             [
              0.4444444444444444,
              "#bd3786"
             ],
             [
              0.5555555555555556,
              "#d8576b"
             ],
             [
              0.6666666666666666,
              "#ed7953"
             ],
             [
              0.7777777777777778,
              "#fb9f3a"
             ],
             [
              0.8888888888888888,
              "#fdca26"
             ],
             [
              1,
              "#f0f921"
             ]
            ],
            "type": "contour"
           }
          ],
          "contourcarpet": [
           {
            "colorbar": {
             "outlinewidth": 0,
             "ticks": ""
            },
            "type": "contourcarpet"
           }
          ],
          "heatmap": [
           {
            "colorbar": {
             "outlinewidth": 0,
             "ticks": ""
            },
            "colorscale": [
             [
              0,
              "#0d0887"
             ],
             [
              0.1111111111111111,
              "#46039f"
             ],
             [
              0.2222222222222222,
              "#7201a8"
             ],
             [
              0.3333333333333333,
              "#9c179e"
             ],
             [
              0.4444444444444444,
              "#bd3786"
             ],
             [
              0.5555555555555556,
              "#d8576b"
             ],
             [
              0.6666666666666666,
              "#ed7953"
             ],
             [
              0.7777777777777778,
              "#fb9f3a"
             ],
             [
              0.8888888888888888,
              "#fdca26"
             ],
             [
              1,
              "#f0f921"
             ]
            ],
            "type": "heatmap"
           }
          ],
          "heatmapgl": [
           {
            "colorbar": {
             "outlinewidth": 0,
             "ticks": ""
            },
            "colorscale": [
             [
              0,
              "#0d0887"
             ],
             [
              0.1111111111111111,
              "#46039f"
             ],
             [
              0.2222222222222222,
              "#7201a8"
             ],
             [
              0.3333333333333333,
              "#9c179e"
             ],
             [
              0.4444444444444444,
              "#bd3786"
             ],
             [
              0.5555555555555556,
              "#d8576b"
             ],
             [
              0.6666666666666666,
              "#ed7953"
             ],
             [
              0.7777777777777778,
              "#fb9f3a"
             ],
             [
              0.8888888888888888,
              "#fdca26"
             ],
             [
              1,
              "#f0f921"
             ]
            ],
            "type": "heatmapgl"
           }
          ],
          "histogram": [
           {
            "marker": {
             "pattern": {
              "fillmode": "overlay",
              "size": 10,
              "solidity": 0.2
             }
            },
            "type": "histogram"
           }
          ],
          "histogram2d": [
           {
            "colorbar": {
             "outlinewidth": 0,
             "ticks": ""
            },
            "colorscale": [
             [
              0,
              "#0d0887"
             ],
             [
              0.1111111111111111,
              "#46039f"
             ],
             [
              0.2222222222222222,
              "#7201a8"
             ],
             [
              0.3333333333333333,
              "#9c179e"
             ],
             [
              0.4444444444444444,
              "#bd3786"
             ],
             [
              0.5555555555555556,
              "#d8576b"
             ],
             [
              0.6666666666666666,
              "#ed7953"
             ],
             [
              0.7777777777777778,
              "#fb9f3a"
             ],
             [
              0.8888888888888888,
              "#fdca26"
             ],
             [
              1,
              "#f0f921"
             ]
            ],
            "type": "histogram2d"
           }
          ],
          "histogram2dcontour": [
           {
            "colorbar": {
             "outlinewidth": 0,
             "ticks": ""
            },
            "colorscale": [
             [
              0,
              "#0d0887"
             ],
             [
              0.1111111111111111,
              "#46039f"
             ],
             [
              0.2222222222222222,
              "#7201a8"
             ],
             [
              0.3333333333333333,
              "#9c179e"
             ],
             [
              0.4444444444444444,
              "#bd3786"
             ],
             [
              0.5555555555555556,
              "#d8576b"
             ],
             [
              0.6666666666666666,
              "#ed7953"
             ],
             [
              0.7777777777777778,
              "#fb9f3a"
             ],
             [
              0.8888888888888888,
              "#fdca26"
             ],
             [
              1,
              "#f0f921"
             ]
            ],
            "type": "histogram2dcontour"
           }
          ],
          "mesh3d": [
           {
            "colorbar": {
             "outlinewidth": 0,
             "ticks": ""
            },
            "type": "mesh3d"
           }
          ],
          "parcoords": [
           {
            "line": {
             "colorbar": {
              "outlinewidth": 0,
              "ticks": ""
             }
            },
            "type": "parcoords"
           }
          ],
          "pie": [
           {
            "automargin": true,
            "type": "pie"
           }
          ],
          "scatter": [
           {
            "fillpattern": {
             "fillmode": "overlay",
             "size": 10,
             "solidity": 0.2
            },
            "type": "scatter"
           }
          ],
          "scatter3d": [
           {
            "line": {
             "colorbar": {
              "outlinewidth": 0,
              "ticks": ""
             }
            },
            "marker": {
             "colorbar": {
              "outlinewidth": 0,
              "ticks": ""
             }
            },
            "type": "scatter3d"
           }
          ],
          "scattercarpet": [
           {
            "marker": {
             "colorbar": {
              "outlinewidth": 0,
              "ticks": ""
             }
            },
            "type": "scattercarpet"
           }
          ],
          "scattergeo": [
           {
            "marker": {
             "colorbar": {
              "outlinewidth": 0,
              "ticks": ""
             }
            },
            "type": "scattergeo"
           }
          ],
          "scattergl": [
           {
            "marker": {
             "colorbar": {
              "outlinewidth": 0,
              "ticks": ""
             }
            },
            "type": "scattergl"
           }
          ],
          "scattermapbox": [
           {
            "marker": {
             "colorbar": {
              "outlinewidth": 0,
              "ticks": ""
             }
            },
            "type": "scattermapbox"
           }
          ],
          "scatterpolar": [
           {
            "marker": {
             "colorbar": {
              "outlinewidth": 0,
              "ticks": ""
             }
            },
            "type": "scatterpolar"
           }
          ],
          "scatterpolargl": [
           {
            "marker": {
             "colorbar": {
              "outlinewidth": 0,
              "ticks": ""
             }
            },
            "type": "scatterpolargl"
           }
          ],
          "scatterternary": [
           {
            "marker": {
             "colorbar": {
              "outlinewidth": 0,
              "ticks": ""
             }
            },
            "type": "scatterternary"
           }
          ],
          "surface": [
           {
            "colorbar": {
             "outlinewidth": 0,
             "ticks": ""
            },
            "colorscale": [
             [
              0,
              "#0d0887"
             ],
             [
              0.1111111111111111,
              "#46039f"
             ],
             [
              0.2222222222222222,
              "#7201a8"
             ],
             [
              0.3333333333333333,
              "#9c179e"
             ],
             [
              0.4444444444444444,
              "#bd3786"
             ],
             [
              0.5555555555555556,
              "#d8576b"
             ],
             [
              0.6666666666666666,
              "#ed7953"
             ],
             [
              0.7777777777777778,
              "#fb9f3a"
             ],
             [
              0.8888888888888888,
              "#fdca26"
             ],
             [
              1,
              "#f0f921"
             ]
            ],
            "type": "surface"
           }
          ],
          "table": [
           {
            "cells": {
             "fill": {
              "color": "#EBF0F8"
             },
             "line": {
              "color": "white"
             }
            },
            "header": {
             "fill": {
              "color": "#C8D4E3"
             },
             "line": {
              "color": "white"
             }
            },
            "type": "table"
           }
          ]
         },
         "layout": {
          "annotationdefaults": {
           "arrowcolor": "#2a3f5f",
           "arrowhead": 0,
           "arrowwidth": 1
          },
          "autotypenumbers": "strict",
          "coloraxis": {
           "colorbar": {
            "outlinewidth": 0,
            "ticks": ""
           }
          },
          "colorscale": {
           "diverging": [
            [
             0,
             "#8e0152"
            ],
            [
             0.1,
             "#c51b7d"
            ],
            [
             0.2,
             "#de77ae"
            ],
            [
             0.3,
             "#f1b6da"
            ],
            [
             0.4,
             "#fde0ef"
            ],
            [
             0.5,
             "#f7f7f7"
            ],
            [
             0.6,
             "#e6f5d0"
            ],
            [
             0.7,
             "#b8e186"
            ],
            [
             0.8,
             "#7fbc41"
            ],
            [
             0.9,
             "#4d9221"
            ],
            [
             1,
             "#276419"
            ]
           ],
           "sequential": [
            [
             0,
             "#0d0887"
            ],
            [
             0.1111111111111111,
             "#46039f"
            ],
            [
             0.2222222222222222,
             "#7201a8"
            ],
            [
             0.3333333333333333,
             "#9c179e"
            ],
            [
             0.4444444444444444,
             "#bd3786"
            ],
            [
             0.5555555555555556,
             "#d8576b"
            ],
            [
             0.6666666666666666,
             "#ed7953"
            ],
            [
             0.7777777777777778,
             "#fb9f3a"
            ],
            [
             0.8888888888888888,
             "#fdca26"
            ],
            [
             1,
             "#f0f921"
            ]
           ],
           "sequentialminus": [
            [
             0,
             "#0d0887"
            ],
            [
             0.1111111111111111,
             "#46039f"
            ],
            [
             0.2222222222222222,
             "#7201a8"
            ],
            [
             0.3333333333333333,
             "#9c179e"
            ],
            [
             0.4444444444444444,
             "#bd3786"
            ],
            [
             0.5555555555555556,
             "#d8576b"
            ],
            [
             0.6666666666666666,
             "#ed7953"
            ],
            [
             0.7777777777777778,
             "#fb9f3a"
            ],
            [
             0.8888888888888888,
             "#fdca26"
            ],
            [
             1,
             "#f0f921"
            ]
           ]
          },
          "colorway": [
           "#636efa",
           "#EF553B",
           "#00cc96",
           "#ab63fa",
           "#FFA15A",
           "#19d3f3",
           "#FF6692",
           "#B6E880",
           "#FF97FF",
           "#FECB52"
          ],
          "font": {
           "color": "#2a3f5f"
          },
          "geo": {
           "bgcolor": "white",
           "lakecolor": "white",
           "landcolor": "#E5ECF6",
           "showlakes": true,
           "showland": true,
           "subunitcolor": "white"
          },
          "hoverlabel": {
           "align": "left"
          },
          "hovermode": "closest",
          "mapbox": {
           "style": "light"
          },
          "paper_bgcolor": "white",
          "plot_bgcolor": "#E5ECF6",
          "polar": {
           "angularaxis": {
            "gridcolor": "white",
            "linecolor": "white",
            "ticks": ""
           },
           "bgcolor": "#E5ECF6",
           "radialaxis": {
            "gridcolor": "white",
            "linecolor": "white",
            "ticks": ""
           }
          },
          "scene": {
           "xaxis": {
            "backgroundcolor": "#E5ECF6",
            "gridcolor": "white",
            "gridwidth": 2,
            "linecolor": "white",
            "showbackground": true,
            "ticks": "",
            "zerolinecolor": "white"
           },
           "yaxis": {
            "backgroundcolor": "#E5ECF6",
            "gridcolor": "white",
            "gridwidth": 2,
            "linecolor": "white",
            "showbackground": true,
            "ticks": "",
            "zerolinecolor": "white"
           },
           "zaxis": {
            "backgroundcolor": "#E5ECF6",
            "gridcolor": "white",
            "gridwidth": 2,
            "linecolor": "white",
            "showbackground": true,
            "ticks": "",
            "zerolinecolor": "white"
           }
          },
          "shapedefaults": {
           "line": {
            "color": "#2a3f5f"
           }
          },
          "ternary": {
           "aaxis": {
            "gridcolor": "white",
            "linecolor": "white",
            "ticks": ""
           },
           "baxis": {
            "gridcolor": "white",
            "linecolor": "white",
            "ticks": ""
           },
           "bgcolor": "#E5ECF6",
           "caxis": {
            "gridcolor": "white",
            "linecolor": "white",
            "ticks": ""
           }
          },
          "title": {
           "x": 0.05
          },
          "xaxis": {
           "automargin": true,
           "gridcolor": "white",
           "linecolor": "white",
           "ticks": "",
           "title": {
            "standoff": 15
           },
           "zerolinecolor": "white",
           "zerolinewidth": 2
          },
          "yaxis": {
           "automargin": true,
           "gridcolor": "white",
           "linecolor": "white",
           "ticks": "",
           "title": {
            "standoff": 15
           },
           "zerolinecolor": "white",
           "zerolinewidth": 2
          }
         }
        },
        "updatemenus": [
         {
          "buttons": [
           {
            "args": [
             {
              "marker.size": [
               0.6567206323196442,
               0.4176420416838913,
               0.39356534201584426,
               0.2862298109159087,
               0.9946655468913996,
               0.5706320740230688,
               0.7899824401043429,
               0.6704755590856499,
               0.649274300047693,
               0.5931350135111777,
               0.9999999999999996,
               0.7511012945344535,
               0.8523683215041458,
               0.7350761936534824,
               0.738603345627141,
               0.6560836590522512,
               0.11667762767572709,
               0.8080842467508895,
               0.6703184212486764,
               0.7900053718272715,
               0.6251824451556547,
               0.6112519247403303,
               0.4605518047894006,
               0.10281294214047021,
               0.8503324372737535,
               0.6885147225744297,
               0.8220687528561936,
               0.6610218138210597,
               0.7112665751696512,
               0.6313979591061387,
               0.1646625147602334,
               0.7250856363484419,
               0.6352888313987273,
               0.7977071534622131,
               0.636204329878487,
               0.6813862773956783,
               0.5620406408711767,
               0.05790125815041902,
               0.5661184570253757,
               0.5165805297872468,
               0.6778466944470947,
               0.4398235292583288,
               0.4393739757153754,
               0.29523279814000647,
               0,
               0.6080471518429831,
               0.5461219593649864,
               0.6997730625156806,
               0.5181560609624278,
               0.5664733086638098,
               0.42723747710960547,
               0.03656691064670525,
               0.7522934898727729,
               0.6693496639914662,
               0.8265070683432678,
               0.671693501407852,
               0.6647056749060005,
               0.10100678831133791,
               0.9410754653346465,
               0.786391463325423,
               0.8818533829615611,
               0.8438370544666287,
               0.7588435280264219,
               0.7316467405377387,
               0.5489833694365847,
               0.2091469448058083,
               0.8649801784983207,
               0.7352488495154561,
               0.8502332393315322,
               0.911002573313517,
               0.7188956365096009,
               0.6777748049629664,
               0.6157805429408705,
               0.12004336063348564,
               0.6977513333867473,
               0.6156885476533138,
               0.7435383128929867,
               0.7850688571176501,
               0.5872993592989242,
               0.5278155421521409,
               0.44476580258999254,
               0.07539851390004904
              ]
             }
            ],
            "label": "Lamax",
            "method": "restyle"
           },
           {
            "args": [
             {
              "marker.size": [
               0.6883965580963327,
               0.4078485325875487,
               0.3825689588922545,
               0.3153029605853783,
               1,
               0.5391802448863885,
               0.8139033738416153,
               0.6574307384945772,
               0.6417661358774964,
               0.6124194670364611,
               0.979563247066011,
               0.7436484641490733,
               0.8624072982684519,
               0.6991083469105712,
               0.7200689409449552,
               0.6622373789476947,
               0.12727746704265375,
               0.7695307538474054,
               0.6523256079466533,
               0.8055970423481211,
               0.594857356724261,
               0.5936375998933618,
               0.4692206154767602,
               0.09140034616239756,
               0.8211912120235692,
               0.6735721117427245,
               0.8379819857800506,
               0.6363633654274592,
               0.700424191698727,
               0.6419877607999211,
               0.14605957672523484,
               0.6929229133274797,
               0.6266303866338392,
               0.8200707872300459,
               0.6185092077023464,
               0.6685997498035583,
               0.5735233637274435,
               0.049358210031762884,
               0.5211176817565271,
               0.4967216797249394,
               0.7017885496456708,
               0.41064446244358344,
               0.4158660953205704,
               0.29450995892226484,
               0,
               0.5632857883995657,
               0.5324531586895764,
               0.7247017152230253,
               0.49825242081411947,
               0.5601091066953421,
               0.43554387273603457,
               0.030921814553156235,
               0.7318053205143586,
               0.6671297436707455,
               0.8534515565957932,
               0.6574379555919307,
               0.6658934841886843,
               0.10318094184450777,
               0.9179501956801124,
               0.7818865838255897,
               0.896134737816566,
               0.8583531042075849,
               0.7326134579986867,
               0.7280907896189941,
               0.5586020687238875,
               0.23515338329765179,
               0.8485173574342753,
               0.7290650759081831,
               0.8660108406075588,
               0.9392737893817058,
               0.700859873987361,
               0.6746523038715138,
               0.6273353351931013,
               0.11818681233301742,
               0.665691052085438,
               0.6055395709620317,
               0.7631236682644378,
               0.812904828632651,
               0.5703342399920075,
               0.5279322950947662,
               0.45593842987981326,
               0.04946091284744547
              ]
             }
            ],
            "label": "Laeq",
            "method": "restyle"
           }
          ],
          "direction": "left",
          "pad": {
           "r": 10,
           "t": 10
          },
          "showactive": true,
          "type": "buttons",
          "x": 0,
          "xanchor": "left",
          "y": 1.3,
          "yanchor": "top"
         }
        ]
       }
      }
     },
     "metadata": {},
     "output_type": "display_data"
    }
   ],
   "source": [
    "def marker_click(trace, points, state):\n",
    "    # Get the clicked marker information\n",
    "    lat = trace.lat[points.point_inds[0]]\n",
    "    lon = trace.lon[points.point_inds[0]]\n",
    "    size = trace.marker.size[points.point_inds[0]]\n",
    "    text = trace.text[points.point_inds[0]]\n",
    "\n",
    "    # Perform actions based on the clicked marker\n",
    "    # For example, display a pop-up or generate a new visualization\n",
    "\n",
    "# Assign the callback function to the scattermapbox trace\n",
    "fig.data[0].on_click(marker_click)\n",
    "\n",
    "# Add dropdown for switching between Lamax and Laeq\n",
    "fig.update_layout(\n",
    "    updatemenus=[\n",
    "        dict(\n",
    "            type=\"buttons\",\n",
    "            direction=\"left\",\n",
    "            buttons=list([\n",
    "                dict(\n",
    "                    args=[{\"marker.size\": merged['standardized_lamax']}],\n",
    "                    label=\"Lamax\",\n",
    "                    method=\"restyle\"\n",
    "                ),\n",
    "                dict(\n",
    "                    args=[{\"marker.size\": merged['standardized_laeq']}],\n",
    "                    label=\"Laeq\",\n",
    "                    method=\"restyle\"\n",
    "                )\n",
    "            ]),\n",
    "            pad={\"r\": 10, \"t\": 10},\n",
    "            showactive=True,\n",
    "            x=0.0,\n",
    "            xanchor=\"left\",\n",
    "            y=1.3,\n",
    "            yanchor=\"top\"\n",
    "        ),\n",
    "    ]\n",
    ")\n",
    "\n",
    "# Show the map\n",
    "fig.show()"
   ]
  },
  {
   "cell_type": "code",
   "execution_count": null,
   "id": "b1095ff5",
   "metadata": {},
   "outputs": [],
   "source": []
  }
 ],
 "metadata": {
  "kernelspec": {
   "display_name": "Python 3 (ipykernel)",
   "language": "python",
   "name": "python3"
  },
  "language_info": {
   "codemirror_mode": {
    "name": "ipython",
    "version": 3
   },
   "file_extension": ".py",
   "mimetype": "text/x-python",
   "name": "python",
   "nbconvert_exporter": "python",
   "pygments_lexer": "ipython3",
   "version": "3.9.13"
  }
 },
 "nbformat": 4,
 "nbformat_minor": 5
}
