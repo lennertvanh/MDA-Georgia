{
 "cells": [
  {
   "cell_type": "code",
   "execution_count": 55,
   "metadata": {},
   "outputs": [
    {
     "name": "stdout",
     "output_type": "stream",
     "text": [
      "   month  day  hour                       description      lamax       laeq\n",
      "0      1    1     0      MP 03: Naamsestraat 62 Taste  60.322528  57.126833\n",
      "1      1    1     0    MP 05: Calvariekapel KU Leuven  53.230972  49.987639\n",
      "2      1    1     0  MP 06: Parkstraat 2 La Filosovia  53.666056  50.752000\n",
      "3      1    1     0            MP 07: Naamsestraat 81  50.056861  47.440222\n",
      "4      1    1     1      MP 03: Naamsestraat 62 Taste  53.033583  50.853806\n",
      "55469\n"
     ]
    }
   ],
   "source": [
    "import pandas as pd\n",
    "import datetime\n",
    "import numpy as np\n",
    "import math\n",
    "\n",
    "data_noise_hour = pd.read_csv(\"../Data/hourly_noisedata_2022.csv\")\n",
    "print(data_noise_hour.head())\n",
    "\n",
    "print(len(data_noise_hour))"
   ]
  },
  {
   "cell_type": "code",
   "execution_count": 56,
   "metadata": {},
   "outputs": [
    {
     "name": "stdout",
     "output_type": "stream",
     "text": [
      "   Month  Day  Hour  LC_RAININ  LC_DAILYRAIN  LC_WINDDIR  LC_WINDSPEED   \n",
      "0      1    1     0   0.000003       0.00036  -18.197324      0.389565  \\\n",
      "1      1    1     1   0.000007       0.00000  -16.227891      0.222602   \n",
      "2      1    1     2   0.000009       0.00000  -13.710884      0.217194   \n",
      "3      1    1     3   0.000000       0.00000  -16.401361      0.178248   \n",
      "4      1    1     4   0.000000       0.00000  -10.268707      0.237670   \n",
      "\n",
      "   LC_TEMP_QCL3  \n",
      "0     13.100358  \n",
      "1     12.669197  \n",
      "2     12.520271  \n",
      "3     12.386194  \n",
      "4     12.080706  \n",
      "8760\n"
     ]
    }
   ],
   "source": [
    "data_weather_hour = pd.read_csv(\"../Data/hourly_weatherdata_2022.csv\")\n",
    "print(data_weather_hour.head())\n",
    "\n",
    "print(len(data_weather_hour))"
   ]
  },
  {
   "cell_type": "code",
   "execution_count": 57,
   "metadata": {},
   "outputs": [
    {
     "name": "stdout",
     "output_type": "stream",
     "text": [
      "    month  day  hour                       description      lamax       laeq   \n",
      "0       1    1     0      MP 03: Naamsestraat 62 Taste  60.322528  57.126833  \\\n",
      "1       1    1     0    MP 05: Calvariekapel KU Leuven  53.230972  49.987639   \n",
      "2       1    1     0  MP 06: Parkstraat 2 La Filosovia  53.666056  50.752000   \n",
      "3       1    1     0            MP 07: Naamsestraat 81  50.056861  47.440222   \n",
      "4       1    1     1      MP 03: Naamsestraat 62 Taste  53.033583  50.853806   \n",
      "5       1    1     1    MP 05: Calvariekapel KU Leuven  53.599639  50.578806   \n",
      "6       1    1     1  MP 06: Parkstraat 2 La Filosovia  59.880694  56.942167   \n",
      "7       1    1     1            MP 07: Naamsestraat 81  50.097278  47.878333   \n",
      "8       1    1     2      MP 03: Naamsestraat 62 Taste  52.173702  50.049903   \n",
      "9       1    1     2    MP 05: Calvariekapel KU Leuven  51.078083  47.974361   \n",
      "10      1    1     2  MP 06: Parkstraat 2 La Filosovia  52.107194  48.968806   \n",
      "11      1    1     2            MP 07: Naamsestraat 81  45.821583  43.856500   \n",
      "12      1    1     3      MP 03: Naamsestraat 62 Taste  50.821311  48.964907   \n",
      "13      1    1     3    MP 05: Calvariekapel KU Leuven  48.187778  45.575083   \n",
      "14      1    1     3  MP 06: Parkstraat 2 La Filosovia  47.427611  44.740861   \n",
      "15      1    1     3            MP 07: Naamsestraat 81  43.687778  41.450778   \n",
      "16      1    1     4      MP 03: Naamsestraat 62 Taste  49.134851  47.285893   \n",
      "17      1    1     4    MP 05: Calvariekapel KU Leuven  44.372528  41.675250   \n",
      "18      1    1     4  MP 06: Parkstraat 2 La Filosovia  44.133806  41.332611   \n",
      "19      1    1     4            MP 07: Naamsestraat 81  44.446611  41.690917   \n",
      "\n",
      "    LC_RAININ  LC_DAILYRAIN  LC_WINDDIR  LC_WINDSPEED  \n",
      "0    0.000003       0.00036  -18.197324      0.389565  \n",
      "1    0.000003       0.00036  -18.197324      0.389565  \n",
      "2    0.000003       0.00036  -18.197324      0.389565  \n",
      "3    0.000003       0.00036  -18.197324      0.389565  \n",
      "4    0.000007       0.00000  -16.227891      0.222602  \n",
      "5    0.000007       0.00000  -16.227891      0.222602  \n",
      "6    0.000007       0.00000  -16.227891      0.222602  \n",
      "7    0.000007       0.00000  -16.227891      0.222602  \n",
      "8    0.000009       0.00000  -13.710884      0.217194  \n",
      "9    0.000009       0.00000  -13.710884      0.217194  \n",
      "10   0.000009       0.00000  -13.710884      0.217194  \n",
      "11   0.000009       0.00000  -13.710884      0.217194  \n",
      "12   0.000000       0.00000  -16.401361      0.178248  \n",
      "13   0.000000       0.00000  -16.401361      0.178248  \n",
      "14   0.000000       0.00000  -16.401361      0.178248  \n",
      "15   0.000000       0.00000  -16.401361      0.178248  \n",
      "16   0.000000       0.00000  -10.268707      0.237670  \n",
      "17   0.000000       0.00000  -10.268707      0.237670  \n",
      "18   0.000000       0.00000  -10.268707      0.237670  \n",
      "19   0.000000       0.00000  -10.268707      0.237670  \n"
     ]
    }
   ],
   "source": [
    "# Select the columns of interest from data_noise_hour\n",
    "noise_columns = [\"month\", \"day\", \"hour\"]\n",
    "\n",
    "# Select the columns of interest from data_weather_hour\n",
    "weather_columns = [\"Month\", \"Day\", \"Hour\", \"LC_RAININ\", \"LC_DAILYRAIN\", \"LC_WINDDIR\", \"LC_WINDSPEED\"]\n",
    "\n",
    "# Merge the dataframes based on the common columns\n",
    "data_model = data_noise_hour.merge(data_weather_hour[weather_columns], left_on=noise_columns, right_on=weather_columns[:-4], how='left')\n",
    "\n",
    "#print(data_model.head(20))\n",
    "\n",
    "# Remove the columns \"Month\", \"Day\", and \"Hour\" from data_model\n",
    "data_model = data_model.drop([\"Month\", \"Day\", \"Hour\"], axis=1)\n",
    "\n",
    "print(data_model.head(20))"
   ]
  },
  {
   "cell_type": "code",
   "execution_count": 58,
   "metadata": {},
   "outputs": [],
   "source": [
    "# Remove the columns \"Month\", \"Day\", and \"Hour\" from data_model\n",
    "data_model = data_model.drop([\"LC_RAININ\"], axis=1)\n",
    "\n",
    "#wind direction could have an impact as it \"carries\" the noise, could bring the noise to another place\n",
    "#e.g. noise from the center is carried by the wind to the Naamse straat"
   ]
  },
  {
   "cell_type": "code",
   "execution_count": null,
   "metadata": {},
   "outputs": [],
   "source": [
    "#transform the variables month day and hour to cyclic variables\n",
    "#so that the model knows that hour 0 is close to hour 23, and month January is close to month December\n",
    "\n",
    "#information about the week is missing\n",
    "\n"
   ]
  },
  {
   "cell_type": "code",
   "execution_count": 59,
   "metadata": {},
   "outputs": [
    {
     "data": {
      "text/html": [
       "<div>\n",
       "<style scoped>\n",
       "    .dataframe tbody tr th:only-of-type {\n",
       "        vertical-align: middle;\n",
       "    }\n",
       "\n",
       "    .dataframe tbody tr th {\n",
       "        vertical-align: top;\n",
       "    }\n",
       "\n",
       "    .dataframe thead th {\n",
       "        text-align: right;\n",
       "    }\n",
       "</style>\n",
       "<table border=\"1\" class=\"dataframe\">\n",
       "  <thead>\n",
       "    <tr style=\"text-align: right;\">\n",
       "      <th></th>\n",
       "      <th>month</th>\n",
       "      <th>day</th>\n",
       "      <th>hour</th>\n",
       "      <th>description</th>\n",
       "      <th>lamax</th>\n",
       "      <th>laeq</th>\n",
       "      <th>LC_DAILYRAIN</th>\n",
       "      <th>LC_WINDDIR</th>\n",
       "      <th>LC_WINDSPEED</th>\n",
       "      <th>weekday</th>\n",
       "    </tr>\n",
       "  </thead>\n",
       "  <tbody>\n",
       "    <tr>\n",
       "      <th>0</th>\n",
       "      <td>1</td>\n",
       "      <td>1</td>\n",
       "      <td>0</td>\n",
       "      <td>MP 03: Naamsestraat 62 Taste</td>\n",
       "      <td>60.322528</td>\n",
       "      <td>57.126833</td>\n",
       "      <td>0.00036</td>\n",
       "      <td>-18.197324</td>\n",
       "      <td>0.389565</td>\n",
       "      <td>6</td>\n",
       "    </tr>\n",
       "    <tr>\n",
       "      <th>1</th>\n",
       "      <td>1</td>\n",
       "      <td>1</td>\n",
       "      <td>0</td>\n",
       "      <td>MP 05: Calvariekapel KU Leuven</td>\n",
       "      <td>53.230972</td>\n",
       "      <td>49.987639</td>\n",
       "      <td>0.00036</td>\n",
       "      <td>-18.197324</td>\n",
       "      <td>0.389565</td>\n",
       "      <td>6</td>\n",
       "    </tr>\n",
       "    <tr>\n",
       "      <th>2</th>\n",
       "      <td>1</td>\n",
       "      <td>1</td>\n",
       "      <td>0</td>\n",
       "      <td>MP 06: Parkstraat 2 La Filosovia</td>\n",
       "      <td>53.666056</td>\n",
       "      <td>50.752000</td>\n",
       "      <td>0.00036</td>\n",
       "      <td>-18.197324</td>\n",
       "      <td>0.389565</td>\n",
       "      <td>6</td>\n",
       "    </tr>\n",
       "    <tr>\n",
       "      <th>3</th>\n",
       "      <td>1</td>\n",
       "      <td>1</td>\n",
       "      <td>0</td>\n",
       "      <td>MP 07: Naamsestraat 81</td>\n",
       "      <td>50.056861</td>\n",
       "      <td>47.440222</td>\n",
       "      <td>0.00036</td>\n",
       "      <td>-18.197324</td>\n",
       "      <td>0.389565</td>\n",
       "      <td>6</td>\n",
       "    </tr>\n",
       "    <tr>\n",
       "      <th>4</th>\n",
       "      <td>1</td>\n",
       "      <td>1</td>\n",
       "      <td>1</td>\n",
       "      <td>MP 03: Naamsestraat 62 Taste</td>\n",
       "      <td>53.033583</td>\n",
       "      <td>50.853806</td>\n",
       "      <td>0.00000</td>\n",
       "      <td>-16.227891</td>\n",
       "      <td>0.222602</td>\n",
       "      <td>6</td>\n",
       "    </tr>\n",
       "  </tbody>\n",
       "</table>\n",
       "</div>"
      ],
      "text/plain": [
       "   month  day  hour                       description      lamax       laeq   \n",
       "0      1    1     0      MP 03: Naamsestraat 62 Taste  60.322528  57.126833  \\\n",
       "1      1    1     0    MP 05: Calvariekapel KU Leuven  53.230972  49.987639   \n",
       "2      1    1     0  MP 06: Parkstraat 2 La Filosovia  53.666056  50.752000   \n",
       "3      1    1     0            MP 07: Naamsestraat 81  50.056861  47.440222   \n",
       "4      1    1     1      MP 03: Naamsestraat 62 Taste  53.033583  50.853806   \n",
       "\n",
       "   LC_DAILYRAIN  LC_WINDDIR  LC_WINDSPEED  weekday  \n",
       "0       0.00036  -18.197324      0.389565        6  \n",
       "1       0.00036  -18.197324      0.389565        6  \n",
       "2       0.00036  -18.197324      0.389565        6  \n",
       "3       0.00036  -18.197324      0.389565        6  \n",
       "4       0.00000  -16.227891      0.222602        6  "
      ]
     },
     "execution_count": 59,
     "metadata": {},
     "output_type": "execute_result"
    }
   ],
   "source": [
    "#add weekday information: feature from 1 to 7 indicating the day of the week\n",
    "from dateutil.relativedelta import relativedelta\n",
    "\n",
    "# Define the start date\n",
    "start_date = datetime.datetime(2022, 1, 1)  # Assuming the year is 2022\n",
    "\n",
    "# Add the \"weekday\" column\n",
    "data_model['weekday'] = data_model.apply(lambda row: (start_date + relativedelta(days=row['day']-1, months=row['month']-1)).weekday() + 1, axis=1)\n",
    "\n",
    "# Map weekday numbers to weekday names\n",
    "weekday_names = np.array(range(1,8))\n",
    "data_model['weekday'] = data_model['weekday'].map(lambda x: weekday_names[x-1])\n",
    "\n",
    "data_model.head()\n",
    "\n"
   ]
  },
  {
   "cell_type": "code",
   "execution_count": 32,
   "metadata": {},
   "outputs": [
    {
     "name": "stdout",
     "output_type": "stream",
     "text": [
      "other day\n",
      "one of the last days, see if complete\n",
      "month                               12\n",
      "day                                  1\n",
      "hour                                 0\n",
      "description     MP 07: Naamsestraat 81\n",
      "lamax                        50.872444\n",
      "laeq                         48.564472\n",
      "LC_DAILYRAIN                  0.001454\n",
      "LC_WINDDIR                   -0.984568\n",
      "LC_WINDSPEED                  0.031636\n",
      "weekday                              4\n",
      "Name: 50000, dtype: object\n"
     ]
    }
   ],
   "source": [
    "#third of March: Tuesday\n",
    "#print(data_model.loc[6000])\n",
    "\n",
    "print(\"other day\")\n",
    "#17th of May: Tuesday\n",
    "#print(data_model.loc[18000])\n",
    "\n",
    "print(\"one of the last days, see if complete\")\n",
    "#first of December: Thursday\n",
    "print(data_model.loc[50000])\n",
    "\n",
    "#control is ok"
   ]
  },
  {
   "cell_type": "code",
   "execution_count": 41,
   "metadata": {},
   "outputs": [],
   "source": [
    "#plot the locations on a straight line\n",
    "\n",
    "gps_data = {\n",
    "    'description': ['MP 01: Naamsestraat 35  Maxim', 'MP 02: Naamsestraat 57 Xior', 'MP 03: Naamsestraat 62 Taste', 'MP 04: His & Hears', 'MP 05: Calvariekapel KU Leuven', 'MP 06: Parkstraat 2 La Filosovia', 'MP 07: Naamsestraat 81', 'MP08bis - Vrijthof'],\n",
    "    'lat': [50.877121, 50.87650, 50.87590, 50.875237, 50.87452, 50.874078, 50.873808, 50.87873],\n",
    "    'lon': [4.700708, 4.700632, 4.700262, 4.700071, 4.69985, 4.70005, 4.700007, 4.70115]\n",
    "}"
   ]
  },
  {
   "cell_type": "code",
   "execution_count": 35,
   "metadata": {},
   "outputs": [
    {
     "name": "stdout",
     "output_type": "stream",
     "text": [
      "Extreme Location 1: (50.873808, 4.700007, 'MP 07: Naamsestraat 81')\n",
      "Extreme Location 2: (50.87873, 4.70115, 'MP08bis - Vrijthof')\n"
     ]
    }
   ],
   "source": [
    "#transform to one line\n",
    "# Extract coordinates and location names\n",
    "latitudes = gps_data['lat']\n",
    "longitudes = gps_data['lon']\n",
    "locations = gps_data['description']\n",
    "\n",
    "# Initialize variables to store the indices of the extreme locations\n",
    "max_dist_idx_1 = 0\n",
    "max_dist_idx_2 = 0\n",
    "max_distance = 0\n",
    "\n",
    "# Calculate distances and find the pair with maximum distance\n",
    "for i in range(len(latitudes) - 1):\n",
    "    for j in range(i + 1, len(latitudes)):\n",
    "        # Calculate Euclidean distance\n",
    "        distance = math.sqrt((latitudes[i] - latitudes[j]) ** 2 + (longitudes[i] - longitudes[j]) ** 2)\n",
    "\n",
    "        # Update max_distance and indices if a larger distance is found\n",
    "        if distance > max_distance:\n",
    "            max_distance = distance\n",
    "            max_dist_idx_1 = i\n",
    "            max_dist_idx_2 = j\n",
    "\n",
    "# Get the coordinates and names of the two most extreme locations\n",
    "extreme_location_1 = (latitudes[max_dist_idx_1], longitudes[max_dist_idx_1], locations[max_dist_idx_1])\n",
    "extreme_location_2 = (latitudes[max_dist_idx_2], longitudes[max_dist_idx_2], locations[max_dist_idx_2])\n",
    "\n",
    "# Print the results\n",
    "print(\"Extreme Location 1:\", extreme_location_1)\n",
    "print(\"Extreme Location 2:\", extreme_location_2)"
   ]
  },
  {
   "cell_type": "code",
   "execution_count": 46,
   "metadata": {},
   "outputs": [
    {
     "name": "stdout",
     "output_type": "stream",
     "text": [
      "                        description        lat       lon\n",
      "0     MP 01: Naamsestraat 35  Maxim  50.877121  4.700708\n",
      "1       MP 02: Naamsestraat 57 Xior  50.876500  4.700632\n",
      "2      MP 03: Naamsestraat 62 Taste  50.875900  4.700262\n",
      "3                MP 04: His & Hears  50.875237  4.700071\n",
      "4    MP 05: Calvariekapel KU Leuven  50.874520  4.699850\n",
      "5  MP 06: Parkstraat 2 La Filosovia  50.874078  4.700050\n",
      "6            MP 07: Naamsestraat 81  50.873808  4.700007\n",
      "7                MP08bis - Vrijthof  50.878730  4.701150\n"
     ]
    }
   ],
   "source": [
    "# Convert the dictionary to a DataFrame\n",
    "gps_df = pd.DataFrame(gps_data)\n",
    "\n",
    "print(gps_df)\n",
    "\n",
    "\n"
   ]
  },
  {
   "cell_type": "code",
   "execution_count": 50,
   "metadata": {},
   "outputs": [
    {
     "name": "stdout",
     "output_type": "stream",
     "text": [
      "0.49999999999999983\n",
      "0.8\n"
     ]
    }
   ],
   "source": [
    "def project_point_onto_line(point, line_start, line_end):\n",
    "    line_direction = np.array(line_end) - np.array(line_start)\n",
    "    line_length = np.linalg.norm(line_direction)\n",
    "    line_direction_normalized = line_direction / line_length\n",
    "    \n",
    "    point_vector = np.array(point) - np.array(line_start)\n",
    "    projection_length = np.dot(point_vector, line_direction_normalized)\n",
    "    projection = np.array(line_start) + projection_length * line_direction_normalized\n",
    "    \n",
    "    # Calculate the coordinate on the line between 0 and 1\n",
    "    coordinate = np.linalg.norm(projection - np.array(line_start)) / line_length\n",
    "    \n",
    "    return coordinate\n",
    "\n",
    "#basic tests return the right values\n",
    "a = [0,0]\n",
    "b=[1,1]\n",
    "c=[0.5,0.5]\n",
    "\n",
    "c_projected = project_point_onto_line(c,a,b)\n",
    "print(c_projected)\n",
    "\n",
    "\n",
    "a = [0,1]\n",
    "b=[5,1]\n",
    "c=[4,2]\n",
    "\n",
    "c_projected = project_point_onto_line(c,a,b)\n",
    "print(c_projected)"
   ]
  },
  {
   "cell_type": "code",
   "execution_count": 52,
   "metadata": {},
   "outputs": [
    {
     "name": "stdout",
     "output_type": "stream",
     "text": [
      "                        description        lat       lon  coordinate\n",
      "0     MP 01: Naamsestraat 35  Maxim  50.877121  4.700708    0.670040\n",
      "1       MP 02: Naamsestraat 57 Xior  50.876500  4.700632    0.546926\n",
      "2      MP 03: Naamsestraat 62 Taste  50.875900  4.700262    0.414698\n",
      "3                MP 04: His & Hears  50.875237  4.700071    0.278339\n",
      "4    MP 05: Calvariekapel KU Leuven  50.874520  4.699850    0.130227\n",
      "5  MP 06: Parkstraat 2 La Filosovia  50.874078  4.700050    0.053974\n",
      "6            MP 07: Naamsestraat 81  50.873808  4.700007    0.000000\n",
      "7                MP08bis - Vrijthof  50.878730  4.701150    1.000000\n"
     ]
    }
   ],
   "source": [
    "# Define the starting and end points\n",
    "extreme_location_1 = (latitudes[max_dist_idx_1], longitudes[max_dist_idx_1])\n",
    "extreme_location_2 = (latitudes[max_dist_idx_2], longitudes[max_dist_idx_2])\n",
    "\n",
    "# Apply the projection function to the DataFrame\n",
    "gps_df['coordinate'] = gps_df.apply(lambda row: project_point_onto_line(\n",
    "    (row['lat'], row['lon']), extreme_location_1, extreme_location_2), axis=1)\n",
    "\n",
    "print(gps_df)"
   ]
  },
  {
   "cell_type": "code",
   "execution_count": 61,
   "metadata": {},
   "outputs": [
    {
     "name": "stdout",
     "output_type": "stream",
     "text": [
      "   month  day  hour                       description      lamax       laeq   \n",
      "0      1    1     0      MP 03: Naamsestraat 62 Taste  60.322528  57.126833  \\\n",
      "1      1    1     0    MP 05: Calvariekapel KU Leuven  53.230972  49.987639   \n",
      "2      1    1     0  MP 06: Parkstraat 2 La Filosovia  53.666056  50.752000   \n",
      "3      1    1     0            MP 07: Naamsestraat 81  50.056861  47.440222   \n",
      "4      1    1     1      MP 03: Naamsestraat 62 Taste  53.033583  50.853806   \n",
      "\n",
      "   LC_DAILYRAIN  LC_WINDDIR  LC_WINDSPEED  weekday  coordinate  \n",
      "0       0.00036  -18.197324      0.389565        6    0.414698  \n",
      "1       0.00036  -18.197324      0.389565        6    0.130227  \n",
      "2       0.00036  -18.197324      0.389565        6    0.053974  \n",
      "3       0.00036  -18.197324      0.389565        6    0.000000  \n",
      "4       0.00000  -16.227891      0.222602        6    0.414698  \n"
     ]
    }
   ],
   "source": [
    "# Create a dictionary mapping descriptions to coordinates\n",
    "description_to_coordinate = dict(zip(gps_df['description'], gps_df['coordinate']))\n",
    "\n",
    "# Add the 'coordinate' column to data_model based on 'description'\n",
    "data_model['coordinate'] = data_model['description'].map(description_to_coordinate)\n",
    "\n",
    "# Print the updated data_model DataFrame\n",
    "print(data_model.head())\n"
   ]
  },
  {
   "cell_type": "code",
   "execution_count": null,
   "metadata": {},
   "outputs": [],
   "source": []
  }
 ],
 "metadata": {
  "kernelspec": {
   "display_name": ".venv",
   "language": "python",
   "name": "python3"
  },
  "language_info": {
   "codemirror_mode": {
    "name": "ipython",
    "version": 3
   },
   "file_extension": ".py",
   "mimetype": "text/x-python",
   "name": "python",
   "nbconvert_exporter": "python",
   "pygments_lexer": "ipython3",
   "version": "3.9.0"
  },
  "orig_nbformat": 4
 },
 "nbformat": 4,
 "nbformat_minor": 2
}
