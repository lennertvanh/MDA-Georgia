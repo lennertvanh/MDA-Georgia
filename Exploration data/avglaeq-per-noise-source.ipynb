{
 "cells": [
  {
   "cell_type": "code",
   "execution_count": 1,
   "metadata": {},
   "outputs": [],
   "source": [
    "import pandas as pd\n",
    "import plotly.graph_objects as go"
   ]
  },
  {
   "cell_type": "code",
   "execution_count": 9,
   "metadata": {},
   "outputs": [
    {
     "data": {
      "text/html": [
       "<div>\n",
       "<style scoped>\n",
       "    .dataframe tbody tr th:only-of-type {\n",
       "        vertical-align: middle;\n",
       "    }\n",
       "\n",
       "    .dataframe tbody tr th {\n",
       "        vertical-align: top;\n",
       "    }\n",
       "\n",
       "    .dataframe thead th {\n",
       "        text-align: right;\n",
       "    }\n",
       "</style>\n",
       "<table border=\"1\" class=\"dataframe\">\n",
       "  <thead>\n",
       "    <tr style=\"text-align: right;\">\n",
       "      <th></th>\n",
       "      <th>description</th>\n",
       "      <th>result_timestamp</th>\n",
       "      <th>noise_event_laeq_primary_detected_certainty</th>\n",
       "      <th>noise_event_laeq_primary_detected_class</th>\n",
       "      <th>certainty_percentage</th>\n",
       "      <th>month</th>\n",
       "      <th>day</th>\n",
       "      <th>hour</th>\n",
       "      <th>minute</th>\n",
       "      <th>second</th>\n",
       "      <th>milliseconds</th>\n",
       "      <th>lamax</th>\n",
       "      <th>laeq</th>\n",
       "    </tr>\n",
       "  </thead>\n",
       "  <tbody>\n",
       "    <tr>\n",
       "      <th>0</th>\n",
       "      <td>MP 03: Naamsestraat 62 Taste</td>\n",
       "      <td>2022-01-01 00:01:31.362</td>\n",
       "      <td>NaN</td>\n",
       "      <td>NaN</td>\n",
       "      <td>NaN</td>\n",
       "      <td>1</td>\n",
       "      <td>1</td>\n",
       "      <td>0</td>\n",
       "      <td>1</td>\n",
       "      <td>31</td>\n",
       "      <td>362</td>\n",
       "      <td>70.4</td>\n",
       "      <td>68.8</td>\n",
       "    </tr>\n",
       "    <tr>\n",
       "      <th>1</th>\n",
       "      <td>MP 03: Naamsestraat 62 Taste</td>\n",
       "      <td>2022-01-01 00:02:19.368</td>\n",
       "      <td>NaN</td>\n",
       "      <td>NaN</td>\n",
       "      <td>NaN</td>\n",
       "      <td>1</td>\n",
       "      <td>1</td>\n",
       "      <td>0</td>\n",
       "      <td>2</td>\n",
       "      <td>19</td>\n",
       "      <td>368</td>\n",
       "      <td>NaN</td>\n",
       "      <td>NaN</td>\n",
       "    </tr>\n",
       "    <tr>\n",
       "      <th>2</th>\n",
       "      <td>MP 03: Naamsestraat 62 Taste</td>\n",
       "      <td>2022-01-01 00:02:23.368</td>\n",
       "      <td>NaN</td>\n",
       "      <td>NaN</td>\n",
       "      <td>NaN</td>\n",
       "      <td>1</td>\n",
       "      <td>1</td>\n",
       "      <td>0</td>\n",
       "      <td>2</td>\n",
       "      <td>23</td>\n",
       "      <td>368</td>\n",
       "      <td>NaN</td>\n",
       "      <td>NaN</td>\n",
       "    </tr>\n",
       "    <tr>\n",
       "      <th>3</th>\n",
       "      <td>MP 03: Naamsestraat 62 Taste</td>\n",
       "      <td>2022-01-01 00:02:33.370</td>\n",
       "      <td>NaN</td>\n",
       "      <td>NaN</td>\n",
       "      <td>NaN</td>\n",
       "      <td>1</td>\n",
       "      <td>1</td>\n",
       "      <td>0</td>\n",
       "      <td>2</td>\n",
       "      <td>33</td>\n",
       "      <td>370</td>\n",
       "      <td>93.4</td>\n",
       "      <td>87.4</td>\n",
       "    </tr>\n",
       "    <tr>\n",
       "      <th>4</th>\n",
       "      <td>MP 03: Naamsestraat 62 Taste</td>\n",
       "      <td>2022-01-01 00:02:57.373</td>\n",
       "      <td>NaN</td>\n",
       "      <td>NaN</td>\n",
       "      <td>NaN</td>\n",
       "      <td>1</td>\n",
       "      <td>1</td>\n",
       "      <td>0</td>\n",
       "      <td>2</td>\n",
       "      <td>57</td>\n",
       "      <td>373</td>\n",
       "      <td>94.3</td>\n",
       "      <td>87.0</td>\n",
       "    </tr>\n",
       "    <tr>\n",
       "      <th>...</th>\n",
       "      <td>...</td>\n",
       "      <td>...</td>\n",
       "      <td>...</td>\n",
       "      <td>...</td>\n",
       "      <td>...</td>\n",
       "      <td>...</td>\n",
       "      <td>...</td>\n",
       "      <td>...</td>\n",
       "      <td>...</td>\n",
       "      <td>...</td>\n",
       "      <td>...</td>\n",
       "      <td>...</td>\n",
       "      <td>...</td>\n",
       "    </tr>\n",
       "    <tr>\n",
       "      <th>145</th>\n",
       "      <td>MP 03: Naamsestraat 62 Taste</td>\n",
       "      <td>2022-01-14 07:13:36.877</td>\n",
       "      <td>43.0</td>\n",
       "      <td>Transport road - Passenger car</td>\n",
       "      <td>43.0%</td>\n",
       "      <td>1</td>\n",
       "      <td>14</td>\n",
       "      <td>7</td>\n",
       "      <td>13</td>\n",
       "      <td>36</td>\n",
       "      <td>877</td>\n",
       "      <td>70.0</td>\n",
       "      <td>68.9</td>\n",
       "    </tr>\n",
       "    <tr>\n",
       "      <th>146</th>\n",
       "      <td>MP 03: Naamsestraat 62 Taste</td>\n",
       "      <td>2022-01-14 07:54:16.894</td>\n",
       "      <td>22.0</td>\n",
       "      <td>Transport road - Passenger car</td>\n",
       "      <td>22.0%</td>\n",
       "      <td>1</td>\n",
       "      <td>14</td>\n",
       "      <td>7</td>\n",
       "      <td>54</td>\n",
       "      <td>16</td>\n",
       "      <td>894</td>\n",
       "      <td>71.0</td>\n",
       "      <td>69.5</td>\n",
       "    </tr>\n",
       "    <tr>\n",
       "      <th>147</th>\n",
       "      <td>MP 03: Naamsestraat 62 Taste</td>\n",
       "      <td>2022-01-14 09:09:20.322</td>\n",
       "      <td>72.0</td>\n",
       "      <td>Transport road - Passenger car</td>\n",
       "      <td>72.0%</td>\n",
       "      <td>1</td>\n",
       "      <td>14</td>\n",
       "      <td>9</td>\n",
       "      <td>9</td>\n",
       "      <td>20</td>\n",
       "      <td>322</td>\n",
       "      <td>73.8</td>\n",
       "      <td>71.0</td>\n",
       "    </tr>\n",
       "    <tr>\n",
       "      <th>148</th>\n",
       "      <td>MP 03: Naamsestraat 62 Taste</td>\n",
       "      <td>2022-01-14 09:24:10.298</td>\n",
       "      <td>98.0</td>\n",
       "      <td>Transport road - Passenger car</td>\n",
       "      <td>98.0%</td>\n",
       "      <td>1</td>\n",
       "      <td>14</td>\n",
       "      <td>9</td>\n",
       "      <td>24</td>\n",
       "      <td>10</td>\n",
       "      <td>298</td>\n",
       "      <td>73.4</td>\n",
       "      <td>71.9</td>\n",
       "    </tr>\n",
       "    <tr>\n",
       "      <th>149</th>\n",
       "      <td>MP 03: Naamsestraat 62 Taste</td>\n",
       "      <td>2022-01-14 10:26:08.273</td>\n",
       "      <td>53.0</td>\n",
       "      <td>Transport road - Passenger car</td>\n",
       "      <td>53.0%</td>\n",
       "      <td>1</td>\n",
       "      <td>14</td>\n",
       "      <td>10</td>\n",
       "      <td>26</td>\n",
       "      <td>8</td>\n",
       "      <td>273</td>\n",
       "      <td>70.5</td>\n",
       "      <td>69.4</td>\n",
       "    </tr>\n",
       "  </tbody>\n",
       "</table>\n",
       "<p>150 rows × 13 columns</p>\n",
       "</div>"
      ],
      "text/plain": [
       "                      description         result_timestamp   \n",
       "0    MP 03: Naamsestraat 62 Taste  2022-01-01 00:01:31.362  \\\n",
       "1    MP 03: Naamsestraat 62 Taste  2022-01-01 00:02:19.368   \n",
       "2    MP 03: Naamsestraat 62 Taste  2022-01-01 00:02:23.368   \n",
       "3    MP 03: Naamsestraat 62 Taste  2022-01-01 00:02:33.370   \n",
       "4    MP 03: Naamsestraat 62 Taste  2022-01-01 00:02:57.373   \n",
       "..                            ...                      ...   \n",
       "145  MP 03: Naamsestraat 62 Taste  2022-01-14 07:13:36.877   \n",
       "146  MP 03: Naamsestraat 62 Taste  2022-01-14 07:54:16.894   \n",
       "147  MP 03: Naamsestraat 62 Taste  2022-01-14 09:09:20.322   \n",
       "148  MP 03: Naamsestraat 62 Taste  2022-01-14 09:24:10.298   \n",
       "149  MP 03: Naamsestraat 62 Taste  2022-01-14 10:26:08.273   \n",
       "\n",
       "     noise_event_laeq_primary_detected_certainty   \n",
       "0                                            NaN  \\\n",
       "1                                            NaN   \n",
       "2                                            NaN   \n",
       "3                                            NaN   \n",
       "4                                            NaN   \n",
       "..                                           ...   \n",
       "145                                         43.0   \n",
       "146                                         22.0   \n",
       "147                                         72.0   \n",
       "148                                         98.0   \n",
       "149                                         53.0   \n",
       "\n",
       "    noise_event_laeq_primary_detected_class certainty_percentage  month  day   \n",
       "0                                       NaN                  NaN      1    1  \\\n",
       "1                                       NaN                  NaN      1    1   \n",
       "2                                       NaN                  NaN      1    1   \n",
       "3                                       NaN                  NaN      1    1   \n",
       "4                                       NaN                  NaN      1    1   \n",
       "..                                      ...                  ...    ...  ...   \n",
       "145          Transport road - Passenger car                43.0%      1   14   \n",
       "146          Transport road - Passenger car                22.0%      1   14   \n",
       "147          Transport road - Passenger car                72.0%      1   14   \n",
       "148          Transport road - Passenger car                98.0%      1   14   \n",
       "149          Transport road - Passenger car                53.0%      1   14   \n",
       "\n",
       "     hour  minute  second  milliseconds  lamax  laeq  \n",
       "0       0       1      31           362   70.4  68.8  \n",
       "1       0       2      19           368    NaN   NaN  \n",
       "2       0       2      23           368    NaN   NaN  \n",
       "3       0       2      33           370   93.4  87.4  \n",
       "4       0       2      57           373   94.3  87.0  \n",
       "..    ...     ...     ...           ...    ...   ...  \n",
       "145     7      13      36           877   70.0  68.9  \n",
       "146     7      54      16           894   71.0  69.5  \n",
       "147     9       9      20           322   73.8  71.0  \n",
       "148     9      24      10           298   73.4  71.9  \n",
       "149    10      26       8           273   70.5  69.4  \n",
       "\n",
       "[150 rows x 13 columns]"
      ]
     },
     "execution_count": 9,
     "metadata": {},
     "output_type": "execute_result"
    }
   ],
   "source": [
    "# Load data\n",
    "data_noise = pd.read_csv(\"../Data for visualization/combined_noise_event.csv\", header=0, sep=',')\n",
    "data_noise.head(150)"
   ]
  },
  {
   "cell_type": "code",
   "execution_count": 7,
   "metadata": {},
   "outputs": [
    {
     "name": "stdout",
     "output_type": "stream",
     "text": [
      "Number of missing values in 'noise_source' column: 3822\n"
     ]
    }
   ],
   "source": [
    "# Check the number of missing values in 'noise_source' column\n",
    "missing_values_count = data_noise['noise_event_laeq_primary_detected_class'].isnull().sum()\n",
    "print(\"Number of missing values in noise source column:\", missing_values_count)\n"
   ]
  },
  {
   "cell_type": "code",
   "execution_count": 10,
   "metadata": {},
   "outputs": [],
   "source": [
    "# Replace empty values with 'Missing'\n",
    "data_noise['noise_event_laeq_primary_detected_class'] = data_noise['noise_event_laeq_primary_detected_class'].fillna('Missing')\n"
   ]
  },
  {
   "cell_type": "code",
   "execution_count": 17,
   "metadata": {},
   "outputs": [
    {
     "data": {
      "text/html": [
       "<div>\n",
       "<style scoped>\n",
       "    .dataframe tbody tr th:only-of-type {\n",
       "        vertical-align: middle;\n",
       "    }\n",
       "\n",
       "    .dataframe tbody tr th {\n",
       "        vertical-align: top;\n",
       "    }\n",
       "\n",
       "    .dataframe thead th {\n",
       "        text-align: right;\n",
       "    }\n",
       "</style>\n",
       "<table border=\"1\" class=\"dataframe\">\n",
       "  <thead>\n",
       "    <tr style=\"text-align: right;\">\n",
       "      <th></th>\n",
       "      <th>noise_event_laeq_primary_detected_class</th>\n",
       "      <th>laeq</th>\n",
       "    </tr>\n",
       "  </thead>\n",
       "  <tbody>\n",
       "    <tr>\n",
       "      <th>5</th>\n",
       "      <td>Transport road - Passenger car</td>\n",
       "      <td>69.070671</td>\n",
       "    </tr>\n",
       "    <tr>\n",
       "      <th>3</th>\n",
       "      <td>Music non-amplified</td>\n",
       "      <td>70.798889</td>\n",
       "    </tr>\n",
       "    <tr>\n",
       "      <th>2</th>\n",
       "      <td>Missing</td>\n",
       "      <td>71.035057</td>\n",
       "    </tr>\n",
       "    <tr>\n",
       "      <th>7</th>\n",
       "      <td>Unsupported</td>\n",
       "      <td>71.267030</td>\n",
       "    </tr>\n",
       "    <tr>\n",
       "      <th>0</th>\n",
       "      <td>Human voice - Shouting</td>\n",
       "      <td>71.804588</td>\n",
       "    </tr>\n",
       "    <tr>\n",
       "      <th>6</th>\n",
       "      <td>Transport road - Siren</td>\n",
       "      <td>71.823963</td>\n",
       "    </tr>\n",
       "    <tr>\n",
       "      <th>4</th>\n",
       "      <td>Nature elements - Wind</td>\n",
       "      <td>71.971605</td>\n",
       "    </tr>\n",
       "    <tr>\n",
       "      <th>1</th>\n",
       "      <td>Human voice - Singing</td>\n",
       "      <td>74.154955</td>\n",
       "    </tr>\n",
       "  </tbody>\n",
       "</table>\n",
       "</div>"
      ],
      "text/plain": [
       "  noise_event_laeq_primary_detected_class       laeq\n",
       "5          Transport road - Passenger car  69.070671\n",
       "3                     Music non-amplified  70.798889\n",
       "2                                 Missing  71.035057\n",
       "7                             Unsupported  71.267030\n",
       "0                  Human voice - Shouting  71.804588\n",
       "6                  Transport road - Siren  71.823963\n",
       "4                  Nature elements - Wind  71.971605\n",
       "1                   Human voice - Singing  74.154955"
      ]
     },
     "execution_count": 17,
     "metadata": {},
     "output_type": "execute_result"
    }
   ],
   "source": [
    "# Compute average noise level (laeq) for each noise source category\n",
    "data_noise = data_noise.groupby('noise_event_laeq_primary_detected_class')['laeq'].mean().reset_index()\n",
    "# Sort the dataset based on 'laeq'\n",
    "data_noise = data_noise.sort_values(by='laeq')\n",
    "data_noise.head(10)"
   ]
  },
  {
   "cell_type": "code",
   "execution_count": 20,
   "metadata": {},
   "outputs": [
    {
     "data": {
      "application/vnd.plotly.v1+json": {
       "config": {
        "plotlyServerURL": "https://plot.ly"
       },
       "data": [
        {
         "line": {
          "color": "red",
          "width": 1
         },
         "mode": "lines",
         "showlegend": false,
         "type": "scatter",
         "x": [
          0
         ],
         "y": []
        },
        {
         "marker": {
          "size": 69.07067113695703,
          "sizemin": 3,
          "sizemode": "diameter",
          "sizeref": 0.2
         },
         "mode": "markers",
         "showlegend": false,
         "type": "scatter",
         "x": [
          69.07067113695703
         ],
         "y": [
          "Transport road - Passenger car"
         ]
        },
        {
         "marker": {
          "size": 70.79888888888888,
          "sizemin": 3,
          "sizemode": "diameter",
          "sizeref": 0.2
         },
         "mode": "markers",
         "showlegend": false,
         "type": "scatter",
         "x": [
          70.79888888888888
         ],
         "y": [
          "Music non-amplified"
         ]
        },
        {
         "marker": {
          "size": 71.03505725895826,
          "sizemin": 3,
          "sizemode": "diameter",
          "sizeref": 0.2
         },
         "mode": "markers",
         "showlegend": false,
         "type": "scatter",
         "x": [
          71.03505725895826
         ],
         "y": [
          "Missing"
         ]
        },
        {
         "marker": {
          "size": 71.26702969627274,
          "sizemin": 3,
          "sizemode": "diameter",
          "sizeref": 0.2
         },
         "mode": "markers",
         "showlegend": false,
         "type": "scatter",
         "x": [
          71.26702969627274
         ],
         "y": [
          "Unsupported"
         ]
        },
        {
         "marker": {
          "size": 71.80458783120707,
          "sizemin": 3,
          "sizemode": "diameter",
          "sizeref": 0.2
         },
         "mode": "markers",
         "showlegend": false,
         "type": "scatter",
         "x": [
          71.80458783120707
         ],
         "y": [
          "Human voice - Shouting"
         ]
        },
        {
         "marker": {
          "size": 71.82396345748418,
          "sizemin": 3,
          "sizemode": "diameter",
          "sizeref": 0.2
         },
         "mode": "markers",
         "showlegend": false,
         "type": "scatter",
         "x": [
          71.82396345748418
         ],
         "y": [
          "Transport road - Siren"
         ]
        },
        {
         "marker": {
          "size": 71.9716049382716,
          "sizemin": 3,
          "sizemode": "diameter",
          "sizeref": 0.2
         },
         "mode": "markers",
         "showlegend": false,
         "type": "scatter",
         "x": [
          71.9716049382716
         ],
         "y": [
          "Nature elements - Wind"
         ]
        },
        {
         "marker": {
          "size": 74.15495495495496,
          "sizemin": 3,
          "sizemode": "diameter",
          "sizeref": 0.2
         },
         "mode": "markers",
         "showlegend": false,
         "type": "scatter",
         "x": [
          74.15495495495496
         ],
         "y": [
          "Human voice - Singing"
         ]
        }
       ],
       "layout": {
        "height": 600,
        "margin": {
         "b": 50,
         "l": 100,
         "r": 50,
         "t": 100
        },
        "template": {
         "data": {
          "bar": [
           {
            "error_x": {
             "color": "#2a3f5f"
            },
            "error_y": {
             "color": "#2a3f5f"
            },
            "marker": {
             "line": {
              "color": "#E5ECF6",
              "width": 0.5
             },
             "pattern": {
              "fillmode": "overlay",
              "size": 10,
              "solidity": 0.2
             }
            },
            "type": "bar"
           }
          ],
          "barpolar": [
           {
            "marker": {
             "line": {
              "color": "#E5ECF6",
              "width": 0.5
             },
             "pattern": {
              "fillmode": "overlay",
              "size": 10,
              "solidity": 0.2
             }
            },
            "type": "barpolar"
           }
          ],
          "carpet": [
           {
            "aaxis": {
             "endlinecolor": "#2a3f5f",
             "gridcolor": "white",
             "linecolor": "white",
             "minorgridcolor": "white",
             "startlinecolor": "#2a3f5f"
            },
            "baxis": {
             "endlinecolor": "#2a3f5f",
             "gridcolor": "white",
             "linecolor": "white",
             "minorgridcolor": "white",
             "startlinecolor": "#2a3f5f"
            },
            "type": "carpet"
           }
          ],
          "choropleth": [
           {
            "colorbar": {
             "outlinewidth": 0,
             "ticks": ""
            },
            "type": "choropleth"
           }
          ],
          "contour": [
           {
            "colorbar": {
             "outlinewidth": 0,
             "ticks": ""
            },
            "colorscale": [
             [
              0,
              "#0d0887"
             ],
             [
              0.1111111111111111,
              "#46039f"
             ],
             [
              0.2222222222222222,
              "#7201a8"
             ],
             [
              0.3333333333333333,
              "#9c179e"
             ],
             [
              0.4444444444444444,
              "#bd3786"
             ],
             [
              0.5555555555555556,
              "#d8576b"
             ],
             [
              0.6666666666666666,
              "#ed7953"
             ],
             [
              0.7777777777777778,
              "#fb9f3a"
             ],
             [
              0.8888888888888888,
              "#fdca26"
             ],
             [
              1,
              "#f0f921"
             ]
            ],
            "type": "contour"
           }
          ],
          "contourcarpet": [
           {
            "colorbar": {
             "outlinewidth": 0,
             "ticks": ""
            },
            "type": "contourcarpet"
           }
          ],
          "heatmap": [
           {
            "colorbar": {
             "outlinewidth": 0,
             "ticks": ""
            },
            "colorscale": [
             [
              0,
              "#0d0887"
             ],
             [
              0.1111111111111111,
              "#46039f"
             ],
             [
              0.2222222222222222,
              "#7201a8"
             ],
             [
              0.3333333333333333,
              "#9c179e"
             ],
             [
              0.4444444444444444,
              "#bd3786"
             ],
             [
              0.5555555555555556,
              "#d8576b"
             ],
             [
              0.6666666666666666,
              "#ed7953"
             ],
             [
              0.7777777777777778,
              "#fb9f3a"
             ],
             [
              0.8888888888888888,
              "#fdca26"
             ],
             [
              1,
              "#f0f921"
             ]
            ],
            "type": "heatmap"
           }
          ],
          "heatmapgl": [
           {
            "colorbar": {
             "outlinewidth": 0,
             "ticks": ""
            },
            "colorscale": [
             [
              0,
              "#0d0887"
             ],
             [
              0.1111111111111111,
              "#46039f"
             ],
             [
              0.2222222222222222,
              "#7201a8"
             ],
             [
              0.3333333333333333,
              "#9c179e"
             ],
             [
              0.4444444444444444,
              "#bd3786"
             ],
             [
              0.5555555555555556,
              "#d8576b"
             ],
             [
              0.6666666666666666,
              "#ed7953"
             ],
             [
              0.7777777777777778,
              "#fb9f3a"
             ],
             [
              0.8888888888888888,
              "#fdca26"
             ],
             [
              1,
              "#f0f921"
             ]
            ],
            "type": "heatmapgl"
           }
          ],
          "histogram": [
           {
            "marker": {
             "pattern": {
              "fillmode": "overlay",
              "size": 10,
              "solidity": 0.2
             }
            },
            "type": "histogram"
           }
          ],
          "histogram2d": [
           {
            "colorbar": {
             "outlinewidth": 0,
             "ticks": ""
            },
            "colorscale": [
             [
              0,
              "#0d0887"
             ],
             [
              0.1111111111111111,
              "#46039f"
             ],
             [
              0.2222222222222222,
              "#7201a8"
             ],
             [
              0.3333333333333333,
              "#9c179e"
             ],
             [
              0.4444444444444444,
              "#bd3786"
             ],
             [
              0.5555555555555556,
              "#d8576b"
             ],
             [
              0.6666666666666666,
              "#ed7953"
             ],
             [
              0.7777777777777778,
              "#fb9f3a"
             ],
             [
              0.8888888888888888,
              "#fdca26"
             ],
             [
              1,
              "#f0f921"
             ]
            ],
            "type": "histogram2d"
           }
          ],
          "histogram2dcontour": [
           {
            "colorbar": {
             "outlinewidth": 0,
             "ticks": ""
            },
            "colorscale": [
             [
              0,
              "#0d0887"
             ],
             [
              0.1111111111111111,
              "#46039f"
             ],
             [
              0.2222222222222222,
              "#7201a8"
             ],
             [
              0.3333333333333333,
              "#9c179e"
             ],
             [
              0.4444444444444444,
              "#bd3786"
             ],
             [
              0.5555555555555556,
              "#d8576b"
             ],
             [
              0.6666666666666666,
              "#ed7953"
             ],
             [
              0.7777777777777778,
              "#fb9f3a"
             ],
             [
              0.8888888888888888,
              "#fdca26"
             ],
             [
              1,
              "#f0f921"
             ]
            ],
            "type": "histogram2dcontour"
           }
          ],
          "mesh3d": [
           {
            "colorbar": {
             "outlinewidth": 0,
             "ticks": ""
            },
            "type": "mesh3d"
           }
          ],
          "parcoords": [
           {
            "line": {
             "colorbar": {
              "outlinewidth": 0,
              "ticks": ""
             }
            },
            "type": "parcoords"
           }
          ],
          "pie": [
           {
            "automargin": true,
            "type": "pie"
           }
          ],
          "scatter": [
           {
            "fillpattern": {
             "fillmode": "overlay",
             "size": 10,
             "solidity": 0.2
            },
            "type": "scatter"
           }
          ],
          "scatter3d": [
           {
            "line": {
             "colorbar": {
              "outlinewidth": 0,
              "ticks": ""
             }
            },
            "marker": {
             "colorbar": {
              "outlinewidth": 0,
              "ticks": ""
             }
            },
            "type": "scatter3d"
           }
          ],
          "scattercarpet": [
           {
            "marker": {
             "colorbar": {
              "outlinewidth": 0,
              "ticks": ""
             }
            },
            "type": "scattercarpet"
           }
          ],
          "scattergeo": [
           {
            "marker": {
             "colorbar": {
              "outlinewidth": 0,
              "ticks": ""
             }
            },
            "type": "scattergeo"
           }
          ],
          "scattergl": [
           {
            "marker": {
             "colorbar": {
              "outlinewidth": 0,
              "ticks": ""
             }
            },
            "type": "scattergl"
           }
          ],
          "scattermapbox": [
           {
            "marker": {
             "colorbar": {
              "outlinewidth": 0,
              "ticks": ""
             }
            },
            "type": "scattermapbox"
           }
          ],
          "scatterpolar": [
           {
            "marker": {
             "colorbar": {
              "outlinewidth": 0,
              "ticks": ""
             }
            },
            "type": "scatterpolar"
           }
          ],
          "scatterpolargl": [
           {
            "marker": {
             "colorbar": {
              "outlinewidth": 0,
              "ticks": ""
             }
            },
            "type": "scatterpolargl"
           }
          ],
          "scatterternary": [
           {
            "marker": {
             "colorbar": {
              "outlinewidth": 0,
              "ticks": ""
             }
            },
            "type": "scatterternary"
           }
          ],
          "surface": [
           {
            "colorbar": {
             "outlinewidth": 0,
             "ticks": ""
            },
            "colorscale": [
             [
              0,
              "#0d0887"
             ],
             [
              0.1111111111111111,
              "#46039f"
             ],
             [
              0.2222222222222222,
              "#7201a8"
             ],
             [
              0.3333333333333333,
              "#9c179e"
             ],
             [
              0.4444444444444444,
              "#bd3786"
             ],
             [
              0.5555555555555556,
              "#d8576b"
             ],
             [
              0.6666666666666666,
              "#ed7953"
             ],
             [
              0.7777777777777778,
              "#fb9f3a"
             ],
             [
              0.8888888888888888,
              "#fdca26"
             ],
             [
              1,
              "#f0f921"
             ]
            ],
            "type": "surface"
           }
          ],
          "table": [
           {
            "cells": {
             "fill": {
              "color": "#EBF0F8"
             },
             "line": {
              "color": "white"
             }
            },
            "header": {
             "fill": {
              "color": "#C8D4E3"
             },
             "line": {
              "color": "white"
             }
            },
            "type": "table"
           }
          ]
         },
         "layout": {
          "annotationdefaults": {
           "arrowcolor": "#2a3f5f",
           "arrowhead": 0,
           "arrowwidth": 1
          },
          "autotypenumbers": "strict",
          "coloraxis": {
           "colorbar": {
            "outlinewidth": 0,
            "ticks": ""
           }
          },
          "colorscale": {
           "diverging": [
            [
             0,
             "#8e0152"
            ],
            [
             0.1,
             "#c51b7d"
            ],
            [
             0.2,
             "#de77ae"
            ],
            [
             0.3,
             "#f1b6da"
            ],
            [
             0.4,
             "#fde0ef"
            ],
            [
             0.5,
             "#f7f7f7"
            ],
            [
             0.6,
             "#e6f5d0"
            ],
            [
             0.7,
             "#b8e186"
            ],
            [
             0.8,
             "#7fbc41"
            ],
            [
             0.9,
             "#4d9221"
            ],
            [
             1,
             "#276419"
            ]
           ],
           "sequential": [
            [
             0,
             "#0d0887"
            ],
            [
             0.1111111111111111,
             "#46039f"
            ],
            [
             0.2222222222222222,
             "#7201a8"
            ],
            [
             0.3333333333333333,
             "#9c179e"
            ],
            [
             0.4444444444444444,
             "#bd3786"
            ],
            [
             0.5555555555555556,
             "#d8576b"
            ],
            [
             0.6666666666666666,
             "#ed7953"
            ],
            [
             0.7777777777777778,
             "#fb9f3a"
            ],
            [
             0.8888888888888888,
             "#fdca26"
            ],
            [
             1,
             "#f0f921"
            ]
           ],
           "sequentialminus": [
            [
             0,
             "#0d0887"
            ],
            [
             0.1111111111111111,
             "#46039f"
            ],
            [
             0.2222222222222222,
             "#7201a8"
            ],
            [
             0.3333333333333333,
             "#9c179e"
            ],
            [
             0.4444444444444444,
             "#bd3786"
            ],
            [
             0.5555555555555556,
             "#d8576b"
            ],
            [
             0.6666666666666666,
             "#ed7953"
            ],
            [
             0.7777777777777778,
             "#fb9f3a"
            ],
            [
             0.8888888888888888,
             "#fdca26"
            ],
            [
             1,
             "#f0f921"
            ]
           ]
          },
          "colorway": [
           "#636efa",
           "#EF553B",
           "#00cc96",
           "#ab63fa",
           "#FFA15A",
           "#19d3f3",
           "#FF6692",
           "#B6E880",
           "#FF97FF",
           "#FECB52"
          ],
          "font": {
           "color": "#2a3f5f"
          },
          "geo": {
           "bgcolor": "white",
           "lakecolor": "white",
           "landcolor": "#E5ECF6",
           "showlakes": true,
           "showland": true,
           "subunitcolor": "white"
          },
          "hoverlabel": {
           "align": "left"
          },
          "hovermode": "closest",
          "mapbox": {
           "style": "light"
          },
          "paper_bgcolor": "white",
          "plot_bgcolor": "#E5ECF6",
          "polar": {
           "angularaxis": {
            "gridcolor": "white",
            "linecolor": "white",
            "ticks": ""
           },
           "bgcolor": "#E5ECF6",
           "radialaxis": {
            "gridcolor": "white",
            "linecolor": "white",
            "ticks": ""
           }
          },
          "scene": {
           "xaxis": {
            "backgroundcolor": "#E5ECF6",
            "gridcolor": "white",
            "gridwidth": 2,
            "linecolor": "white",
            "showbackground": true,
            "ticks": "",
            "zerolinecolor": "white"
           },
           "yaxis": {
            "backgroundcolor": "#E5ECF6",
            "gridcolor": "white",
            "gridwidth": 2,
            "linecolor": "white",
            "showbackground": true,
            "ticks": "",
            "zerolinecolor": "white"
           },
           "zaxis": {
            "backgroundcolor": "#E5ECF6",
            "gridcolor": "white",
            "gridwidth": 2,
            "linecolor": "white",
            "showbackground": true,
            "ticks": "",
            "zerolinecolor": "white"
           }
          },
          "shapedefaults": {
           "line": {
            "color": "#2a3f5f"
           }
          },
          "ternary": {
           "aaxis": {
            "gridcolor": "white",
            "linecolor": "white",
            "ticks": ""
           },
           "baxis": {
            "gridcolor": "white",
            "linecolor": "white",
            "ticks": ""
           },
           "bgcolor": "#E5ECF6",
           "caxis": {
            "gridcolor": "white",
            "linecolor": "white",
            "ticks": ""
           }
          },
          "title": {
           "x": 0.05
          },
          "xaxis": {
           "automargin": true,
           "gridcolor": "white",
           "linecolor": "white",
           "ticks": "",
           "title": {
            "standoff": 15
           },
           "zerolinecolor": "white",
           "zerolinewidth": 2
          },
          "yaxis": {
           "automargin": true,
           "gridcolor": "white",
           "linecolor": "white",
           "ticks": "",
           "title": {
            "standoff": 15
           },
           "zerolinecolor": "white",
           "zerolinewidth": 2
          }
         }
        },
        "title": {
         "text": "Average Noise Level by Category"
        },
        "width": 800,
        "xaxis": {
         "title": {
          "text": "Average Noise Level (laeq)"
         }
        },
        "yaxis": {
         "autorange": "reversed",
         "title": {
          "text": "Noise Source"
         }
        }
       }
      }
     },
     "metadata": {},
     "output_type": "display_data"
    }
   ],
   "source": [
    "# Create line trace\n",
    "line_trace = go.Scatter(\n",
    "    x=[0],\n",
    "    y=[],\n",
    "    mode='lines',\n",
    "    line=dict(color='red', width=1),\n",
    "    showlegend=False\n",
    ")\n",
    "\n",
    "# Create circle marker traces\n",
    "circle_marker_traces = []\n",
    "for i in range(len(data_noise)):\n",
    "    circle_trace = go.Scatter(\n",
    "        x=[data_noise['laeq'].iloc[i]],\n",
    "        y=[data_noise['noise_event_laeq_primary_detected_class'].iloc[i]],\n",
    "        mode='markers',\n",
    "        marker=dict(\n",
    "            size=data_noise['laeq'].iloc[i],\n",
    "            sizemode='diameter',\n",
    "            sizeref=0.2,\n",
    "            sizemin=3,\n",
    "        ),\n",
    "        showlegend=False\n",
    "    )\n",
    "    circle_marker_traces.append(circle_trace)\n",
    "\n",
    "# Combine line trace and circle marker traces\n",
    "data = [line_trace] + circle_marker_traces\n",
    "\n",
    "# Create layout\n",
    "layout = go.Layout(\n",
    "    title='Average Noise Level by Category',\n",
    "    xaxis=dict(title='Average Noise Level (laeq)'),\n",
    "    yaxis=dict(title='Noise Source', autorange='reversed'),\n",
    "    height=600,\n",
    "    width=800,\n",
    "    margin=dict(l=100, r=50, t=100, b=50),\n",
    ")\n",
    "\n",
    "# Create figure\n",
    "fig = go.Figure(data=data, layout=layout)\n",
    "\n",
    "# Display the graph\n",
    "fig.show()"
   ]
  }
 ],
 "metadata": {
  "kernelspec": {
   "display_name": "mda-georgia",
   "language": "python",
   "name": "python3"
  },
  "language_info": {
   "codemirror_mode": {
    "name": "ipython",
    "version": 3
   },
   "file_extension": ".py",
   "mimetype": "text/x-python",
   "name": "python",
   "nbconvert_exporter": "python",
   "pygments_lexer": "ipython3",
   "version": "3.9.16"
  },
  "orig_nbformat": 4
 },
 "nbformat": 4,
 "nbformat_minor": 2
}
