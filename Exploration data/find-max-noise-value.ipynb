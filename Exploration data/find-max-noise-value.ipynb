{
 "cells": [
  {
   "cell_type": "code",
   "execution_count": 4,
   "metadata": {},
   "outputs": [
    {
     "name": "stdout",
     "output_type": "stream",
     "text": [
      "85.97672222222222\n",
      "86.89669444444444\n"
     ]
    }
   ],
   "source": [
    "import pandas as pd\n",
    "\n",
    "data_noise_hour = pd.read_csv(\"../Data for visualization/hourly_noisedata_2022.csv\")\n",
    "\n",
    "# Calculate the loudest observed value for noise level\n",
    "max_Laeq = data_noise_hour['laeq'].max()\n",
    "max_Lamax = data_noise_hour['lamax'].max()\n",
    "\n",
    "print(max_Laeq)\n",
    "print(max_Lamax)\n"
   ]
  },
  {
   "cell_type": "code",
   "execution_count": 6,
   "metadata": {},
   "outputs": [
    {
     "name": "stdout",
     "output_type": "stream",
     "text": [
      "86.9\n"
     ]
    }
   ],
   "source": [
    "print(round(max_Lamax,1))"
   ]
  }
 ],
 "metadata": {
  "kernelspec": {
   "display_name": "MDA_georgia",
   "language": "python",
   "name": "python3"
  },
  "language_info": {
   "codemirror_mode": {
    "name": "ipython",
    "version": 3
   },
   "file_extension": ".py",
   "mimetype": "text/x-python",
   "name": "python",
   "nbconvert_exporter": "python",
   "pygments_lexer": "ipython3",
   "version": "3.9.16"
  },
  "orig_nbformat": 4
 },
 "nbformat": 4,
 "nbformat_minor": 2
}
